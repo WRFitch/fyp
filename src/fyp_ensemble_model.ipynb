{
  "nbformat": 4,
  "nbformat_minor": 0,
  "metadata": {
    "colab": {
      "name": "fyp_ensemble_model.ipynb",
      "provenance": [],
      "authorship_tag": "ABX9TyPOIzBkXcneiz5/vXD0/vaj",
      "include_colab_link": true
    },
    "kernelspec": {
      "name": "python3",
      "display_name": "Python 3"
    }
  },
  "cells": [
    {
      "cell_type": "markdown",
      "metadata": {
        "id": "view-in-github",
        "colab_type": "text"
      },
      "source": [
        "<a href=\"https://colab.research.google.com/github/WRFitch/fyp/blob/main/src/fyp_ensemble_model.ipynb\" target=\"_parent\"><img src=\"https://colab.research.google.com/assets/colab-badge.svg\" alt=\"Open In Colab\"/></a>"
      ]
    },
    {
      "cell_type": "markdown",
      "metadata": {
        "id": "472zQtQpuSHl"
      },
      "source": [
        "# Combining multiple models to interpolate greenhouse gases\n",
        "\n",
        "This notebook is the beginning of an experiment in implementing tabular modelling to build on the CNN designed in [fyp_ai_analysis.ipynb](https://github.com/WRFitch/fyp/blob/main/src/fyp_ai_analysis.ipynb). Unfortunately due to time constraints this won't be finished by the official end of the project, but I intend to work on it in my own time, and therefore it is still included in this repository. \n",
        "\n",
        "All notebooks in this project are to be considered development environments, rather than bona fide scripts that, when run, will produce the end product. Therefore, certain code blocks and documentation are added for developer convenience. "
      ]
    },
    {
      "cell_type": "markdown",
      "metadata": {
        "id": "2_as5AyfHy10"
      },
      "source": [
        "## Setup"
      ]
    },
    {
      "cell_type": "markdown",
      "metadata": {
        "id": "3YZX6YJSH2PO"
      },
      "source": [
        "### Import and install necessary supplementals "
      ]
    },
    {
      "cell_type": "code",
      "metadata": {
        "id": "xMfnZB8JujZT"
      },
      "source": [
        "!pip uninstall -y fastai\n",
        "!pip install -U --no-cache-dir fastai"
      ],
      "execution_count": null,
      "outputs": []
    },
    {
      "cell_type": "code",
      "metadata": {
        "id": "lHhCrH95uNzA"
      },
      "source": [
        "import os \n",
        "import numpy as np \n",
        "import pandas as pd \n",
        "\n",
        "from fastai.tabular.all import * \n",
        "from fastai.vision.all import * \n",
        "from google.colab import drive\n",
        "\n",
        "drive.mount('/content/drive')"
      ],
      "execution_count": null,
      "outputs": []
    },
    {
      "cell_type": "code",
      "metadata": {
        "id": "9HrO55Dku_WY"
      },
      "source": [
        "%cd /content\n",
        "!git clone https://github.com/WRFitch/fyp.git"
      ],
      "execution_count": null,
      "outputs": []
    },
    {
      "cell_type": "code",
      "metadata": {
        "id": "g9yjv6wkvqNu"
      },
      "source": [
        "# Import fyputil library\n",
        "%cd /content/fyp/src/fyputil\n",
        "import constants as c\n",
        "import fyp_utils as fyputil\n",
        "%cd /content"
      ],
      "execution_count": null,
      "outputs": []
    },
    {
      "cell_type": "markdown",
      "metadata": {
        "id": "c24YjL2aIJG3"
      },
      "source": [
        "### Get data & Model"
      ]
    },
    {
      "cell_type": "code",
      "metadata": {
        "id": "qrVq-mDwIqKY"
      },
      "source": [
        "ghg_df = pd.read_csv(c.ghg_csv)\n",
        "norm_df = fyputil.normGhgDf(ghg_df.copy())"
      ],
      "execution_count": null,
      "outputs": []
    },
    {
      "cell_type": "code",
      "metadata": {
        "id": "yquao61Cz4il"
      },
      "source": [
        "ghg_df.iloc[0:10]"
      ],
      "execution_count": null,
      "outputs": []
    },
    {
      "cell_type": "code",
      "metadata": {
        "id": "uBwNYc97Uj0K"
      },
      "source": [
        "def getGhgsAsArr(img_path):\n",
        "  return fyputil.getGhgsAsArr(img_path, ghg_df)"
      ],
      "execution_count": null,
      "outputs": []
    },
    {
      "cell_type": "code",
      "metadata": {
        "id": "Zwmbh1LA0xJC"
      },
      "source": [
        "model_name = \"mrghg_060321-resnet152_increased_dataset_size_to_4k\"\n",
        "cnn_model = load_learner(f\"{c.model_dir}/{model_name}.pkl\")"
      ],
      "execution_count": null,
      "outputs": []
    },
    {
      "cell_type": "code",
      "metadata": {
        "id": "P7KRrcVZ_LEV"
      },
      "source": [
        "predicted_df = pd.from_csv(f\"{c.data_dir}/{model_name}.csv\")"
      ],
      "execution_count": null,
      "outputs": []
    },
    {
      "cell_type": "markdown",
      "metadata": {
        "id": "DMCehkFZtF_P"
      },
      "source": [
        "## Generate input CSV\n",
        "- local readings & coordinates\n",
        "  - Consider an encoding? \n",
        "  - Mathematical interpolation of nearby values. \n",
        "- Predicted reading\n",
        "- Actual values \n",
        "\n",
        "If math interp is used, this keeps the columns to 18, which is a manageable volume. "
      ]
    },
    {
      "cell_type": "markdown",
      "metadata": {
        "id": "Dt9rcpVkU7vD"
      },
      "source": [
        "## Generate Tabular Model Ensemble\n",
        "Train tabular model on ghg_df, predicting central reading based on eight nearest readings and cnn model output. "
      ]
    },
    {
      "cell_type": "code",
      "metadata": {
        "id": "3kJNz1yFtBwF"
      },
      "source": [
        ""
      ],
      "execution_count": null,
      "outputs": []
    },
    {
      "cell_type": "markdown",
      "metadata": {
        "id": "H5D63lBWs5mj"
      },
      "source": [
        "# Random other offcuts from other notebooks "
      ]
    },
    {
      "cell_type": "markdown",
      "metadata": {
        "id": "XAWmTEha8OX-"
      },
      "source": [
        "Currently, the networks are having some trouble defining more subtle characteristics of the images, which shows some flaws in my work. The network will need some supplemental information to accurately predict the greenhouse gas at this point. This may include the following:\n",
        "- **Latitude/Longitude.** Geography may affect predictions - all the images in my current dataset are near London, meaning they have far more greenhouse gases than most places. To encode a knowledge of city geography into a neural net may take some work...\n",
        "- **Property Value.** How valuable is this land? This could go some way to encoding city dynamics, as well as explaining where the land might be. If land is rural, but valuable, it's likely to be near major cities or airports. \n",
        "- **Nearby GHG Values.** Combined with wind direction, an understanding of source & direction of airflow may describe how areas inherit ghg's from elsewhere. An example of this would be the high concentration of NO<sub>2</sub> north of Heathrow Airport, which may be caused by common flight patterns heading north. \n",
        "- **Wind Direction.** See above. \n",
        "- **Land Use.** Depending on detail, this may help alleviate the \"grey field/massive factory\" issue described in my log. By proving that certain areas are rural, residential, or industrial, we can limit errors based on inferring purely visual information. If we can specifically define what a large grey box is doing, we can also come to more developed conclusions about its purpose. A recycling center, an oil refinery, and a brewery may all look similar from above, but information about what they _are_ will limit a neural network getting confused. \n",
        "- **Population Density/Economic Output.** This will work in a similar way to property value, where we can predict human activity and its effects on greenhouse gases. Economic output may have a complex relationship to GHG emissions that cannot be easily represented, depending on the form of industry. For example, an eco-tourist attraction may rely on its low carbon footprint for survival, whereas a petrol station relies on high carbon ouput. \n",
        "- **Land Height**"
      ]
    },
    {
      "cell_type": "code",
      "metadata": {
        "id": "D1vgTu02Uqop"
      },
      "source": [
        ""
      ],
      "execution_count": null,
      "outputs": []
    }
  ]
}