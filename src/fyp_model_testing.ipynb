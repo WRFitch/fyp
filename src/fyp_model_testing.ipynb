{
  "nbformat": 4,
  "nbformat_minor": 0,
  "metadata": {
    "colab": {
      "name": "fyp_model_testing.ipynb",
      "provenance": [],
      "include_colab_link": true
    },
    "kernelspec": {
      "name": "python3",
      "display_name": "Python 3"
    }
  },
  "cells": [
    {
      "cell_type": "markdown",
      "metadata": {
        "id": "view-in-github",
        "colab_type": "text"
      },
      "source": [
        "<a href=\"https://colab.research.google.com/github/WRFitch/fyp/blob/main/src/fyp_model_testing.ipynb\" target=\"_parent\"><img src=\"https://colab.research.google.com/assets/colab-badge.svg\" alt=\"Open In Colab\"/></a>"
      ]
    },
    {
      "cell_type": "markdown",
      "metadata": {
        "id": "MlL01n7dexnl"
      },
      "source": [
        "# Testing\n",
        "A notebook for testing an exported model. Ideally, this can be considered a part of a model evaluation pipeline, in which a model can be evaluated in greater depth. "
      ]
    },
    {
      "cell_type": "markdown",
      "metadata": {
        "id": "tQzTgaA5fWu8"
      },
      "source": [
        "## Setup"
      ]
    },
    {
      "cell_type": "markdown",
      "metadata": {
        "id": "1UDpJr3i-WS2"
      },
      "source": [
        "### Notebook Setup "
      ]
    },
    {
      "cell_type": "code",
      "metadata": {
        "id": "iX9MY-tjfCvL"
      },
      "source": [
        "!pip uninstall -y fastai\n",
        "!pip install -U --no-cache-dir fastai"
      ],
      "execution_count": null,
      "outputs": []
    },
    {
      "cell_type": "code",
      "metadata": {
        "id": "BdaFWRYPe4Oc"
      },
      "source": [
        "from fastai.vision.all import *\n",
        "from google.colab import drive\n",
        "#from scipy import stats\n",
        "from sklearn.metrics import mean_squared_error\n",
        "\n",
        "import numpy as np \n",
        "import os \n",
        "import pandas as pd\n",
        "\n",
        "drive.mount('/content/drive')"
      ],
      "execution_count": null,
      "outputs": []
    },
    {
      "cell_type": "code",
      "metadata": {
        "id": "aW2I5siTPGba"
      },
      "source": [
        "%rm -rf /content/fyp/"
      ],
      "execution_count": 2,
      "outputs": []
    },
    {
      "cell_type": "code",
      "metadata": {
        "id": "XEZzGW0Xeuty",
        "outputId": "fb9bf635-fd4f-4d09-b296-d9630bc393e5",
        "colab": {
          "base_uri": "https://localhost:8080/"
        }
      },
      "source": [
        "# Import fyputil library\n",
        "%cd /content\n",
        "!git clone https://github.com/WRFitch/fyp.git\n",
        "%cd fyp/src/fyputil\n",
        "import constants as c\n",
        "import fyp_utils as fyputil\n",
        "%cd /content"
      ],
      "execution_count": 3,
      "outputs": [
        {
          "output_type": "stream",
          "text": [
            "/content\n",
            "Cloning into 'fyp'...\n",
            "remote: Enumerating objects: 327, done.\u001b[K\n",
            "remote: Counting objects: 100% (327/327), done.\u001b[K\n",
            "remote: Compressing objects: 100% (268/268), done.\u001b[K\n",
            "remote: Total 839 (delta 213), reused 111 (delta 59), pack-reused 512\u001b[K\n",
            "Receiving objects: 100% (839/839), 144.30 MiB | 35.43 MiB/s, done.\n",
            "Resolving deltas: 100% (468/468), done.\n",
            "/content/fyp/src/fyputil\n",
            "/content\n"
          ],
          "name": "stdout"
        }
      ]
    },
    {
      "cell_type": "markdown",
      "metadata": {
        "id": "WKJFItks-ZXL"
      },
      "source": [
        "### Data Setup "
      ]
    },
    {
      "cell_type": "code",
      "metadata": {
        "id": "RXRkZ9qEfGpb"
      },
      "source": [
        "# Add a dummy label script to fool fastai into letting us import the model. \n",
        "# We're not going to train the model further, so this is fine. \n",
        "def getGhgsAsArr(img_path):\n",
        "  return np.array()\n",
        "\n",
        "model = load_learner(f\"{c.model_dir}/{c.model_name}.pkl\")"
      ],
      "execution_count": 4,
      "outputs": []
    },
    {
      "cell_type": "code",
      "metadata": {
        "colab": {
          "base_uri": "https://localhost:8080/",
          "height": 461
        },
        "id": "E3_RyVgmj4LI",
        "outputId": "aeaa1d12-9ecd-419b-9e03-055d7676fb3d"
      },
      "source": [
        "ghg_df = pd.read_csv(c.ghg_csv)\n",
        "ghg_df = fyputil.normGhgDf(ghg_df)\n",
        "ghg_df"
      ],
      "execution_count": 5,
      "outputs": [
        {
          "output_type": "execute_result",
          "data": {
            "text/html": [
              "<div>\n",
              "<style scoped>\n",
              "    .dataframe tbody tr th:only-of-type {\n",
              "        vertical-align: middle;\n",
              "    }\n",
              "\n",
              "    .dataframe tbody tr th {\n",
              "        vertical-align: top;\n",
              "    }\n",
              "\n",
              "    .dataframe thead th {\n",
              "        text-align: right;\n",
              "    }\n",
              "</style>\n",
              "<table border=\"1\" class=\"dataframe\">\n",
              "  <thead>\n",
              "    <tr style=\"text-align: right;\">\n",
              "      <th></th>\n",
              "      <th>Unnamed: 0</th>\n",
              "      <th>system:index</th>\n",
              "      <th>SO2_column_number_density</th>\n",
              "      <th>longitude</th>\n",
              "      <th>latitude</th>\n",
              "      <th>CH4_column_volume_mixing_ratio_dry_air</th>\n",
              "      <th>CO_column_number_density</th>\n",
              "      <th>tropospheric_HCHO_column_number_density</th>\n",
              "      <th>tropospheric_NO2_column_number_density</th>\n",
              "      <th>O3_column_number_density</th>\n",
              "    </tr>\n",
              "  </thead>\n",
              "  <tbody>\n",
              "    <tr>\n",
              "      <th>0</th>\n",
              "      <td>134</td>\n",
              "      <td>0_134</td>\n",
              "      <td>2.672824</td>\n",
              "      <td>-0.795009</td>\n",
              "      <td>51.118631</td>\n",
              "      <td>3.293359</td>\n",
              "      <td>7.330961</td>\n",
              "      <td>4.340454</td>\n",
              "      <td>4.529627</td>\n",
              "      <td>5.862382</td>\n",
              "    </tr>\n",
              "    <tr>\n",
              "      <th>1</th>\n",
              "      <td>135</td>\n",
              "      <td>0_135</td>\n",
              "      <td>2.486536</td>\n",
              "      <td>-0.786026</td>\n",
              "      <td>51.118631</td>\n",
              "      <td>3.149588</td>\n",
              "      <td>7.000534</td>\n",
              "      <td>4.446930</td>\n",
              "      <td>4.546964</td>\n",
              "      <td>5.798349</td>\n",
              "    </tr>\n",
              "    <tr>\n",
              "      <th>2</th>\n",
              "      <td>136</td>\n",
              "      <td>0_136</td>\n",
              "      <td>2.740308</td>\n",
              "      <td>-0.777043</td>\n",
              "      <td>51.118631</td>\n",
              "      <td>2.931395</td>\n",
              "      <td>7.231526</td>\n",
              "      <td>4.323521</td>\n",
              "      <td>4.499055</td>\n",
              "      <td>5.487693</td>\n",
              "    </tr>\n",
              "    <tr>\n",
              "      <th>3</th>\n",
              "      <td>137</td>\n",
              "      <td>0_137</td>\n",
              "      <td>3.104459</td>\n",
              "      <td>-0.768060</td>\n",
              "      <td>51.118631</td>\n",
              "      <td>1.970592</td>\n",
              "      <td>7.131359</td>\n",
              "      <td>4.237725</td>\n",
              "      <td>4.479952</td>\n",
              "      <td>5.174860</td>\n",
              "    </tr>\n",
              "    <tr>\n",
              "      <th>4</th>\n",
              "      <td>138</td>\n",
              "      <td>0_138</td>\n",
              "      <td>3.176498</td>\n",
              "      <td>-0.759076</td>\n",
              "      <td>51.118631</td>\n",
              "      <td>2.547749</td>\n",
              "      <td>6.893881</td>\n",
              "      <td>4.456948</td>\n",
              "      <td>4.483478</td>\n",
              "      <td>5.098768</td>\n",
              "    </tr>\n",
              "    <tr>\n",
              "      <th>...</th>\n",
              "      <td>...</td>\n",
              "      <td>...</td>\n",
              "      <td>...</td>\n",
              "      <td>...</td>\n",
              "      <td>...</td>\n",
              "      <td>...</td>\n",
              "      <td>...</td>\n",
              "      <td>...</td>\n",
              "      <td>...</td>\n",
              "      <td>...</td>\n",
              "    </tr>\n",
              "    <tr>\n",
              "      <th>1881</th>\n",
              "      <td>4147</td>\n",
              "      <td>0_4147</td>\n",
              "      <td>2.313291</td>\n",
              "      <td>0.345851</td>\n",
              "      <td>51.379143</td>\n",
              "      <td>6.714247</td>\n",
              "      <td>9.540681</td>\n",
              "      <td>5.897296</td>\n",
              "      <td>5.975961</td>\n",
              "      <td>10.403010</td>\n",
              "    </tr>\n",
              "    <tr>\n",
              "      <th>1882</th>\n",
              "      <td>4148</td>\n",
              "      <td>0_4148</td>\n",
              "      <td>2.328240</td>\n",
              "      <td>0.354835</td>\n",
              "      <td>51.379143</td>\n",
              "      <td>9.206190</td>\n",
              "      <td>10.010053</td>\n",
              "      <td>5.582224</td>\n",
              "      <td>5.942072</td>\n",
              "      <td>10.446786</td>\n",
              "    </tr>\n",
              "    <tr>\n",
              "      <th>1883</th>\n",
              "      <td>4149</td>\n",
              "      <td>0_4149</td>\n",
              "      <td>2.456615</td>\n",
              "      <td>0.363818</td>\n",
              "      <td>51.379143</td>\n",
              "      <td>7.094298</td>\n",
              "      <td>11.400949</td>\n",
              "      <td>6.073959</td>\n",
              "      <td>5.988985</td>\n",
              "      <td>10.475704</td>\n",
              "    </tr>\n",
              "    <tr>\n",
              "      <th>1884</th>\n",
              "      <td>4150</td>\n",
              "      <td>0_4150</td>\n",
              "      <td>2.675886</td>\n",
              "      <td>0.372801</td>\n",
              "      <td>51.379143</td>\n",
              "      <td>7.094296</td>\n",
              "      <td>10.934001</td>\n",
              "      <td>6.224904</td>\n",
              "      <td>5.922944</td>\n",
              "      <td>10.375585</td>\n",
              "    </tr>\n",
              "    <tr>\n",
              "      <th>1885</th>\n",
              "      <td>4151</td>\n",
              "      <td>0_4151</td>\n",
              "      <td>2.731073</td>\n",
              "      <td>0.381784</td>\n",
              "      <td>51.379143</td>\n",
              "      <td>5.764840</td>\n",
              "      <td>11.293237</td>\n",
              "      <td>6.298232</td>\n",
              "      <td>5.882687</td>\n",
              "      <td>10.370764</td>\n",
              "    </tr>\n",
              "  </tbody>\n",
              "</table>\n",
              "<p>1886 rows × 10 columns</p>\n",
              "</div>"
            ],
            "text/plain": [
              "      Unnamed: 0  ... O3_column_number_density\n",
              "0            134  ...                 5.862382\n",
              "1            135  ...                 5.798349\n",
              "2            136  ...                 5.487693\n",
              "3            137  ...                 5.174860\n",
              "4            138  ...                 5.098768\n",
              "...          ...  ...                      ...\n",
              "1881        4147  ...                10.403010\n",
              "1882        4148  ...                10.446786\n",
              "1883        4149  ...                10.475704\n",
              "1884        4150  ...                10.375585\n",
              "1885        4151  ...                10.370764\n",
              "\n",
              "[1886 rows x 10 columns]"
            ]
          },
          "metadata": {
            "tags": []
          },
          "execution_count": 5
        }
      ]
    },
    {
      "cell_type": "code",
      "metadata": {
        "id": "QL1qYQplBqaI",
        "outputId": "95173eb0-f1dd-49b3-e783-8668f3b55e35",
        "colab": {
          "base_uri": "https://localhost:8080/",
          "height": 69
        }
      },
      "source": [
        "err_headers = [c.lon, c.lat] + c.ghg_bands\n",
        "errors = pd.DataFrame(columns = err_headers)\n",
        "errors.iloc[0:1]"
      ],
      "execution_count": 9,
      "outputs": [
        {
          "output_type": "execute_result",
          "data": {
            "text/html": [
              "<div>\n",
              "<style scoped>\n",
              "    .dataframe tbody tr th:only-of-type {\n",
              "        vertical-align: middle;\n",
              "    }\n",
              "\n",
              "    .dataframe tbody tr th {\n",
              "        vertical-align: top;\n",
              "    }\n",
              "\n",
              "    .dataframe thead th {\n",
              "        text-align: right;\n",
              "    }\n",
              "</style>\n",
              "<table border=\"1\" class=\"dataframe\">\n",
              "  <thead>\n",
              "    <tr style=\"text-align: right;\">\n",
              "      <th></th>\n",
              "      <th>longitude</th>\n",
              "      <th>latitude</th>\n",
              "      <th>CO_column_number_density</th>\n",
              "      <th>tropospheric_HCHO_column_number_density</th>\n",
              "      <th>tropospheric_NO2_column_number_density</th>\n",
              "      <th>O3_column_number_density</th>\n",
              "      <th>SO2_column_number_density</th>\n",
              "      <th>CH4_column_volume_mixing_ratio_dry_air</th>\n",
              "    </tr>\n",
              "  </thead>\n",
              "  <tbody>\n",
              "  </tbody>\n",
              "</table>\n",
              "</div>"
            ],
            "text/plain": [
              "Empty DataFrame\n",
              "Columns: [longitude, latitude, CO_column_number_density, tropospheric_HCHO_column_number_density, tropospheric_NO2_column_number_density, O3_column_number_density, SO2_column_number_density, CH4_column_volume_mixing_ratio_dry_air]\n",
              "Index: []"
            ]
          },
          "metadata": {
            "tags": []
          },
          "execution_count": 9
        }
      ]
    },
    {
      "cell_type": "markdown",
      "metadata": {
        "id": "xua-CHprfZK4"
      },
      "source": [
        "## Testing"
      ]
    },
    {
      "cell_type": "markdown",
      "metadata": {
        "id": "kbeoskWgfcJD"
      },
      "source": [
        "### Test model against existing data "
      ]
    },
    {
      "cell_type": "code",
      "metadata": {
        "id": "z_H7QU3HLdMG",
        "colab": {
          "base_uri": "https://localhost:8080/"
        },
        "outputId": "2ab8c78d-8c30-4530-9b1c-8513cc3ee37c"
      },
      "source": [
        "print(c.ghg_bands)\n",
        "\n",
        "# TODO replace with fyputil, OR re-implement to keep any failed measurements and\n",
        "# evaluate what you can out of them. Just because they're incomplete, that \n",
        "# doesn't make them worthless \n",
        "def getGhgs(img_path, df): \n",
        "  coords = fyputil.getCoords(str(img_path))\n",
        "  ghgs = fyputil.getValAt(coords, df)\n",
        "  concentrations = ghgs[c.ghg_bands]\n",
        "  if len(concentrations) == 0 : return None \n",
        "  if None in concentrations: return None\n",
        "  # There has to be a cleaner way to do this. Iterating through and then only getting the first line? really? \n",
        "  return [tuple(x) for x in concentrations.to_numpy()][0]"
      ],
      "execution_count": 7,
      "outputs": [
        {
          "output_type": "stream",
          "text": [
            "['CO_column_number_density', 'tropospheric_HCHO_column_number_density', 'tropospheric_NO2_column_number_density', 'O3_column_number_density', 'SO2_column_number_density', 'CH4_column_volume_mixing_ratio_dry_air']\n"
          ],
          "name": "stdout"
        }
      ]
    },
    {
      "cell_type": "code",
      "metadata": {
        "id": "yDDu-x0VfYu7",
        "outputId": "f7ac51a4-6bd0-40cf-ad5b-a3b6497cb2ba",
        "colab": {
          "base_uri": "https://localhost:8080/",
          "height": 1000
        }
      },
      "source": [
        "mod = 0 \n",
        "\n",
        "for filename in os.listdir(c.png_dir):\n",
        "  file_ghgs = getGhgs(filename, ghg_df)\n",
        "  if file_ghgs == None: continue\n",
        "  if mod % 100 == 0:\n",
        "    print(f\"predicting ghg gases at {filename}\")\n",
        "    coords = fyputil.getCoords(filename) \n",
        "    prediction = model.predict(f\"{c.png_dir}/{filename}\")[0]\n",
        "\n",
        "    diffs = [pred - act for pred, act in zip(prediction, file_ghgs)]\n",
        "    errors.loc[len(errors)] = list(coords) + diffs\n",
        "\n",
        "    print(tuple(coords))\n",
        "    print(prediction)\n",
        "    print(file_ghgs)\n",
        "    print(diffs)\n",
        "    print()\n",
        "  mod += 1 \n",
        "\n"
      ],
      "execution_count": 10,
      "outputs": [
        {
          "output_type": "stream",
          "text": [
            "predicting ghg gases at -0.7860258736045813_51.34321006385125.png\n"
          ],
          "name": "stdout"
        },
        {
          "output_type": "display_data",
          "data": {
            "text/html": [
              ""
            ],
            "text/plain": [
              "<IPython.core.display.HTML object>"
            ]
          },
          "metadata": {
            "tags": []
          }
        },
        {
          "output_type": "stream",
          "text": [
            "(-0.7860258736045813, 51.34321006385125)\n",
            "(3.321014881134033, 6.196832656860352, 5.849663734436035, 1.365954875946045, 2.97467041015625, 1.838371753692627)\n",
            "(5.700281438838633, 6.1002314112803235, 6.016104068351802, 8.22480297615863, 3.8827485607775603, 3.091472696924484)\n",
            "[-2.3792665577046, 0.09660124558002803, -0.16644033391576674, -6.858848100212585, -0.9080781506213103, -1.253100943231857]\n",
            "\n",
            "predicting ghg gases at 0.3458513843860158_51.34321006385125.png\n"
          ],
          "name": "stdout"
        },
        {
          "output_type": "display_data",
          "data": {
            "text/html": [
              ""
            ],
            "text/plain": [
              "<IPython.core.display.HTML object>"
            ]
          },
          "metadata": {
            "tags": []
          }
        },
        {
          "output_type": "stream",
          "text": [
            "(0.3458513843860158, 51.34321006385125)\n",
            "(2.124889612197876, 6.2424445152282715, 4.766998767852783, 0.021640244871377945, 0.8658193945884705, 0.0981532633304596)\n",
            "(9.626941725286025, 6.1976230923727575, 5.828184649833629, 10.137142338690342, 2.0346703869559186, 7.042464733128327)\n",
            "[-7.5020521130881495, 0.04482142285551394, -1.0611858819808457, -10.115502093818964, -1.1688509923674482, -6.944311469797867]\n",
            "\n",
            "predicting ghg gases at 0.3368682315448206_51.361176369533645.png\n"
          ],
          "name": "stdout"
        },
        {
          "output_type": "display_data",
          "data": {
            "text/html": [
              ""
            ],
            "text/plain": [
              "<IPython.core.display.HTML object>"
            ]
          },
          "metadata": {
            "tags": []
          }
        },
        {
          "output_type": "stream",
          "text": [
            "(0.3368682315448206, 51.361176369533645)\n",
            "(3.3293209075927734, 6.097378253936768, 5.32807731628418, 1.431531310081482, 2.906400680541992, 1.8007829189300537)\n",
            "(9.956234468662256, 6.461085877567219, 5.901694406410933, 10.45639089524708, 2.1401855409447608, 8.553059731512462)\n",
            "[-6.6269135610694825, -0.36370762363045106, -0.5736170901267537, -9.024859585165599, 0.7662151395972314, -6.752276812582409]\n",
            "\n",
            "predicting ghg gases at 0.2829693144976493_51.37015952237484.png\n"
          ],
          "name": "stdout"
        },
        {
          "output_type": "display_data",
          "data": {
            "text/html": [
              ""
            ],
            "text/plain": [
              "<IPython.core.display.HTML object>"
            ]
          },
          "metadata": {
            "tags": []
          }
        },
        {
          "output_type": "stream",
          "text": [
            "(0.2829693144976493, 51.37015952237484)\n",
            "(3.3076000213623047, 6.191211700439453, 5.416271686553955, 1.3829798698425293, 3.1824522018432617, 1.806948184967041)\n",
            "(10.391668281118996, 5.767963388508207, 6.267165371473741, 10.520651740823228, 3.403908462697123, 7.49299322767672)\n",
            "[-7.084068259756691, 0.42324831193124623, -0.8508936849197859, -9.137671870980698, -0.2214562608538615, -5.686045042709679]\n",
            "\n",
            "predicting ghg gases at 0.20212093892689234_51.37914267521604.png\n"
          ],
          "name": "stdout"
        },
        {
          "output_type": "display_data",
          "data": {
            "text/html": [
              ""
            ],
            "text/plain": [
              "<IPython.core.display.HTML object>"
            ]
          },
          "metadata": {
            "tags": []
          }
        },
        {
          "output_type": "stream",
          "text": [
            "(0.20212093892689234, 51.37914267521604)\n",
            "(3.3321032524108887, 6.117678165435791, 5.632369518280029, 1.3775795698165894, 2.9427270889282227, 1.8199608325958252)\n",
            "(13.231953110715775, 5.472442028500891, 6.578555754674347, 10.672212784214041, 2.730297654753723, 8.06920623121323)\n",
            "[-9.899849858304886, 0.6452361369349005, -0.9461862363943174, -9.294633214397452, 0.21242943417449967, -6.249245398617404]\n",
            "\n",
            "predicting ghg gases at 0.1661883275621115_51.18151331270974.png\n"
          ],
          "name": "stdout"
        },
        {
          "output_type": "display_data",
          "data": {
            "text/html": [
              ""
            ],
            "text/plain": [
              "<IPython.core.display.HTML object>"
            ]
          },
          "metadata": {
            "tags": []
          }
        },
        {
          "output_type": "stream",
          "text": [
            "(0.1661883275621115, 51.18151331270974)\n",
            "(3.3683762550354004, 6.302408218383789, 5.4630842208862305, 1.3483489751815796, 3.0831284523010254, 1.7234241962432861)\n",
            "(11.379930188147522, 7.075242554693576, 5.255308728490337, 9.302583383118957, 4.597428241356164, 6.312187606295311)\n",
            "[-8.011553933112122, -0.7728343363097867, 0.20777549239589366, -7.954234407937378, -1.5142997890551388, -4.5887634100520245]\n",
            "\n",
            "predicting ghg gases at 0.10330625767374498_51.190496465550936.png\n"
          ],
          "name": "stdout"
        },
        {
          "output_type": "display_data",
          "data": {
            "text/html": [
              ""
            ],
            "text/plain": [
              "<IPython.core.display.HTML object>"
            ]
          },
          "metadata": {
            "tags": []
          }
        },
        {
          "output_type": "stream",
          "text": [
            "(0.10330625767374498, 51.190496465550936)\n",
            "(3.3196768760681152, 5.961051940917969, 5.274539470672607, 1.4288438558578491, 3.048839569091797, 1.8395464420318604)\n",
            "(10.227290422003058, 6.079860165063859, 5.305540846590793, 9.278129470713104, 2.2699609541613817, 6.959507218695194)\n",
            "[-6.907613545934943, -0.11880822414588987, -0.031001375918185303, -7.849285614855255, 0.7788786149304152, -5.1199607766633335]\n",
            "\n",
            "predicting ghg gases at 0.15720517472091627_51.11863124282137.png\n"
          ],
          "name": "stdout"
        },
        {
          "output_type": "display_data",
          "data": {
            "text/html": [
              ""
            ],
            "text/plain": [
              "<IPython.core.display.HTML object>"
            ]
          },
          "metadata": {
            "tags": []
          }
        },
        {
          "output_type": "stream",
          "text": [
            "(0.15720517472091627, 51.11863124282137)\n",
            "(3.321943759918213, 6.082625865936279, 5.466413497924805, 1.428279995918274, 3.212303876876831, 1.8418364524841309)\n",
            "(9.900489023510136, 5.118353502220666, 4.79641639047329, 8.924711341390113, 3.8594007380760975, 4.174333542878458)\n",
            "[-6.5785452635919235, 0.9642723637156134, 0.6699971074515148, -7.496431345471839, -0.6470968611992665, -2.3324970903943267]\n",
            "\n",
            "predicting ghg gases at 0.14822202187972106_51.16354700702735.png\n"
          ],
          "name": "stdout"
        },
        {
          "output_type": "display_data",
          "data": {
            "text/html": [
              ""
            ],
            "text/plain": [
              "<IPython.core.display.HTML object>"
            ]
          },
          "metadata": {
            "tags": []
          }
        },
        {
          "output_type": "stream",
          "text": [
            "(0.14822202187972106, 51.16354700702735)\n",
            "(3.2901227474212646, 6.2062554359436035, 5.4096293449401855, 1.4005221128463745, 3.1695783138275146, 1.8324313163757324)\n",
            "(9.374345383415806, 7.1090640464873385, 5.216828711067987, 9.414983596137127, 3.216587827040189, 4.575450086067349)\n",
            "[-6.084222635994541, -0.902808610543735, 0.19280063387219837, -8.014461483290752, -0.047009513212674214, -2.7430187696916164]\n",
            "\n",
            "predicting ghg gases at 0.35483453722721103_51.20846277123333.png\n"
          ],
          "name": "stdout"
        },
        {
          "output_type": "display_data",
          "data": {
            "text/html": [
              ""
            ],
            "text/plain": [
              "<IPython.core.display.HTML object>"
            ]
          },
          "metadata": {
            "tags": []
          }
        },
        {
          "output_type": "stream",
          "text": [
            "(0.35483453722721103, 51.20846277123333)\n",
            "(3.2979013919830322, 6.0221452713012695, 5.528857231140137, 1.3838046789169312, 2.9740235805511475, 1.8157973289489746)\n",
            "(13.075658462942396, 6.121630037661282, 5.228017339823881, 9.993153341582573, 2.753645542649176, 10.803995224347204)\n",
            "[-9.777757070959364, -0.09948476636001224, 0.3008398913162553, -8.609348662665642, 0.22037803790197152, -8.98819789539823]\n",
            "\n",
            "predicting ghg gases at 0.2919524673388445_51.226429076915714.png\n"
          ],
          "name": "stdout"
        },
        {
          "output_type": "display_data",
          "data": {
            "text/html": [
              ""
            ],
            "text/plain": [
              "<IPython.core.display.HTML object>"
            ]
          },
          "metadata": {
            "tags": []
          }
        },
        {
          "output_type": "stream",
          "text": [
            "(0.2919524673388445, 51.226429076915714)\n",
            "(3.3548474311828613, 6.2579545974731445, 5.606722831726074, 1.353334665298462, 3.321960210800171, 1.7737843990325928)\n",
            "(13.283626625063203, 5.748818590273779, 5.147581213645673, 9.900050693475437, 3.6848768157814935, 10.20236209364532)\n",
            "[-9.928779193880342, 0.5091360071993654, 0.4591416180804009, -8.546716028176975, -0.3629166049813226, -8.428577694612727]\n",
            "\n",
            "predicting ghg gases at 0.229070397450478_51.23541222975691.png\n"
          ],
          "name": "stdout"
        },
        {
          "output_type": "display_data",
          "data": {
            "text/html": [
              ""
            ],
            "text/plain": [
              "<IPython.core.display.HTML object>"
            ]
          },
          "metadata": {
            "tags": []
          }
        },
        {
          "output_type": "stream",
          "text": [
            "(0.229070397450478, 51.23541222975691)\n",
            "(3.3318545818328857, 6.299411773681641, 5.276389122009277, 1.400618076324463, 3.186361312866211, 1.7870075702667236)\n",
            "(11.086204820857995, 6.634902777062545, 5.248190538651104, 9.434269664732597, 4.143315876270762, 7.326542982640376)\n",
            "[-7.75435023902511, -0.33549100338090465, 0.028198583358173046, -8.033651588408134, -0.9569545634045511, -5.539535412373652]\n",
            "\n",
            "predicting ghg gases at 0.15720517472091627_51.2533785354393.png\n"
          ],
          "name": "stdout"
        },
        {
          "output_type": "display_data",
          "data": {
            "text/html": [
              ""
            ],
            "text/plain": [
              "<IPython.core.display.HTML object>"
            ]
          },
          "metadata": {
            "tags": []
          }
        },
        {
          "output_type": "stream",
          "text": [
            "(0.15720517472091627, 51.2533785354393)\n",
            "(3.3234000205993652, 6.250617980957031, 5.260552406311035, 1.4195091724395752, 3.1809329986572266, 1.8401974439620972)\n",
            "(10.67937172615635, 7.691812480574711, 5.285615723101502, 8.928915861153575, 2.575094113174213, 5.372410165744327)\n",
            "[-7.3559717055569855, -1.44119449961768, -0.025063316790467027, -7.509406688714, 0.6058388854830135, -3.53221272178223]\n",
            "\n",
            "predicting ghg gases at -0.26500300881525884_51.29829429964528.png\n"
          ],
          "name": "stdout"
        },
        {
          "output_type": "display_data",
          "data": {
            "text/html": [
              ""
            ],
            "text/plain": [
              "<IPython.core.display.HTML object>"
            ]
          },
          "metadata": {
            "tags": []
          }
        },
        {
          "output_type": "stream",
          "text": [
            "(-0.26500300881525884, 51.29829429964528)\n",
            "(3.2730448246002197, 6.022161483764648, 5.457268714904785, 1.422963261604309, 2.920185089111328, 1.825869083404541)\n",
            "(8.816976370830398, 5.150612706662084, 5.771363956664699, 10.026832925517926, 2.0119034711725514, 5.457337742286427)\n",
            "[-5.543931546230178, 0.8715487771025643, -0.31409524175991343, -8.603869663913617, 0.9082816179387767, -3.631468658881886]\n",
            "\n",
            "predicting ghg gases at -0.3278850787036254_51.307277452486474.png\n"
          ],
          "name": "stdout"
        },
        {
          "output_type": "display_data",
          "data": {
            "text/html": [
              ""
            ],
            "text/plain": [
              "<IPython.core.display.HTML object>"
            ]
          },
          "metadata": {
            "tags": []
          }
        },
        {
          "output_type": "stream",
          "text": [
            "(-0.3278850787036254, 51.307277452486474)\n",
            "(3.2839252948760986, 6.203650951385498, 6.0514044761657715, 1.401476263999939, 2.7588353157043457, 1.773830771446228)\n",
            "(8.90143681294954, 5.314312582843895, 5.859934272292446, 9.85033769633964, 3.167633323547813, 5.703700845297249)\n",
            "[-5.6175115180734405, 0.889338368541603, 0.19147020387332514, -8.4488614323397, -0.4087980078434672, -3.9298700738510206]\n",
            "\n",
            "predicting ghg gases at -0.3728008429096014_51.31626060532767.png\n"
          ],
          "name": "stdout"
        },
        {
          "output_type": "display_data",
          "data": {
            "text/html": [
              ""
            ],
            "text/plain": [
              "<IPython.core.display.HTML object>"
            ]
          },
          "metadata": {
            "tags": []
          }
        },
        {
          "output_type": "stream",
          "text": [
            "(-0.3728008429096014, 51.31626060532767)\n",
            "(3.3379716873168945, 6.10349702835083, 5.651159286499023, 1.3769989013671875, 2.9202961921691895, 1.8517780303955078)\n",
            "(10.078300130191703, 6.6084520392200226, 5.985903138440752, 10.317925013244578, 2.6896202617952873, 6.228845048422272)\n",
            "[-6.740328442874809, -0.5049550108691925, -0.3347438519417283, -8.94092611187739, 0.2306759303739021, -4.377067018026764]\n",
            "\n",
            "predicting ghg gases at -0.4626323713215536_51.32524375816886.png\n"
          ],
          "name": "stdout"
        },
        {
          "output_type": "display_data",
          "data": {
            "text/html": [
              ""
            ],
            "text/plain": [
              "<IPython.core.display.HTML object>"
            ]
          },
          "metadata": {
            "tags": []
          }
        },
        {
          "output_type": "stream",
          "text": [
            "(-0.4626323713215536, 51.32524375816886)\n",
            "(3.325636148452759, 6.12178373336792, 5.4576735496521, 1.3504912853240967, 2.976593494415283, 1.768267035484314)\n",
            "(9.378943867555597, 6.396413562055545, 6.158726493421717, 10.160233428704036, 3.521135454660214, 6.999510843386361)\n",
            "[-6.053307719102838, -0.2746298286876252, -0.7010529437696178, -8.809742143379939, -0.5445419602449308, -5.231243807902047]\n",
            "\n",
            "predicting ghg gases at -0.4087334542743823_51.19947961839213.png\n"
          ],
          "name": "stdout"
        },
        {
          "output_type": "display_data",
          "data": {
            "text/html": [
              ""
            ],
            "text/plain": [
              "<IPython.core.display.HTML object>"
            ]
          },
          "metadata": {
            "tags": []
          }
        },
        {
          "output_type": "stream",
          "text": [
            "(-0.4087334542743823, 51.19947961839213)\n",
            "(3.3015613555908203, 6.065624237060547, 5.282308578491211, 1.3922606706619263, 3.0042386054992676, 1.822554111480713)\n",
            "(4.351060694279749, 5.6530776365658495, 4.864550317647034, 8.727724031936113, 2.171961139029797, 5.7997290537097115)\n",
            "[-1.0494993386889284, 0.4125466004946974, 0.41775826084417655, -7.335463361274186, 0.8322774664694705, -3.9771749422289986]\n",
            "\n",
            "predicting ghg gases at 0.20212093892689234_51.32524375816886.png\n"
          ],
          "name": "stdout"
        },
        {
          "output_type": "display_data",
          "data": {
            "text/html": [
              ""
            ],
            "text/plain": [
              "<IPython.core.display.HTML object>"
            ]
          },
          "metadata": {
            "tags": []
          }
        },
        {
          "output_type": "stream",
          "text": [
            "(0.20212093892689234, 51.32524375816886)\n",
            "(3.3425631523132324, 6.07095193862915, 5.254035472869873, 1.4213333129882812, 3.042912244796753, 1.776193618774414)\n",
            "(9.738256132679341, 6.027676987823028, 5.572109976812338, 10.189548373458479, 4.085204740752072, 6.167747028206691)\n",
            "[-6.395692980366109, 0.04327495080612209, -0.31807450394246484, -8.768215060470197, -1.0422924959553193, -4.391553409432277]\n",
            "\n"
          ],
          "name": "stdout"
        }
      ]
    },
    {
      "cell_type": "code",
      "metadata": {
        "id": "FH5j7du6U1ya",
        "colab": {
          "base_uri": "https://localhost:8080/",
          "height": 665
        },
        "outputId": "69e987d2-9d5a-4e6d-c944-2c8e50cc525c"
      },
      "source": [
        "errors "
      ],
      "execution_count": 11,
      "outputs": [
        {
          "output_type": "execute_result",
          "data": {
            "text/html": [
              "<div>\n",
              "<style scoped>\n",
              "    .dataframe tbody tr th:only-of-type {\n",
              "        vertical-align: middle;\n",
              "    }\n",
              "\n",
              "    .dataframe tbody tr th {\n",
              "        vertical-align: top;\n",
              "    }\n",
              "\n",
              "    .dataframe thead th {\n",
              "        text-align: right;\n",
              "    }\n",
              "</style>\n",
              "<table border=\"1\" class=\"dataframe\">\n",
              "  <thead>\n",
              "    <tr style=\"text-align: right;\">\n",
              "      <th></th>\n",
              "      <th>longitude</th>\n",
              "      <th>latitude</th>\n",
              "      <th>CO_column_number_density</th>\n",
              "      <th>tropospheric_HCHO_column_number_density</th>\n",
              "      <th>tropospheric_NO2_column_number_density</th>\n",
              "      <th>O3_column_number_density</th>\n",
              "      <th>SO2_column_number_density</th>\n",
              "      <th>CH4_column_volume_mixing_ratio_dry_air</th>\n",
              "    </tr>\n",
              "  </thead>\n",
              "  <tbody>\n",
              "    <tr>\n",
              "      <th>0</th>\n",
              "      <td>-0.786026</td>\n",
              "      <td>51.343210</td>\n",
              "      <td>-2.379267</td>\n",
              "      <td>0.096601</td>\n",
              "      <td>-0.166440</td>\n",
              "      <td>-6.858848</td>\n",
              "      <td>-0.908078</td>\n",
              "      <td>-1.253101</td>\n",
              "    </tr>\n",
              "    <tr>\n",
              "      <th>1</th>\n",
              "      <td>0.345851</td>\n",
              "      <td>51.343210</td>\n",
              "      <td>-7.502052</td>\n",
              "      <td>0.044821</td>\n",
              "      <td>-1.061186</td>\n",
              "      <td>-10.115502</td>\n",
              "      <td>-1.168851</td>\n",
              "      <td>-6.944311</td>\n",
              "    </tr>\n",
              "    <tr>\n",
              "      <th>2</th>\n",
              "      <td>0.336868</td>\n",
              "      <td>51.361176</td>\n",
              "      <td>-6.626914</td>\n",
              "      <td>-0.363708</td>\n",
              "      <td>-0.573617</td>\n",
              "      <td>-9.024860</td>\n",
              "      <td>0.766215</td>\n",
              "      <td>-6.752277</td>\n",
              "    </tr>\n",
              "    <tr>\n",
              "      <th>3</th>\n",
              "      <td>0.282969</td>\n",
              "      <td>51.370160</td>\n",
              "      <td>-7.084068</td>\n",
              "      <td>0.423248</td>\n",
              "      <td>-0.850894</td>\n",
              "      <td>-9.137672</td>\n",
              "      <td>-0.221456</td>\n",
              "      <td>-5.686045</td>\n",
              "    </tr>\n",
              "    <tr>\n",
              "      <th>4</th>\n",
              "      <td>0.202121</td>\n",
              "      <td>51.379143</td>\n",
              "      <td>-9.899850</td>\n",
              "      <td>0.645236</td>\n",
              "      <td>-0.946186</td>\n",
              "      <td>-9.294633</td>\n",
              "      <td>0.212429</td>\n",
              "      <td>-6.249245</td>\n",
              "    </tr>\n",
              "    <tr>\n",
              "      <th>5</th>\n",
              "      <td>0.166188</td>\n",
              "      <td>51.181513</td>\n",
              "      <td>-8.011554</td>\n",
              "      <td>-0.772834</td>\n",
              "      <td>0.207775</td>\n",
              "      <td>-7.954234</td>\n",
              "      <td>-1.514300</td>\n",
              "      <td>-4.588763</td>\n",
              "    </tr>\n",
              "    <tr>\n",
              "      <th>6</th>\n",
              "      <td>0.103306</td>\n",
              "      <td>51.190496</td>\n",
              "      <td>-6.907614</td>\n",
              "      <td>-0.118808</td>\n",
              "      <td>-0.031001</td>\n",
              "      <td>-7.849286</td>\n",
              "      <td>0.778879</td>\n",
              "      <td>-5.119961</td>\n",
              "    </tr>\n",
              "    <tr>\n",
              "      <th>7</th>\n",
              "      <td>0.157205</td>\n",
              "      <td>51.118631</td>\n",
              "      <td>-6.578545</td>\n",
              "      <td>0.964272</td>\n",
              "      <td>0.669997</td>\n",
              "      <td>-7.496431</td>\n",
              "      <td>-0.647097</td>\n",
              "      <td>-2.332497</td>\n",
              "    </tr>\n",
              "    <tr>\n",
              "      <th>8</th>\n",
              "      <td>0.148222</td>\n",
              "      <td>51.163547</td>\n",
              "      <td>-6.084223</td>\n",
              "      <td>-0.902809</td>\n",
              "      <td>0.192801</td>\n",
              "      <td>-8.014461</td>\n",
              "      <td>-0.047010</td>\n",
              "      <td>-2.743019</td>\n",
              "    </tr>\n",
              "    <tr>\n",
              "      <th>9</th>\n",
              "      <td>0.354835</td>\n",
              "      <td>51.208463</td>\n",
              "      <td>-9.777757</td>\n",
              "      <td>-0.099485</td>\n",
              "      <td>0.300840</td>\n",
              "      <td>-8.609349</td>\n",
              "      <td>0.220378</td>\n",
              "      <td>-8.988198</td>\n",
              "    </tr>\n",
              "    <tr>\n",
              "      <th>10</th>\n",
              "      <td>0.291952</td>\n",
              "      <td>51.226429</td>\n",
              "      <td>-9.928779</td>\n",
              "      <td>0.509136</td>\n",
              "      <td>0.459142</td>\n",
              "      <td>-8.546716</td>\n",
              "      <td>-0.362917</td>\n",
              "      <td>-8.428578</td>\n",
              "    </tr>\n",
              "    <tr>\n",
              "      <th>11</th>\n",
              "      <td>0.229070</td>\n",
              "      <td>51.235412</td>\n",
              "      <td>-7.754350</td>\n",
              "      <td>-0.335491</td>\n",
              "      <td>0.028199</td>\n",
              "      <td>-8.033652</td>\n",
              "      <td>-0.956955</td>\n",
              "      <td>-5.539535</td>\n",
              "    </tr>\n",
              "    <tr>\n",
              "      <th>12</th>\n",
              "      <td>0.157205</td>\n",
              "      <td>51.253379</td>\n",
              "      <td>-7.355972</td>\n",
              "      <td>-1.441194</td>\n",
              "      <td>-0.025063</td>\n",
              "      <td>-7.509407</td>\n",
              "      <td>0.605839</td>\n",
              "      <td>-3.532213</td>\n",
              "    </tr>\n",
              "    <tr>\n",
              "      <th>13</th>\n",
              "      <td>-0.265003</td>\n",
              "      <td>51.298294</td>\n",
              "      <td>-5.543932</td>\n",
              "      <td>0.871549</td>\n",
              "      <td>-0.314095</td>\n",
              "      <td>-8.603870</td>\n",
              "      <td>0.908282</td>\n",
              "      <td>-3.631469</td>\n",
              "    </tr>\n",
              "    <tr>\n",
              "      <th>14</th>\n",
              "      <td>-0.327885</td>\n",
              "      <td>51.307277</td>\n",
              "      <td>-5.617512</td>\n",
              "      <td>0.889338</td>\n",
              "      <td>0.191470</td>\n",
              "      <td>-8.448861</td>\n",
              "      <td>-0.408798</td>\n",
              "      <td>-3.929870</td>\n",
              "    </tr>\n",
              "    <tr>\n",
              "      <th>15</th>\n",
              "      <td>-0.372801</td>\n",
              "      <td>51.316261</td>\n",
              "      <td>-6.740328</td>\n",
              "      <td>-0.504955</td>\n",
              "      <td>-0.334744</td>\n",
              "      <td>-8.940926</td>\n",
              "      <td>0.230676</td>\n",
              "      <td>-4.377067</td>\n",
              "    </tr>\n",
              "    <tr>\n",
              "      <th>16</th>\n",
              "      <td>-0.462632</td>\n",
              "      <td>51.325244</td>\n",
              "      <td>-6.053308</td>\n",
              "      <td>-0.274630</td>\n",
              "      <td>-0.701053</td>\n",
              "      <td>-8.809742</td>\n",
              "      <td>-0.544542</td>\n",
              "      <td>-5.231244</td>\n",
              "    </tr>\n",
              "    <tr>\n",
              "      <th>17</th>\n",
              "      <td>-0.408733</td>\n",
              "      <td>51.199480</td>\n",
              "      <td>-1.049499</td>\n",
              "      <td>0.412547</td>\n",
              "      <td>0.417758</td>\n",
              "      <td>-7.335463</td>\n",
              "      <td>0.832277</td>\n",
              "      <td>-3.977175</td>\n",
              "    </tr>\n",
              "    <tr>\n",
              "      <th>18</th>\n",
              "      <td>0.202121</td>\n",
              "      <td>51.325244</td>\n",
              "      <td>-6.395693</td>\n",
              "      <td>0.043275</td>\n",
              "      <td>-0.318075</td>\n",
              "      <td>-8.768215</td>\n",
              "      <td>-1.042292</td>\n",
              "      <td>-4.391553</td>\n",
              "    </tr>\n",
              "  </tbody>\n",
              "</table>\n",
              "</div>"
            ],
            "text/plain": [
              "    longitude  ...  CH4_column_volume_mixing_ratio_dry_air\n",
              "0   -0.786026  ...                               -1.253101\n",
              "1    0.345851  ...                               -6.944311\n",
              "2    0.336868  ...                               -6.752277\n",
              "3    0.282969  ...                               -5.686045\n",
              "4    0.202121  ...                               -6.249245\n",
              "5    0.166188  ...                               -4.588763\n",
              "6    0.103306  ...                               -5.119961\n",
              "7    0.157205  ...                               -2.332497\n",
              "8    0.148222  ...                               -2.743019\n",
              "9    0.354835  ...                               -8.988198\n",
              "10   0.291952  ...                               -8.428578\n",
              "11   0.229070  ...                               -5.539535\n",
              "12   0.157205  ...                               -3.532213\n",
              "13  -0.265003  ...                               -3.631469\n",
              "14  -0.327885  ...                               -3.929870\n",
              "15  -0.372801  ...                               -4.377067\n",
              "16  -0.462632  ...                               -5.231244\n",
              "17  -0.408733  ...                               -3.977175\n",
              "18   0.202121  ...                               -4.391553\n",
              "\n",
              "[19 rows x 8 columns]"
            ]
          },
          "metadata": {
            "tags": []
          },
          "execution_count": 11
        }
      ]
    },
    {
      "cell_type": "code",
      "metadata": {
        "id": "ZXREDvXdRjRX"
      },
      "source": [
        "errors.to_csv(f\"{c.data_dir}/errors2.csv\")"
      ],
      "execution_count": null,
      "outputs": []
    },
    {
      "cell_type": "markdown",
      "metadata": {
        "id": "aCykJTyevfYZ"
      },
      "source": [
        "### Basic stat testing \n",
        "- Data exploration \n",
        "- RMSE per GHG\n",
        "- Extract outliers & view images "
      ]
    },
    {
      "cell_type": "code",
      "metadata": {
        "id": "66_W65n-veuU"
      },
      "source": [
        "errors = pd.read_csv(f\"{c.data_dir}/errors2.csv\")"
      ],
      "execution_count": null,
      "outputs": []
    },
    {
      "cell_type": "code",
      "metadata": {
        "id": "1SzWvBN-0u8I"
      },
      "source": [
        "model_stats = pd.DataFrame(columns = [\"stat\"] + c.ghg_bands)"
      ],
      "execution_count": 12,
      "outputs": []
    },
    {
      "cell_type": "code",
      "metadata": {
        "id": "Ychfb1HGCE_0"
      },
      "source": [
        "def getRmse(series): \n",
        "  return np.sqrt(np.mean(series**2))"
      ],
      "execution_count": 13,
      "outputs": []
    },
    {
      "cell_type": "code",
      "metadata": {
        "id": "flkVCRb-wghu"
      },
      "source": [
        "# Define aggregate metrics \n",
        "means = [errors[ghg].mean() for ghg in c.ghg_bands ]\n",
        "stdevs = [errors[ghg].std() for ghg in c.ghg_bands ]\n",
        "rmse = [getRmse(errors[ghg]) for ghg in c.ghg_bands ]\n",
        "min = [ghg_df[ghg].min() for ghg in c.ghg_bands]\n",
        "max = [ghg_df[ghg].max() for ghg in c.ghg_bands]\n",
        "range = [maxval - minval for maxval, minval in zip(max, min)]\n",
        "rmse_as_pct = [(errval / rngval) * 100 for errval, rngval in zip(rmse, range)]\n",
        "\n",
        "model_stats.loc[1] = [\"Mean\"] + means\n",
        "model_stats.loc[2] = [\"Standard Deviation\"] + stdevs \n",
        "model_stats.loc[3] = [\"Min\"] + min\n",
        "model_stats.loc[4] = [\"Max\"] + max\n",
        "model_stats.loc[5] = [\"Range\"] + range\n",
        "model_stats.loc[6] = [\"RMSE\"] + rmse\n",
        "model_stats.loc[7] = [\"RMSE as percentage\"] + rmse_as_pct"
      ],
      "execution_count": 14,
      "outputs": []
    },
    {
      "cell_type": "code",
      "metadata": {
        "id": "sUT_KzHcJPsA",
        "colab": {
          "base_uri": "https://localhost:8080/",
          "height": 324
        },
        "outputId": "481c3b6d-4dce-4a4f-f4b9-921b68da5c17"
      },
      "source": [
        "model_stats"
      ],
      "execution_count": 15,
      "outputs": [
        {
          "output_type": "execute_result",
          "data": {
            "text/html": [
              "<div>\n",
              "<style scoped>\n",
              "    .dataframe tbody tr th:only-of-type {\n",
              "        vertical-align: middle;\n",
              "    }\n",
              "\n",
              "    .dataframe tbody tr th {\n",
              "        vertical-align: top;\n",
              "    }\n",
              "\n",
              "    .dataframe thead th {\n",
              "        text-align: right;\n",
              "    }\n",
              "</style>\n",
              "<table border=\"1\" class=\"dataframe\">\n",
              "  <thead>\n",
              "    <tr style=\"text-align: right;\">\n",
              "      <th></th>\n",
              "      <th>stat</th>\n",
              "      <th>CO_column_number_density</th>\n",
              "      <th>tropospheric_HCHO_column_number_density</th>\n",
              "      <th>tropospheric_NO2_column_number_density</th>\n",
              "      <th>O3_column_number_density</th>\n",
              "      <th>SO2_column_number_density</th>\n",
              "      <th>CH4_column_volume_mixing_ratio_dry_air</th>\n",
              "    </tr>\n",
              "  </thead>\n",
              "  <tbody>\n",
              "    <tr>\n",
              "      <th>1</th>\n",
              "      <td>Mean</td>\n",
              "      <td>-6.699538</td>\n",
              "      <td>0.004532</td>\n",
              "      <td>-0.150230</td>\n",
              "      <td>-8.386954</td>\n",
              "      <td>-0.171964</td>\n",
              "      <td>-4.931375</td>\n",
              "    </tr>\n",
              "    <tr>\n",
              "      <th>2</th>\n",
              "      <td>Standard Deviation</td>\n",
              "      <td>2.214216</td>\n",
              "      <td>0.650072</td>\n",
              "      <td>0.501155</td>\n",
              "      <td>0.791724</td>\n",
              "      <td>0.753321</td>\n",
              "      <td>1.974943</td>\n",
              "    </tr>\n",
              "    <tr>\n",
              "      <th>3</th>\n",
              "      <td>Min</td>\n",
              "      <td>3.300390</td>\n",
              "      <td>4.034831</td>\n",
              "      <td>4.384961</td>\n",
              "      <td>4.828771</td>\n",
              "      <td>1.023293</td>\n",
              "      <td>0.990163</td>\n",
              "    </tr>\n",
              "    <tr>\n",
              "      <th>4</th>\n",
              "      <td>Max</td>\n",
              "      <td>15.376154</td>\n",
              "      <td>8.663142</td>\n",
              "      <td>7.415872</td>\n",
              "      <td>11.545652</td>\n",
              "      <td>5.474309</td>\n",
              "      <td>12.736687</td>\n",
              "    </tr>\n",
              "    <tr>\n",
              "      <th>5</th>\n",
              "      <td>Range</td>\n",
              "      <td>12.075764</td>\n",
              "      <td>4.628312</td>\n",
              "      <td>3.030911</td>\n",
              "      <td>6.716881</td>\n",
              "      <td>4.451017</td>\n",
              "      <td>11.746524</td>\n",
              "    </tr>\n",
              "    <tr>\n",
              "      <th>6</th>\n",
              "      <td>RMSE</td>\n",
              "      <td>7.037650</td>\n",
              "      <td>0.632750</td>\n",
              "      <td>0.510398</td>\n",
              "      <td>8.422282</td>\n",
              "      <td>0.753125</td>\n",
              "      <td>5.292785</td>\n",
              "    </tr>\n",
              "    <tr>\n",
              "      <th>7</th>\n",
              "      <td>RMSE as percentage</td>\n",
              "      <td>58.279128</td>\n",
              "      <td>13.671281</td>\n",
              "      <td>16.839765</td>\n",
              "      <td>125.389770</td>\n",
              "      <td>16.920285</td>\n",
              "      <td>45.058308</td>\n",
              "    </tr>\n",
              "  </tbody>\n",
              "</table>\n",
              "</div>"
            ],
            "text/plain": [
              "                 stat  ...  CH4_column_volume_mixing_ratio_dry_air\n",
              "1                Mean  ...                               -4.931375\n",
              "2  Standard Deviation  ...                                1.974943\n",
              "3                 Min  ...                                0.990163\n",
              "4                 Max  ...                               12.736687\n",
              "5               Range  ...                               11.746524\n",
              "6                RMSE  ...                                5.292785\n",
              "7  RMSE as percentage  ...                               45.058308\n",
              "\n",
              "[7 rows x 7 columns]"
            ]
          },
          "metadata": {
            "tags": []
          },
          "execution_count": 15
        }
      ]
    },
    {
      "cell_type": "code",
      "metadata": {
        "id": "tLqBOX23GdTG"
      },
      "source": [
        "# Finding error rate as a percentage based on RMSE "
      ],
      "execution_count": null,
      "outputs": []
    },
    {
      "cell_type": "code",
      "metadata": {
        "id": "SIG3A3uMGDLJ"
      },
      "source": [
        "# Find outliers "
      ],
      "execution_count": null,
      "outputs": []
    },
    {
      "cell_type": "markdown",
      "metadata": {
        "id": "9wOg6CkVfnnb"
      },
      "source": [
        "### Sample images vs predictions \n",
        "what regions are easier to predict than others? \n",
        "\n",
        "create accuracy heatmap "
      ]
    },
    {
      "cell_type": "code",
      "metadata": {
        "id": "udr8LN2Pfzg9"
      },
      "source": [
        ""
      ],
      "execution_count": null,
      "outputs": []
    },
    {
      "cell_type": "markdown",
      "metadata": {
        "id": "DfxyWGU-fwLW"
      },
      "source": [
        "### Activation Mapping"
      ]
    }
  ]
}