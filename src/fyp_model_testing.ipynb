{
  "nbformat": 4,
  "nbformat_minor": 0,
  "metadata": {
    "colab": {
      "name": "fyp_model_testing.ipynb",
      "provenance": [],
      "include_colab_link": true
    },
    "kernelspec": {
      "name": "python3",
      "display_name": "Python 3"
    }
  },
  "cells": [
    {
      "cell_type": "markdown",
      "metadata": {
        "id": "view-in-github",
        "colab_type": "text"
      },
      "source": [
        "<a href=\"https://colab.research.google.com/github/WRFitch/fyp/blob/main/src/fyp_model_testing.ipynb\" target=\"_parent\"><img src=\"https://colab.research.google.com/assets/colab-badge.svg\" alt=\"Open In Colab\"/></a>"
      ]
    },
    {
      "cell_type": "markdown",
      "metadata": {
        "id": "MlL01n7dexnl"
      },
      "source": [
        "# Testing\n",
        "A notebook for testing an exported model "
      ]
    },
    {
      "cell_type": "markdown",
      "metadata": {
        "id": "tQzTgaA5fWu8"
      },
      "source": [
        "## Setup"
      ]
    },
    {
      "cell_type": "code",
      "metadata": {
        "id": "iX9MY-tjfCvL"
      },
      "source": [
        "!pip uninstall -y fastai\n",
        "!pip install -U --no-cache-dir fastai"
      ],
      "execution_count": null,
      "outputs": []
    },
    {
      "cell_type": "code",
      "metadata": {
        "id": "XEZzGW0Xeuty",
        "outputId": "857bb4ad-fd19-421c-fb37-e03f6b9fa682",
        "colab": {
          "base_uri": "https://localhost:8080/"
        }
      },
      "source": [
        "# Import fyputil library\n",
        "%cd /content\n",
        "!git clone https://github.com/WRFitch/fyp.git\n",
        "%cd fyp/src/fyputil\n",
        "import constants as c\n",
        "import fyp_utils as fyputil\n",
        "%cd /content"
      ],
      "execution_count": 2,
      "outputs": [
        {
          "output_type": "stream",
          "text": [
            "/content\n",
            "Cloning into 'fyp'...\n",
            "remote: Enumerating objects: 261, done.\u001b[K\n",
            "remote: Counting objects: 100% (261/261), done.\u001b[K\n",
            "remote: Compressing objects: 100% (211/211), done.\u001b[K\n",
            "remote: Total 773 (delta 167), reused 97 (delta 50), pack-reused 512\u001b[K\n",
            "Receiving objects: 100% (773/773), 143.43 MiB | 13.24 MiB/s, done.\n",
            "Resolving deltas: 100% (422/422), done.\n",
            "/content/fyp/src/fyputil\n",
            "/content\n"
          ],
          "name": "stdout"
        }
      ]
    },
    {
      "cell_type": "code",
      "metadata": {
        "id": "BdaFWRYPe4Oc",
        "outputId": "3d7475c1-e2da-4f17-cb77-8e6e16c224bb",
        "colab": {
          "base_uri": "https://localhost:8080/"
        }
      },
      "source": [
        "from fastai.vision.all import *\n",
        "from google.colab import drive\n",
        "\n",
        "import os "
      ],
      "execution_count": 3,
      "outputs": [
        {
          "output_type": "stream",
          "text": [
            "Mounted at /content/drive\n"
          ],
          "name": "stdout"
        }
      ]
    },
    {
      "cell_type": "code",
      "metadata": {
        "id": "4-pjxwwrgDYP"
      },
      "source": [
        "drive.mount('/content/drive')"
      ],
      "execution_count": null,
      "outputs": []
    },
    {
      "cell_type": "code",
      "metadata": {
        "id": "RXRkZ9qEfGpb"
      },
      "source": [
        "drive_path = c.drive_path\n",
        "\n",
        "model_dir = f\"{drive_path}/models\"\n",
        "model_name = \"resnet152_MRGHG_Demo1\"\n",
        "\n",
        "# Add a dummy label script to fool fastai into letting us import the model. \n",
        "# We're not going to train the model further, so this is fine. \n",
        "def getGhgsAsArr(img_path):\n",
        "  return np.array()\n",
        "\n",
        "model = load_learner(f\"{model_dir}/{model_name}.pkl\")"
      ],
      "execution_count": 4,
      "outputs": []
    },
    {
      "cell_type": "markdown",
      "metadata": {
        "id": "xua-CHprfZK4"
      },
      "source": [
        "## Testing"
      ]
    },
    {
      "cell_type": "markdown",
      "metadata": {
        "id": "kbeoskWgfcJD"
      },
      "source": [
        "### Plot error vs actual "
      ]
    },
    {
      "cell_type": "code",
      "metadata": {
        "id": "yDDu-x0VfYu7"
      },
      "source": [
        "# TODO record predictions and verify. Verify while running, or not?\n",
        "# Better be sure this works before you run it\n",
        "mod = 0 \n",
        "for filename in os.listdir(c.png_dir):\n",
        "  if len(getGhgs(filename)) == 0: continue\n",
        "  if mod % 1000 == 0:\n",
        "    print(f\"predicting {filename}\")\n",
        "    print(model.predict(f\"{c.png_dir}/{filename}\")[0])\n",
        "  mod += 1 \n",
        "\n"
      ],
      "execution_count": null,
      "outputs": []
    },
    {
      "cell_type": "markdown",
      "metadata": {
        "id": "9wOg6CkVfnnb"
      },
      "source": [
        "### Sample images vs predictions \n",
        "what regions are easier to predict than others? \n",
        "\n",
        "create accuracy heatmap "
      ]
    },
    {
      "cell_type": "code",
      "metadata": {
        "id": "udr8LN2Pfzg9"
      },
      "source": [
        ""
      ],
      "execution_count": null,
      "outputs": []
    },
    {
      "cell_type": "markdown",
      "metadata": {
        "id": "DfxyWGU-fwLW"
      },
      "source": [
        "### Activation Mapping"
      ]
    }
  ]
}