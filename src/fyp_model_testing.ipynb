{
  "nbformat": 4,
  "nbformat_minor": 0,
  "metadata": {
    "colab": {
      "name": "fyp_model_testing.ipynb",
      "provenance": [],
      "include_colab_link": true
    },
    "kernelspec": {
      "name": "python3",
      "display_name": "Python 3"
    }
  },
  "cells": [
    {
      "cell_type": "markdown",
      "metadata": {
        "id": "view-in-github",
        "colab_type": "text"
      },
      "source": [
        "<a href=\"https://colab.research.google.com/github/WRFitch/fyp/blob/main/src/fyp_model_testing.ipynb\" target=\"_parent\"><img src=\"https://colab.research.google.com/assets/colab-badge.svg\" alt=\"Open In Colab\"/></a>"
      ]
    },
    {
      "cell_type": "markdown",
      "metadata": {
        "id": "MlL01n7dexnl"
      },
      "source": [
        "# Testing\n",
        "A notebook for testing an exported model "
      ]
    },
    {
      "cell_type": "markdown",
      "metadata": {
        "id": "tQzTgaA5fWu8"
      },
      "source": [
        "## Setup"
      ]
    },
    {
      "cell_type": "markdown",
      "metadata": {
        "id": "1UDpJr3i-WS2"
      },
      "source": [
        "### Notebook Setup "
      ]
    },
    {
      "cell_type": "code",
      "metadata": {
        "id": "iX9MY-tjfCvL"
      },
      "source": [
        "!pip uninstall -y fastai\n",
        "!pip install -U --no-cache-dir fastai"
      ],
      "execution_count": null,
      "outputs": []
    },
    {
      "cell_type": "code",
      "metadata": {
        "id": "aW2I5siTPGba"
      },
      "source": [
        "%rm -rf /content/fyp/"
      ],
      "execution_count": 1,
      "outputs": []
    },
    {
      "cell_type": "code",
      "metadata": {
        "id": "XEZzGW0Xeuty"
      },
      "source": [
        "# Import fyputil library\n",
        "%cd /content\n",
        "!git clone https://github.com/WRFitch/fyp.git\n",
        "%cd fyp/src/fyputil\n",
        "import constants as c\n",
        "import fyp_utils as fyputil\n",
        "%cd /content"
      ],
      "execution_count": null,
      "outputs": []
    },
    {
      "cell_type": "code",
      "metadata": {
        "id": "BdaFWRYPe4Oc"
      },
      "source": [
        "from fastai.vision.all import *\n",
        "from google.colab import drive\n",
        "\n",
        "import os \n",
        "import pandas as pd\n",
        "\n",
        "drive.mount('/content/drive')\n",
        "drive_path = c.drive_path"
      ],
      "execution_count": null,
      "outputs": []
    },
    {
      "cell_type": "markdown",
      "metadata": {
        "id": "WKJFItks-ZXL"
      },
      "source": [
        "### Data Setup "
      ]
    },
    {
      "cell_type": "code",
      "metadata": {
        "id": "RXRkZ9qEfGpb"
      },
      "source": [
        "model_dir = f\"{drive_path}/models\"\n",
        "model_name = \"resnet152_MRGHG_Demo1\"\n",
        "\n",
        "# Add a dummy label script to fool fastai into letting us import the model. \n",
        "# We're not going to train the model further, so this is fine. \n",
        "def getGhgsAsArr(img_path):\n",
        "  return np.array()\n",
        "\n",
        "model = load_learner(f\"{c.model_dir}/{model_name}.pkl\")"
      ],
      "execution_count": 7,
      "outputs": []
    },
    {
      "cell_type": "code",
      "metadata": {
        "id": "E3_RyVgmj4LI",
        "outputId": "3aea6530-59b7-4c8d-e1c8-441696421658",
        "colab": {
          "base_uri": "https://localhost:8080/",
          "height": 461
        }
      },
      "source": [
        "ghg_df = pd.read_csv(c.ghg_csv)\n",
        "ghg_df = fyputil.normGhgDf(ghg_df)\n",
        "ghg_df"
      ],
      "execution_count": 10,
      "outputs": [
        {
          "output_type": "execute_result",
          "data": {
            "text/html": [
              "<div>\n",
              "<style scoped>\n",
              "    .dataframe tbody tr th:only-of-type {\n",
              "        vertical-align: middle;\n",
              "    }\n",
              "\n",
              "    .dataframe tbody tr th {\n",
              "        vertical-align: top;\n",
              "    }\n",
              "\n",
              "    .dataframe thead th {\n",
              "        text-align: right;\n",
              "    }\n",
              "</style>\n",
              "<table border=\"1\" class=\"dataframe\">\n",
              "  <thead>\n",
              "    <tr style=\"text-align: right;\">\n",
              "      <th></th>\n",
              "      <th>Unnamed: 0</th>\n",
              "      <th>system:index</th>\n",
              "      <th>SO2_column_number_density</th>\n",
              "      <th>longitude</th>\n",
              "      <th>latitude</th>\n",
              "      <th>CH4_column_volume_mixing_ratio_dry_air</th>\n",
              "      <th>CO_column_number_density</th>\n",
              "      <th>tropospheric_HCHO_column_number_density</th>\n",
              "      <th>tropospheric_NO2_column_number_density</th>\n",
              "      <th>O3_column_number_density</th>\n",
              "    </tr>\n",
              "  </thead>\n",
              "  <tbody>\n",
              "    <tr>\n",
              "      <th>0</th>\n",
              "      <td>134</td>\n",
              "      <td>0_134</td>\n",
              "      <td>2.672824</td>\n",
              "      <td>-0.795009</td>\n",
              "      <td>51.118631</td>\n",
              "      <td>1.846587</td>\n",
              "      <td>3.273310</td>\n",
              "      <td>4.340454</td>\n",
              "      <td>4.529627</td>\n",
              "      <td>1.435862</td>\n",
              "    </tr>\n",
              "    <tr>\n",
              "      <th>1</th>\n",
              "      <td>135</td>\n",
              "      <td>0_135</td>\n",
              "      <td>2.486536</td>\n",
              "      <td>-0.786026</td>\n",
              "      <td>51.118631</td>\n",
              "      <td>1.846299</td>\n",
              "      <td>3.270005</td>\n",
              "      <td>4.446930</td>\n",
              "      <td>4.546964</td>\n",
              "      <td>1.435798</td>\n",
              "    </tr>\n",
              "    <tr>\n",
              "      <th>2</th>\n",
              "      <td>136</td>\n",
              "      <td>0_136</td>\n",
              "      <td>2.740308</td>\n",
              "      <td>-0.777043</td>\n",
              "      <td>51.118631</td>\n",
              "      <td>1.845863</td>\n",
              "      <td>3.272315</td>\n",
              "      <td>4.323521</td>\n",
              "      <td>4.499055</td>\n",
              "      <td>1.435488</td>\n",
              "    </tr>\n",
              "    <tr>\n",
              "      <th>3</th>\n",
              "      <td>137</td>\n",
              "      <td>0_137</td>\n",
              "      <td>3.104459</td>\n",
              "      <td>-0.768060</td>\n",
              "      <td>51.118631</td>\n",
              "      <td>1.843941</td>\n",
              "      <td>3.271314</td>\n",
              "      <td>4.237725</td>\n",
              "      <td>4.479952</td>\n",
              "      <td>1.435175</td>\n",
              "    </tr>\n",
              "    <tr>\n",
              "      <th>4</th>\n",
              "      <td>138</td>\n",
              "      <td>0_138</td>\n",
              "      <td>3.176498</td>\n",
              "      <td>-0.759076</td>\n",
              "      <td>51.118631</td>\n",
              "      <td>1.845095</td>\n",
              "      <td>3.268939</td>\n",
              "      <td>4.456948</td>\n",
              "      <td>4.483478</td>\n",
              "      <td>1.435099</td>\n",
              "    </tr>\n",
              "    <tr>\n",
              "      <th>...</th>\n",
              "      <td>...</td>\n",
              "      <td>...</td>\n",
              "      <td>...</td>\n",
              "      <td>...</td>\n",
              "      <td>...</td>\n",
              "      <td>...</td>\n",
              "      <td>...</td>\n",
              "      <td>...</td>\n",
              "      <td>...</td>\n",
              "      <td>...</td>\n",
              "    </tr>\n",
              "    <tr>\n",
              "      <th>1881</th>\n",
              "      <td>4147</td>\n",
              "      <td>0_4147</td>\n",
              "      <td>2.313291</td>\n",
              "      <td>0.345851</td>\n",
              "      <td>51.379143</td>\n",
              "      <td>1.853428</td>\n",
              "      <td>3.295407</td>\n",
              "      <td>5.897296</td>\n",
              "      <td>5.975961</td>\n",
              "      <td>1.440403</td>\n",
              "    </tr>\n",
              "    <tr>\n",
              "      <th>1882</th>\n",
              "      <td>4148</td>\n",
              "      <td>0_4148</td>\n",
              "      <td>2.328240</td>\n",
              "      <td>0.354835</td>\n",
              "      <td>51.379143</td>\n",
              "      <td>1.858412</td>\n",
              "      <td>3.300101</td>\n",
              "      <td>5.582224</td>\n",
              "      <td>5.942072</td>\n",
              "      <td>1.440447</td>\n",
              "    </tr>\n",
              "    <tr>\n",
              "      <th>1883</th>\n",
              "      <td>4149</td>\n",
              "      <td>0_4149</td>\n",
              "      <td>2.456615</td>\n",
              "      <td>0.363818</td>\n",
              "      <td>51.379143</td>\n",
              "      <td>1.854189</td>\n",
              "      <td>3.314009</td>\n",
              "      <td>6.073959</td>\n",
              "      <td>5.988985</td>\n",
              "      <td>1.440476</td>\n",
              "    </tr>\n",
              "    <tr>\n",
              "      <th>1884</th>\n",
              "      <td>4150</td>\n",
              "      <td>0_4150</td>\n",
              "      <td>2.675886</td>\n",
              "      <td>0.372801</td>\n",
              "      <td>51.379143</td>\n",
              "      <td>1.854189</td>\n",
              "      <td>3.309340</td>\n",
              "      <td>6.224904</td>\n",
              "      <td>5.922944</td>\n",
              "      <td>1.440376</td>\n",
              "    </tr>\n",
              "    <tr>\n",
              "      <th>1885</th>\n",
              "      <td>4151</td>\n",
              "      <td>0_4151</td>\n",
              "      <td>2.731073</td>\n",
              "      <td>0.381784</td>\n",
              "      <td>51.379143</td>\n",
              "      <td>1.851530</td>\n",
              "      <td>3.312932</td>\n",
              "      <td>6.298232</td>\n",
              "      <td>5.882687</td>\n",
              "      <td>1.440371</td>\n",
              "    </tr>\n",
              "  </tbody>\n",
              "</table>\n",
              "<p>1886 rows × 10 columns</p>\n",
              "</div>"
            ],
            "text/plain": [
              "      Unnamed: 0  ... O3_column_number_density\n",
              "0            134  ...                 1.435862\n",
              "1            135  ...                 1.435798\n",
              "2            136  ...                 1.435488\n",
              "3            137  ...                 1.435175\n",
              "4            138  ...                 1.435099\n",
              "...          ...  ...                      ...\n",
              "1881        4147  ...                 1.440403\n",
              "1882        4148  ...                 1.440447\n",
              "1883        4149  ...                 1.440476\n",
              "1884        4150  ...                 1.440376\n",
              "1885        4151  ...                 1.440371\n",
              "\n",
              "[1886 rows x 10 columns]"
            ]
          },
          "metadata": {
            "tags": []
          },
          "execution_count": 10
        }
      ]
    },
    {
      "cell_type": "code",
      "metadata": {
        "id": "QL1qYQplBqaI",
        "outputId": "672ef4a4-dc35-4977-b5f9-b478d9c07b9e",
        "colab": {
          "base_uri": "https://localhost:8080/",
          "height": 69
        }
      },
      "source": [
        "err_headers = [c.lon, c.lat] + c.ghg_bands\n",
        "errors = pd.DataFrame(columns = err_headers)\n",
        "errors.iloc[0:1]"
      ],
      "execution_count": 11,
      "outputs": [
        {
          "output_type": "execute_result",
          "data": {
            "text/html": [
              "<div>\n",
              "<style scoped>\n",
              "    .dataframe tbody tr th:only-of-type {\n",
              "        vertical-align: middle;\n",
              "    }\n",
              "\n",
              "    .dataframe tbody tr th {\n",
              "        vertical-align: top;\n",
              "    }\n",
              "\n",
              "    .dataframe thead th {\n",
              "        text-align: right;\n",
              "    }\n",
              "</style>\n",
              "<table border=\"1\" class=\"dataframe\">\n",
              "  <thead>\n",
              "    <tr style=\"text-align: right;\">\n",
              "      <th></th>\n",
              "      <th>longitude</th>\n",
              "      <th>latitude</th>\n",
              "      <th>CO_column_number_density</th>\n",
              "      <th>tropospheric_HCHO_column_number_density</th>\n",
              "      <th>tropospheric_NO2_column_number_density</th>\n",
              "      <th>O3_column_number_density</th>\n",
              "      <th>SO2_column_number_density</th>\n",
              "      <th>CH4_column_volume_mixing_ratio_dry_air</th>\n",
              "    </tr>\n",
              "  </thead>\n",
              "  <tbody>\n",
              "  </tbody>\n",
              "</table>\n",
              "</div>"
            ],
            "text/plain": [
              "Empty DataFrame\n",
              "Columns: [longitude, latitude, CO_column_number_density, tropospheric_HCHO_column_number_density, tropospheric_NO2_column_number_density, O3_column_number_density, SO2_column_number_density, CH4_column_volume_mixing_ratio_dry_air]\n",
              "Index: []"
            ]
          },
          "metadata": {
            "tags": []
          },
          "execution_count": 11
        }
      ]
    },
    {
      "cell_type": "markdown",
      "metadata": {
        "id": "xua-CHprfZK4"
      },
      "source": [
        "## Testing"
      ]
    },
    {
      "cell_type": "markdown",
      "metadata": {
        "id": "kbeoskWgfcJD"
      },
      "source": [
        "### Plot error vs actual "
      ]
    },
    {
      "cell_type": "code",
      "metadata": {
        "id": "yDDu-x0VfYu7"
      },
      "source": [
        "mod = 0 \n",
        "\n",
        "for filename in os.listdir(c.png_dir):\n",
        "  if len(getGhgs(filename)) == 0: continue\n",
        "  if mod % 1000 == 0:\n",
        "    print(f\"predicting {filename}\")\n",
        "    prediction = model.predict(f\"{c.png_dir}/{filename}\")[0]\n",
        "    df_row = \n",
        "  mod += 1 \n",
        "\n"
      ],
      "execution_count": null,
      "outputs": []
    },
    {
      "cell_type": "markdown",
      "metadata": {
        "id": "9wOg6CkVfnnb"
      },
      "source": [
        "### Sample images vs predictions \n",
        "what regions are easier to predict than others? \n",
        "\n",
        "create accuracy heatmap "
      ]
    },
    {
      "cell_type": "code",
      "metadata": {
        "id": "udr8LN2Pfzg9"
      },
      "source": [
        ""
      ],
      "execution_count": null,
      "outputs": []
    },
    {
      "cell_type": "markdown",
      "metadata": {
        "id": "DfxyWGU-fwLW"
      },
      "source": [
        "### Activation Mapping"
      ]
    }
  ]
}