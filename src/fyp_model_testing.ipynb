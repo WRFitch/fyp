{
  "nbformat": 4,
  "nbformat_minor": 0,
  "metadata": {
    "colab": {
      "name": "fyp_model_testing.ipynb",
      "provenance": [],
      "include_colab_link": true
    },
    "kernelspec": {
      "name": "python3",
      "display_name": "Python 3"
    }
  },
  "cells": [
    {
      "cell_type": "markdown",
      "metadata": {
        "id": "view-in-github",
        "colab_type": "text"
      },
      "source": [
        "<a href=\"https://colab.research.google.com/github/WRFitch/fyp/blob/main/src/fyp_model_testing.ipynb\" target=\"_parent\"><img src=\"https://colab.research.google.com/assets/colab-badge.svg\" alt=\"Open In Colab\"/></a>"
      ]
    },
    {
      "cell_type": "markdown",
      "metadata": {
        "id": "MlL01n7dexnl"
      },
      "source": [
        "# Testing\n",
        "A notebook for testing an exported model. Ideally, this can be considered a part of a model evaluation pipeline, in which a model can be evaluated in greater depth. "
      ]
    },
    {
      "cell_type": "markdown",
      "metadata": {
        "id": "tQzTgaA5fWu8"
      },
      "source": [
        "## Setup"
      ]
    },
    {
      "cell_type": "markdown",
      "metadata": {
        "id": "1UDpJr3i-WS2"
      },
      "source": [
        "### Notebook Setup "
      ]
    },
    {
      "cell_type": "code",
      "metadata": {
        "id": "iX9MY-tjfCvL"
      },
      "source": [
        "!pip uninstall -y fastai\n",
        "!pip install -U --no-cache-dir fastai"
      ],
      "execution_count": null,
      "outputs": []
    },
    {
      "cell_type": "code",
      "metadata": {
        "id": "BdaFWRYPe4Oc"
      },
      "source": [
        "from fastai.vision.all import *\n",
        "from google.colab import drive\n",
        "#from scipy import stats\n",
        "from sklearn.metrics import mean_squared_error\n",
        "\n",
        "import numpy as np \n",
        "import os \n",
        "import pandas as pd\n",
        "\n",
        "drive.mount('/content/drive')"
      ],
      "execution_count": null,
      "outputs": []
    },
    {
      "cell_type": "code",
      "metadata": {
        "id": "aW2I5siTPGba"
      },
      "source": [
        "%rm -rf /content/fyp/"
      ],
      "execution_count": null,
      "outputs": []
    },
    {
      "cell_type": "code",
      "metadata": {
        "id": "XEZzGW0Xeuty",
        "colab": {
          "base_uri": "https://localhost:8080/"
        },
        "outputId": "4ccdf8f9-5670-4ef7-9173-18c656cb2d1f"
      },
      "source": [
        "# Import fyputil library\n",
        "%cd /content\n",
        "!git clone https://github.com/WRFitch/fyp.git\n",
        "%cd fyp/src/fyputil\n",
        "import constants as c\n",
        "import fyp_utils as fyputil\n",
        "%cd /content"
      ],
      "execution_count": 2,
      "outputs": [
        {
          "output_type": "stream",
          "text": [
            "/content\n",
            "Cloning into 'fyp'...\n",
            "remote: Enumerating objects: 342, done.\u001b[K\n",
            "remote: Counting objects: 100% (342/342), done.\u001b[K\n",
            "remote: Compressing objects: 100% (283/283), done.\u001b[K\n",
            "remote: Total 854 (delta 222), reused 109 (delta 59), pack-reused 512\n",
            "Receiving objects: 100% (854/854), 146.08 MiB | 36.04 MiB/s, done.\n",
            "Resolving deltas: 100% (477/477), done.\n",
            "/content/fyp/src/fyputil\n",
            "/content\n"
          ],
          "name": "stdout"
        }
      ]
    },
    {
      "cell_type": "markdown",
      "metadata": {
        "id": "WKJFItks-ZXL"
      },
      "source": [
        "### Data Setup "
      ]
    },
    {
      "cell_type": "code",
      "metadata": {
        "id": "RXRkZ9qEfGpb"
      },
      "source": [
        "# Add a dummy label script to fool fastai into letting us import the model. \n",
        "# We're not going to train the model further, so this is fine. \n",
        "def getGhgsAsArr(img_path):\n",
        "  return np.array()\n",
        "\n",
        "model = load_learner(f\"{c.model_dir}/mrghg_fullnorm.pkl\")\n",
        "\n",
        "def normGhgDf(ghg_df):\n",
        "  for band in c.ghg_bands:\n",
        "    max = ghg_df[band].max()\n",
        "    min = ghg_df[band].min()\n",
        "    ghg_df[band] = ghg_df[band].apply(lambda x: (x-min)/(max-min) * 100)\n",
        "  return ghg_df\n"
      ],
      "execution_count": 6,
      "outputs": []
    },
    {
      "cell_type": "code",
      "metadata": {
        "colab": {
          "base_uri": "https://localhost:8080/",
          "height": 461
        },
        "id": "E3_RyVgmj4LI",
        "outputId": "84025127-aa7c-40c7-d417-11eccdf416d6"
      },
      "source": [
        "ghg_df = pd.read_csv(c.ghg_csv)\n",
        "ghg_df = normGhgDf(ghg_df)\n",
        "ghg_df"
      ],
      "execution_count": 7,
      "outputs": [
        {
          "output_type": "execute_result",
          "data": {
            "text/html": [
              "<div>\n",
              "<style scoped>\n",
              "    .dataframe tbody tr th:only-of-type {\n",
              "        vertical-align: middle;\n",
              "    }\n",
              "\n",
              "    .dataframe tbody tr th {\n",
              "        vertical-align: top;\n",
              "    }\n",
              "\n",
              "    .dataframe thead th {\n",
              "        text-align: right;\n",
              "    }\n",
              "</style>\n",
              "<table border=\"1\" class=\"dataframe\">\n",
              "  <thead>\n",
              "    <tr style=\"text-align: right;\">\n",
              "      <th></th>\n",
              "      <th>Unnamed: 0</th>\n",
              "      <th>system:index</th>\n",
              "      <th>SO2_column_number_density</th>\n",
              "      <th>longitude</th>\n",
              "      <th>latitude</th>\n",
              "      <th>CH4_column_volume_mixing_ratio_dry_air</th>\n",
              "      <th>CO_column_number_density</th>\n",
              "      <th>tropospheric_HCHO_column_number_density</th>\n",
              "      <th>tropospheric_NO2_column_number_density</th>\n",
              "      <th>O3_column_number_density</th>\n",
              "    </tr>\n",
              "  </thead>\n",
              "  <tbody>\n",
              "    <tr>\n",
              "      <th>0</th>\n",
              "      <td>134</td>\n",
              "      <td>0_134</td>\n",
              "      <td>37.059645</td>\n",
              "      <td>-0.795009</td>\n",
              "      <td>51.118631</td>\n",
              "      <td>19.607470</td>\n",
              "      <td>33.377361</td>\n",
              "      <td>6.603347</td>\n",
              "      <td>4.773004</td>\n",
              "      <td>15.388263</td>\n",
              "    </tr>\n",
              "    <tr>\n",
              "      <th>1</th>\n",
              "      <td>135</td>\n",
              "      <td>0_135</td>\n",
              "      <td>32.874369</td>\n",
              "      <td>-0.786026</td>\n",
              "      <td>51.118631</td>\n",
              "      <td>18.383528</td>\n",
              "      <td>30.641076</td>\n",
              "      <td>8.903884</td>\n",
              "      <td>5.345012</td>\n",
              "      <td>14.434940</td>\n",
              "    </tr>\n",
              "    <tr>\n",
              "      <th>2</th>\n",
              "      <td>136</td>\n",
              "      <td>0_136</td>\n",
              "      <td>38.575800</td>\n",
              "      <td>-0.777043</td>\n",
              "      <td>51.118631</td>\n",
              "      <td>16.526009</td>\n",
              "      <td>32.553934</td>\n",
              "      <td>6.237494</td>\n",
              "      <td>3.764341</td>\n",
              "      <td>9.809938</td>\n",
              "    </tr>\n",
              "    <tr>\n",
              "      <th>3</th>\n",
              "      <td>137</td>\n",
              "      <td>0_137</td>\n",
              "      <td>46.757106</td>\n",
              "      <td>-0.768060</td>\n",
              "      <td>51.118631</td>\n",
              "      <td>8.346549</td>\n",
              "      <td>31.724441</td>\n",
              "      <td>4.383772</td>\n",
              "      <td>3.134054</td>\n",
              "      <td>5.152530</td>\n",
              "    </tr>\n",
              "    <tr>\n",
              "      <th>4</th>\n",
              "      <td>138</td>\n",
              "      <td>0_138</td>\n",
              "      <td>48.375586</td>\n",
              "      <td>-0.759076</td>\n",
              "      <td>51.118631</td>\n",
              "      <td>13.259975</td>\n",
              "      <td>29.757876</td>\n",
              "      <td>9.120335</td>\n",
              "      <td>3.250394</td>\n",
              "      <td>4.019683</td>\n",
              "    </tr>\n",
              "    <tr>\n",
              "      <th>...</th>\n",
              "      <td>...</td>\n",
              "      <td>...</td>\n",
              "      <td>...</td>\n",
              "      <td>...</td>\n",
              "      <td>...</td>\n",
              "      <td>...</td>\n",
              "      <td>...</td>\n",
              "      <td>...</td>\n",
              "      <td>...</td>\n",
              "      <td>...</td>\n",
              "    </tr>\n",
              "    <tr>\n",
              "      <th>1881</th>\n",
              "      <td>4147</td>\n",
              "      <td>0_4147</td>\n",
              "      <td>28.982110</td>\n",
              "      <td>0.345851</td>\n",
              "      <td>51.379143</td>\n",
              "      <td>48.730023</td>\n",
              "      <td>51.676159</td>\n",
              "      <td>40.240712</td>\n",
              "      <td>52.492478</td>\n",
              "      <td>82.988492</td>\n",
              "    </tr>\n",
              "    <tr>\n",
              "      <th>1882</th>\n",
              "      <td>4148</td>\n",
              "      <td>0_4148</td>\n",
              "      <td>29.317961</td>\n",
              "      <td>0.354835</td>\n",
              "      <td>51.379143</td>\n",
              "      <td>69.944322</td>\n",
              "      <td>55.563051</td>\n",
              "      <td>33.433213</td>\n",
              "      <td>51.374351</td>\n",
              "      <td>83.640236</td>\n",
              "    </tr>\n",
              "    <tr>\n",
              "      <th>1883</th>\n",
              "      <td>4149</td>\n",
              "      <td>0_4149</td>\n",
              "      <td>32.202132</td>\n",
              "      <td>0.363818</td>\n",
              "      <td>51.379143</td>\n",
              "      <td>51.965457</td>\n",
              "      <td>67.081132</td>\n",
              "      <td>44.057710</td>\n",
              "      <td>52.922176</td>\n",
              "      <td>84.070751</td>\n",
              "    </tr>\n",
              "    <tr>\n",
              "      <th>1884</th>\n",
              "      <td>4150</td>\n",
              "      <td>0_4150</td>\n",
              "      <td>37.128438</td>\n",
              "      <td>0.372801</td>\n",
              "      <td>51.379143</td>\n",
              "      <td>51.965438</td>\n",
              "      <td>63.214312</td>\n",
              "      <td>47.319044</td>\n",
              "      <td>50.743240</td>\n",
              "      <td>82.580199</td>\n",
              "    </tr>\n",
              "    <tr>\n",
              "      <th>1885</th>\n",
              "      <td>4151</td>\n",
              "      <td>0_4151</td>\n",
              "      <td>38.368322</td>\n",
              "      <td>0.381784</td>\n",
              "      <td>51.379143</td>\n",
              "      <td>40.647575</td>\n",
              "      <td>66.189164</td>\n",
              "      <td>48.903393</td>\n",
              "      <td>49.415050</td>\n",
              "      <td>82.508419</td>\n",
              "    </tr>\n",
              "  </tbody>\n",
              "</table>\n",
              "<p>1886 rows × 10 columns</p>\n",
              "</div>"
            ],
            "text/plain": [
              "      Unnamed: 0  ... O3_column_number_density\n",
              "0            134  ...                15.388263\n",
              "1            135  ...                14.434940\n",
              "2            136  ...                 9.809938\n",
              "3            137  ...                 5.152530\n",
              "4            138  ...                 4.019683\n",
              "...          ...  ...                      ...\n",
              "1881        4147  ...                82.988492\n",
              "1882        4148  ...                83.640236\n",
              "1883        4149  ...                84.070751\n",
              "1884        4150  ...                82.580199\n",
              "1885        4151  ...                82.508419\n",
              "\n",
              "[1886 rows x 10 columns]"
            ]
          },
          "metadata": {
            "tags": []
          },
          "execution_count": 7
        }
      ]
    },
    {
      "cell_type": "code",
      "metadata": {
        "id": "QL1qYQplBqaI",
        "colab": {
          "base_uri": "https://localhost:8080/",
          "height": 69
        },
        "outputId": "435b877e-4e6d-4bb0-8efa-ad357ba9d7e4"
      },
      "source": [
        "err_headers = [c.lon, c.lat] + c.ghg_bands\n",
        "errors = pd.DataFrame(columns = err_headers)\n",
        "errors.iloc[0:1]"
      ],
      "execution_count": 34,
      "outputs": [
        {
          "output_type": "execute_result",
          "data": {
            "text/html": [
              "<div>\n",
              "<style scoped>\n",
              "    .dataframe tbody tr th:only-of-type {\n",
              "        vertical-align: middle;\n",
              "    }\n",
              "\n",
              "    .dataframe tbody tr th {\n",
              "        vertical-align: top;\n",
              "    }\n",
              "\n",
              "    .dataframe thead th {\n",
              "        text-align: right;\n",
              "    }\n",
              "</style>\n",
              "<table border=\"1\" class=\"dataframe\">\n",
              "  <thead>\n",
              "    <tr style=\"text-align: right;\">\n",
              "      <th></th>\n",
              "      <th>longitude</th>\n",
              "      <th>latitude</th>\n",
              "      <th>CO_column_number_density</th>\n",
              "      <th>tropospheric_HCHO_column_number_density</th>\n",
              "      <th>tropospheric_NO2_column_number_density</th>\n",
              "      <th>O3_column_number_density</th>\n",
              "      <th>SO2_column_number_density</th>\n",
              "      <th>CH4_column_volume_mixing_ratio_dry_air</th>\n",
              "    </tr>\n",
              "  </thead>\n",
              "  <tbody>\n",
              "  </tbody>\n",
              "</table>\n",
              "</div>"
            ],
            "text/plain": [
              "Empty DataFrame\n",
              "Columns: [longitude, latitude, CO_column_number_density, tropospheric_HCHO_column_number_density, tropospheric_NO2_column_number_density, O3_column_number_density, SO2_column_number_density, CH4_column_volume_mixing_ratio_dry_air]\n",
              "Index: []"
            ]
          },
          "metadata": {
            "tags": []
          },
          "execution_count": 34
        }
      ]
    },
    {
      "cell_type": "markdown",
      "metadata": {
        "id": "xua-CHprfZK4"
      },
      "source": [
        "## Testing"
      ]
    },
    {
      "cell_type": "markdown",
      "metadata": {
        "id": "kbeoskWgfcJD"
      },
      "source": [
        "### Test model against existing data "
      ]
    },
    {
      "cell_type": "code",
      "metadata": {
        "id": "z_H7QU3HLdMG",
        "colab": {
          "base_uri": "https://localhost:8080/"
        },
        "outputId": "938decca-3858-46eb-9566-cee956f6866e"
      },
      "source": [
        "print(c.ghg_bands)\n",
        "\n",
        "# TODO replace with fyputil, OR re-implement to keep any failed measurements and\n",
        "# evaluate what you can out of them. Just because they're incomplete, that \n",
        "# doesn't necessarily make them worthless \n",
        "def getGhgs(img_path, df): \n",
        "  coords = fyputil.getCoords(str(img_path))\n",
        "  ghgs = fyputil.getValAt(coords, df)\n",
        "  concentrations = ghgs[c.ghg_bands]\n",
        "  if len(concentrations) == 0 : return None \n",
        "  if None in concentrations: return None\n",
        "  # There has to be a cleaner way to do this. Iterating through and then only getting the first line? really? \n",
        "  return [tuple(x) for x in concentrations.to_numpy()][0]"
      ],
      "execution_count": 9,
      "outputs": [
        {
          "output_type": "stream",
          "text": [
            "['CO_column_number_density', 'tropospheric_HCHO_column_number_density', 'tropospheric_NO2_column_number_density', 'O3_column_number_density', 'SO2_column_number_density', 'CH4_column_volume_mixing_ratio_dry_air']\n"
          ],
          "name": "stdout"
        }
      ]
    },
    {
      "cell_type": "code",
      "metadata": {
        "id": "yDDu-x0VfYu7"
      },
      "source": [
        "# Dumb & easy method of splitting data so I don't have to analyse every image \n",
        "# every time I want to smell test something. \n",
        "mod = 0 \n",
        "\n",
        "for filename in os.listdir(c.png_dir):\n",
        "  file_ghgs = getGhgs(filename, ghg_df)\n",
        "  if file_ghgs == None: continue\n",
        "  if mod % 1 == 0:\n",
        "    print(f\"predicting ghg gases at {filename}\")\n",
        "    coords = fyputil.getCoords(filename) \n",
        "    prediction = model.predict(f\"{c.png_dir}/{filename}\")[0]\n",
        "\n",
        "    diffs = [pred - act for pred, act in zip(prediction, file_ghgs)]\n",
        "    errors.loc[len(errors)] = list(coords) + diffs\n",
        "\n",
        "    print(tuple(coords))\n",
        "    print(prediction)\n",
        "    print(file_ghgs)\n",
        "    print(diffs)\n",
        "    print()\n",
        "  mod += 1 \n",
        "\n"
      ],
      "execution_count": null,
      "outputs": []
    },
    {
      "cell_type": "code",
      "metadata": {
        "id": "FH5j7du6U1ya",
        "colab": {
          "base_uri": "https://localhost:8080/",
          "height": 444
        },
        "outputId": "110f12eb-b3a6-4d4d-938a-669d51655a68"
      },
      "source": [
        "errors "
      ],
      "execution_count": 36,
      "outputs": [
        {
          "output_type": "execute_result",
          "data": {
            "text/html": [
              "<div>\n",
              "<style scoped>\n",
              "    .dataframe tbody tr th:only-of-type {\n",
              "        vertical-align: middle;\n",
              "    }\n",
              "\n",
              "    .dataframe tbody tr th {\n",
              "        vertical-align: top;\n",
              "    }\n",
              "\n",
              "    .dataframe thead th {\n",
              "        text-align: right;\n",
              "    }\n",
              "</style>\n",
              "<table border=\"1\" class=\"dataframe\">\n",
              "  <thead>\n",
              "    <tr style=\"text-align: right;\">\n",
              "      <th></th>\n",
              "      <th>longitude</th>\n",
              "      <th>latitude</th>\n",
              "      <th>CO_column_number_density</th>\n",
              "      <th>tropospheric_HCHO_column_number_density</th>\n",
              "      <th>tropospheric_NO2_column_number_density</th>\n",
              "      <th>O3_column_number_density</th>\n",
              "      <th>SO2_column_number_density</th>\n",
              "      <th>CH4_column_volume_mixing_ratio_dry_air</th>\n",
              "    </tr>\n",
              "  </thead>\n",
              "  <tbody>\n",
              "    <tr>\n",
              "      <th>0</th>\n",
              "      <td>-0.786026</td>\n",
              "      <td>51.343210</td>\n",
              "      <td>34.780681</td>\n",
              "      <td>0.495471</td>\n",
              "      <td>-7.229596</td>\n",
              "      <td>20.276040</td>\n",
              "      <td>-24.275605</td>\n",
              "      <td>30.521075</td>\n",
              "    </tr>\n",
              "    <tr>\n",
              "      <th>1</th>\n",
              "      <td>-0.768060</td>\n",
              "      <td>51.343210</td>\n",
              "      <td>18.567693</td>\n",
              "      <td>8.349823</td>\n",
              "      <td>-10.631210</td>\n",
              "      <td>15.994145</td>\n",
              "      <td>-12.403878</td>\n",
              "      <td>23.564330</td>\n",
              "    </tr>\n",
              "    <tr>\n",
              "      <th>2</th>\n",
              "      <td>-0.777043</td>\n",
              "      <td>51.343210</td>\n",
              "      <td>25.598599</td>\n",
              "      <td>7.999066</td>\n",
              "      <td>-4.569027</td>\n",
              "      <td>13.191092</td>\n",
              "      <td>-10.798261</td>\n",
              "      <td>21.261308</td>\n",
              "    </tr>\n",
              "    <tr>\n",
              "      <th>3</th>\n",
              "      <td>-0.759076</td>\n",
              "      <td>51.343210</td>\n",
              "      <td>7.220048</td>\n",
              "      <td>-12.330770</td>\n",
              "      <td>-21.044270</td>\n",
              "      <td>8.821175</td>\n",
              "      <td>-12.813489</td>\n",
              "      <td>22.255440</td>\n",
              "    </tr>\n",
              "    <tr>\n",
              "      <th>4</th>\n",
              "      <td>-0.750093</td>\n",
              "      <td>51.343210</td>\n",
              "      <td>7.745313</td>\n",
              "      <td>-10.422311</td>\n",
              "      <td>-13.748740</td>\n",
              "      <td>11.150787</td>\n",
              "      <td>-13.707040</td>\n",
              "      <td>21.718842</td>\n",
              "    </tr>\n",
              "    <tr>\n",
              "      <th>...</th>\n",
              "      <td>...</td>\n",
              "      <td>...</td>\n",
              "      <td>...</td>\n",
              "      <td>...</td>\n",
              "      <td>...</td>\n",
              "      <td>...</td>\n",
              "      <td>...</td>\n",
              "      <td>...</td>\n",
              "    </tr>\n",
              "    <tr>\n",
              "      <th>1881</th>\n",
              "      <td>0.318902</td>\n",
              "      <td>51.262362</td>\n",
              "      <td>12.501120</td>\n",
              "      <td>7.305895</td>\n",
              "      <td>5.545148</td>\n",
              "      <td>10.271046</td>\n",
              "      <td>-5.276064</td>\n",
              "      <td>-0.754419</td>\n",
              "    </tr>\n",
              "    <tr>\n",
              "      <th>1882</th>\n",
              "      <td>0.354835</td>\n",
              "      <td>51.262362</td>\n",
              "      <td>-17.864182</td>\n",
              "      <td>6.350734</td>\n",
              "      <td>-13.088325</td>\n",
              "      <td>-0.281496</td>\n",
              "      <td>-6.758601</td>\n",
              "      <td>-18.298079</td>\n",
              "    </tr>\n",
              "    <tr>\n",
              "      <th>1883</th>\n",
              "      <td>0.372801</td>\n",
              "      <td>51.262362</td>\n",
              "      <td>-11.512303</td>\n",
              "      <td>5.440105</td>\n",
              "      <td>-5.175598</td>\n",
              "      <td>0.691628</td>\n",
              "      <td>-7.021751</td>\n",
              "      <td>-17.442688</td>\n",
              "    </tr>\n",
              "    <tr>\n",
              "      <th>1884</th>\n",
              "      <td>0.363818</td>\n",
              "      <td>51.262362</td>\n",
              "      <td>-6.594223</td>\n",
              "      <td>15.546702</td>\n",
              "      <td>-13.917822</td>\n",
              "      <td>1.496015</td>\n",
              "      <td>-1.525621</td>\n",
              "      <td>-14.212026</td>\n",
              "    </tr>\n",
              "    <tr>\n",
              "      <th>1885</th>\n",
              "      <td>0.381784</td>\n",
              "      <td>51.262362</td>\n",
              "      <td>-3.626979</td>\n",
              "      <td>-0.978120</td>\n",
              "      <td>-4.491377</td>\n",
              "      <td>-0.074919</td>\n",
              "      <td>-10.504452</td>\n",
              "      <td>-12.687042</td>\n",
              "    </tr>\n",
              "  </tbody>\n",
              "</table>\n",
              "<p>1886 rows × 8 columns</p>\n",
              "</div>"
            ],
            "text/plain": [
              "      longitude  ...  CH4_column_volume_mixing_ratio_dry_air\n",
              "0     -0.786026  ...                               30.521075\n",
              "1     -0.768060  ...                               23.564330\n",
              "2     -0.777043  ...                               21.261308\n",
              "3     -0.759076  ...                               22.255440\n",
              "4     -0.750093  ...                               21.718842\n",
              "...         ...  ...                                     ...\n",
              "1881   0.318902  ...                               -0.754419\n",
              "1882   0.354835  ...                              -18.298079\n",
              "1883   0.372801  ...                              -17.442688\n",
              "1884   0.363818  ...                              -14.212026\n",
              "1885   0.381784  ...                              -12.687042\n",
              "\n",
              "[1886 rows x 8 columns]"
            ]
          },
          "metadata": {
            "tags": []
          },
          "execution_count": 36
        }
      ]
    },
    {
      "cell_type": "code",
      "metadata": {
        "id": "ZXREDvXdRjRX"
      },
      "source": [
        "errors.to_csv(f\"{c.data_dir}/errors_norm.csv\")"
      ],
      "execution_count": 53,
      "outputs": []
    },
    {
      "cell_type": "markdown",
      "metadata": {
        "id": "aCykJTyevfYZ"
      },
      "source": [
        "### Basic stat testing \n",
        "- Data exploration \n",
        "- RMSE per GHG\n",
        "- Extract outliers & view images "
      ]
    },
    {
      "cell_type": "code",
      "metadata": {
        "id": "66_W65n-veuU"
      },
      "source": [
        "errors = pd.read_csv(f\"{c.data_dir}/errors_norm.csv\")"
      ],
      "execution_count": null,
      "outputs": []
    },
    {
      "cell_type": "code",
      "metadata": {
        "id": "1SzWvBN-0u8I"
      },
      "source": [
        "model_stats = pd.DataFrame(columns = [\"stat\"] + c.ghg_bands)"
      ],
      "execution_count": 38,
      "outputs": []
    },
    {
      "cell_type": "code",
      "metadata": {
        "id": "Ychfb1HGCE_0"
      },
      "source": [
        "def getRmse(series): \n",
        "  return np.sqrt(np.mean(series**2))"
      ],
      "execution_count": 13,
      "outputs": []
    },
    {
      "cell_type": "code",
      "metadata": {
        "id": "flkVCRb-wghu"
      },
      "source": [
        "# Define aggregate metrics \n",
        "# TODO remove multiple iterations through errors, improve bigO \n",
        "means = [errors[ghg].mean() for ghg in c.ghg_bands ]\n",
        "stdevs = [errors[ghg].std() for ghg in c.ghg_bands ]\n",
        "rmse = [getRmse(errors[ghg]) for ghg in c.ghg_bands ]\n",
        "mae = [errors[ghg].abs().mean() for ghg in c.ghg_bands ]\n",
        "\n",
        "model_stats.loc[1] = [\"Mean\"] + means\n",
        "model_stats.loc[2] = [\"Standard Deviation\"] + stdevs \n",
        "model_stats.loc[3] = [\"RMSE\"] + rmse\n",
        "model_stats.loc[4] = [\"MAE\"] + mae"
      ],
      "execution_count": 40,
      "outputs": []
    },
    {
      "cell_type": "code",
      "metadata": {
        "id": "sUT_KzHcJPsA",
        "colab": {
          "base_uri": "https://localhost:8080/",
          "height": 192
        },
        "outputId": "f5b6a4ff-c0f3-42d5-f83a-e2365db15aa6"
      },
      "source": [
        "model_stats"
      ],
      "execution_count": 41,
      "outputs": [
        {
          "output_type": "execute_result",
          "data": {
            "text/html": [
              "<div>\n",
              "<style scoped>\n",
              "    .dataframe tbody tr th:only-of-type {\n",
              "        vertical-align: middle;\n",
              "    }\n",
              "\n",
              "    .dataframe tbody tr th {\n",
              "        vertical-align: top;\n",
              "    }\n",
              "\n",
              "    .dataframe thead th {\n",
              "        text-align: right;\n",
              "    }\n",
              "</style>\n",
              "<table border=\"1\" class=\"dataframe\">\n",
              "  <thead>\n",
              "    <tr style=\"text-align: right;\">\n",
              "      <th></th>\n",
              "      <th>stat</th>\n",
              "      <th>CO_column_number_density</th>\n",
              "      <th>tropospheric_HCHO_column_number_density</th>\n",
              "      <th>tropospheric_NO2_column_number_density</th>\n",
              "      <th>O3_column_number_density</th>\n",
              "      <th>SO2_column_number_density</th>\n",
              "      <th>CH4_column_volume_mixing_ratio_dry_air</th>\n",
              "    </tr>\n",
              "  </thead>\n",
              "  <tbody>\n",
              "    <tr>\n",
              "      <th>1</th>\n",
              "      <td>Mean</td>\n",
              "      <td>-0.401066</td>\n",
              "      <td>-0.225506</td>\n",
              "      <td>-1.252926</td>\n",
              "      <td>0.867189</td>\n",
              "      <td>0.756036</td>\n",
              "      <td>-1.342584</td>\n",
              "    </tr>\n",
              "    <tr>\n",
              "      <th>2</th>\n",
              "      <td>Standard Deviation</td>\n",
              "      <td>15.109546</td>\n",
              "      <td>16.993505</td>\n",
              "      <td>16.255879</td>\n",
              "      <td>14.428115</td>\n",
              "      <td>16.041854</td>\n",
              "      <td>14.710859</td>\n",
              "    </tr>\n",
              "    <tr>\n",
              "      <th>3</th>\n",
              "      <td>RMSE</td>\n",
              "      <td>15.110863</td>\n",
              "      <td>16.990496</td>\n",
              "      <td>16.299795</td>\n",
              "      <td>14.450333</td>\n",
              "      <td>16.055411</td>\n",
              "      <td>14.768113</td>\n",
              "    </tr>\n",
              "    <tr>\n",
              "      <th>4</th>\n",
              "      <td>MAE</td>\n",
              "      <td>11.774294</td>\n",
              "      <td>13.157876</td>\n",
              "      <td>12.878742</td>\n",
              "      <td>10.546847</td>\n",
              "      <td>12.489943</td>\n",
              "      <td>11.338034</td>\n",
              "    </tr>\n",
              "  </tbody>\n",
              "</table>\n",
              "</div>"
            ],
            "text/plain": [
              "                 stat  ...  CH4_column_volume_mixing_ratio_dry_air\n",
              "1                Mean  ...                               -1.342584\n",
              "2  Standard Deviation  ...                               14.710859\n",
              "3                RMSE  ...                               14.768113\n",
              "4                 MAE  ...                               11.338034\n",
              "\n",
              "[4 rows x 7 columns]"
            ]
          },
          "metadata": {
            "tags": []
          },
          "execution_count": 41
        }
      ]
    },
    {
      "cell_type": "markdown",
      "metadata": {
        "id": "jb_aFC2_KZNZ"
      },
      "source": [
        "#### Plot raw stats "
      ]
    },
    {
      "cell_type": "code",
      "metadata": {
        "id": "iJ-XgtG1K62P"
      },
      "source": [
        "# Merge ghg and recalculate predictions \n",
        "combi_df = ghg_df.merge(errors, how=\"inner\", on=[c.lon, c.lat], suffixes=(\"_orig\", \"_err\"))\n",
        "for ghg in c.ghg_bands:\n",
        "  combi_df[f\"{ghg}_pred\"] = combi_df[f\"{ghg}_orig\"] + combi_df[f\"{ghg}_err\"]\n"
      ],
      "execution_count": 43,
      "outputs": []
    },
    {
      "cell_type": "code",
      "metadata": {
        "id": "-p0qqFblRa8O",
        "outputId": "65157016-187c-48e7-ec46-40d28a9b8b11",
        "colab": {
          "base_uri": "https://localhost:8080/",
          "height": 461
        }
      },
      "source": [
        "combi_df"
      ],
      "execution_count": 44,
      "outputs": [
        {
          "output_type": "execute_result",
          "data": {
            "text/html": [
              "<div>\n",
              "<style scoped>\n",
              "    .dataframe tbody tr th:only-of-type {\n",
              "        vertical-align: middle;\n",
              "    }\n",
              "\n",
              "    .dataframe tbody tr th {\n",
              "        vertical-align: top;\n",
              "    }\n",
              "\n",
              "    .dataframe thead th {\n",
              "        text-align: right;\n",
              "    }\n",
              "</style>\n",
              "<table border=\"1\" class=\"dataframe\">\n",
              "  <thead>\n",
              "    <tr style=\"text-align: right;\">\n",
              "      <th></th>\n",
              "      <th>Unnamed: 0</th>\n",
              "      <th>system:index</th>\n",
              "      <th>SO2_column_number_density_orig</th>\n",
              "      <th>longitude</th>\n",
              "      <th>latitude</th>\n",
              "      <th>CH4_column_volume_mixing_ratio_dry_air_orig</th>\n",
              "      <th>CO_column_number_density_orig</th>\n",
              "      <th>tropospheric_HCHO_column_number_density_orig</th>\n",
              "      <th>tropospheric_NO2_column_number_density_orig</th>\n",
              "      <th>O3_column_number_density_orig</th>\n",
              "      <th>CO_column_number_density_err</th>\n",
              "      <th>tropospheric_HCHO_column_number_density_err</th>\n",
              "      <th>tropospheric_NO2_column_number_density_err</th>\n",
              "      <th>O3_column_number_density_err</th>\n",
              "      <th>SO2_column_number_density_err</th>\n",
              "      <th>CH4_column_volume_mixing_ratio_dry_air_err</th>\n",
              "      <th>CO_column_number_density_pred</th>\n",
              "      <th>tropospheric_HCHO_column_number_density_pred</th>\n",
              "      <th>tropospheric_NO2_column_number_density_pred</th>\n",
              "      <th>O3_column_number_density_pred</th>\n",
              "      <th>SO2_column_number_density_pred</th>\n",
              "      <th>CH4_column_volume_mixing_ratio_dry_air_pred</th>\n",
              "    </tr>\n",
              "  </thead>\n",
              "  <tbody>\n",
              "    <tr>\n",
              "      <th>0</th>\n",
              "      <td>134</td>\n",
              "      <td>0_134</td>\n",
              "      <td>37.059645</td>\n",
              "      <td>-0.795009</td>\n",
              "      <td>51.118631</td>\n",
              "      <td>19.607470</td>\n",
              "      <td>33.377361</td>\n",
              "      <td>6.603347</td>\n",
              "      <td>4.773004</td>\n",
              "      <td>15.388263</td>\n",
              "      <td>5.968124</td>\n",
              "      <td>40.289491</td>\n",
              "      <td>24.345281</td>\n",
              "      <td>31.920808</td>\n",
              "      <td>16.882917</td>\n",
              "      <td>12.773931</td>\n",
              "      <td>39.345486</td>\n",
              "      <td>46.892838</td>\n",
              "      <td>29.118284</td>\n",
              "      <td>47.309071</td>\n",
              "      <td>53.942562</td>\n",
              "      <td>32.381401</td>\n",
              "    </tr>\n",
              "    <tr>\n",
              "      <th>1</th>\n",
              "      <td>135</td>\n",
              "      <td>0_135</td>\n",
              "      <td>32.874369</td>\n",
              "      <td>-0.786026</td>\n",
              "      <td>51.118631</td>\n",
              "      <td>18.383528</td>\n",
              "      <td>30.641076</td>\n",
              "      <td>8.903884</td>\n",
              "      <td>5.345012</td>\n",
              "      <td>14.434940</td>\n",
              "      <td>4.245803</td>\n",
              "      <td>36.717717</td>\n",
              "      <td>15.314325</td>\n",
              "      <td>25.018548</td>\n",
              "      <td>24.315191</td>\n",
              "      <td>10.883625</td>\n",
              "      <td>34.886879</td>\n",
              "      <td>45.621601</td>\n",
              "      <td>20.659336</td>\n",
              "      <td>39.453487</td>\n",
              "      <td>57.189560</td>\n",
              "      <td>29.267153</td>\n",
              "    </tr>\n",
              "    <tr>\n",
              "      <th>2</th>\n",
              "      <td>136</td>\n",
              "      <td>0_136</td>\n",
              "      <td>38.575800</td>\n",
              "      <td>-0.777043</td>\n",
              "      <td>51.118631</td>\n",
              "      <td>16.526009</td>\n",
              "      <td>32.553934</td>\n",
              "      <td>6.237494</td>\n",
              "      <td>3.764341</td>\n",
              "      <td>9.809938</td>\n",
              "      <td>-2.141455</td>\n",
              "      <td>36.598569</td>\n",
              "      <td>13.467890</td>\n",
              "      <td>32.588237</td>\n",
              "      <td>14.532522</td>\n",
              "      <td>12.669729</td>\n",
              "      <td>30.412479</td>\n",
              "      <td>42.836063</td>\n",
              "      <td>17.232231</td>\n",
              "      <td>42.398174</td>\n",
              "      <td>53.108322</td>\n",
              "      <td>29.195738</td>\n",
              "    </tr>\n",
              "    <tr>\n",
              "      <th>3</th>\n",
              "      <td>137</td>\n",
              "      <td>0_137</td>\n",
              "      <td>46.757106</td>\n",
              "      <td>-0.768060</td>\n",
              "      <td>51.118631</td>\n",
              "      <td>8.346549</td>\n",
              "      <td>31.724441</td>\n",
              "      <td>4.383772</td>\n",
              "      <td>3.134054</td>\n",
              "      <td>5.152530</td>\n",
              "      <td>-3.510448</td>\n",
              "      <td>38.654524</td>\n",
              "      <td>14.326038</td>\n",
              "      <td>34.605287</td>\n",
              "      <td>7.845196</td>\n",
              "      <td>17.202994</td>\n",
              "      <td>28.213993</td>\n",
              "      <td>43.038296</td>\n",
              "      <td>17.460093</td>\n",
              "      <td>39.757816</td>\n",
              "      <td>54.602303</td>\n",
              "      <td>25.549543</td>\n",
              "    </tr>\n",
              "    <tr>\n",
              "      <th>4</th>\n",
              "      <td>138</td>\n",
              "      <td>0_138</td>\n",
              "      <td>48.375586</td>\n",
              "      <td>-0.759076</td>\n",
              "      <td>51.118631</td>\n",
              "      <td>13.259975</td>\n",
              "      <td>29.757876</td>\n",
              "      <td>9.120335</td>\n",
              "      <td>3.250394</td>\n",
              "      <td>4.019683</td>\n",
              "      <td>5.051507</td>\n",
              "      <td>34.220832</td>\n",
              "      <td>26.092887</td>\n",
              "      <td>44.938801</td>\n",
              "      <td>-0.653327</td>\n",
              "      <td>11.681185</td>\n",
              "      <td>34.809383</td>\n",
              "      <td>43.341167</td>\n",
              "      <td>29.343281</td>\n",
              "      <td>48.958485</td>\n",
              "      <td>47.722260</td>\n",
              "      <td>24.941160</td>\n",
              "    </tr>\n",
              "    <tr>\n",
              "      <th>...</th>\n",
              "      <td>...</td>\n",
              "      <td>...</td>\n",
              "      <td>...</td>\n",
              "      <td>...</td>\n",
              "      <td>...</td>\n",
              "      <td>...</td>\n",
              "      <td>...</td>\n",
              "      <td>...</td>\n",
              "      <td>...</td>\n",
              "      <td>...</td>\n",
              "      <td>...</td>\n",
              "      <td>...</td>\n",
              "      <td>...</td>\n",
              "      <td>...</td>\n",
              "      <td>...</td>\n",
              "      <td>...</td>\n",
              "      <td>...</td>\n",
              "      <td>...</td>\n",
              "      <td>...</td>\n",
              "      <td>...</td>\n",
              "      <td>...</td>\n",
              "      <td>...</td>\n",
              "    </tr>\n",
              "    <tr>\n",
              "      <th>1881</th>\n",
              "      <td>4147</td>\n",
              "      <td>0_4147</td>\n",
              "      <td>28.982110</td>\n",
              "      <td>0.345851</td>\n",
              "      <td>51.379143</td>\n",
              "      <td>48.730023</td>\n",
              "      <td>51.676159</td>\n",
              "      <td>40.240712</td>\n",
              "      <td>52.492478</td>\n",
              "      <td>82.988492</td>\n",
              "      <td>17.283146</td>\n",
              "      <td>6.853896</td>\n",
              "      <td>-1.665936</td>\n",
              "      <td>-2.422917</td>\n",
              "      <td>10.477576</td>\n",
              "      <td>14.635924</td>\n",
              "      <td>68.959305</td>\n",
              "      <td>47.094608</td>\n",
              "      <td>50.826542</td>\n",
              "      <td>80.565575</td>\n",
              "      <td>39.459686</td>\n",
              "      <td>63.365948</td>\n",
              "    </tr>\n",
              "    <tr>\n",
              "      <th>1882</th>\n",
              "      <td>4148</td>\n",
              "      <td>0_4148</td>\n",
              "      <td>29.317961</td>\n",
              "      <td>0.354835</td>\n",
              "      <td>51.379143</td>\n",
              "      <td>69.944322</td>\n",
              "      <td>55.563051</td>\n",
              "      <td>33.433213</td>\n",
              "      <td>51.374351</td>\n",
              "      <td>83.640236</td>\n",
              "      <td>8.201598</td>\n",
              "      <td>10.795058</td>\n",
              "      <td>-12.380695</td>\n",
              "      <td>-8.200912</td>\n",
              "      <td>15.780748</td>\n",
              "      <td>-10.598707</td>\n",
              "      <td>63.764648</td>\n",
              "      <td>44.228271</td>\n",
              "      <td>38.993656</td>\n",
              "      <td>75.439323</td>\n",
              "      <td>45.098709</td>\n",
              "      <td>59.345615</td>\n",
              "    </tr>\n",
              "    <tr>\n",
              "      <th>1883</th>\n",
              "      <td>4149</td>\n",
              "      <td>0_4149</td>\n",
              "      <td>32.202132</td>\n",
              "      <td>0.363818</td>\n",
              "      <td>51.379143</td>\n",
              "      <td>51.965457</td>\n",
              "      <td>67.081132</td>\n",
              "      <td>44.057710</td>\n",
              "      <td>52.922176</td>\n",
              "      <td>84.070751</td>\n",
              "      <td>0.863662</td>\n",
              "      <td>0.794280</td>\n",
              "      <td>-6.179100</td>\n",
              "      <td>-4.888554</td>\n",
              "      <td>9.545274</td>\n",
              "      <td>10.907193</td>\n",
              "      <td>67.944794</td>\n",
              "      <td>44.851990</td>\n",
              "      <td>46.743076</td>\n",
              "      <td>79.182198</td>\n",
              "      <td>41.747406</td>\n",
              "      <td>62.872650</td>\n",
              "    </tr>\n",
              "    <tr>\n",
              "      <th>1884</th>\n",
              "      <td>4150</td>\n",
              "      <td>0_4150</td>\n",
              "      <td>37.128438</td>\n",
              "      <td>0.372801</td>\n",
              "      <td>51.379143</td>\n",
              "      <td>51.965438</td>\n",
              "      <td>63.214312</td>\n",
              "      <td>47.319044</td>\n",
              "      <td>50.743240</td>\n",
              "      <td>82.580199</td>\n",
              "      <td>-1.665083</td>\n",
              "      <td>-1.693747</td>\n",
              "      <td>-16.465824</td>\n",
              "      <td>-9.008330</td>\n",
              "      <td>9.412170</td>\n",
              "      <td>4.617250</td>\n",
              "      <td>61.549229</td>\n",
              "      <td>45.625298</td>\n",
              "      <td>34.277416</td>\n",
              "      <td>73.571869</td>\n",
              "      <td>46.540607</td>\n",
              "      <td>56.582687</td>\n",
              "    </tr>\n",
              "    <tr>\n",
              "      <th>1885</th>\n",
              "      <td>4151</td>\n",
              "      <td>0_4151</td>\n",
              "      <td>38.368322</td>\n",
              "      <td>0.381784</td>\n",
              "      <td>51.379143</td>\n",
              "      <td>40.647575</td>\n",
              "      <td>66.189164</td>\n",
              "      <td>48.903393</td>\n",
              "      <td>49.415050</td>\n",
              "      <td>82.508419</td>\n",
              "      <td>1.025955</td>\n",
              "      <td>-4.434841</td>\n",
              "      <td>-14.833762</td>\n",
              "      <td>-9.351451</td>\n",
              "      <td>8.218466</td>\n",
              "      <td>21.591206</td>\n",
              "      <td>67.215118</td>\n",
              "      <td>44.468552</td>\n",
              "      <td>34.581287</td>\n",
              "      <td>73.156967</td>\n",
              "      <td>46.586788</td>\n",
              "      <td>62.238781</td>\n",
              "    </tr>\n",
              "  </tbody>\n",
              "</table>\n",
              "<p>1886 rows × 22 columns</p>\n",
              "</div>"
            ],
            "text/plain": [
              "      Unnamed: 0  ... CH4_column_volume_mixing_ratio_dry_air_pred\n",
              "0            134  ...                                   32.381401\n",
              "1            135  ...                                   29.267153\n",
              "2            136  ...                                   29.195738\n",
              "3            137  ...                                   25.549543\n",
              "4            138  ...                                   24.941160\n",
              "...          ...  ...                                         ...\n",
              "1881        4147  ...                                   63.365948\n",
              "1882        4148  ...                                   59.345615\n",
              "1883        4149  ...                                   62.872650\n",
              "1884        4150  ...                                   56.582687\n",
              "1885        4151  ...                                   62.238781\n",
              "\n",
              "[1886 rows x 22 columns]"
            ]
          },
          "metadata": {
            "tags": []
          },
          "execution_count": 44
        }
      ]
    },
    {
      "cell_type": "code",
      "metadata": {
        "id": "N_nWYoAzKQdP",
        "outputId": "a08f2db1-ef88-4fbc-fa8a-e16ffa878f52",
        "colab": {
          "base_uri": "https://localhost:8080/",
          "height": 1000
        }
      },
      "source": [
        "for ghg in c.ghg_bands:\n",
        "  combi_df.plot(x = f\"{ghg}_orig\", y = f\"{ghg}_pred\", kind = \"scatter\")\n",
        "  plt.show()"
      ],
      "execution_count": 46,
      "outputs": [
        {
          "output_type": "display_data",
          "data": {
            "image/png": "[encoded data removed]",
            "text/plain": [
              "<Figure size 432x288 with 1 Axes>"
            ]
          },
          "metadata": {
            "tags": [],
            "needs_background": "light"
          }
        },
        {
          "output_type": "display_data",
          "data": {
            "image/png": "[encoded data removed]",
            "text/plain": [
              "<Figure size 432x288 with 1 Axes>"
            ]
          },
          "metadata": {
            "tags": [],
            "needs_background": "light"
          }
        },
        {
          "output_type": "display_data",
          "data": {
            "image/png": "[encoded data removed]",
            "text/plain": [
              "<Figure size 432x288 with 1 Axes>"
            ]
          },
          "metadata": {
            "tags": [],
            "needs_background": "light"
          }
        },
        {
          "output_type": "display_data",
          "data": {
            "image/png": "[encoded data removed]",
            "text/plain": [
              "<Figure size 432x288 with 1 Axes>"
            ]
          },
          "metadata": {
            "tags": [],
            "needs_background": "light"
          }
        },
        {
          "output_type": "display_data",
          "data": {
            "image/png": "[encoded data removed]",
            "text/plain": [
              "<Figure size 432x288 with 1 Axes>"
            ]
          },
          "metadata": {
            "tags": [],
            "needs_background": "light"
          }
        },
        {
          "output_type": "display_data",
          "data": {
            "image/png": "[encoded data removed]",
            "text/plain": [
              "<Figure size 432x288 with 1 Axes>"
            ]
          },
          "metadata": {
            "tags": [],
            "needs_background": "light"
          }
        }
      ]
    },
    {
      "cell_type": "markdown",
      "metadata": {
        "id": "ljDXknEjKToW"
      },
      "source": [
        "### Find and process Outliers \n",
        "- Percentile \n",
        "  - 1.5*IQR for weak outliers\n",
        "  - 3*IQR for strong outliers\n",
        "- Linear regression \n",
        "- Standard deviation +- 2 (or 3) \n",
        "- Normal probability plot \n",
        "\n"
      ]
    },
    {
      "cell_type": "code",
      "metadata": {
        "id": "SIG3A3uMGDLJ",
        "outputId": "76859ee1-5bf7-48eb-d162-2ed2537f738a",
        "colab": {
          "base_uri": "https://localhost:8080/",
          "height": 417
        }
      },
      "source": [
        "outliers = []\n",
        "for ghg in c.ghg_bands:\n",
        "  ghg_outliers = []\n",
        "  q1 = combi_df[f\"{ghg}_err\"].quantile(0.25)\n",
        "  q3 = combi_df[f\"{ghg}_err\"].quantile(0.75)\n",
        "  iqr = q3 - q1\n",
        "  lbound = q1 - 1.5*iqr\n",
        "  ubound = q3 + 1.5*iqr\n",
        "  ghg_outliers = combi_df[((combi_df > ubound) | (combi_df < lbound)).any(axis=1)]\n",
        "  outliers.append(ghg_outliers)\n",
        "\n",
        "print(outliers)"
      ],
      "execution_count": 52,
      "outputs": [
        {
          "output_type": "error",
          "ename": "TypeError",
          "evalue": "ignored",
          "traceback": [
            "\u001b[0;31m---------------------------------------------------------------------------\u001b[0m",
            "\u001b[0;31mTypeError\u001b[0m                                 Traceback (most recent call last)",
            "\u001b[0;32m<ipython-input-52-f4269845f4cb>\u001b[0m in \u001b[0;36m<module>\u001b[0;34m()\u001b[0m\n\u001b[1;32m      7\u001b[0m   \u001b[0mlbound\u001b[0m \u001b[0;34m=\u001b[0m \u001b[0mq1\u001b[0m \u001b[0;34m-\u001b[0m \u001b[0;36m1.5\u001b[0m\u001b[0;34m*\u001b[0m\u001b[0miqr\u001b[0m\u001b[0;34m\u001b[0m\u001b[0;34m\u001b[0m\u001b[0m\n\u001b[1;32m      8\u001b[0m   \u001b[0mubound\u001b[0m \u001b[0;34m=\u001b[0m \u001b[0mq3\u001b[0m \u001b[0;34m+\u001b[0m \u001b[0;36m1.5\u001b[0m\u001b[0;34m*\u001b[0m\u001b[0miqr\u001b[0m\u001b[0;34m\u001b[0m\u001b[0;34m\u001b[0m\u001b[0m\n\u001b[0;32m----> 9\u001b[0;31m   \u001b[0mghg_outliers\u001b[0m \u001b[0;34m=\u001b[0m \u001b[0mcombi_df\u001b[0m\u001b[0;34m[\u001b[0m\u001b[0;34m(\u001b[0m\u001b[0;34m(\u001b[0m\u001b[0mcombi_df\u001b[0m \u001b[0;34m>\u001b[0m \u001b[0mubound\u001b[0m\u001b[0;34m)\u001b[0m \u001b[0;34m|\u001b[0m \u001b[0;34m(\u001b[0m\u001b[0mcombi_df\u001b[0m \u001b[0;34m<\u001b[0m \u001b[0mlbound\u001b[0m\u001b[0;34m)\u001b[0m\u001b[0;34m)\u001b[0m\u001b[0;34m.\u001b[0m\u001b[0many\u001b[0m\u001b[0;34m(\u001b[0m\u001b[0maxis\u001b[0m\u001b[0;34m=\u001b[0m\u001b[0;36m1\u001b[0m\u001b[0;34m)\u001b[0m\u001b[0;34m]\u001b[0m\u001b[0;34m\u001b[0m\u001b[0;34m\u001b[0m\u001b[0m\n\u001b[0m\u001b[1;32m     10\u001b[0m   \u001b[0moutliers\u001b[0m\u001b[0;34m.\u001b[0m\u001b[0mappend\u001b[0m\u001b[0;34m(\u001b[0m\u001b[0mghg_outliers\u001b[0m\u001b[0;34m)\u001b[0m\u001b[0;34m\u001b[0m\u001b[0;34m\u001b[0m\u001b[0m\n\u001b[1;32m     11\u001b[0m \u001b[0;34m\u001b[0m\u001b[0m\n",
            "\u001b[0;32m/usr/local/lib/python3.6/dist-packages/pandas/core/ops/__init__.py\u001b[0m in \u001b[0;36mf\u001b[0;34m(self, other)\u001b[0m\n\u001b[1;32m    706\u001b[0m \u001b[0;34m\u001b[0m\u001b[0m\n\u001b[1;32m    707\u001b[0m         \u001b[0;31m# See GH#4537 for discussion of scalar op behavior\u001b[0m\u001b[0;34m\u001b[0m\u001b[0;34m\u001b[0m\u001b[0;34m\u001b[0m\u001b[0m\n\u001b[0;32m--> 708\u001b[0;31m         \u001b[0mnew_data\u001b[0m \u001b[0;34m=\u001b[0m \u001b[0mdispatch_to_series\u001b[0m\u001b[0;34m(\u001b[0m\u001b[0mself\u001b[0m\u001b[0;34m,\u001b[0m \u001b[0mother\u001b[0m\u001b[0;34m,\u001b[0m \u001b[0mop\u001b[0m\u001b[0;34m,\u001b[0m \u001b[0maxis\u001b[0m\u001b[0;34m=\u001b[0m\u001b[0maxis\u001b[0m\u001b[0;34m)\u001b[0m\u001b[0;34m\u001b[0m\u001b[0;34m\u001b[0m\u001b[0m\n\u001b[0m\u001b[1;32m    709\u001b[0m         \u001b[0;32mreturn\u001b[0m \u001b[0mself\u001b[0m\u001b[0;34m.\u001b[0m\u001b[0m_construct_result\u001b[0m\u001b[0;34m(\u001b[0m\u001b[0mnew_data\u001b[0m\u001b[0;34m)\u001b[0m\u001b[0;34m\u001b[0m\u001b[0;34m\u001b[0m\u001b[0m\n\u001b[1;32m    710\u001b[0m \u001b[0;34m\u001b[0m\u001b[0m\n",
            "\u001b[0;32m/usr/local/lib/python3.6/dist-packages/pandas/core/ops/__init__.py\u001b[0m in \u001b[0;36mdispatch_to_series\u001b[0;34m(left, right, func, axis)\u001b[0m\n\u001b[1;32m    263\u001b[0m     \u001b[0;32mif\u001b[0m \u001b[0;32mnot\u001b[0m \u001b[0mis_list_like\u001b[0m\u001b[0;34m(\u001b[0m\u001b[0mright\u001b[0m\u001b[0;34m)\u001b[0m\u001b[0;34m:\u001b[0m\u001b[0;34m\u001b[0m\u001b[0;34m\u001b[0m\u001b[0m\n\u001b[1;32m    264\u001b[0m         \u001b[0;31m# i.e. scalar, faster than checking np.ndim(right) == 0\u001b[0m\u001b[0;34m\u001b[0m\u001b[0;34m\u001b[0m\u001b[0;34m\u001b[0m\u001b[0m\n\u001b[0;32m--> 265\u001b[0;31m         \u001b[0mbm\u001b[0m \u001b[0;34m=\u001b[0m \u001b[0mleft\u001b[0m\u001b[0;34m.\u001b[0m\u001b[0m_mgr\u001b[0m\u001b[0;34m.\u001b[0m\u001b[0mapply\u001b[0m\u001b[0;34m(\u001b[0m\u001b[0marray_op\u001b[0m\u001b[0;34m,\u001b[0m \u001b[0mright\u001b[0m\u001b[0;34m=\u001b[0m\u001b[0mright\u001b[0m\u001b[0;34m)\u001b[0m\u001b[0;34m\u001b[0m\u001b[0;34m\u001b[0m\u001b[0m\n\u001b[0m\u001b[1;32m    266\u001b[0m         \u001b[0;32mreturn\u001b[0m \u001b[0mtype\u001b[0m\u001b[0;34m(\u001b[0m\u001b[0mleft\u001b[0m\u001b[0;34m)\u001b[0m\u001b[0;34m(\u001b[0m\u001b[0mbm\u001b[0m\u001b[0;34m)\u001b[0m\u001b[0;34m\u001b[0m\u001b[0;34m\u001b[0m\u001b[0m\n\u001b[1;32m    267\u001b[0m \u001b[0;34m\u001b[0m\u001b[0m\n",
            "\u001b[0;32m/usr/local/lib/python3.6/dist-packages/pandas/core/internals/managers.py\u001b[0m in \u001b[0;36mapply\u001b[0;34m(self, f, align_keys, **kwargs)\u001b[0m\n\u001b[1;32m    405\u001b[0m \u001b[0;34m\u001b[0m\u001b[0m\n\u001b[1;32m    406\u001b[0m             \u001b[0;32mif\u001b[0m \u001b[0mcallable\u001b[0m\u001b[0;34m(\u001b[0m\u001b[0mf\u001b[0m\u001b[0;34m)\u001b[0m\u001b[0;34m:\u001b[0m\u001b[0;34m\u001b[0m\u001b[0;34m\u001b[0m\u001b[0m\n\u001b[0;32m--> 407\u001b[0;31m                 \u001b[0mapplied\u001b[0m \u001b[0;34m=\u001b[0m \u001b[0mb\u001b[0m\u001b[0;34m.\u001b[0m\u001b[0mapply\u001b[0m\u001b[0;34m(\u001b[0m\u001b[0mf\u001b[0m\u001b[0;34m,\u001b[0m \u001b[0;34m**\u001b[0m\u001b[0mkwargs\u001b[0m\u001b[0;34m)\u001b[0m\u001b[0;34m\u001b[0m\u001b[0;34m\u001b[0m\u001b[0m\n\u001b[0m\u001b[1;32m    408\u001b[0m             \u001b[0;32melse\u001b[0m\u001b[0;34m:\u001b[0m\u001b[0;34m\u001b[0m\u001b[0;34m\u001b[0m\u001b[0m\n\u001b[1;32m    409\u001b[0m                 \u001b[0mapplied\u001b[0m \u001b[0;34m=\u001b[0m \u001b[0mgetattr\u001b[0m\u001b[0;34m(\u001b[0m\u001b[0mb\u001b[0m\u001b[0;34m,\u001b[0m \u001b[0mf\u001b[0m\u001b[0;34m)\u001b[0m\u001b[0;34m(\u001b[0m\u001b[0;34m**\u001b[0m\u001b[0mkwargs\u001b[0m\u001b[0;34m)\u001b[0m\u001b[0;34m\u001b[0m\u001b[0;34m\u001b[0m\u001b[0m\n",
            "\u001b[0;32m/usr/local/lib/python3.6/dist-packages/pandas/core/internals/blocks.py\u001b[0m in \u001b[0;36mapply\u001b[0;34m(self, func, **kwargs)\u001b[0m\n\u001b[1;32m    344\u001b[0m         \"\"\"\n\u001b[1;32m    345\u001b[0m         \u001b[0;32mwith\u001b[0m \u001b[0mnp\u001b[0m\u001b[0;34m.\u001b[0m\u001b[0merrstate\u001b[0m\u001b[0;34m(\u001b[0m\u001b[0mall\u001b[0m\u001b[0;34m=\u001b[0m\u001b[0;34m\"ignore\"\u001b[0m\u001b[0;34m)\u001b[0m\u001b[0;34m:\u001b[0m\u001b[0;34m\u001b[0m\u001b[0;34m\u001b[0m\u001b[0m\n\u001b[0;32m--> 346\u001b[0;31m             \u001b[0mresult\u001b[0m \u001b[0;34m=\u001b[0m \u001b[0mfunc\u001b[0m\u001b[0;34m(\u001b[0m\u001b[0mself\u001b[0m\u001b[0;34m.\u001b[0m\u001b[0mvalues\u001b[0m\u001b[0;34m,\u001b[0m \u001b[0;34m**\u001b[0m\u001b[0mkwargs\u001b[0m\u001b[0;34m)\u001b[0m\u001b[0;34m\u001b[0m\u001b[0;34m\u001b[0m\u001b[0m\n\u001b[0m\u001b[1;32m    347\u001b[0m \u001b[0;34m\u001b[0m\u001b[0m\n\u001b[1;32m    348\u001b[0m         \u001b[0;32mreturn\u001b[0m \u001b[0mself\u001b[0m\u001b[0;34m.\u001b[0m\u001b[0m_split_op_result\u001b[0m\u001b[0;34m(\u001b[0m\u001b[0mresult\u001b[0m\u001b[0;34m)\u001b[0m\u001b[0;34m\u001b[0m\u001b[0;34m\u001b[0m\u001b[0m\n",
            "\u001b[0;32m/usr/local/lib/python3.6/dist-packages/pandas/core/ops/array_ops.py\u001b[0m in \u001b[0;36mcomparison_op\u001b[0;34m(left, right, op)\u001b[0m\n\u001b[1;32m    242\u001b[0m \u001b[0;34m\u001b[0m\u001b[0m\n\u001b[1;32m    243\u001b[0m     \u001b[0;32melif\u001b[0m \u001b[0mis_object_dtype\u001b[0m\u001b[0;34m(\u001b[0m\u001b[0mlvalues\u001b[0m\u001b[0;34m.\u001b[0m\u001b[0mdtype\u001b[0m\u001b[0;34m)\u001b[0m\u001b[0;34m:\u001b[0m\u001b[0;34m\u001b[0m\u001b[0;34m\u001b[0m\u001b[0m\n\u001b[0;32m--> 244\u001b[0;31m         \u001b[0mres_values\u001b[0m \u001b[0;34m=\u001b[0m \u001b[0mcomp_method_OBJECT_ARRAY\u001b[0m\u001b[0;34m(\u001b[0m\u001b[0mop\u001b[0m\u001b[0;34m,\u001b[0m \u001b[0mlvalues\u001b[0m\u001b[0;34m,\u001b[0m \u001b[0mrvalues\u001b[0m\u001b[0;34m)\u001b[0m\u001b[0;34m\u001b[0m\u001b[0;34m\u001b[0m\u001b[0m\n\u001b[0m\u001b[1;32m    245\u001b[0m \u001b[0;34m\u001b[0m\u001b[0m\n\u001b[1;32m    246\u001b[0m     \u001b[0;32melse\u001b[0m\u001b[0;34m:\u001b[0m\u001b[0;34m\u001b[0m\u001b[0;34m\u001b[0m\u001b[0m\n",
            "\u001b[0;32m/usr/local/lib/python3.6/dist-packages/pandas/core/ops/array_ops.py\u001b[0m in \u001b[0;36mcomp_method_OBJECT_ARRAY\u001b[0;34m(op, x, y)\u001b[0m\n\u001b[1;32m     54\u001b[0m         \u001b[0mresult\u001b[0m \u001b[0;34m=\u001b[0m \u001b[0mlibops\u001b[0m\u001b[0;34m.\u001b[0m\u001b[0mvec_compare\u001b[0m\u001b[0;34m(\u001b[0m\u001b[0mx\u001b[0m\u001b[0;34m.\u001b[0m\u001b[0mravel\u001b[0m\u001b[0;34m(\u001b[0m\u001b[0;34m)\u001b[0m\u001b[0;34m,\u001b[0m \u001b[0my\u001b[0m\u001b[0;34m.\u001b[0m\u001b[0mravel\u001b[0m\u001b[0;34m(\u001b[0m\u001b[0;34m)\u001b[0m\u001b[0;34m,\u001b[0m \u001b[0mop\u001b[0m\u001b[0;34m)\u001b[0m\u001b[0;34m\u001b[0m\u001b[0;34m\u001b[0m\u001b[0m\n\u001b[1;32m     55\u001b[0m     \u001b[0;32melse\u001b[0m\u001b[0;34m:\u001b[0m\u001b[0;34m\u001b[0m\u001b[0;34m\u001b[0m\u001b[0m\n\u001b[0;32m---> 56\u001b[0;31m         \u001b[0mresult\u001b[0m \u001b[0;34m=\u001b[0m \u001b[0mlibops\u001b[0m\u001b[0;34m.\u001b[0m\u001b[0mscalar_compare\u001b[0m\u001b[0;34m(\u001b[0m\u001b[0mx\u001b[0m\u001b[0;34m.\u001b[0m\u001b[0mravel\u001b[0m\u001b[0;34m(\u001b[0m\u001b[0;34m)\u001b[0m\u001b[0;34m,\u001b[0m \u001b[0my\u001b[0m\u001b[0;34m,\u001b[0m \u001b[0mop\u001b[0m\u001b[0;34m)\u001b[0m\u001b[0;34m\u001b[0m\u001b[0;34m\u001b[0m\u001b[0m\n\u001b[0m\u001b[1;32m     57\u001b[0m     \u001b[0;32mreturn\u001b[0m \u001b[0mresult\u001b[0m\u001b[0;34m.\u001b[0m\u001b[0mreshape\u001b[0m\u001b[0;34m(\u001b[0m\u001b[0mx\u001b[0m\u001b[0;34m.\u001b[0m\u001b[0mshape\u001b[0m\u001b[0;34m)\u001b[0m\u001b[0;34m\u001b[0m\u001b[0;34m\u001b[0m\u001b[0m\n\u001b[1;32m     58\u001b[0m \u001b[0;34m\u001b[0m\u001b[0m\n",
            "\u001b[0;32mpandas/_libs/ops.pyx\u001b[0m in \u001b[0;36mpandas._libs.ops.scalar_compare\u001b[0;34m()\u001b[0m\n",
            "\u001b[0;31mTypeError\u001b[0m: '<' not supported between instances of 'numpy.ndarray' and 'str'"
          ]
        }
      ]
    },
    {
      "cell_type": "code",
      "metadata": {
        "id": "EorGu3B_OK1Y"
      },
      "source": [
        "# outliers for specific GHGs "
      ],
      "execution_count": null,
      "outputs": []
    },
    {
      "cell_type": "markdown",
      "metadata": {
        "id": "9wOg6CkVfnnb"
      },
      "source": [
        "### Sample images vs predictions \n",
        "what regions are easier to predict than others? \n",
        "\n",
        "create accuracy heatmap "
      ]
    },
    {
      "cell_type": "code",
      "metadata": {
        "id": "udr8LN2Pfzg9"
      },
      "source": [
        ""
      ],
      "execution_count": null,
      "outputs": []
    },
    {
      "cell_type": "markdown",
      "metadata": {
        "id": "bwR1PE92B3Eq"
      },
      "source": [
        "## Brunel Analysis "
      ]
    }
  ]
}