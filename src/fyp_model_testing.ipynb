{
  "nbformat": 4,
  "nbformat_minor": 0,
  "metadata": {
    "colab": {
      "name": "fyp_model_testing.ipynb",
      "provenance": [],
      "include_colab_link": true
    },
    "kernelspec": {
      "name": "python3",
      "display_name": "Python 3"
    }
  },
  "cells": [
    {
      "cell_type": "markdown",
      "metadata": {
        "id": "view-in-github",
        "colab_type": "text"
      },
      "source": [
        "<a href=\"https://colab.research.google.com/github/WRFitch/fyp/blob/main/src/fyp_model_testing.ipynb\" target=\"_parent\"><img src=\"https://colab.research.google.com/assets/colab-badge.svg\" alt=\"Open In Colab\"/></a>"
      ]
    },
    {
      "cell_type": "markdown",
      "metadata": {
        "id": "MlL01n7dexnl"
      },
      "source": [
        "# Testing\n",
        "A notebook for testing an exported model. Ideally, this can be considered a part of a model evaluation pipeline, in which a model can be evaluated in greater depth. "
      ]
    },
    {
      "cell_type": "markdown",
      "metadata": {
        "id": "tQzTgaA5fWu8"
      },
      "source": [
        "## Setup"
      ]
    },
    {
      "cell_type": "markdown",
      "metadata": {
        "id": "1UDpJr3i-WS2"
      },
      "source": [
        "### Notebook Setup "
      ]
    },
    {
      "cell_type": "code",
      "metadata": {
        "id": "iX9MY-tjfCvL"
      },
      "source": [
        "!pip uninstall -y fastai\n",
        "!pip install -U --no-cache-dir fastai"
      ],
      "execution_count": null,
      "outputs": []
    },
    {
      "cell_type": "code",
      "metadata": {
        "id": "BdaFWRYPe4Oc",
        "colab": {
          "base_uri": "https://localhost:8080/"
        },
        "outputId": "2da72f41-c33e-4cb4-dbcd-5f3f03f28b4c"
      },
      "source": [
        "from fastai.vision.all import *\n",
        "from google.colab import drive\n",
        "#from scipy import stats\n",
        "from sklearn.metrics import mean_squared_error\n",
        "\n",
        "import numpy as np \n",
        "import os \n",
        "import pandas as pd\n",
        "\n",
        "drive.mount('/content/drive')"
      ],
      "execution_count": 30,
      "outputs": [
        {
          "output_type": "stream",
          "text": [
            "Drive already mounted at /content/drive; to attempt to forcibly remount, call drive.mount(\"/content/drive\", force_remount=True).\n"
          ],
          "name": "stdout"
        }
      ]
    },
    {
      "cell_type": "code",
      "metadata": {
        "id": "aW2I5siTPGba"
      },
      "source": [
        "%rm -rf /content/fyp/"
      ],
      "execution_count": null,
      "outputs": []
    },
    {
      "cell_type": "code",
      "metadata": {
        "id": "XEZzGW0Xeuty"
      },
      "source": [
        "# Import fyputil library\n",
        "%cd /content\n",
        "!git clone https://github.com/WRFitch/fyp.git\n",
        "%cd fyp/src/fyputil\n",
        "import constants as c\n",
        "import fyp_utils as fyputil\n",
        "%cd /content"
      ],
      "execution_count": null,
      "outputs": []
    },
    {
      "cell_type": "markdown",
      "metadata": {
        "id": "WKJFItks-ZXL"
      },
      "source": [
        "### Data Setup "
      ]
    },
    {
      "cell_type": "code",
      "metadata": {
        "id": "RXRkZ9qEfGpb"
      },
      "source": [
        "# Add a dummy label script to fool fastai into letting us import the model. \n",
        "# We're not going to train the model further, so this is fine. \n",
        "def getGhgsAsArr(img_path):\n",
        "  return np.array()\n",
        "\n",
        "model = load_learner(f\"{c.model_dir}/{c.model_name}.pkl\")"
      ],
      "execution_count": 3,
      "outputs": []
    },
    {
      "cell_type": "code",
      "metadata": {
        "colab": {
          "base_uri": "https://localhost:8080/",
          "height": 461
        },
        "id": "E3_RyVgmj4LI",
        "outputId": "a2731370-467c-41db-e15f-877fd64f763b"
      },
      "source": [
        "ghg_df = pd.read_csv(c.ghg_csv)\n",
        "ghg_df = fyputil.normGhgDf(ghg_df)\n",
        "ghg_df"
      ],
      "execution_count": 74,
      "outputs": [
        {
          "output_type": "execute_result",
          "data": {
            "text/html": [
              "<div>\n",
              "<style scoped>\n",
              "    .dataframe tbody tr th:only-of-type {\n",
              "        vertical-align: middle;\n",
              "    }\n",
              "\n",
              "    .dataframe tbody tr th {\n",
              "        vertical-align: top;\n",
              "    }\n",
              "\n",
              "    .dataframe thead th {\n",
              "        text-align: right;\n",
              "    }\n",
              "</style>\n",
              "<table border=\"1\" class=\"dataframe\">\n",
              "  <thead>\n",
              "    <tr style=\"text-align: right;\">\n",
              "      <th></th>\n",
              "      <th>Unnamed: 0</th>\n",
              "      <th>system:index</th>\n",
              "      <th>SO2_column_number_density</th>\n",
              "      <th>longitude</th>\n",
              "      <th>latitude</th>\n",
              "      <th>CH4_column_volume_mixing_ratio_dry_air</th>\n",
              "      <th>CO_column_number_density</th>\n",
              "      <th>tropospheric_HCHO_column_number_density</th>\n",
              "      <th>tropospheric_NO2_column_number_density</th>\n",
              "      <th>O3_column_number_density</th>\n",
              "    </tr>\n",
              "  </thead>\n",
              "  <tbody>\n",
              "    <tr>\n",
              "      <th>0</th>\n",
              "      <td>134</td>\n",
              "      <td>0_134</td>\n",
              "      <td>2.672824</td>\n",
              "      <td>-0.795009</td>\n",
              "      <td>51.118631</td>\n",
              "      <td>1.846587</td>\n",
              "      <td>3.273310</td>\n",
              "      <td>4.340454</td>\n",
              "      <td>4.529627</td>\n",
              "      <td>1.435862</td>\n",
              "    </tr>\n",
              "    <tr>\n",
              "      <th>1</th>\n",
              "      <td>135</td>\n",
              "      <td>0_135</td>\n",
              "      <td>2.486536</td>\n",
              "      <td>-0.786026</td>\n",
              "      <td>51.118631</td>\n",
              "      <td>1.846299</td>\n",
              "      <td>3.270005</td>\n",
              "      <td>4.446930</td>\n",
              "      <td>4.546964</td>\n",
              "      <td>1.435798</td>\n",
              "    </tr>\n",
              "    <tr>\n",
              "      <th>2</th>\n",
              "      <td>136</td>\n",
              "      <td>0_136</td>\n",
              "      <td>2.740308</td>\n",
              "      <td>-0.777043</td>\n",
              "      <td>51.118631</td>\n",
              "      <td>1.845863</td>\n",
              "      <td>3.272315</td>\n",
              "      <td>4.323521</td>\n",
              "      <td>4.499055</td>\n",
              "      <td>1.435488</td>\n",
              "    </tr>\n",
              "    <tr>\n",
              "      <th>3</th>\n",
              "      <td>137</td>\n",
              "      <td>0_137</td>\n",
              "      <td>3.104459</td>\n",
              "      <td>-0.768060</td>\n",
              "      <td>51.118631</td>\n",
              "      <td>1.843941</td>\n",
              "      <td>3.271314</td>\n",
              "      <td>4.237725</td>\n",
              "      <td>4.479952</td>\n",
              "      <td>1.435175</td>\n",
              "    </tr>\n",
              "    <tr>\n",
              "      <th>4</th>\n",
              "      <td>138</td>\n",
              "      <td>0_138</td>\n",
              "      <td>3.176498</td>\n",
              "      <td>-0.759076</td>\n",
              "      <td>51.118631</td>\n",
              "      <td>1.845095</td>\n",
              "      <td>3.268939</td>\n",
              "      <td>4.456948</td>\n",
              "      <td>4.483478</td>\n",
              "      <td>1.435099</td>\n",
              "    </tr>\n",
              "    <tr>\n",
              "      <th>...</th>\n",
              "      <td>...</td>\n",
              "      <td>...</td>\n",
              "      <td>...</td>\n",
              "      <td>...</td>\n",
              "      <td>...</td>\n",
              "      <td>...</td>\n",
              "      <td>...</td>\n",
              "      <td>...</td>\n",
              "      <td>...</td>\n",
              "      <td>...</td>\n",
              "    </tr>\n",
              "    <tr>\n",
              "      <th>1881</th>\n",
              "      <td>4147</td>\n",
              "      <td>0_4147</td>\n",
              "      <td>2.313291</td>\n",
              "      <td>0.345851</td>\n",
              "      <td>51.379143</td>\n",
              "      <td>1.853428</td>\n",
              "      <td>3.295407</td>\n",
              "      <td>5.897296</td>\n",
              "      <td>5.975961</td>\n",
              "      <td>1.440403</td>\n",
              "    </tr>\n",
              "    <tr>\n",
              "      <th>1882</th>\n",
              "      <td>4148</td>\n",
              "      <td>0_4148</td>\n",
              "      <td>2.328240</td>\n",
              "      <td>0.354835</td>\n",
              "      <td>51.379143</td>\n",
              "      <td>1.858412</td>\n",
              "      <td>3.300101</td>\n",
              "      <td>5.582224</td>\n",
              "      <td>5.942072</td>\n",
              "      <td>1.440447</td>\n",
              "    </tr>\n",
              "    <tr>\n",
              "      <th>1883</th>\n",
              "      <td>4149</td>\n",
              "      <td>0_4149</td>\n",
              "      <td>2.456615</td>\n",
              "      <td>0.363818</td>\n",
              "      <td>51.379143</td>\n",
              "      <td>1.854189</td>\n",
              "      <td>3.314009</td>\n",
              "      <td>6.073959</td>\n",
              "      <td>5.988985</td>\n",
              "      <td>1.440476</td>\n",
              "    </tr>\n",
              "    <tr>\n",
              "      <th>1884</th>\n",
              "      <td>4150</td>\n",
              "      <td>0_4150</td>\n",
              "      <td>2.675886</td>\n",
              "      <td>0.372801</td>\n",
              "      <td>51.379143</td>\n",
              "      <td>1.854189</td>\n",
              "      <td>3.309340</td>\n",
              "      <td>6.224904</td>\n",
              "      <td>5.922944</td>\n",
              "      <td>1.440376</td>\n",
              "    </tr>\n",
              "    <tr>\n",
              "      <th>1885</th>\n",
              "      <td>4151</td>\n",
              "      <td>0_4151</td>\n",
              "      <td>2.731073</td>\n",
              "      <td>0.381784</td>\n",
              "      <td>51.379143</td>\n",
              "      <td>1.851530</td>\n",
              "      <td>3.312932</td>\n",
              "      <td>6.298232</td>\n",
              "      <td>5.882687</td>\n",
              "      <td>1.440371</td>\n",
              "    </tr>\n",
              "  </tbody>\n",
              "</table>\n",
              "<p>1886 rows × 10 columns</p>\n",
              "</div>"
            ],
            "text/plain": [
              "      Unnamed: 0  ... O3_column_number_density\n",
              "0            134  ...                 1.435862\n",
              "1            135  ...                 1.435798\n",
              "2            136  ...                 1.435488\n",
              "3            137  ...                 1.435175\n",
              "4            138  ...                 1.435099\n",
              "...          ...  ...                      ...\n",
              "1881        4147  ...                 1.440403\n",
              "1882        4148  ...                 1.440447\n",
              "1883        4149  ...                 1.440476\n",
              "1884        4150  ...                 1.440376\n",
              "1885        4151  ...                 1.440371\n",
              "\n",
              "[1886 rows x 10 columns]"
            ]
          },
          "metadata": {
            "tags": []
          },
          "execution_count": 74
        }
      ]
    },
    {
      "cell_type": "code",
      "metadata": {
        "id": "QL1qYQplBqaI"
      },
      "source": [
        "err_headers = [c.lon, c.lat] + c.ghg_bands\n",
        "errors = pd.DataFrame(columns = err_headers)\n",
        "errors.iloc[0:1]"
      ],
      "execution_count": null,
      "outputs": []
    },
    {
      "cell_type": "markdown",
      "metadata": {
        "id": "xua-CHprfZK4"
      },
      "source": [
        "## Testing"
      ]
    },
    {
      "cell_type": "markdown",
      "metadata": {
        "id": "kbeoskWgfcJD"
      },
      "source": [
        "### Test model against existing data "
      ]
    },
    {
      "cell_type": "code",
      "metadata": {
        "id": "z_H7QU3HLdMG",
        "colab": {
          "base_uri": "https://localhost:8080/"
        },
        "outputId": "f28a9bb7-0738-49b0-cd4e-9b2395c6696a"
      },
      "source": [
        "print(c.ghg_bands)\n",
        "\n",
        "# TODO replace with fyputil, OR re-implement to keep any failed measurements and\n",
        "# evaluate what you can out of them. Just because they're incomplete, that \n",
        "# doesn't make them worthless \n",
        "def getGhgs(img_path, df): \n",
        "  coords = fyputil.getCoords(str(img_path))\n",
        "  ghgs = fyputil.getValAt(coords, df)\n",
        "  concentrations = ghgs[c.ghg_bands]\n",
        "  if len(concentrations) == 0 : return None \n",
        "  if None in concentrations: return None\n",
        "  # There has to be a cleaner way to do this. Iterating through and then only getting the first line? really? \n",
        "  return [tuple(x) for x in concentrations.to_numpy()][0]"
      ],
      "execution_count": null,
      "outputs": [
        {
          "output_type": "stream",
          "text": [
            "['CO_column_number_density', 'tropospheric_HCHO_column_number_density', 'tropospheric_NO2_column_number_density', 'O3_column_number_density', 'SO2_column_number_density', 'CH4_column_volume_mixing_ratio_dry_air']\n"
          ],
          "name": "stdout"
        }
      ]
    },
    {
      "cell_type": "code",
      "metadata": {
        "id": "yDDu-x0VfYu7"
      },
      "source": [
        "mod = 0 \n",
        "\n",
        "for filename in os.listdir(c.png_dir):\n",
        "  file_ghgs = getGhgs(filename, ghg_df)\n",
        "  if file_ghgs == None: continue\n",
        "  if mod % 1 == 0:\n",
        "    print(f\"predicting ghg gases at {filename}\")\n",
        "    coords = fyputil.getCoords(filename) \n",
        "    prediction = model.predict(f\"{c.png_dir}/{filename}\")[0]\n",
        "\n",
        "    diffs = [pred - act for pred, act in zip(prediction, file_ghgs)]\n",
        "    errors.loc[len(errors)] = list(coords) + diffs\n",
        "\n",
        "    print(tuple(coords))\n",
        "    print(prediction)\n",
        "    print(file_ghgs)\n",
        "    print(diffs)\n",
        "    print()\n",
        "  mod += 1 \n",
        "\n"
      ],
      "execution_count": null,
      "outputs": []
    },
    {
      "cell_type": "code",
      "metadata": {
        "id": "FH5j7du6U1ya",
        "colab": {
          "base_uri": "https://localhost:8080/",
          "height": 444
        },
        "outputId": "05950a3f-7ad4-4c98-865c-ef6d233985e8"
      },
      "source": [
        "errors "
      ],
      "execution_count": null,
      "outputs": [
        {
          "output_type": "execute_result",
          "data": {
            "text/html": [
              "<div>\n",
              "<style scoped>\n",
              "    .dataframe tbody tr th:only-of-type {\n",
              "        vertical-align: middle;\n",
              "    }\n",
              "\n",
              "    .dataframe tbody tr th {\n",
              "        vertical-align: top;\n",
              "    }\n",
              "\n",
              "    .dataframe thead th {\n",
              "        text-align: right;\n",
              "    }\n",
              "</style>\n",
              "<table border=\"1\" class=\"dataframe\">\n",
              "  <thead>\n",
              "    <tr style=\"text-align: right;\">\n",
              "      <th></th>\n",
              "      <th>longitude</th>\n",
              "      <th>latitude</th>\n",
              "      <th>CO_column_number_density</th>\n",
              "      <th>tropospheric_HCHO_column_number_density</th>\n",
              "      <th>tropospheric_NO2_column_number_density</th>\n",
              "      <th>O3_column_number_density</th>\n",
              "      <th>SO2_column_number_density</th>\n",
              "      <th>CH4_column_volume_mixing_ratio_dry_air</th>\n",
              "    </tr>\n",
              "  </thead>\n",
              "  <tbody>\n",
              "    <tr>\n",
              "      <th>0</th>\n",
              "      <td>-0.786026</td>\n",
              "      <td>51.343210</td>\n",
              "      <td>0.064012</td>\n",
              "      <td>0.096601</td>\n",
              "      <td>-0.166440</td>\n",
              "      <td>-0.072270</td>\n",
              "      <td>-0.908078</td>\n",
              "      <td>-0.007811</td>\n",
              "    </tr>\n",
              "    <tr>\n",
              "      <th>1</th>\n",
              "      <td>0.345851</td>\n",
              "      <td>51.343210</td>\n",
              "      <td>-1.171380</td>\n",
              "      <td>0.044821</td>\n",
              "      <td>-1.061186</td>\n",
              "      <td>-1.418497</td>\n",
              "      <td>-1.168851</td>\n",
              "      <td>-1.755932</td>\n",
              "    </tr>\n",
              "    <tr>\n",
              "      <th>2</th>\n",
              "      <td>0.336868</td>\n",
              "      <td>51.361176</td>\n",
              "      <td>0.029759</td>\n",
              "      <td>-0.363708</td>\n",
              "      <td>-0.573617</td>\n",
              "      <td>-0.008925</td>\n",
              "      <td>0.766215</td>\n",
              "      <td>-0.056323</td>\n",
              "    </tr>\n",
              "    <tr>\n",
              "      <th>3</th>\n",
              "      <td>0.282969</td>\n",
              "      <td>51.370160</td>\n",
              "      <td>0.003683</td>\n",
              "      <td>0.423248</td>\n",
              "      <td>-0.850894</td>\n",
              "      <td>-0.057541</td>\n",
              "      <td>-0.221456</td>\n",
              "      <td>-0.048038</td>\n",
              "    </tr>\n",
              "    <tr>\n",
              "      <th>4</th>\n",
              "      <td>0.202121</td>\n",
              "      <td>51.379143</td>\n",
              "      <td>-0.000216</td>\n",
              "      <td>0.645236</td>\n",
              "      <td>-0.946186</td>\n",
              "      <td>-0.063093</td>\n",
              "      <td>0.212429</td>\n",
              "      <td>-0.036178</td>\n",
              "    </tr>\n",
              "    <tr>\n",
              "      <th>...</th>\n",
              "      <td>...</td>\n",
              "      <td>...</td>\n",
              "      <td>...</td>\n",
              "      <td>...</td>\n",
              "      <td>...</td>\n",
              "      <td>...</td>\n",
              "      <td>...</td>\n",
              "      <td>...</td>\n",
              "    </tr>\n",
              "    <tr>\n",
              "      <th>1900</th>\n",
              "      <td>0.318902</td>\n",
              "      <td>51.262362</td>\n",
              "      <td>0.004716</td>\n",
              "      <td>0.213528</td>\n",
              "      <td>-0.169675</td>\n",
              "      <td>-0.023972</td>\n",
              "      <td>-0.175421</td>\n",
              "      <td>-0.056347</td>\n",
              "    </tr>\n",
              "    <tr>\n",
              "      <th>1901</th>\n",
              "      <td>0.354835</td>\n",
              "      <td>51.262362</td>\n",
              "      <td>0.017985</td>\n",
              "      <td>0.233505</td>\n",
              "      <td>-0.209146</td>\n",
              "      <td>-0.034433</td>\n",
              "      <td>-0.283268</td>\n",
              "      <td>0.018875</td>\n",
              "    </tr>\n",
              "    <tr>\n",
              "      <th>1902</th>\n",
              "      <td>0.372801</td>\n",
              "      <td>51.262362</td>\n",
              "      <td>0.016011</td>\n",
              "      <td>0.171971</td>\n",
              "      <td>-0.351008</td>\n",
              "      <td>-0.016529</td>\n",
              "      <td>-0.382427</td>\n",
              "      <td>-0.020478</td>\n",
              "    </tr>\n",
              "    <tr>\n",
              "      <th>1903</th>\n",
              "      <td>0.363818</td>\n",
              "      <td>51.262362</td>\n",
              "      <td>0.018944</td>\n",
              "      <td>0.729534</td>\n",
              "      <td>-0.359175</td>\n",
              "      <td>-0.023644</td>\n",
              "      <td>-0.175394</td>\n",
              "      <td>-0.028944</td>\n",
              "    </tr>\n",
              "    <tr>\n",
              "      <th>1904</th>\n",
              "      <td>0.381784</td>\n",
              "      <td>51.262362</td>\n",
              "      <td>0.036057</td>\n",
              "      <td>-0.228068</td>\n",
              "      <td>-0.482943</td>\n",
              "      <td>-0.011446</td>\n",
              "      <td>-0.541434</td>\n",
              "      <td>-0.033949</td>\n",
              "    </tr>\n",
              "  </tbody>\n",
              "</table>\n",
              "<p>1905 rows × 8 columns</p>\n",
              "</div>"
            ],
            "text/plain": [
              "      longitude  ...  CH4_column_volume_mixing_ratio_dry_air\n",
              "0     -0.786026  ...                               -0.007811\n",
              "1      0.345851  ...                               -1.755932\n",
              "2      0.336868  ...                               -0.056323\n",
              "3      0.282969  ...                               -0.048038\n",
              "4      0.202121  ...                               -0.036178\n",
              "...         ...  ...                                     ...\n",
              "1900   0.318902  ...                               -0.056347\n",
              "1901   0.354835  ...                                0.018875\n",
              "1902   0.372801  ...                               -0.020478\n",
              "1903   0.363818  ...                               -0.028944\n",
              "1904   0.381784  ...                               -0.033949\n",
              "\n",
              "[1905 rows x 8 columns]"
            ]
          },
          "metadata": {
            "tags": []
          },
          "execution_count": 40
        }
      ]
    },
    {
      "cell_type": "code",
      "metadata": {
        "id": "ZXREDvXdRjRX"
      },
      "source": [
        "errors.to_csv(f\"{c.data_dir}/errors.csv\")"
      ],
      "execution_count": null,
      "outputs": []
    },
    {
      "cell_type": "markdown",
      "metadata": {
        "id": "aCykJTyevfYZ"
      },
      "source": [
        "### Basic stat testing \n",
        "- Data exploration \n",
        "- RMSE per GHG\n",
        "- Extract outliers & view images "
      ]
    },
    {
      "cell_type": "code",
      "metadata": {
        "id": "66_W65n-veuU"
      },
      "source": [
        "errors = pd.read_csv(f\"{c.data_dir}/errors.csv\")"
      ],
      "execution_count": 5,
      "outputs": []
    },
    {
      "cell_type": "code",
      "metadata": {
        "id": "1SzWvBN-0u8I"
      },
      "source": [
        "model_stats = pd.DataFrame(columns = [\"stat\"] + c.ghg_bands)"
      ],
      "execution_count": 33,
      "outputs": []
    },
    {
      "cell_type": "code",
      "metadata": {
        "id": "Ychfb1HGCE_0"
      },
      "source": [
        "def getRmse(series): \n",
        "  return np.sqrt(np.mean(series**2))"
      ],
      "execution_count": 73,
      "outputs": []
    },
    {
      "cell_type": "code",
      "metadata": {
        "id": "flkVCRb-wghu"
      },
      "source": [
        "# Define aggregate metrics \n",
        "means = [errors[ghg].mean() for ghg in c.ghg_bands ]\n",
        "stdevs = [errors[ghg].std() for ghg in c.ghg_bands ]\n",
        "rmse = [getRmse(errors[ghg]) for ghg in c.ghg_bands ]\n",
        "min = [ghg_df[ghg].min() for ghg in c.ghg_bands]\n",
        "max = [ghg_df[ghg].max() for ghg in c.ghg_bands]\n",
        "range = [maxval - minval for maxval, minval in zip(max, min)]\n",
        "rmse_as_pct = [(errval / rngval) * 100 for errval, rngval in zip(rmse, range)]\n",
        "\n",
        "model_stats.loc[1] = [\"Mean\"] + means\n",
        "model_stats.loc[2] = [\"Standard Deviation\"] + stdevs \n",
        "model_stats.loc[3] = [\"Min\"] + min\n",
        "model_stats.loc[4] = [\"Max\"] + max\n",
        "model_stats.loc[5] = [\"Range\"] + range\n",
        "model_stats.loc[6] = [\"RMSE\"] + rmse\n",
        "model_stats.loc[7] = [\"RMSE as percentage\"] + rmse_as_pct"
      ],
      "execution_count": 79,
      "outputs": []
    },
    {
      "cell_type": "code",
      "metadata": {
        "id": "sUT_KzHcJPsA",
        "outputId": "7dc5260a-7c94-46da-8fa6-e5b0d61c1ca3",
        "colab": {
          "base_uri": "https://localhost:8080/",
          "height": 324
        }
      },
      "source": [
        "model_stats"
      ],
      "execution_count": 80,
      "outputs": [
        {
          "output_type": "execute_result",
          "data": {
            "text/html": [
              "<div>\n",
              "<style scoped>\n",
              "    .dataframe tbody tr th:only-of-type {\n",
              "        vertical-align: middle;\n",
              "    }\n",
              "\n",
              "    .dataframe tbody tr th {\n",
              "        vertical-align: top;\n",
              "    }\n",
              "\n",
              "    .dataframe thead th {\n",
              "        text-align: right;\n",
              "    }\n",
              "</style>\n",
              "<table border=\"1\" class=\"dataframe\">\n",
              "  <thead>\n",
              "    <tr style=\"text-align: right;\">\n",
              "      <th></th>\n",
              "      <th>stat</th>\n",
              "      <th>CO_column_number_density</th>\n",
              "      <th>tropospheric_HCHO_column_number_density</th>\n",
              "      <th>tropospheric_NO2_column_number_density</th>\n",
              "      <th>O3_column_number_density</th>\n",
              "      <th>SO2_column_number_density</th>\n",
              "      <th>CH4_column_volume_mixing_ratio_dry_air</th>\n",
              "    </tr>\n",
              "  </thead>\n",
              "  <tbody>\n",
              "    <tr>\n",
              "      <th>1</th>\n",
              "      <td>Mean</td>\n",
              "      <td>-0.026073</td>\n",
              "      <td>0.038114</td>\n",
              "      <td>0.059857</td>\n",
              "      <td>-0.089485</td>\n",
              "      <td>-0.079536</td>\n",
              "      <td>-0.039068</td>\n",
              "    </tr>\n",
              "    <tr>\n",
              "      <th>2</th>\n",
              "      <td>Standard Deviation</td>\n",
              "      <td>0.390438</td>\n",
              "      <td>0.850026</td>\n",
              "      <td>0.712047</td>\n",
              "      <td>0.220735</td>\n",
              "      <td>0.762539</td>\n",
              "      <td>0.611025</td>\n",
              "    </tr>\n",
              "    <tr>\n",
              "      <th>3</th>\n",
              "      <td>Min</td>\n",
              "      <td>3.233004</td>\n",
              "      <td>4.034831</td>\n",
              "      <td>4.384961</td>\n",
              "      <td>1.434829</td>\n",
              "      <td>1.023293</td>\n",
              "      <td>1.841980</td>\n",
              "    </tr>\n",
              "    <tr>\n",
              "      <th>4</th>\n",
              "      <td>Max</td>\n",
              "      <td>3.353762</td>\n",
              "      <td>8.663142</td>\n",
              "      <td>7.415872</td>\n",
              "      <td>1.441546</td>\n",
              "      <td>5.474309</td>\n",
              "      <td>1.865473</td>\n",
              "    </tr>\n",
              "    <tr>\n",
              "      <th>5</th>\n",
              "      <td>Range</td>\n",
              "      <td>0.120758</td>\n",
              "      <td>4.628312</td>\n",
              "      <td>3.030911</td>\n",
              "      <td>0.006717</td>\n",
              "      <td>4.451017</td>\n",
              "      <td>0.023493</td>\n",
              "    </tr>\n",
              "    <tr>\n",
              "      <th>6</th>\n",
              "      <td>RMSE</td>\n",
              "      <td>0.391205</td>\n",
              "      <td>0.850658</td>\n",
              "      <td>0.714373</td>\n",
              "      <td>0.238130</td>\n",
              "      <td>0.766477</td>\n",
              "      <td>0.612113</td>\n",
              "    </tr>\n",
              "    <tr>\n",
              "      <th>7</th>\n",
              "      <td>RMSE as percentage</td>\n",
              "      <td>323.959098</td>\n",
              "      <td>18.379436</td>\n",
              "      <td>23.569568</td>\n",
              "      <td>3545.247403</td>\n",
              "      <td>17.220258</td>\n",
              "      <td>2605.505891</td>\n",
              "    </tr>\n",
              "  </tbody>\n",
              "</table>\n",
              "</div>"
            ],
            "text/plain": [
              "                 stat  ...  CH4_column_volume_mixing_ratio_dry_air\n",
              "1                Mean  ...                               -0.039068\n",
              "2  Standard Deviation  ...                                0.611025\n",
              "3                 Min  ...                                1.841980\n",
              "4                 Max  ...                                1.865473\n",
              "5               Range  ...                                0.023493\n",
              "6                RMSE  ...                                0.612113\n",
              "7  RMSE as percentage  ...                             2605.505891\n",
              "\n",
              "[7 rows x 7 columns]"
            ]
          },
          "metadata": {
            "tags": []
          },
          "execution_count": 80
        }
      ]
    },
    {
      "cell_type": "code",
      "metadata": {
        "id": "tLqBOX23GdTG"
      },
      "source": [
        "# Finding error rate as a percentage based on RMSE "
      ],
      "execution_count": null,
      "outputs": []
    },
    {
      "cell_type": "code",
      "metadata": {
        "id": "SIG3A3uMGDLJ"
      },
      "source": [
        "# Find outliers "
      ],
      "execution_count": null,
      "outputs": []
    },
    {
      "cell_type": "markdown",
      "metadata": {
        "id": "9wOg6CkVfnnb"
      },
      "source": [
        "### Sample images vs predictions \n",
        "what regions are easier to predict than others? \n",
        "\n",
        "create accuracy heatmap "
      ]
    },
    {
      "cell_type": "code",
      "metadata": {
        "id": "udr8LN2Pfzg9"
      },
      "source": [
        ""
      ],
      "execution_count": null,
      "outputs": []
    },
    {
      "cell_type": "markdown",
      "metadata": {
        "id": "DfxyWGU-fwLW"
      },
      "source": [
        "### Activation Mapping"
      ]
    }
  ]
}