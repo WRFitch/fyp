{
  "nbformat": 4,
  "nbformat_minor": 0,
  "metadata": {
    "colab": {
      "name": "fyp_ai_analysis.ipynb",
      "provenance": [],
      "collapsed_sections": [],
      "authorship_tag": "ABX9TyPsTrB5lJB36BN2X0N9A6qr",
      "include_colab_link": true
    },
    "kernelspec": {
      "name": "python3",
      "display_name": "Python 3"
    },
    "accelerator": "GPU"
  },
  "cells": [
    {
      "cell_type": "markdown",
      "metadata": {
        "id": "view-in-github",
        "colab_type": "text"
      },
      "source": [
        "<a href=\"https://colab.research.google.com/github/WRFitch/fyp/blob/main/src/fyp_ai_analysis.ipynb\" target=\"_parent\"><img src=\"https://colab.research.google.com/assets/colab-badge.svg\" alt=\"Open In Colab\"/></a>"
      ]
    },
    {
      "cell_type": "markdown",
      "metadata": {
        "id": "5rZJ0A7VHt1c"
      },
      "source": [
        "# AI data analysis"
      ]
    },
    {
      "cell_type": "markdown",
      "metadata": {
        "id": "-WQOjbqpH1R4"
      },
      "source": [
        "### Setup\n",
        "- Install & import necessary libraries"
      ]
    },
    {
      "cell_type": "code",
      "metadata": {
        "colab": {
          "base_uri": "https://localhost:8080/"
        },
        "id": "8xcBuy9iHmAp",
        "outputId": "a42c805a-63f6-4c05-8f6c-0867f9797a59"
      },
      "source": [
        "!pip uninstall fastai"
      ],
      "execution_count": 2,
      "outputs": [
        {
          "output_type": "stream",
          "text": [
            "Uninstalling fastai-1.0.61:\n",
            "  Would remove:\n",
            "    /usr/local/lib/python3.6/dist-packages/fastai-1.0.61.dist-info/*\n",
            "    /usr/local/lib/python3.6/dist-packages/fastai/*\n",
            "Proceed (y/n)? y\n",
            "  Successfully uninstalled fastai-1.0.61\n"
          ],
          "name": "stdout"
        }
      ]
    },
    {
      "cell_type": "code",
      "metadata": {
        "id": "UYo6jIv4H-8q"
      },
      "source": [
        "# Sometimes the colab fastai version can be wrong, so we reinstall with no cache\n",
        "# uninstalling, reinstalling, and restarting runtime should fix any major issues. \n",
        "!pip install -U --no-cache-dir fastai"
      ],
      "execution_count": null,
      "outputs": []
    },
    {
      "cell_type": "code",
      "metadata": {
        "id": "4-ONstZjIIOb"
      },
      "source": [
        "import numpy as np\n",
        "import pandas as pd\n",
        "\n",
        "from fastai import *\n",
        "from fastai.tabular import *\n",
        "from fastai.vision import *\n",
        "from fastai.vision.all import *\n",
        "import matplotlib.pyplot as plt"
      ],
      "execution_count": 1,
      "outputs": []
    },
    {
      "cell_type": "code",
      "metadata": {
        "id": "W3x19AWpIUg3"
      },
      "source": [
        "drive.mount('/content/drive')\n",
        "\n",
        "#print(fastai.__version__)"
      ],
      "execution_count": null,
      "outputs": []
    },
    {
      "cell_type": "markdown",
      "metadata": {
        "id": "pufuhgERLQdN"
      },
      "source": [
        "### Data Pre-processing\n",
        "\n",
        "##### TODO\n",
        "- preprocess images \n",
        "- Slice low-res images \n",
        "- upscale low-res ones to be the same size as the required input \n",
        "- resize high-res test outputs to required output\n",
        "- Map low-res input images to high-res output images using GeoTIFF metadata \n",
        "- utilise image transformations to expand dataset as much as possible \n",
        "   - Rotations \n",
        "   - Translations \n",
        "   - use the same data at different times of year/day \n",
        "   - Different countries "
      ]
    },
    {
      "cell_type": "code",
      "metadata": {
        "id": "YIzshMBG1_O7"
      },
      "source": [
        "drive_path = \"/content/drive/MyDrive/\""
      ],
      "execution_count": null,
      "outputs": []
    },
    {
      "cell_type": "code",
      "metadata": {
        "id": "vaakyRVgLP4a"
      },
      "source": [
        "# Import data from google drive \n",
        "img_path = drive_path\n",
        "imgs = get_image_files(drive_path/\"imgs\")\n",
        "len(imgs)\n",
        "\n"
      ],
      "execution_count": null,
      "outputs": []
    },
    {
      "cell_type": "code",
      "metadata": {
        "id": "nFnm9ebP2vLB"
      },
      "source": [
        "# Define a label function for image data\n",
        "# \n",
        "def label_func(file): "
      ],
      "execution_count": null,
      "outputs": []
    },
    {
      "cell_type": "code",
      "metadata": {
        "id": "Ag3tq2lA7NIO"
      },
      "source": [
        "# Define ImageDataLoader\n",
        "# TODO look into other item_tfms options - what other transforms can be done?\n",
        "# - 90-degree rotations\n",
        "# - Movement/translations \n",
        "imgDataLoader = ImageDataLoaders.from_name_func(img_path, imgs, label_func, item_tfms=Resize(224))\n",
        "imgDataLoader.show_batch()"
      ],
      "execution_count": null,
      "outputs": []
    },
    {
      "cell_type": "code",
      "metadata": {
        "id": "z6IRAqLL_5Rf"
      },
      "source": [
        "imgLearner = cnn_learner(dls, resnet34, metrics=error_rate)\n",
        "imgLearner.fine_tune(1)"
      ],
      "execution_count": null,
      "outputs": []
    },
    {
      "cell_type": "markdown",
      "metadata": {
        "id": "8VRArNC3JDPD"
      },
      "source": [
        "### Training\n",
        "\n",
        "- Train image-based predictor to guess greenhouse gas concentrations based on 1km square of land. \n",
        "  - Transfer an ImageNet predictor to work top-down\n",
        "  - Start by predicting one ghg and expand from there\n",
        "- Use image predictor to extract a basic feature set by slicing the network at different points. The idea is to limit the amount of data going into the tabular recommender, while transferring as much useful data as possible. We want to implicitly extract GHG-emitting features of each image without losing any detail, as a form of convolutional preprocessing. \n",
        "- pipe this feature extractor into a tabular recommender along with other feature data that may either improve tabular predictions by influencing GHG concentrations, or hint at subtle relationships between prospectively disparate factors:\n",
        "  - Land prices\n",
        "  - Prevailing wind direction \n",
        "  - Land use \n",
        "  - Population density\n",
        "  - Economic output\n",
        "  - Land height\n",
        "  - Biodiversity\n",
        "  - Atmospheric water vapour. \n",
        "  - **NB This is not something to get excessively distracted by - finish the basics before looking for further data** "
      ]
    },
    {
      "cell_type": "code",
      "metadata": {
        "id": "AqaXaRcewC8s"
      },
      "source": [
        ""
      ],
      "execution_count": null,
      "outputs": []
    },
    {
      "cell_type": "code",
      "metadata": {
        "id": "WmDaIrlzwK6U"
      },
      "source": [
        "# Tabular Predictor "
      ],
      "execution_count": null,
      "outputs": []
    },
    {
      "cell_type": "markdown",
      "metadata": {
        "id": "qcsQWY0rH3nZ"
      },
      "source": [
        "### Analysis"
      ]
    },
    {
      "cell_type": "code",
      "metadata": {
        "id": "h3B8WuW7IEY4"
      },
      "source": [
        ""
      ],
      "execution_count": null,
      "outputs": []
    }
  ]
}