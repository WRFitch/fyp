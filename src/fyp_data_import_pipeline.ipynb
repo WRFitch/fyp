{
  "nbformat": 4,
  "nbformat_minor": 0,
  "metadata": {
    "colab": {
      "name": "fyp_data_import_pipeline.ipynb",
      "provenance": [],
      "collapsed_sections": [],
      "toc_visible": true,
      "include_colab_link": true
    },
    "kernelspec": {
      "name": "python3",
      "display_name": "Python 3"
    }
  },
  "cells": [
    {
      "cell_type": "markdown",
      "metadata": {
        "id": "view-in-github",
        "colab_type": "text"
      },
      "source": [
        "<a href=\"https://colab.research.google.com/github/WRFitch/fyp/blob/main/src/fyp_data_import_pipeline.ipynb\" target=\"_parent\"><img src=\"https://colab.research.google.com/assets/colab-badge.svg\" alt=\"Open In Colab\"/></a>"
      ]
    },
    {
      "cell_type": "markdown",
      "metadata": {
        "id": "vBYK4VpU-2tn"
      },
      "source": [
        "# Data Import Pipeline\n",
        "It's a pipeline that imports the data I need. \n",
        "\n",
        "### TODO\n",
        "- fix image export distortion \n",
        "- Import CO2 dataset\n",
        "- Extract unnecessary methods into normal python files and import where necessary. "
      ]
    },
    {
      "cell_type": "markdown",
      "metadata": {
        "id": "16Ua09qtJqgw"
      },
      "source": [
        "## Setup\n",
        "*   Import necessary libraries\n",
        "*   Set up Earth Engine authentication and mount google drive  \n"
      ]
    },
    {
      "cell_type": "code",
      "metadata": {
        "id": "OT1lreKK1bXw"
      },
      "source": [
        "import ee\n",
        "import folium\n",
        "import os\n",
        "\n",
        "from google.colab import drive\n",
        "from osgeo import gdal\n",
        "from PIL import Image\n",
        "from pprint import pprint"
      ],
      "execution_count": 2,
      "outputs": []
    },
    {
      "cell_type": "code",
      "metadata": {
        "id": "ACtrAfnVnOjt"
      },
      "source": [
        "ee.Authenticate()\n",
        "ee.Initialize()"
      ],
      "execution_count": null,
      "outputs": []
    },
    {
      "cell_type": "code",
      "metadata": {
        "id": "mLUtYn4SndcT",
        "colab": {
          "base_uri": "https://localhost:8080/"
        },
        "outputId": "318f171b-75e7-49a4-bf2c-89ff77923efc"
      },
      "source": [
        "drive.mount('/content/drive')\n",
        "\n",
        "print(folium.__version__)"
      ],
      "execution_count": 4,
      "outputs": [
        {
          "output_type": "stream",
          "text": [
            "Mounted at /content/drive\n",
            "0.8.3\n"
          ],
          "name": "stdout"
        }
      ]
    },
    {
      "cell_type": "markdown",
      "metadata": {
        "id": "jZUKXEfUiEtZ"
      },
      "source": [
        "# Dataset import\n",
        "\n",
        "### Import the following datasets into Google Drive\n",
        "\n",
        "*   [Sentinel-2 Satellite photography](https://developers.google.com/earth-engine/datasets/catalog/COPERNICUS_S2_SR)\n",
        "*   [Sentinel-5 Precursor Data](https://developers.google.com/earth-engine/datasets/catalog/sentinel)\n",
        "  *   [Carbon Monoxide](https://developers.google.com/earth-engine/datasets/catalog/COPERNICUS_S5P_OFFL_L3_CO)\n",
        "  *   [Formaldehyde](https://developers.google.com/earth-engine/datasets/catalog/COPERNICUS_S5P_OFFL_L3_HCHO)\n",
        "  *   [Nitrogen Dioxide](https://developers.google.com/earth-engine/datasets/catalog/COPERNICUS_S5P_OFFL_L3_NO2)\n",
        "  *   [Ozone](https://developers.google.com/earth-engine/datasets/catalog/COPERNICUS_S5P_OFFL_L3_O3)\n",
        "  *   [Sulphur Dioxide](https://developers.google.com/earth-engine/datasets/catalog/COPERNICUS_S5P_OFFL_L3_SO2)\n",
        "  *   [Methane](https://developers.google.com/earth-engine/datasets/catalog/COPERNICUS_S5P_OFFL_L3_CH4)\n",
        "*   [ODIAC Fossil Fuel CO2 Emissions](https://db.cger.nies.go.jp/dataset/ODIAC/DL_odiac2019.html)"
      ]
    },
    {
      "cell_type": "code",
      "metadata": {
        "id": "xQZlTc5Rf-LC"
      },
      "source": [
        "# Earth engine username, used to import classified image into ee assets folder\n",
        "USERNAME = 'wrfitch'\n",
        "OUTPUT_DIR = USERNAME + \"/out/\"\n",
        "\n",
        "# Define image collections for each dataset to be used \n",
        "s2 = ee.ImageCollection(\"COPERNICUS/S2_SR\")\n",
        "s5_CO = ee.ImageCollection(\"COPERNICUS/S5P/OFFL/L3_CO\")\n",
        "s5_HCHO = ee.ImageCollection(\"COPERNICUS/S5P/OFFL/L3_HCHO\")\n",
        "s5_NO2 = ee.ImageCollection(\"COPERNICUS/S5P/OFFL/L3_NO2\")\n",
        "s5_O3 = ee.ImageCollection(\"COPERNICUS/S5P/OFFL/L3_O3\")\n",
        "s5_SO2 = ee.ImageCollection(\"COPERNICUS/S5P/OFFL/L3_SO2\")\n",
        "s5_CH4 = ee.ImageCollection(\"COPERNICUS/S5P/OFFL/L3_CH4\")\n",
        "#TODO import CO2 dataset\n",
        "\n",
        "CO_band = 'CO_column_number_density'\n",
        "HCHO_band = 'tropospheric_HCHO_column_number_density'\n",
        "NO2_band = 'tropospheric_NO2_column_number_density'\n",
        "O3_band = 'O3_column_number_density'\n",
        "SO2_band = 'SO2_column_number_density'\n",
        "CH4_band = 'CH4_column_volume_mixing_ratio_dry_air'\n",
        "\n",
        "# Define dataset boundaries for britain and london \n",
        "# TODO work out polygon segmentation algo - there's probably a clever algorithm for this, but I could also just iterate \n",
        "#      through simple squares that fit my bandwidth and storage constraints. I run out of memory when using the gbr \n",
        "#      polygon anyway, so an iterative approach is necessary. \n",
        "# TODO evaluate projections as a source of potential image distortion \n",
        "great_britain = ee.Geometry.Polygon(\n",
        "        [[[-1.836112801004015, 59.808076330562756],\n",
        "          [-8.779472176004015, 58.82140293049428],\n",
        "          [-7.988456551004015, 55.71069203454839],\n",
        "          [-11.196464363504015, 54.42753859549109],\n",
        "          [-11.328300301004015, 50.967746003015044],\n",
        "          [-9.526542488504015, 50.77361752815123],\n",
        "          [-6.274589363504015, 51.81776248652293],\n",
        "          [-5.395683113504015, 51.21615275310099],\n",
        "          [-6.582206551004015, 49.56332371186494],\n",
        "          [-3.110526863504015, 49.904165426606255],\n",
        "          [1.240059073995985, 50.80139967619036],\n",
        "          [2.426582511495985, 52.33095407387208],\n",
        "          [1.767402823995985, 53.4183511305661],\n",
        "          [0.5369340739959849, 53.44453305344514],\n",
        "          [-1.616386238504015, 56.32474216074427],\n",
        "          [-0.7814253010040151, 57.805828290000164]]])\n",
        "\n",
        "london = ee.Geometry.Polygon(\n",
        "        [[[-1.0666833726431624, 51.89360084338857],\n",
        "          [-0.9321008531119124, 51.38908166135181],\n",
        "          [-0.18503054061191238, 51.08470683562287],\n",
        "          [0.4741491468881076, 51.193274483099074],\n",
        "          [0.9822668226693576, 51.60282356474035],\n",
        "          [0.2269567640756076, 52.071221592742454]]])\n",
        "\n",
        "uxbridge = ee.Geometry.Rectangle(\n",
        "        [[-0.5585304622116949, 51.577993458567235],\n",
        "         [-0.3951088313523199, 51.51009512268249]])\n",
        "\n",
        "# Used to check scaling is a-ok\n",
        "millennium_dome = ee.Geometry.Polygon(\n",
        "        [[[0, 51.51],\n",
        "          [0, 51.49],\n",
        "          [0.02, 51.49],\n",
        "          [0.02, 51.51]]]);\n",
        "\n",
        "greenwich = ee.Geometry.Polygon(\n",
        "        [[[-0.0, 51.55],\n",
        "          [-0.0, 51.45],\n",
        "          [0.1, 51.45],\n",
        "          [0.1, 51.55]]]);\n",
        "\n",
        "eq_box = ee.Geometry.Polygon(\n",
        "        [[[-65.9, -0.2],\n",
        "          [-65.9, -0.3],\n",
        "          [-65.8, -0.3],\n",
        "          [-65.8, -0.2]]]);\n",
        "\n",
        "portland_maine_big = ee.Geometry.Polygon(\n",
        "        [[[-70.3, 43.7],\n",
        "          [-70.3, 43.6],\n",
        "          [-70.2, 43.6],\n",
        "          [-70.2, 43.7]]]);\n",
        "\n",
        "bordeaux = ee.Geometry.Polygon(\n",
        "        [[[-0.8, 44.9],\n",
        "          [-0.8, 44.80],\n",
        "          [-0.70, 44.8],\n",
        "          [-0.70, 44.9]]]);\n",
        "\n",
        "eiffel = ee.Geometry.Polygon(\n",
        "        [[[2.2, 48.9],\n",
        "          [2.2, 48.8],\n",
        "          [2.3, 48.8],\n",
        "          [2.3, 48.9]]]);\n",
        "\n",
        "nairobi = ee.Geometry.Polygon(\n",
        "        [[[37.09, -1.19],\n",
        "          [37.09, -1.21],\n",
        "          [37.07, -1.21],\n",
        "          [37.07, -1.19]]]);\n",
        "\n",
        "most_of_earth = ee.Geometry.Polygon(\n",
        "        [[[-177.32831443211026, 84.89714695160266],\n",
        "          [-177.32831443211026, -84.77052832075908],\n",
        "          [173.5310605678897, -84.77052832075908],\n",
        "          [173.5310605678897, 84.89714695160266]]]);\n",
        "\n",
        "#define crs object so we can use the same coordinate reference system on everything. \n",
        "#crs = ee.Projection.\n",
        "\n",
        "# Could the start and end dates be shifted or focused on one area, so emissions can be monitored across the seasons? \n",
        "# would that even be useful? \n",
        "start_date = '2020-01-01'\n",
        "end_date = '2020-12-31'\n",
        "vis_palette = ['black', 'blue', 'purple', 'cyan', 'green', 'yellow', 'red']\n",
        "\n",
        "drive_path = \"/content/drive/MyDrive/\""
      ],
      "execution_count": 156,
      "outputs": []
    },
    {
      "cell_type": "markdown",
      "metadata": {
        "id": "sTZipoKOJNyg"
      },
      "source": [
        "### Visualise Data"
      ]
    },
    {
      "cell_type": "code",
      "metadata": {
        "id": "liIZ0y0JnSjY"
      },
      "source": [
        "# Import datasets \n",
        "# TODO analyse whether these min/max values are valid, recalibrate for highest variance where necessary. Separate values\n",
        "#      may be necessary for different samples - for example, the perfect calibration for the UK won't work on the world. \n",
        "# TODO analyse whether it makes sense to analyse these on a highly localised level\n",
        "\n",
        "# pre-filter to remove clouds - we can add them back in as data points from sentinel 5 if necessary\n",
        "def maskS2clouds(image) :\n",
        "  qa = image.select('QA60');\n",
        "\n",
        "  # Bits 10 and 11 are clouds and cirrus, respectively.\n",
        "  cloud_bitmask = 1 << 10\n",
        "  cirrus_bitmask = 1 << 11\n",
        "\n",
        "  # Both flags should be set to zero, indicating clear conditions.\n",
        "  mask = qa.bitwiseAnd(cloud_bitmask).eq(0).And( \\\n",
        "         qa.bitwiseAnd(cirrus_bitmask).eq(0))\n",
        "\n",
        "  return image.updateMask(mask).divide(10000)\n",
        "\n",
        "# High-resolution satellite photograph \n",
        "s2_img = s2.filterDate(start_date, end_date) \\\n",
        "           .filter(ee.Filter.lt('CLOUDY_PIXEL_PERCENTAGE', 20)) \\\n",
        "           .map(maskS2clouds).median()\n",
        "s2_id = s2_img.getMapId({'bands': ['B4', 'B3', 'B2'], \\\n",
        "                        'min': 0, \\\n",
        "                        'max': 0.3})\n",
        "\n",
        "mildome = s2.filterDate(start_date, end_date) \\\n",
        "           .filter(ee.Filter.lt('CLOUDY_PIXEL_PERCENTAGE', 20)) \\\n",
        "           .filterBounds(millennium_dome) \\\n",
        "           .map(maskS2clouds).median()\n",
        "\n",
        "equator_test = s2.filterDate(start_date, end_date) \\\n",
        "           .filter(ee.Filter.lt('CLOUDY_PIXEL_PERCENTAGE', 20)) \\\n",
        "           .filterBounds(eq_box) \\\n",
        "           .map(maskS2clouds).median()\n",
        "\n",
        "# Carbon monoxide\n",
        "# Minmax scale is a bit off - recalibrate for Britain \n",
        "CO_img = s5_CO.filterDate(start_date, end_date) \\\n",
        "              .filterBounds(great_britain) \\\n",
        "              .select(CO_band).mean()\n",
        "CO_id = CO_img.getMapId( \\\n",
        "    {'palette': vis_palette, \\\n",
        "    'min': 0, \\\n",
        "    'max': 0.05})\n",
        "\n",
        "# Formaldehyde\n",
        "# Minmax scale is a bit off - recalibrate for Britain\n",
        "HCHO_img = s5_HCHO.filterDate(start_date, end_date) \\\n",
        "                  .filterBounds(great_britain) \\\n",
        "                  .select(HCHO_band).mean()\n",
        "HCHO_id = HCHO_img.getMapId( \\\n",
        "    {'palette': vis_palette, \\\n",
        "    'min': 0.0, \\\n",
        "    'max': 0.0003})\n",
        "\n",
        "# Nitrogen Dioxide\n",
        "NO2_img = s5_NO2.filterDate(start_date, end_date) \\\n",
        "                .filterBounds(great_britain) \\\n",
        "                .select(NO2_band).mean()\n",
        "NO2_id = NO2_img.getMapId( \\\n",
        "    {'palette': vis_palette, \\\n",
        "    'min': 0.0, \\\n",
        "    'max': 0.0002})\n",
        "\n",
        "# Ozone\n",
        "O3_img = s5_O3.filterDate(start_date, end_date) \\\n",
        "              .filterBounds(great_britain) \\\n",
        "              .select(O3_band).mean()\n",
        "O3_id = O3_img.getMapId( \\\n",
        "    {'palette': vis_palette, \\\n",
        "    'min': 0.12, \\\n",
        "    'max': 0.15})\n",
        "\n",
        "# Sulphur Dioxide\n",
        "SO2_img = s5_SO2.filterDate(start_date, end_date) \\\n",
        "                .filterBounds(great_britain) \\\n",
        "                .select(SO2_band).mean()\n",
        "SO2_id = SO2_img.getMapId( \\\n",
        "    {'palette': vis_palette, \\\n",
        "    'min': 0.0, \\\n",
        "    'max': 0.0005})\n",
        "\n",
        "# Methane\n",
        "CH4_img = s5_CH4.filterDate(start_date, end_date) \\\n",
        "                .filterBounds(great_britain) \\\n",
        "                .select(CH4_band).mean()\n",
        "CH4_id = CH4_img.getMapId( \\\n",
        "    {'palette': vis_palette, \\\n",
        "    'min': 1750, \\\n",
        "    'max': 1900})"
      ],
      "execution_count": 103,
      "outputs": []
    },
    {
      "cell_type": "code",
      "metadata": {
        "id": "lUZZBD9fhUUw"
      },
      "source": [
        "# For easier iteration down the line. I know I'm not supposed to, but google can't tell me what to do, even if it's a good idea!\n",
        "ghg_imgs = [CO_img, HCHO_img, NO2_img, O3_img, SO2_img, CH4_img]\n",
        "ghg_ids = [CO_id, HCHO_id, NO2_id, O3_id, SO2_id, CH4_id]"
      ],
      "execution_count": 7,
      "outputs": []
    },
    {
      "cell_type": "code",
      "metadata": {
        "id": "QCsfkjOE8y_H",
        "colab": {
          "base_uri": "https://localhost:8080/",
          "height": 915
        },
        "outputId": "b4336b43-5d13-4b82-af1d-93b0ecc5461e"
      },
      "source": [
        "# Visualise data on a Folium map \n",
        "# Attribution has to stay earthengine.google.com, since that's where these maps came from. \n",
        "map = folium.Map(\n",
        "    location = [0, 10], \n",
        "    prefer_canvas = True)\n",
        "\n",
        "layerOpacity = 0.5\n",
        "\n",
        "folium.TileLayer(\n",
        "    tiles = s2_id['tile_fetcher'].url_format,\n",
        "    attr = 'Map Data &copy; <a href=\"https://earthengine.google.com/\">Google Earth Engine</a>',\n",
        "    overlay = True,\n",
        "    name = 'satellite photography median composite ',\n",
        "    format = 'png'\n",
        "  ).add_to(map)\n",
        "\n",
        "folium.TileLayer(\n",
        "    tiles = CO_id['tile_fetcher'].url_format,\n",
        "    attr = 'Map Data &copy; <a href=\"https://earthengine.google.com/\">Google Earth Engine</a>',\n",
        "    overlay = True,\n",
        "    name = 'Carbon Monoxide',\n",
        "    opacity = layerOpacity\n",
        "  ).add_to(map)\n",
        "\n",
        "folium.TileLayer(\n",
        "    tiles = HCHO_id['tile_fetcher'].url_format,\n",
        "    attr = 'Map Data &copy; <a href=\"https://earthengine.google.com/\">Google Earth Engine</a>',\n",
        "    overlay = True,\n",
        "    name = 'Formaldehyde',\n",
        "    opacity = layerOpacity\n",
        "  ).add_to(map)\n",
        "\n",
        "folium.TileLayer(\n",
        "    tiles = NO2_id['tile_fetcher'].url_format,\n",
        "    attr = 'Map Data &copy; <a href=\"https://earthengine.google.com/\">Google Earth Engine</a>',\n",
        "    overlay = True,\n",
        "    name = 'Nitrogen Dioxide',\n",
        "    opacity = layerOpacity\n",
        "  ).add_to(map)\n",
        "\n",
        "folium.TileLayer(\n",
        "    tiles = O3_id['tile_fetcher'].url_format,\n",
        "    attr = 'Map Data &copy; <a href=\"https://earthengine.google.com/\">Google Earth Engine</a>',\n",
        "    overlay = True,\n",
        "    name = 'Ozone',\n",
        "    opacity = layerOpacity\n",
        "  ).add_to(map)\n",
        "\n",
        "folium.TileLayer(\n",
        "    tiles = SO2_id['tile_fetcher'].url_format,\n",
        "    attr = 'Map Data &copy; <a href=\"https://earthengine.google.com/\">Google Earth Engine</a>',\n",
        "    overlay = True,\n",
        "    name = 'Sulphur Dioxide',\n",
        "    opacity = layerOpacity\n",
        "  ).add_to(map)\n",
        "\n",
        "folium.TileLayer(\n",
        "    tiles = CH4_id['tile_fetcher'].url_format,\n",
        "    attr = 'Map Data &copy; <a href=\"https://earthengine.google.com/\">Google Earth Engine</a>',\n",
        "    overlay = True,\n",
        "    name = 'Methane',\n",
        "    opacity = layerOpacity\n",
        "  ).add_to(map)\n",
        "  \n",
        "map.add_child(folium.LayerControl())\n",
        "map"
      ],
      "execution_count": 139,
      "outputs": [
        {
          "output_type": "execute_result",
          "data": {
            "text/html": [
              "<div style=\"width:100%;\"><div style=\"position:relative;width:100%;height:0;padding-bottom:60%;\"><span style=\"color:#565656\">Make this Notebook Trusted to load map: File -> Trust Notebook</span><iframe src=\"about:blank\" style=\"position:absolute;width:100%;height:100%;left:0;top:0;border:none !important;\" data-html=%3C%21DOCTYPE%20html%3E%0A%3Chead%3E%20%20%20%20%0A%20%20%20%20%3Cmeta%20http-equiv%3D%22content-type%22%20content%3D%22text/html%3B%20charset%3DUTF-8%22%20/%3E%0A%20%20%20%20%3Cscript%3EL_PREFER_CANVAS%3Dtrue%3B%20L_NO_TOUCH%3Dfalse%3B%20L_DISABLE_3D%3Dfalse%3B%3C/script%3E%0A%20%20%20%20%3Cscript%20src%3D%22https%3A//cdn.jsdelivr.net/npm/leaflet%401.4.0/dist/leaflet.js%22%3E%3C/script%3E%0A%20%20%20%20%3Cscript%20src%3D%22https%3A//code.jquery.com/jquery-1.12.4.min.js%22%3E%3C/script%3E%0A%20%20%20%20%3Cscript%20src%3D%22https%3A//maxcdn.bootstrapcdn.com/bootstrap/3.2.0/js/bootstrap.min.js%22%3E%3C/script%3E%0A%20%20%20%20%3Cscript%20src%3D%22https%3A//cdnjs.cloudflare.com/ajax/libs/Leaflet.awesome-markers/2.0.2/leaflet.awesome-markers.js%22%3E%3C/script%3E%0A%20%20%20%20%3Clink%20rel%3D%22stylesheet%22%20href%3D%22https%3A//cdn.jsdelivr.net/npm/leaflet%401.4.0/dist/leaflet.css%22/%3E%0A%20%20%20%20%3Clink%20rel%3D%22stylesheet%22%20href%3D%22https%3A//maxcdn.bootstrapcdn.com/bootstrap/3.2.0/css/bootstrap.min.css%22/%3E%0A%20%20%20%20%3Clink%20rel%3D%22stylesheet%22%20href%3D%22https%3A//maxcdn.bootstrapcdn.com/bootstrap/3.2.0/css/bootstrap-theme.min.css%22/%3E%0A%20%20%20%20%3Clink%20rel%3D%22stylesheet%22%20href%3D%22https%3A//maxcdn.bootstrapcdn.com/font-awesome/4.6.3/css/font-awesome.min.css%22/%3E%0A%20%20%20%20%3Clink%20rel%3D%22stylesheet%22%20href%3D%22https%3A//cdnjs.cloudflare.com/ajax/libs/Leaflet.awesome-markers/2.0.2/leaflet.awesome-markers.css%22/%3E%0A%20%20%20%20%3Clink%20rel%3D%22stylesheet%22%20href%3D%22https%3A//rawcdn.githack.com/python-visualization/folium/master/folium/templates/leaflet.awesome.rotate.css%22/%3E%0A%20%20%20%20%3Cstyle%3Ehtml%2C%20body%20%7Bwidth%3A%20100%25%3Bheight%3A%20100%25%3Bmargin%3A%200%3Bpadding%3A%200%3B%7D%3C/style%3E%0A%20%20%20%20%3Cstyle%3E%23map%20%7Bposition%3Aabsolute%3Btop%3A0%3Bbottom%3A0%3Bright%3A0%3Bleft%3A0%3B%7D%3C/style%3E%0A%20%20%20%20%0A%20%20%20%20%3Cmeta%20name%3D%22viewport%22%20content%3D%22width%3Ddevice-width%2C%0A%20%20%20%20%20%20%20%20initial-scale%3D1.0%2C%20maximum-scale%3D1.0%2C%20user-scalable%3Dno%22%20/%3E%0A%20%20%20%20%3Cstyle%3E%23map_fe27662a88d946e2a1f9f2050852fad0%20%7B%0A%20%20%20%20%20%20%20%20position%3A%20relative%3B%0A%20%20%20%20%20%20%20%20width%3A%20100.0%25%3B%0A%20%20%20%20%20%20%20%20height%3A%20100.0%25%3B%0A%20%20%20%20%20%20%20%20left%3A%200.0%25%3B%0A%20%20%20%20%20%20%20%20top%3A%200.0%25%3B%0A%20%20%20%20%20%20%20%20%7D%0A%20%20%20%20%3C/style%3E%0A%3C/head%3E%0A%3Cbody%3E%20%20%20%20%0A%20%20%20%20%0A%20%20%20%20%3Cdiv%20class%3D%22folium-map%22%20id%3D%22map_fe27662a88d946e2a1f9f2050852fad0%22%20%3E%3C/div%3E%0A%3C/body%3E%0A%3Cscript%3E%20%20%20%20%0A%20%20%20%20%0A%20%20%20%20%0A%20%20%20%20%20%20%20%20var%20bounds%20%3D%20null%3B%0A%20%20%20%20%0A%0A%20%20%20%20var%20map_fe27662a88d946e2a1f9f2050852fad0%20%3D%20L.map%28%0A%20%20%20%20%20%20%20%20%27map_fe27662a88d946e2a1f9f2050852fad0%27%2C%20%7B%0A%20%20%20%20%20%20%20%20center%3A%20%5B0%2C%2010%5D%2C%0A%20%20%20%20%20%20%20%20zoom%3A%2010%2C%0A%20%20%20%20%20%20%20%20maxBounds%3A%20bounds%2C%0A%20%20%20%20%20%20%20%20layers%3A%20%5B%5D%2C%0A%20%20%20%20%20%20%20%20worldCopyJump%3A%20false%2C%0A%20%20%20%20%20%20%20%20crs%3A%20L.CRS.EPSG3857%2C%0A%20%20%20%20%20%20%20%20zoomControl%3A%20true%2C%0A%20%20%20%20%20%20%20%20%7D%29%3B%0A%0A%0A%20%20%20%20%0A%20%20%20%20var%20tile_layer_159247c3a5c34a98be91a281677ee64f%20%3D%20L.tileLayer%28%0A%20%20%20%20%20%20%20%20%27https%3A//%7Bs%7D.tile.openstreetmap.org/%7Bz%7D/%7Bx%7D/%7By%7D.png%27%2C%0A%20%20%20%20%20%20%20%20%7B%0A%20%20%20%20%20%20%20%20%22attribution%22%3A%20null%2C%0A%20%20%20%20%20%20%20%20%22detectRetina%22%3A%20false%2C%0A%20%20%20%20%20%20%20%20%22maxNativeZoom%22%3A%2018%2C%0A%20%20%20%20%20%20%20%20%22maxZoom%22%3A%2018%2C%0A%20%20%20%20%20%20%20%20%22minZoom%22%3A%200%2C%0A%20%20%20%20%20%20%20%20%22noWrap%22%3A%20false%2C%0A%20%20%20%20%20%20%20%20%22opacity%22%3A%201%2C%0A%20%20%20%20%20%20%20%20%22subdomains%22%3A%20%22abc%22%2C%0A%20%20%20%20%20%20%20%20%22tms%22%3A%20false%0A%7D%29.addTo%28map_fe27662a88d946e2a1f9f2050852fad0%29%3B%0A%20%20%20%20var%20tile_layer_6fa7bd9bef7046a2be79ff8848f15a72%20%3D%20L.tileLayer%28%0A%20%20%20%20%20%20%20%20%27https%3A//earthengine.googleapis.com/v1alpha/projects/earthengine-legacy/maps/e910604b88214f630fa34953ec26ad2d-97a0ea43caf477a985b0b793d4d1e2f9/tiles/%7Bz%7D/%7Bx%7D/%7By%7D%27%2C%0A%20%20%20%20%20%20%20%20%7B%0A%20%20%20%20%20%20%20%20%22attribution%22%3A%20%22Map%20Data%20%26copy%3B%20%3Ca%20href%3D%5C%22https%3A//earthengine.google.com/%5C%22%3EGoogle%20Earth%20Engine%3C/a%3E%22%2C%0A%20%20%20%20%20%20%20%20%22detectRetina%22%3A%20false%2C%0A%20%20%20%20%20%20%20%20%22format%22%3A%20%22png%22%2C%0A%20%20%20%20%20%20%20%20%22maxNativeZoom%22%3A%2018%2C%0A%20%20%20%20%20%20%20%20%22maxZoom%22%3A%2018%2C%0A%20%20%20%20%20%20%20%20%22minZoom%22%3A%200%2C%0A%20%20%20%20%20%20%20%20%22noWrap%22%3A%20false%2C%0A%20%20%20%20%20%20%20%20%22opacity%22%3A%201%2C%0A%20%20%20%20%20%20%20%20%22subdomains%22%3A%20%22abc%22%2C%0A%20%20%20%20%20%20%20%20%22tms%22%3A%20false%0A%7D%29.addTo%28map_fe27662a88d946e2a1f9f2050852fad0%29%3B%0A%20%20%20%20var%20tile_layer_81f2c5fefbb24c7f9f91b81090ab64c4%20%3D%20L.tileLayer%28%0A%20%20%20%20%20%20%20%20%27https%3A//earthengine.googleapis.com/v1alpha/projects/earthengine-legacy/maps/925130dc7a752a1dbb982eec5eb7af1d-8d20797a1caf175a0306c01204d3cd76/tiles/%7Bz%7D/%7Bx%7D/%7By%7D%27%2C%0A%20%20%20%20%20%20%20%20%7B%0A%20%20%20%20%20%20%20%20%22attribution%22%3A%20%22Map%20Data%20%26copy%3B%20%3Ca%20href%3D%5C%22https%3A//earthengine.google.com/%5C%22%3EGoogle%20Earth%20Engine%3C/a%3E%22%2C%0A%20%20%20%20%20%20%20%20%22detectRetina%22%3A%20false%2C%0A%20%20%20%20%20%20%20%20%22maxNativeZoom%22%3A%2018%2C%0A%20%20%20%20%20%20%20%20%22maxZoom%22%3A%2018%2C%0A%20%20%20%20%20%20%20%20%22minZoom%22%3A%200%2C%0A%20%20%20%20%20%20%20%20%22noWrap%22%3A%20false%2C%0A%20%20%20%20%20%20%20%20%22opacity%22%3A%200.5%2C%0A%20%20%20%20%20%20%20%20%22subdomains%22%3A%20%22abc%22%2C%0A%20%20%20%20%20%20%20%20%22tms%22%3A%20false%0A%7D%29.addTo%28map_fe27662a88d946e2a1f9f2050852fad0%29%3B%0A%20%20%20%20var%20tile_layer_d77d4432f74e4ffbbc32da0c686daf2b%20%3D%20L.tileLayer%28%0A%20%20%20%20%20%20%20%20%27https%3A//earthengine.googleapis.com/v1alpha/projects/earthengine-legacy/maps/0df85033e43e67c9fa898ab968a597d1-c0dd85ca2d504ab618b1509659489a92/tiles/%7Bz%7D/%7Bx%7D/%7By%7D%27%2C%0A%20%20%20%20%20%20%20%20%7B%0A%20%20%20%20%20%20%20%20%22attribution%22%3A%20%22Map%20Data%20%26copy%3B%20%3Ca%20href%3D%5C%22https%3A//earthengine.google.com/%5C%22%3EGoogle%20Earth%20Engine%3C/a%3E%22%2C%0A%20%20%20%20%20%20%20%20%22detectRetina%22%3A%20false%2C%0A%20%20%20%20%20%20%20%20%22maxNativeZoom%22%3A%2018%2C%0A%20%20%20%20%20%20%20%20%22maxZoom%22%3A%2018%2C%0A%20%20%20%20%20%20%20%20%22minZoom%22%3A%200%2C%0A%20%20%20%20%20%20%20%20%22noWrap%22%3A%20false%2C%0A%20%20%20%20%20%20%20%20%22opacity%22%3A%200.5%2C%0A%20%20%20%20%20%20%20%20%22subdomains%22%3A%20%22abc%22%2C%0A%20%20%20%20%20%20%20%20%22tms%22%3A%20false%0A%7D%29.addTo%28map_fe27662a88d946e2a1f9f2050852fad0%29%3B%0A%20%20%20%20var%20tile_layer_5dd711131e8040b19338fbfb0801ee80%20%3D%20L.tileLayer%28%0A%20%20%20%20%20%20%20%20%27https%3A//earthengine.googleapis.com/v1alpha/projects/earthengine-legacy/maps/824051c082023029754eddc8e230ce03-ae8123595fbec845e68c1c30532718fc/tiles/%7Bz%7D/%7Bx%7D/%7By%7D%27%2C%0A%20%20%20%20%20%20%20%20%7B%0A%20%20%20%20%20%20%20%20%22attribution%22%3A%20%22Map%20Data%20%26copy%3B%20%3Ca%20href%3D%5C%22https%3A//earthengine.google.com/%5C%22%3EGoogle%20Earth%20Engine%3C/a%3E%22%2C%0A%20%20%20%20%20%20%20%20%22detectRetina%22%3A%20false%2C%0A%20%20%20%20%20%20%20%20%22maxNativeZoom%22%3A%2018%2C%0A%20%20%20%20%20%20%20%20%22maxZoom%22%3A%2018%2C%0A%20%20%20%20%20%20%20%20%22minZoom%22%3A%200%2C%0A%20%20%20%20%20%20%20%20%22noWrap%22%3A%20false%2C%0A%20%20%20%20%20%20%20%20%22opacity%22%3A%200.5%2C%0A%20%20%20%20%20%20%20%20%22subdomains%22%3A%20%22abc%22%2C%0A%20%20%20%20%20%20%20%20%22tms%22%3A%20false%0A%7D%29.addTo%28map_fe27662a88d946e2a1f9f2050852fad0%29%3B%0A%20%20%20%20var%20tile_layer_ca5fb28dd5bf4a72818ad31df6ecd888%20%3D%20L.tileLayer%28%0A%20%20%20%20%20%20%20%20%27https%3A//earthengine.googleapis.com/v1alpha/projects/earthengine-legacy/maps/3fe002254eb3ada6aaaed6f8228a2fc6-18ed4a04f0f2df2676686754e9f0394c/tiles/%7Bz%7D/%7Bx%7D/%7By%7D%27%2C%0A%20%20%20%20%20%20%20%20%7B%0A%20%20%20%20%20%20%20%20%22attribution%22%3A%20%22Map%20Data%20%26copy%3B%20%3Ca%20href%3D%5C%22https%3A//earthengine.google.com/%5C%22%3EGoogle%20Earth%20Engine%3C/a%3E%22%2C%0A%20%20%20%20%20%20%20%20%22detectRetina%22%3A%20false%2C%0A%20%20%20%20%20%20%20%20%22maxNativeZoom%22%3A%2018%2C%0A%20%20%20%20%20%20%20%20%22maxZoom%22%3A%2018%2C%0A%20%20%20%20%20%20%20%20%22minZoom%22%3A%200%2C%0A%20%20%20%20%20%20%20%20%22noWrap%22%3A%20false%2C%0A%20%20%20%20%20%20%20%20%22opacity%22%3A%200.5%2C%0A%20%20%20%20%20%20%20%20%22subdomains%22%3A%20%22abc%22%2C%0A%20%20%20%20%20%20%20%20%22tms%22%3A%20false%0A%7D%29.addTo%28map_fe27662a88d946e2a1f9f2050852fad0%29%3B%0A%20%20%20%20var%20tile_layer_84080606096a435ebc8e104cc564d588%20%3D%20L.tileLayer%28%0A%20%20%20%20%20%20%20%20%27https%3A//earthengine.googleapis.com/v1alpha/projects/earthengine-legacy/maps/00d898adf2df4f004be6fbcd4571c623-37eb9f7b6cc2c0ee362749568422d757/tiles/%7Bz%7D/%7Bx%7D/%7By%7D%27%2C%0A%20%20%20%20%20%20%20%20%7B%0A%20%20%20%20%20%20%20%20%22attribution%22%3A%20%22Map%20Data%20%26copy%3B%20%3Ca%20href%3D%5C%22https%3A//earthengine.google.com/%5C%22%3EGoogle%20Earth%20Engine%3C/a%3E%22%2C%0A%20%20%20%20%20%20%20%20%22detectRetina%22%3A%20false%2C%0A%20%20%20%20%20%20%20%20%22maxNativeZoom%22%3A%2018%2C%0A%20%20%20%20%20%20%20%20%22maxZoom%22%3A%2018%2C%0A%20%20%20%20%20%20%20%20%22minZoom%22%3A%200%2C%0A%20%20%20%20%20%20%20%20%22noWrap%22%3A%20false%2C%0A%20%20%20%20%20%20%20%20%22opacity%22%3A%200.5%2C%0A%20%20%20%20%20%20%20%20%22subdomains%22%3A%20%22abc%22%2C%0A%20%20%20%20%20%20%20%20%22tms%22%3A%20false%0A%7D%29.addTo%28map_fe27662a88d946e2a1f9f2050852fad0%29%3B%0A%20%20%20%20var%20tile_layer_32b9eead2f254fa7bcfb88ce7ba9f098%20%3D%20L.tileLayer%28%0A%20%20%20%20%20%20%20%20%27https%3A//earthengine.googleapis.com/v1alpha/projects/earthengine-legacy/maps/3c836531d33280c5d3244ec993dad6a7-685d0408682b63257bf39008575cb3e9/tiles/%7Bz%7D/%7Bx%7D/%7By%7D%27%2C%0A%20%20%20%20%20%20%20%20%7B%0A%20%20%20%20%20%20%20%20%22attribution%22%3A%20%22Map%20Data%20%26copy%3B%20%3Ca%20href%3D%5C%22https%3A//earthengine.google.com/%5C%22%3EGoogle%20Earth%20Engine%3C/a%3E%22%2C%0A%20%20%20%20%20%20%20%20%22detectRetina%22%3A%20false%2C%0A%20%20%20%20%20%20%20%20%22maxNativeZoom%22%3A%2018%2C%0A%20%20%20%20%20%20%20%20%22maxZoom%22%3A%2018%2C%0A%20%20%20%20%20%20%20%20%22minZoom%22%3A%200%2C%0A%20%20%20%20%20%20%20%20%22noWrap%22%3A%20false%2C%0A%20%20%20%20%20%20%20%20%22opacity%22%3A%200.5%2C%0A%20%20%20%20%20%20%20%20%22subdomains%22%3A%20%22abc%22%2C%0A%20%20%20%20%20%20%20%20%22tms%22%3A%20false%0A%7D%29.addTo%28map_fe27662a88d946e2a1f9f2050852fad0%29%3B%0A%20%20%20%20%0A%20%20%20%20%20%20%20%20%20%20%20%20var%20layer_control_38436112555b4e3398c4f4f5787df32d%20%3D%20%7B%0A%20%20%20%20%20%20%20%20%20%20%20%20%20%20%20%20base_layers%20%3A%20%7B%20%22openstreetmap%22%20%3A%20tile_layer_159247c3a5c34a98be91a281677ee64f%2C%20%7D%2C%0A%20%20%20%20%20%20%20%20%20%20%20%20%20%20%20%20overlays%20%3A%20%7B%20%22satellite%20photography%20median%20composite%20%22%20%3A%20tile_layer_6fa7bd9bef7046a2be79ff8848f15a72%2C%22Carbon%20Monoxide%22%20%3A%20tile_layer_81f2c5fefbb24c7f9f91b81090ab64c4%2C%22Formaldehyde%22%20%3A%20tile_layer_d77d4432f74e4ffbbc32da0c686daf2b%2C%22Nitrogen%20Dioxide%22%20%3A%20tile_layer_5dd711131e8040b19338fbfb0801ee80%2C%22Ozone%22%20%3A%20tile_layer_ca5fb28dd5bf4a72818ad31df6ecd888%2C%22Sulphur%20Dioxide%22%20%3A%20tile_layer_84080606096a435ebc8e104cc564d588%2C%22Methane%22%20%3A%20tile_layer_32b9eead2f254fa7bcfb88ce7ba9f098%2C%20%7D%0A%20%20%20%20%20%20%20%20%20%20%20%20%20%20%20%20%7D%3B%0A%20%20%20%20%20%20%20%20%20%20%20%20L.control.layers%28%0A%20%20%20%20%20%20%20%20%20%20%20%20%20%20%20%20layer_control_38436112555b4e3398c4f4f5787df32d.base_layers%2C%0A%20%20%20%20%20%20%20%20%20%20%20%20%20%20%20%20layer_control_38436112555b4e3398c4f4f5787df32d.overlays%2C%0A%20%20%20%20%20%20%20%20%20%20%20%20%20%20%20%20%7Bposition%3A%20%27topright%27%2C%0A%20%20%20%20%20%20%20%20%20%20%20%20%20%20%20%20%20collapsed%3A%20true%2C%0A%20%20%20%20%20%20%20%20%20%20%20%20%20%20%20%20%20autoZIndex%3A%20true%0A%20%20%20%20%20%20%20%20%20%20%20%20%20%20%20%20%7D%29.addTo%28map_fe27662a88d946e2a1f9f2050852fad0%29%3B%0A%20%20%20%20%20%20%20%20%20%20%20%20%0A%20%20%20%20%20%20%20%20%0A%3C/script%3E onload=\"this.contentDocument.open();this.contentDocument.write(    decodeURIComponent(this.getAttribute('data-html')));this.contentDocument.close();\" allowfullscreen webkitallowfullscreen mozallowfullscreen></iframe></div></div>"
            ],
            "text/plain": [
              "<folium.folium.Map at 0x7ff17736d278>"
            ]
          },
          "metadata": {
            "tags": []
          },
          "execution_count": 139
        }
      ]
    },
    {
      "cell_type": "markdown",
      "metadata": {
        "id": "RHIkD4AIJRD9"
      },
      "source": [
        "### Export Data\n",
        "\n",
        "Exports as unmarked .csv tables and GeoTIFF images. \n",
        "\n",
        "##### TODO\n",
        "- Figure out how to get and access location data from fastai. Would writing it out into the filename work? \n",
        "  - If I need to experiment with this KML format that's fine. \n",
        "- Update filepath definitions once training schema is defined \n",
        "- Ensure the hi-res image segmentation is behaving correctly - no overlaps! "
      ]
    },
    {
      "cell_type": "code",
      "metadata": {
        "id": "56P_LOcgkimq"
      },
      "source": [
        "# All export methods export to the google drive defined above \n",
        "# TODO A lot of these methods reuse scaling. Investigate whether this is necessary and remove where possible. \n",
        "# TODO rewrite export filename prefixes so they aren't garbage\n",
        "def exportTable(table, scale):\n",
        "  ee.batch.Export.table.toDrive(\n",
        "    collection = table,\n",
        "    description = str(scale) + 'm_res_csv_export',\n",
        "    folder = str(scale) + \"m\",\n",
        "    fileFormat = \"CSV\"\n",
        "  ).start()\n",
        "\n",
        "# Export one table of the given image, at the scale and dimensions specified.\n",
        "def exportTableFromImage(image, polygon, scale):\n",
        "  exportTable(sample(image, polygon, scale), scale)\n",
        "\n",
        "# Export one GeoTIFF image of the given image, at the scale and dimension specified. \n",
        "# TODO reevaluate image export options - description needs coordinates\n",
        "# maxPixels is just so it lets me export london at 10m/px. Dividing the dataset into 1km squares is the next step. \n",
        "def exportGeotiff(image, polygon, scale):\n",
        "  ee.batch.Export.image.toDrive(\n",
        "    description = str(scale) + 'm_scale_img',\n",
        "    fileFormat = 'GeoTIFF',\n",
        "    folder = str(scale) + \"m\",\n",
        "    # formatOptions = image_export_options,\n",
        "    image = image,\n",
        "    maxPixels = 10e9,\n",
        "    region = polygon,\n",
        "    scale = scale\n",
        "  ).start()\n",
        "  \n",
        "# Does this really need to exist?\n",
        "def sample(img, region, scale):\n",
        "  return img.sampleRegions(\n",
        "      collection = region,\n",
        "      geometries = True,\n",
        "      scale = scale\n",
        "  )\n",
        "\n",
        "#Export the given image as a list of geotiffs in the given polygon, broken into 100px^2 1km images. \n",
        "#Currently image exports are being stretched in very awkward ways despite fileDimension issues. Examine why this is. \n",
        "def exportSqKmGeotiffList(image, polygon, scale):\n",
        "  #Get image corner coordinates so the image can be iterated through. \n",
        "\n",
        "  ee.batch.Export.image.toDrive(\n",
        "      description = str(scale) + \"m_scale_img_list\",\n",
        "      fileFormat = \"GeoTIFF\",\n",
        "      folder = str(scale) + \"m/sqkm_png_exports\",\n",
        "      image = image,\n",
        "      maxPixels = 10e9,\n",
        "      region = polygon,\n",
        "      scale = scale\n",
        "      # shardSize = 100, # shardSize is deprecated on cloud API. This is not documented. \n",
        "      #fileDimensions = [25600, 25600]\n",
        "  ).start()"
      ],
      "execution_count": 15,
      "outputs": []
    },
    {
      "cell_type": "code",
      "metadata": {
        "id": "YGh4FSYhlJyD",
        "colab": {
          "base_uri": "https://localhost:8080/"
        },
        "outputId": "172d9668-0f2e-460e-a7bd-2d5d434d9961"
      },
      "source": [
        "# take a sample of the image at the points given\n",
        "# TOOD Save a small partition in google drive, then work on getting the next via a thread. \n",
        "#      This should also start the training process, then delete the small partition in the drive. \n",
        "sizes = {1000}#, 500, 100, 50, 10}\n",
        "\n",
        "for scale in sizes:\n",
        "  print(\"this should only be run once, when setting up\")\n",
        "  \"\"\"\n",
        "  exportTableFromImage(CO_img, london, scale)\n",
        "  exportTableFromImage(HCHO_img, london, scale)\n",
        "  exportTableFromImage(NO2_img, london, scale)\n",
        "  exportTableFromImage(O3_img, london, scale)\n",
        "  exportTableFromImage(SO2_img, london, scale)\n",
        "  exportTableFromImage(CH4_img, london, scale)\n",
        "  \"\"\""
      ],
      "execution_count": 142,
      "outputs": [
        {
          "output_type": "stream",
          "text": [
            "this should only be run once, when setting up\n"
          ],
          "name": "stdout"
        }
      ]
    },
    {
      "cell_type": "code",
      "metadata": {
        "id": "Imcye1aSmzok",
        "colab": {
          "base_uri": "https://localhost:8080/"
        },
        "outputId": "c4993f89-7a33-4f5b-a691-f2211190038a"
      },
      "source": [
        "pprint(ee.batch.Task.list())"
      ],
      "execution_count": 144,
      "outputs": [
        {
          "output_type": "stream",
          "text": [
            "[<Task EXPORT_IMAGE: 10m_scale_img_list - Testing eiffel (COMPLETED)>,\n",
            " <Task EXPORT_IMAGE: 10m_scale_img_list - Testing that dome again (COMPLETED)>,\n",
            " <Task EXPORT_IMAGE: 10m_scale_img_list - Testing bordeaux (COMPLETED)>,\n",
            " <Task EXPORT_IMAGE: 10m_scale_img_list - Testing o2 (COMPLETED)>,\n",
            " <Task EXPORT_IMAGE: 10m_scale_img_list - Testing equator (COMPLETED)>,\n",
            " <Task EXPORT_IMAGE: 10m_scale_img_list - Testing equator (COMPLETED)>,\n",
            " <Task EXPORT_IMAGE: 10m_scale_img_list - Testing equator (COMPLETED)>,\n",
            " <Task EXPORT_IMAGE: 10m_scale_img_list - Testing equator (COMPLETED)>,\n",
            " <Task EXPORT_IMAGE: 10m_scale_img_list - Testing equator (COMPLETED)>,\n",
            " <Task EXPORT_IMAGE: 10m_scale_img_list - Testing equator (COMPLETED)>,\n",
            " <Task EXPORT_IMAGE: 10m_scale_img_list - Testing equator (COMPLETED)>,\n",
            " <Task EXPORT_IMAGE: 10m_scale_img_list - Testing tiny ver (COMPLETED)>,\n",
            " <Task EXPORT_IMAGE: 10m_scale_img_list - Testing tiny ver (COMPLETED)>,\n",
            " <Task EXPORT_IMAGE: 10m_scale_img_list - Testing tiny ver (FAILED)>,\n",
            " <Task EXPORT_IMAGE: 10m_scale_img_list - Testing tiny ver (FAILED)>,\n",
            " <Task EXPORT_IMAGE: 10m_scale_img_list - Testing tiny ver (COMPLETED)>,\n",
            " <Task EXPORT_IMAGE: 10m_scale_img_list - Testing tiny ver (COMPLETED)>,\n",
            " <Task EXPORT_IMAGE: 10m_scale_img_list - Testing tiny ver (FAILED)>,\n",
            " <Task EXPORT_IMAGE: 10m_scale_img_list - Testing tiny ver (FAILED)>,\n",
            " <Task EXPORT_IMAGE: 10m_scale_img_list - Testing tiny ver (FAILED)>,\n",
            " <Task EXPORT_IMAGE: 10m_scale_img_list - Testing tiny ver (FAILED)>,\n",
            " <Task EXPORT_IMAGE: 10m_scale_img (FAILED)>,\n",
            " <Task EXPORT_IMAGE: 10m_scale_img_list - Testing tiny ver (FAILED)>,\n",
            " <Task EXPORT_IMAGE: 10m_scale_img_list - Testing tiny ver (COMPLETED)>,\n",
            " <Task EXPORT_IMAGE: 10m_scale_img_list - Testing tiny ver (FAILED)>,\n",
            " <Task EXPORT_IMAGE: 10m_scale_img_list - Testing tiny ver (FAILED)>,\n",
            " <Task EXPORT_IMAGE: 10m_scale_img_list - Testing tiny ver (CANCELLED)>,\n",
            " <Task EXPORT_IMAGE: 10m_scale_img_list - Testing tiny ver (FAILED)>,\n",
            " <Task EXPORT_IMAGE: 10m_scale_img_list - Testing tiny ver (FAILED)>,\n",
            " <Task EXPORT_IMAGE: 10m_scale_img_list - Testing tiny ver (FAILED)>,\n",
            " <Task EXPORT_IMAGE: 10m_scale_img_list - Testing tiny ver (FAILED)>,\n",
            " <Task EXPORT_IMAGE: 10m_scale_img_list - Testing tiny ver (FAILED)>,\n",
            " <Task EXPORT_IMAGE: 10m_scale_img_list - Testing tiny ver (FAILED)>,\n",
            " <Task EXPORT_IMAGE: 10m_scale_img_list - Testing tiny ver (COMPLETED)>,\n",
            " <Task EXPORT_IMAGE: 10m_scale_img_list - Testing tiny ver (COMPLETED)>,\n",
            " <Task EXPORT_IMAGE: 10m_scale_img_list - Testing tiny ver (COMPLETED)>,\n",
            " <Task EXPORT_IMAGE: 10m_scale_img_list - Testing tiny ver (COMPLETED)>,\n",
            " <Task EXPORT_IMAGE: 10m_scale_img_list (COMPLETED)>,\n",
            " <Task EXPORT_IMAGE: 10m_scale_img (CANCELLED)>,\n",
            " <Task EXPORT_IMAGE: 10m_scale_img_list (FAILED)>,\n",
            " <Task EXPORT_IMAGE: 10m_scale_img_list (COMPLETED)>,\n",
            " <Task EXPORT_IMAGE: 10m_scale_img_list (COMPLETED)>,\n",
            " <Task EXPORT_IMAGE: 10m_scale_img_list (COMPLETED)>,\n",
            " <Task EXPORT_IMAGE: 10m_scale_img_list (COMPLETED)>,\n",
            " <Task EXPORT_IMAGE: 10m_scale_img_list (COMPLETED)>,\n",
            " <Task EXPORT_IMAGE: 10m_scale_img (CANCELLED)>,\n",
            " <Task EXPORT_IMAGE: 10m_scale_img_list (FAILED)>,\n",
            " <Task EXPORT_IMAGE: 10m_scale_img_list (FAILED)>,\n",
            " <Task EXPORT_IMAGE: 10m_scale_img_list (FAILED)>,\n",
            " <Task EXPORT_IMAGE: 10m_scale_img (FAILED)>,\n",
            " <Task EXPORT_IMAGE: 10m_scale_img (FAILED)>,\n",
            " <Task EXPORT_IMAGE: 10m_scale_img (FAILED)>,\n",
            " <Task EXPORT_IMAGE: 1000m_scale_img (FAILED)>,\n",
            " <Task EXPORT_FEATURES: 1000m_res_csv_export (COMPLETED)>,\n",
            " <Task EXPORT_FEATURES: 1000m_res_csv_export (COMPLETED)>,\n",
            " <Task EXPORT_FEATURES: 1000m_res_csv_export (COMPLETED)>,\n",
            " <Task EXPORT_FEATURES: 1000m_res_csv_export (COMPLETED)>,\n",
            " <Task EXPORT_FEATURES: 1000m_res_csv_export (COMPLETED)>,\n",
            " <Task EXPORT_FEATURES: 1000m_res_csv_export (COMPLETED)>,\n",
            " <Task EXPORT_FEATURES: 1000m_res_csv_export (COMPLETED)>,\n",
            " <Task EXPORT_FEATURES: 1000m_res_csv_export (COMPLETED)>,\n",
            " <Task EXPORT_FEATURES: 1000m_res_csv_export (COMPLETED)>,\n",
            " <Task EXPORT_FEATURES: 1000m_res_csv_export (COMPLETED)>,\n",
            " <Task EXPORT_FEATURES: 1000m_res_csv_export (COMPLETED)>,\n",
            " <Task EXPORT_FEATURES: 1000m_res_csv_export (COMPLETED)>,\n",
            " <Task EXPORT_FEATURES: 1000m_res_csv_export (COMPLETED)>,\n",
            " <Task EXPORT_FEATURES: 1000m_res_csv_export (COMPLETED)>,\n",
            " <Task EXPORT_FEATURES: 1000m_res_csv_export (FAILED)>,\n",
            " <Task EXPORT_FEATURES: 1000m_res_csv_export (FAILED)>,\n",
            " <Task EXPORT_FEATURES: 1000m_res_csv_export (COMPLETED)>,\n",
            " <Task EXPORT_FEATURES: 1000m_res_csv_export (COMPLETED)>,\n",
            " <Task EXPORT_FEATURES: 1000m_res_csv_export (COMPLETED)>,\n",
            " <Task EXPORT_FEATURES: 1000m_res_csv_export (COMPLETED)>,\n",
            " <Task EXPORT_IMAGE: 1000m_scale_img (COMPLETED)>,\n",
            " <Task EXPORT_IMAGE: 1000m_scale_img (CANCELLED)>,\n",
            " <Task EXPORT_IMAGE: 500m_scale_img (CANCELLED)>,\n",
            " <Task EXPORT_IMAGE: 10m_scale_img (CANCELLED)>,\n",
            " <Task EXPORT_IMAGE: 1000m_scale_img (CANCELLED)>,\n",
            " <Task EXPORT_FEATURES: exporting data at 1000m resolution (COMPLETED)>,\n",
            " <Task EXPORT_FEATURES: exporting data at 1000m resolution (COMPLETED)>,\n",
            " <Task EXPORT_FEATURES: exporting data at 1000m resolution (FAILED)>,\n",
            " <Task EXPORT_FEATURES: exporting data at 1000m resolution (FAILED)>,\n",
            " <Task EXPORT_FEATURES: exporting data at 1000m resolution (COMPLETED)>,\n",
            " <Task EXPORT_FEATURES: exporting data at 500m resolution (COMPLETED)>,\n",
            " <Task EXPORT_FEATURES: exporting data at 500m resolution (COMPLETED)>,\n",
            " <Task EXPORT_FEATURES: exporting data at 500m resolution (COMPLETED)>,\n",
            " <Task EXPORT_FEATURES: exporting data at 500m resolution (COMPLETED)>,\n",
            " <Task EXPORT_FEATURES: exporting data at 500m resolution (COMPLETED)>,\n",
            " <Task EXPORT_FEATURES: exporting data at 1000m resolution (COMPLETED)>,\n",
            " <Task EXPORT_FEATURES: exporting data at 1000m resolution (COMPLETED)>,\n",
            " <Task EXPORT_FEATURES: exporting data at 1000m resolution (COMPLETED)>,\n",
            " <Task EXPORT_FEATURES: exporting data at 1000m resolution (COMPLETED)>,\n",
            " <Task EXPORT_FEATURES: exporting data at 1000m resolution (COMPLETED)>,\n",
            " <Task EXPORT_FEATURES: exporting data at 500m resolution (COMPLETED)>,\n",
            " <Task EXPORT_FEATURES: exporting data at 1000m resolution (COMPLETED)>,\n",
            " <Task EXPORT_IMAGE: 500m_scale_img (COMPLETED)>,\n",
            " <Task EXPORT_IMAGE: 10m_scale_img (COMPLETED)>,\n",
            " <Task EXPORT_IMAGE: 1000m_scale_img (COMPLETED)>,\n",
            " <Task EXPORT_IMAGE: 500m_scale_img (COMPLETED)>,\n",
            " <Task EXPORT_IMAGE: 1000m_scale_img (COMPLETED)>,\n",
            " <Task EXPORT_FEATURES: exporting data at 500m resolution (COMPLETED)>,\n",
            " <Task EXPORT_FEATURES: exporting data at 1000m resolution (COMPLETED)>,\n",
            " <Task EXPORT_IMAGE: 10m_scale_img (FAILED)>,\n",
            " <Task EXPORT_IMAGE: 50m_scale_img (COMPLETED)>,\n",
            " <Task EXPORT_IMAGE: 100m_scale_img (COMPLETED)>,\n",
            " <Task EXPORT_FEATURES: exporting data at 1000m resolution (CANCELLED)>,\n",
            " <Task EXPORT_FEATURES: exporting data at 1000m resolution (CANCELLED)>,\n",
            " <Task EXPORT_FEATURES: exporting data at 1000m resolution (CANCELLED)>,\n",
            " <Task EXPORT_IMAGE: 500m_scale_img (COMPLETED)>,\n",
            " <Task EXPORT_IMAGE: 1000m_scale_img (COMPLETED)>,\n",
            " <Task EXPORT_FEATURES: exporting data at 500m resolution (COMPLETED)>,\n",
            " <Task EXPORT_FEATURES: exporting data at 1000m resolution (COMPLETED)>,\n",
            " <Task EXPORT_IMAGE: 500m_scale_img (COMPLETED)>,\n",
            " <Task EXPORT_IMAGE: 1000m_scale_img (COMPLETED)>,\n",
            " <Task EXPORT_IMAGE: 500m_scale_img (FAILED)>,\n",
            " <Task EXPORT_IMAGE: 1000m_scale_img (FAILED)>,\n",
            " <Task EXPORT_IMAGE: Image Export (FAILED)>,\n",
            " <Task EXPORT_IMAGE: Image Export (FAILED)>,\n",
            " <Task EXPORT_IMAGE: Image Export (COMPLETED)>,\n",
            " <Task EXPORT_FEATURES: exporting data at 500m resolution (COMPLETED)>,\n",
            " <Task EXPORT_FEATURES: exporting data at 1000m resolution (COMPLETED)>,\n",
            " <Task EXPORT_FEATURES: exporting low-resolution testing data (COMPLETED)>,\n",
            " <Task EXPORT_FEATURES: exporting low-resolution testing data (COMPLETED)>,\n",
            " <Task EXPORT_FEATURES: exporting low-resolution testing data (COMPLETED)>,\n",
            " <Task EXPORT_FEATURES: exporting low-resolution testing data (COMPLETED)>,\n",
            " <Task EXPORT_FEATURES: exporting low-resolution testing data (COMPLETED)>,\n",
            " <Task EXPORT_FEATURES: exporting high-resolution testing data (COMPLETED)>,\n",
            " <Task EXPORT_FEATURES: exporting low-resolution training data (COMPLETED)>,\n",
            " <Task EXPORT_FEATURES: exporting high-resolution training data (COMPLETED)>,\n",
            " <Task EXPORT_FEATURES: exporting low-resolution testing data (COMPLETED)>,\n",
            " <Task EXPORT_FEATURES: exporting low-resolution training data (COMPLETED)>,\n",
            " <Task EXPORT_FEATURES: exporting low-resolution testing data (FAILED)>,\n",
            " <Task EXPORT_FEATURES: exporting high-resolution testing data (COMPLETED)>,\n",
            " <Task EXPORT_FEATURES: exporting low-resolution training data (FAILED)>,\n",
            " <Task EXPORT_FEATURES: exporting high-resolution training data (COMPLETED)>,\n",
            " <Task EXPORT_FEATURES: exporting high-resolution training data (COMPLETED)>,\n",
            " <Task EXPORT_FEATURES: exporting high-resolution training data (COMPLETED)>,\n",
            " <Task EXPORT_FEATURES: exporting high-resolution training data (COMPLETED)>,\n",
            " <Task EXPORT_FEATURES: exporting high-resolution training data (FAILED)>,\n",
            " <Task EXPORT_FEATURES: exporting high-resolution training data (FAILED)>,\n",
            " <Task EXPORT_FEATURES: exporting high-resolution training data (FAILED)>]\n"
          ],
          "name": "stdout"
        }
      ]
    },
    {
      "cell_type": "code",
      "metadata": {
        "id": "OqOSyWTUeoyC"
      },
      "source": [
        "\n",
        "ee.batch.Export.image.toDrive(\n",
        "    description = str(10) + \"m_scale_img_list - Testing earth again\",\n",
        "    fileFormat = \"GeoTIFF\",\n",
        "    folder = str(10) + \"m/test\",\n",
        "    image = s2_img,\n",
        "    maxPixels = 10e9,\n",
        "    region = most_of_earth,\n",
        "    scale = 10000\n",
        "    # shardSize = 100, # shardSize is deprecated on cloud API. This is not documented. \n",
        "    #fileDimensions = [25600, 25600]\n",
        ").start()\n"
      ],
      "execution_count": 157,
      "outputs": []
    },
    {
      "cell_type": "code",
      "metadata": {
        "id": "cbN6AfFGpTjg"
      },
      "source": [
        "sizes = {10}#, 100, 50, 10} 1000, 500, \n",
        "\n",
        "for scale in sizes:\n",
        "  # this should only be run once, when setting up\n",
        "  exportGeotiff(s2_img, gabon_square, scale)"
      ],
      "execution_count": 75,
      "outputs": []
    },
    {
      "cell_type": "code",
      "metadata": {
        "id": "uyVdAmac7tYR"
      },
      "source": [
        "#exportGeotiff(s2_img, uxbridge, 10)\n",
        "exportSqKmGeotiffList(s2_img, uxbridge, 10)"
      ],
      "execution_count": null,
      "outputs": []
    },
    {
      "cell_type": "code",
      "metadata": {
        "id": "4UR7Gkhq--u0"
      },
      "source": [
        "#exportGeotiff(s2_img, great_britain, 1000)"
      ],
      "execution_count": null,
      "outputs": []
    },
    {
      "cell_type": "markdown",
      "metadata": {
        "id": "f9l197PkYqGG"
      },
      "source": [
        "##### Coordinate to KM calculator "
      ]
    },
    {
      "cell_type": "code",
      "metadata": {
        "id": "5YLQA5dTYpF5"
      },
      "source": [
        ""
      ],
      "execution_count": null,
      "outputs": []
    },
    {
      "cell_type": "markdown",
      "metadata": {
        "id": "TWeGM3jenhqM"
      },
      "source": [
        "# Data processing\n",
        "\n",
        "### TODO\n",
        "- ~~Convert GeoTIFF to PNG~~\n",
        "- Reorganise datasets for fast.ai retraining. 2-400 images was sufficient for object recog, maybe double that for top-down sat photos?\n"
      ]
    },
    {
      "cell_type": "code",
      "metadata": {
        "id": "ojueZsqRrH5P"
      },
      "source": [
        "# converts geotiff to png, using selected bands. There seems to be a limited range of functional bands, including only 3 \n",
        "# being available for a non-transparent image. The bands also display in black-and-white when displayed individually. \n",
        "\n",
        "def geotiffToPng(tif_path):\n",
        "  #TODO remap to ARGB to get more defined brightness data\n",
        "  options_list = [\n",
        "    '-ot Byte',\n",
        "    '-of PNG',\n",
        "    '-b 4',\n",
        "    '-b 3',\n",
        "    '-b 2',\n",
        "    '-scale'\n",
        "  ]\n",
        "  options_string = \" \".join(options_list)\n",
        "\n",
        "  yourpath = os.path.join(drive_path, tif_path)\n",
        "  print(yourpath)\n",
        "  \n",
        "  for root, dirs, files in os.walk(yourpath, topdown=False):\n",
        "    for name in files:\n",
        "      fullpath = os.path.join(root, name)\n",
        "      print(fullpath)\n",
        "      splitpath = os.path.splitext(fullpath)\n",
        "      if splitpath[1].lower() == \".tif\":\n",
        "        path = splitpath[0]\n",
        "        print(path)\n",
        "        if os.path.isfile(path + \".png\"):\n",
        "          print(\"A png file already exists for %s\" % name)\n",
        "          continue\n",
        "        \n",
        "        gdal.Translate(\n",
        "          path + '.png',\n",
        "          path + '.tif',\n",
        "          options=options_string\n",
        "        )"
      ],
      "execution_count": 137,
      "outputs": []
    },
    {
      "cell_type": "code",
      "metadata": {
        "colab": {
          "base_uri": "https://localhost:8080/"
        },
        "id": "Eh5sPy3Gn3gN",
        "outputId": "192f21b5-832b-4ebb-eb46-85b8f45cd777"
      },
      "source": [
        "#geotiffToPng(\"10m/sqkm_png_exports\")\n",
        "geotiffToPng(\"10m test\")"
      ],
      "execution_count": 158,
      "outputs": [
        {
          "output_type": "stream",
          "text": [
            "/content/drive/MyDrive/10m test\n",
            "/content/drive/MyDrive/10m test/10m_scale_img_list - Testing tiny ver2.tif\n",
            "/content/drive/MyDrive/10m test/10m_scale_img_list - Testing tiny ver2\n",
            "A png file already exists for 10m_scale_img_list - Testing tiny ver2.tif\n",
            "/content/drive/MyDrive/10m test/10m_scale_img_list - Testing tiny ver1.tif\n",
            "/content/drive/MyDrive/10m test/10m_scale_img_list - Testing tiny ver1\n",
            "A png file already exists for 10m_scale_img_list - Testing tiny ver1.tif\n",
            "/content/drive/MyDrive/10m test/10m_scale_img_list - Testing equator4.tif\n",
            "/content/drive/MyDrive/10m test/10m_scale_img_list - Testing equator4\n",
            "A png file already exists for 10m_scale_img_list - Testing equator4.tif\n",
            "/content/drive/MyDrive/10m test/10m_scale_img_list - Testing equator3.tif\n",
            "/content/drive/MyDrive/10m test/10m_scale_img_list - Testing equator3\n",
            "A png file already exists for 10m_scale_img_list - Testing equator3.tif\n",
            "/content/drive/MyDrive/10m test/10m_scale_img_list - Testing equator2.tif\n",
            "/content/drive/MyDrive/10m test/10m_scale_img_list - Testing equator2\n",
            "A png file already exists for 10m_scale_img_list - Testing equator2.tif\n",
            "/content/drive/MyDrive/10m test/10m_scale_img_list - Testing equator1.tif\n",
            "/content/drive/MyDrive/10m test/10m_scale_img_list - Testing equator1\n",
            "A png file already exists for 10m_scale_img_list - Testing equator1.tif\n",
            "/content/drive/MyDrive/10m test/10m_scale_img_list - Testing o2.tif\n",
            "/content/drive/MyDrive/10m test/10m_scale_img_list - Testing o2\n",
            "A png file already exists for 10m_scale_img_list - Testing o2.tif\n",
            "/content/drive/MyDrive/10m test/10m_scale_img_list - Testing bordeaux.tif\n",
            "/content/drive/MyDrive/10m test/10m_scale_img_list - Testing bordeaux\n",
            "A png file already exists for 10m_scale_img_list - Testing bordeaux.tif\n",
            "/content/drive/MyDrive/10m test/10m_scale_img_list - Testing that dome again.tif\n",
            "/content/drive/MyDrive/10m test/10m_scale_img_list - Testing that dome again\n",
            "A png file already exists for 10m_scale_img_list - Testing that dome again.tif\n",
            "/content/drive/MyDrive/10m test/10m_scale_img_list - Testing tiny ver2.png\n",
            "/content/drive/MyDrive/10m test/10m_scale_img_list - Testing tiny ver2.png.aux.xml\n",
            "/content/drive/MyDrive/10m test/10m_scale_img_list - Testing tiny ver1.png\n",
            "/content/drive/MyDrive/10m test/10m_scale_img_list - Testing tiny ver1.png.aux.xml\n",
            "/content/drive/MyDrive/10m test/10m_scale_img_list - Testing equator4.png\n",
            "/content/drive/MyDrive/10m test/10m_scale_img_list - Testing equator4.png.aux.xml\n",
            "/content/drive/MyDrive/10m test/10m_scale_img_list - Testing equator3.png\n",
            "/content/drive/MyDrive/10m test/10m_scale_img_list - Testing equator3.png.aux.xml\n",
            "/content/drive/MyDrive/10m test/10m_scale_img_list - Testing equator2.png\n",
            "/content/drive/MyDrive/10m test/10m_scale_img_list - Testing equator2.png.aux.xml\n",
            "/content/drive/MyDrive/10m test/10m_scale_img_list - Testing equator1.png\n",
            "/content/drive/MyDrive/10m test/10m_scale_img_list - Testing equator1.png.aux.xml\n",
            "/content/drive/MyDrive/10m test/10m_scale_img_list - Testing o2.png\n",
            "/content/drive/MyDrive/10m test/10m_scale_img_list - Testing o2.png.aux.xml\n",
            "/content/drive/MyDrive/10m test/10m_scale_img_list - Testing bordeaux.png\n",
            "/content/drive/MyDrive/10m test/10m_scale_img_list - Testing bordeaux.png.aux.xml\n",
            "/content/drive/MyDrive/10m test/10m_scale_img_list - Testing that dome again.png\n",
            "/content/drive/MyDrive/10m test/10m_scale_img_list - Testing that dome again.png.aux.xml\n",
            "/content/drive/MyDrive/10m test/10m_scale_img_list - Testing eiffel.tif\n",
            "/content/drive/MyDrive/10m test/10m_scale_img_list - Testing eiffel\n",
            "A png file already exists for 10m_scale_img_list - Testing eiffel.tif\n",
            "/content/drive/MyDrive/10m test/10m_scale_img_list - Testing eiffel.png\n",
            "/content/drive/MyDrive/10m test/10m_scale_img_list - Testing eiffel.png.aux.xml\n",
            "/content/drive/MyDrive/10m test/10m_scale_img_list - Testing nairobi-0000000000-0000000000.tif\n",
            "/content/drive/MyDrive/10m test/10m_scale_img_list - Testing nairobi-0000000000-0000000000\n",
            "A png file already exists for 10m_scale_img_list - Testing nairobi-0000000000-0000000000.tif\n",
            "/content/drive/MyDrive/10m test/10m_scale_img_list - Testing nairobi-0000000000-0000000000.png\n",
            "/content/drive/MyDrive/10m test/10m_scale_img_list - Testing nairobi-0000000000-0000000000.png.aux.xml\n",
            "/content/drive/MyDrive/10m test/10m_scale_img_list - Testing nairobi-0000000000-0000006912.tif\n",
            "/content/drive/MyDrive/10m test/10m_scale_img_list - Testing nairobi-0000000000-0000006912\n",
            "A png file already exists for 10m_scale_img_list - Testing nairobi-0000000000-0000006912.tif\n",
            "/content/drive/MyDrive/10m test/10m_scale_img_list - Testing greenwich.tif\n",
            "/content/drive/MyDrive/10m test/10m_scale_img_list - Testing greenwich\n",
            "A png file already exists for 10m_scale_img_list - Testing greenwich.tif\n",
            "/content/drive/MyDrive/10m test/10m_scale_img_list - Testing nairobi-0000000000-0000006912.png\n",
            "/content/drive/MyDrive/10m test/10m_scale_img_list - Testing nairobi-0000000000-0000006912.png.aux.xml\n",
            "/content/drive/MyDrive/10m test/10m_scale_img_list - Testing greenwich.png\n",
            "/content/drive/MyDrive/10m test/10m_scale_img_list - Testing greenwich.png.aux.xml\n",
            "/content/drive/MyDrive/10m test/10m_scale_img_list - Testing nairobi again.tif\n",
            "/content/drive/MyDrive/10m test/10m_scale_img_list - Testing nairobi again\n",
            "A png file already exists for 10m_scale_img_list - Testing nairobi again.tif\n",
            "/content/drive/MyDrive/10m test/10m_scale_img_list - Testing nairobi again.png\n",
            "/content/drive/MyDrive/10m test/10m_scale_img_list - Testing nairobi again.png.aux.xml\n",
            "/content/drive/MyDrive/10m test/10m_scale_img_list - Testing the whole darn earth.tif\n",
            "/content/drive/MyDrive/10m test/10m_scale_img_list - Testing the whole darn earth\n",
            "A png file already exists for 10m_scale_img_list - Testing the whole darn earth.tif\n",
            "/content/drive/MyDrive/10m test/10m_scale_img_list - Testing the whole darn earth.png\n",
            "/content/drive/MyDrive/10m test/10m_scale_img_list - Testing the whole darn earth.png.aux.xml\n",
            "/content/drive/MyDrive/10m test/10m_scale_img_list - Testing greenwich again.tif\n",
            "/content/drive/MyDrive/10m test/10m_scale_img_list - Testing greenwich again\n"
          ],
          "name": "stdout"
        }
      ]
    }
  ]
}