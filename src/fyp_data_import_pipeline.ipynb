{
  "nbformat": 4,
  "nbformat_minor": 0,
  "metadata": {
    "colab": {
      "name": "fyp_data_import_pipeline.ipynb",
      "provenance": [],
      "collapsed_sections": [
        "sTZipoKOJNyg"
      ],
      "include_colab_link": true
    },
    "kernelspec": {
      "name": "python3",
      "display_name": "Python 3"
    }
  },
  "cells": [
    {
      "cell_type": "markdown",
      "metadata": {
        "id": "view-in-github",
        "colab_type": "text"
      },
      "source": [
        "<a href=\"https://colab.research.google.com/github/WRFitch/fyp/blob/main/src/fyp_data_import_pipeline.ipynb\" target=\"_parent\"><img src=\"https://colab.research.google.com/assets/colab-badge.svg\" alt=\"Open In Colab\"/></a>"
      ]
    },
    {
      "cell_type": "markdown",
      "metadata": {
        "id": "vBYK4VpU-2tn"
      },
      "source": [
        "# Data Import Pipeline\n",
        "\n",
        "This code is still under construction, and is therefore very very bad in places. \n",
        "\n",
        "### TODO\n",
        "- Import CO2 dataset\n",
        "- Extract unnecessary methods into normal python files and import where necessary. \n",
        "- Remove unnecessary variable changes where necessary - this stacks up all the JSON, making everything harder than it needs to be. \n",
        "- Change unnecessary image imports to feature imports "
      ]
    },
    {
      "cell_type": "markdown",
      "metadata": {
        "id": "16Ua09qtJqgw"
      },
      "source": [
        "## Setup\n",
        "*   Import necessary libraries\n",
        "*   Set up Earth Engine authentication and mount google drive  \n"
      ]
    },
    {
      "cell_type": "code",
      "metadata": {
        "id": "OT1lreKK1bXw"
      },
      "source": [
        "import ee\n",
        "import folium\n",
        "import os\n",
        "\n",
        "from google.colab import drive\n",
        "from osgeo import gdal\n",
        "from PIL import Image\n",
        "from pprint import pprint"
      ],
      "execution_count": 1,
      "outputs": []
    },
    {
      "cell_type": "code",
      "metadata": {
        "id": "ACtrAfnVnOjt"
      },
      "source": [
        "ee.Authenticate()\n",
        "ee.Initialize()"
      ],
      "execution_count": null,
      "outputs": []
    },
    {
      "cell_type": "code",
      "metadata": {
        "id": "mLUtYn4SndcT"
      },
      "source": [
        "drive.mount('/content/drive')\n",
        "\n",
        "print(folium.__version__)"
      ],
      "execution_count": null,
      "outputs": []
    },
    {
      "cell_type": "markdown",
      "metadata": {
        "id": "jZUKXEfUiEtZ"
      },
      "source": [
        "# Dataset import\n",
        "\n",
        "### Import the following datasets into Google Drive\n",
        "\n",
        "*   [Sentinel-2 Satellite photography](https://developers.google.com/earth-engine/datasets/catalog/COPERNICUS_S2_SR)\n",
        "*   [Sentinel-5 Precursor Data](https://developers.google.com/earth-engine/datasets/catalog/sentinel)\n",
        "  *   [Carbon Monoxide](https://developers.google.com/earth-engine/datasets/catalog/COPERNICUS_S5P_OFFL_L3_CO)\n",
        "  *   [Formaldehyde](https://developers.google.com/earth-engine/datasets/catalog/COPERNICUS_S5P_OFFL_L3_HCHO)\n",
        "  *   [Nitrogen Dioxide](https://developers.google.com/earth-engine/datasets/catalog/COPERNICUS_S5P_OFFL_L3_NO2)\n",
        "  *   [Ozone](https://developers.google.com/earth-engine/datasets/catalog/COPERNICUS_S5P_OFFL_L3_O3)\n",
        "  *   [Sulphur Dioxide](https://developers.google.com/earth-engine/datasets/catalog/COPERNICUS_S5P_OFFL_L3_SO2)\n",
        "  *   [Methane](https://developers.google.com/earth-engine/datasets/catalog/COPERNICUS_S5P_OFFL_L3_CH4)\n",
        "*   [ODIAC Fossil Fuel CO2 Emissions](https://db.cger.nies.go.jp/dataset/ODIAC/DL_odiac2019.html)"
      ]
    },
    {
      "cell_type": "markdown",
      "metadata": {
        "id": "DlFd1y1OIXxk"
      },
      "source": [
        "##### Define Earth Engine Boundaries "
      ]
    },
    {
      "cell_type": "code",
      "metadata": {
        "id": "YuosygcHIfhO"
      },
      "source": [
        "# Define dataset boundaries for britain and london \n",
        "great_britain = ee.Geometry.Polygon(\n",
        "        [[[-1.836112801004015, 59.808076330562756],\n",
        "          [-8.779472176004015, 58.82140293049428],\n",
        "          [-7.988456551004015, 55.71069203454839],\n",
        "          [-11.196464363504015, 54.42753859549109],\n",
        "          [-11.328300301004015, 50.967746003015044],\n",
        "          [-9.526542488504015, 50.77361752815123],\n",
        "          [-6.274589363504015, 51.81776248652293],\n",
        "          [-5.395683113504015, 51.21615275310099],\n",
        "          [-6.582206551004015, 49.56332371186494],\n",
        "          [-3.110526863504015, 49.904165426606255],\n",
        "          [1.240059073995985, 50.80139967619036],\n",
        "          [2.426582511495985, 52.33095407387208],\n",
        "          [1.767402823995985, 53.4183511305661],\n",
        "          [0.5369340739959849, 53.44453305344514],\n",
        "          [-1.616386238504015, 56.32474216074427],\n",
        "          [-0.7814253010040151, 57.805828290000164]]])\n",
        "\n",
        "london = ee.Geometry.Polygon(\n",
        "        [[[-0.8034984064310513, 51.86893967293553],\n",
        "          [-0.8034984064310513, 51.10101596040769],\n",
        "          [0.4077442693501787, 51.10101596040769],\n",
        "          [0.4077442693501787, 51.86893967293553]]])\n",
        "\n",
        "uxbridge = ee.Geometry.Rectangle(\n",
        "        [[-0.5585304622116949, 51.577993458567235],\n",
        "         [-0.3951088313523199, 51.51009512268249]])\n",
        "\n",
        "# Used to check scaling is a-ok\n",
        "millennium_dome = ee.Geometry.Polygon(\n",
        "        [[[0, 51.51],\n",
        "          [0, 51.49],\n",
        "          [0.02, 51.49],\n",
        "          [0.02, 51.51]]]);\n",
        "\n",
        "greenwich = ee.Geometry.Polygon(\n",
        "        [[[-0.0, 51.55],\n",
        "          [-0.0, 51.45],\n",
        "          [0.1, 51.45],\n",
        "          [0.1, 51.55]]])\n",
        "\n",
        "west_hemisphere = ee.Geometry.Polygon(\n",
        "        [[[-177.32831443211026, 84.89714695160266],\n",
        "          [-177.32831443211026, -84.77052832075908],\n",
        "          [0, -84.77052832075908],\n",
        "          [0, 84.89714695160266]]])\n",
        "\n",
        "east_hemisphere = ee.Geometry.Polygon(\n",
        "        [[[0, 84.89714695160266],\n",
        "          [0, -84.77052832075908],\n",
        "          [173.5310605678897, -84.77052832075908],\n",
        "          [173.5310605678897, 84.89714695160266]]])"
      ],
      "execution_count": 4,
      "outputs": []
    },
    {
      "cell_type": "markdown",
      "metadata": {
        "id": "jkq4mhmfIwO_"
      },
      "source": [
        "##### Define other implementation variables"
      ]
    },
    {
      "cell_type": "code",
      "metadata": {
        "id": "xQZlTc5Rf-LC"
      },
      "source": [
        "# Earth engine username, used to import classified image into ee assets folder\n",
        "USERNAME = 'wrfitch'\n",
        "OUTPUT_DIR = USERNAME + \"/out/\"\n",
        "\n",
        "# Define collections for each dataset to be used \n",
        "s2 = ee.ImageCollection(\"COPERNICUS/S2_SR\")\n",
        "s5_CO = ee.ImageCollection(\"COPERNICUS/S5P/OFFL/L3_CO\")\n",
        "s5_HCHO = ee.ImageCollection(\"COPERNICUS/S5P/OFFL/L3_HCHO\")\n",
        "s5_NO2 = ee.ImageCollection(\"COPERNICUS/S5P/OFFL/L3_NO2\")\n",
        "s5_O3 = ee.ImageCollection(\"COPERNICUS/S5P/OFFL/L3_O3\")\n",
        "s5_SO2 = ee.ImageCollection(\"COPERNICUS/S5P/OFFL/L3_SO2\")\n",
        "s5_CH4 = ee.ImageCollection(\"COPERNICUS/S5P/OFFL/L3_CH4\")\n",
        "\n",
        "fs2 = ee.FeatureCollection(\"COPERNICUS/S2_SR\")\n",
        "fs5_CO = ee.FeatureCollection(\"COPERNICUS/S5P/OFFL/L3_CO\")\n",
        "fs5_HCHO = ee.FeatureCollection(\"COPERNICUS/S5P/OFFL/L3_HCHO\")\n",
        "fs5_NO2 = ee.FeatureCollection(\"COPERNICUS/S5P/OFFL/L3_NO2\")\n",
        "fs5_O3 = ee.FeatureCollection(\"COPERNICUS/S5P/OFFL/L3_O3\")\n",
        "fs5_SO2 = ee.FeatureCollection(\"COPERNICUS/S5P/OFFL/L3_SO2\")\n",
        "fs5_CH4 = ee.FeatureCollection(\"COPERNICUS/S5P/OFFL/L3_CH4\")\n",
        "#TODO import CO2 dataset\n",
        "\n",
        "CO_band = 'CO_column_number_density'\n",
        "HCHO_band = 'tropospheric_HCHO_column_number_density'\n",
        "NO2_band = 'tropospheric_NO2_column_number_density'\n",
        "O3_band = 'O3_column_number_density'\n",
        "SO2_band = 'SO2_column_number_density'\n",
        "CH4_band = 'CH4_column_volume_mixing_ratio_dry_air'\n",
        "\n",
        "#define crs object so we can use the same coordinate reference system on everything. \n",
        "#crs = ee.Projection.\n",
        "\n",
        "# Could the start and end dates be shifted or focused on one area, so emissions can be monitored across the seasons? \n",
        "# would that even be useful? \n",
        "start_date = '2020-01-01'\n",
        "end_date = '2020-12-31'\n",
        "vis_palette = ['black', 'blue', 'purple', 'cyan', 'green', 'yellow', 'red']\n",
        "\n",
        "drive_path = \"/content/drive/MyDrive/\"\n",
        "export_dir = \"img_export\"\n",
        "geotiff_dir = \"geotiff_export\""
      ],
      "execution_count": 23,
      "outputs": []
    },
    {
      "cell_type": "code",
      "metadata": {
        "id": "BgrCYW_eir0-"
      },
      "source": [
        "CO_fc = fs5_CO.filterDate(start_date, end_date) \\\n",
        "              .filterBounds(great_britain) \\\n",
        "              .select(CO_band)\n",
        "\n",
        "HCHO_fc = fs5_HCHO.filterDate(start_date, end_date) \\\n",
        "              .filterBounds(great_britain) \\\n",
        "              .select(CO_band)\n",
        "\n",
        "NO2_fc = fs5_NO2.filterDate(start_date, end_date) \\\n",
        "              .filterBounds(great_britain) \\\n",
        "              .select(CO_band)\n",
        "\n",
        "O3_fc = fs5_O3.filterDate(start_date, end_date) \\\n",
        "              .filterBounds(great_britain) \\\n",
        "              .select(CO_band)\n",
        "\n",
        "SO2_fc = fs5_SO2.filterDate(start_date, end_date) \\\n",
        "              .filterBounds(great_britain) \\\n",
        "              .select(CO_band)\n",
        "  \n",
        "CH4_fc = fs5_CH4.filterDate(start_date, end_date) \\\n",
        "              .filterBounds(great_britain) \\\n",
        "              .select(CO_band)"
      ],
      "execution_count": 6,
      "outputs": []
    },
    {
      "cell_type": "code",
      "metadata": {
        "id": "liIZ0y0JnSjY"
      },
      "source": [
        "# Import datasets \n",
        "# TODO analyse whether these min/max values are valid, recalibrate for highest variance where necessary. Separate values\n",
        "#      may be necessary for different samples - for example, the perfect calibration for the UK won't work on the world. \n",
        "# TODO analyse whether it makes sense to analyse these on a highly localised level\n",
        "# Filterbounds doesn't even seem to work locally, so may as well remove it\n",
        "\n",
        "# pre-filter to remove clouds - we can add them back in as data points from sentinel 5 if necessary\n",
        "def maskS2clouds(image) :\n",
        "  qa = image.select('QA60');\n",
        "\n",
        "  # Bits 10 and 11 are clouds and cirrus, respectively.\n",
        "  cloud_bitmask = 1 << 10\n",
        "  cirrus_bitmask = 1 << 11\n",
        "\n",
        "  # Both flags should be set to zero, indicating clear conditions.\n",
        "  mask = qa.bitwiseAnd(cloud_bitmask).eq(0).And( \\\n",
        "         qa.bitwiseAnd(cirrus_bitmask).eq(0))\n",
        "\n",
        "  return image.updateMask(mask).divide(10000)\n",
        "\n",
        "# High-resolution satellite photograph \n",
        "s2_img = s2.filterDate(start_date, end_date) \\\n",
        "           .filter(ee.Filter.lt('CLOUDY_PIXEL_PERCENTAGE', 20)) \\\n",
        "           .filterBounds(great_britain) \\\n",
        "           .map(maskS2clouds).median()\n",
        "s2_id = s2_img.getMapId({'bands': ['B4', 'B3', 'B2'], \\\n",
        "                        'min': 0, \\\n",
        "                        'max': 0.3})\n",
        "\n",
        "# Carbon monoxide\n",
        "# Minmax scale is a bit off - recalibrate for Britain \n",
        "CO_img = s5_CO.filterDate(start_date, end_date) \\\n",
        "              .filterBounds(great_britain) \\\n",
        "              .select(CO_band).mean()\n",
        "CO_id = CO_img.getMapId( \\\n",
        "    {'palette': vis_palette, \\\n",
        "    'min': 0, \\\n",
        "    'max': 0.05})\n",
        "\n",
        "# Formaldehyde\n",
        "# Minmax scale is a bit off - recalibrate for Britain\n",
        "HCHO_img = s5_HCHO.filterDate(start_date, end_date) \\\n",
        "                  .filterBounds(great_britain) \\\n",
        "                  .select(HCHO_band).mean()\n",
        "HCHO_id = HCHO_img.getMapId( \\\n",
        "    {'palette': vis_palette, \\\n",
        "    'min': 0.0, \\\n",
        "    'max': 0.0003})\n",
        "\n",
        "# Nitrogen Dioxide\n",
        "NO2_img = s5_NO2.filterDate(start_date, end_date) \\\n",
        "                .filterBounds(great_britain) \\\n",
        "                .select(NO2_band).mean()\n",
        "NO2_id = NO2_img.getMapId( \\\n",
        "    {'palette': vis_palette, \\\n",
        "    'min': 0.0, \\\n",
        "    'max': 0.0002})\n",
        "\n",
        "# Ozone\n",
        "O3_img = s5_O3.filterDate(start_date, end_date) \\\n",
        "              .filterBounds(great_britain) \\\n",
        "              .select(O3_band).mean()\n",
        "O3_id = O3_img.getMapId( \\\n",
        "    {'palette': vis_palette, \\\n",
        "    'min': 0.12, \\\n",
        "    'max': 0.15})\n",
        "\n",
        "# Sulphur Dioxide\n",
        "SO2_img = s5_SO2.filterDate(start_date, end_date) \\\n",
        "                .filterBounds(great_britain) \\\n",
        "                .select(SO2_band).mean()\n",
        "SO2_id = SO2_img.getMapId( \\\n",
        "    {'palette': vis_palette, \\\n",
        "    'min': 0.0, \\\n",
        "    'max': 0.0005})\n",
        "\n",
        "# Methane\n",
        "CH4_img = s5_CH4.filterDate(start_date, end_date) \\\n",
        "                .filterBounds(great_britain) \\\n",
        "                .select(CH4_band).mean()\n",
        "CH4_id = CH4_img.getMapId( \\\n",
        "    {'palette': vis_palette, \\\n",
        "    'min': 1750, \\\n",
        "    'max': 1900})"
      ],
      "execution_count": 7,
      "outputs": []
    },
    {
      "cell_type": "code",
      "metadata": {
        "id": "MSRiplMExL_j"
      },
      "source": [
        "# For easier iteration down the line. I know I'm not supposed to, but google can't tell me what to do, even if it's a good idea!\n",
        "ghg_imgs = [CO_img, HCHO_img, NO2_img, O3_img, SO2_img, CH4_img]\n",
        "ghg_ids = [CO_id, HCHO_id, NO2_id, O3_id, SO2_id, CH4_id]\n",
        "ghg_fcs = [CO_fc, HCHO_fc, NO2_fc, O3_fc, SO2_fc, CH4_fc]"
      ],
      "execution_count": 8,
      "outputs": []
    },
    {
      "cell_type": "markdown",
      "metadata": {
        "id": "sTZipoKOJNyg"
      },
      "source": [
        "### Visualise Data"
      ]
    },
    {
      "cell_type": "code",
      "metadata": {
        "id": "QCsfkjOE8y_H",
        "colab": {
          "base_uri": "https://localhost:8080/",
          "height": 1000
        },
        "outputId": "2125f4d8-5861-4c44-aae7-9d940ee3d49f"
      },
      "source": [
        "# Visualise data on a Folium map \n",
        "# Attribution has to stay earthengine.google.com, since that's where these maps came from. \n",
        "map = folium.Map(\n",
        "    location = [51.5, 0.1], \n",
        "    prefer_canvas = True)\n",
        "\n",
        "layerOpacity = 0.5\n",
        "\n",
        "folium.TileLayer(\n",
        "    tiles = s2_id['tile_fetcher'].url_format,\n",
        "    attr = 'Map Data &copy; <a href=\"https://earthengine.google.com/\">Google Earth Engine</a>',\n",
        "    overlay = True,\n",
        "    name = 'satellite photography median composite '\n",
        "  ).add_to(map)\n",
        "\n",
        "folium.TileLayer(\n",
        "    tiles = CO_id['tile_fetcher'].url_format,\n",
        "    attr = 'Map Data &copy; <a href=\"https://earthengine.google.com/\">Google Earth Engine</a>',\n",
        "    overlay = True,\n",
        "    name = 'Carbon Monoxide',\n",
        "    opacity = layerOpacity\n",
        "  ).add_to(map)\n",
        "\n",
        "folium.TileLayer(\n",
        "    tiles = HCHO_id['tile_fetcher'].url_format,\n",
        "    attr = 'Map Data &copy; <a href=\"https://earthengine.google.com/\">Google Earth Engine</a>',\n",
        "    overlay = True,\n",
        "    name = 'Formaldehyde',\n",
        "    opacity = layerOpacity\n",
        "  ).add_to(map)\n",
        "\n",
        "folium.TileLayer(\n",
        "    tiles = NO2_id['tile_fetcher'].url_format,\n",
        "    attr = 'Map Data &copy; <a href=\"https://earthengine.google.com/\">Google Earth Engine</a>',\n",
        "    overlay = True,\n",
        "    name = 'Nitrogen Dioxide',\n",
        "    opacity = layerOpacity\n",
        "  ).add_to(map)\n",
        "\n",
        "folium.TileLayer(\n",
        "    tiles = O3_id['tile_fetcher'].url_format,\n",
        "    attr = 'Map Data &copy; <a href=\"https://earthengine.google.com/\">Google Earth Engine</a>',\n",
        "    overlay = True,\n",
        "    name = 'Ozone',\n",
        "    opacity = layerOpacity\n",
        "  ).add_to(map)\n",
        "\n",
        "folium.TileLayer(\n",
        "    tiles = SO2_id['tile_fetcher'].url_format,\n",
        "    attr = 'Map Data &copy; <a href=\"https://earthengine.google.com/\">Google Earth Engine</a>',\n",
        "    overlay = True,\n",
        "    name = 'Sulphur Dioxide',\n",
        "    opacity = layerOpacity\n",
        "  ).add_to(map)\n",
        "\n",
        "folium.TileLayer(\n",
        "    tiles = CH4_id['tile_fetcher'].url_format,\n",
        "    attr = 'Map Data &copy; <a href=\"https://earthengine.google.com/\">Google Earth Engine</a>',\n",
        "    overlay = True,\n",
        "    name = 'Methane',\n",
        "    opacity = layerOpacity\n",
        "  ).add_to(map)\n",
        "  \n",
        "map.add_child(folium.LayerControl())\n",
        "map"
      ],
      "execution_count": null,
      "outputs": [
        {
          "output_type": "execute_result",
          "data": {
            "text/html": [
              "<div style=\"width:100%;\"><div style=\"position:relative;width:100%;height:0;padding-bottom:60%;\"><span style=\"color:#565656\">Make this Notebook Trusted to load map: File -> Trust Notebook</span><iframe src=\"about:blank\" style=\"position:absolute;width:100%;height:100%;left:0;top:0;border:none !important;\" data-html=%3C%21DOCTYPE%20html%3E%0A%3Chead%3E%20%20%20%20%0A%20%20%20%20%3Cmeta%20http-equiv%3D%22content-type%22%20content%3D%22text/html%3B%20charset%3DUTF-8%22%20/%3E%0A%20%20%20%20%3Cscript%3EL_PREFER_CANVAS%3Dtrue%3B%20L_NO_TOUCH%3Dfalse%3B%20L_DISABLE_3D%3Dfalse%3B%3C/script%3E%0A%20%20%20%20%3Cscript%20src%3D%22https%3A//cdn.jsdelivr.net/npm/leaflet%401.4.0/dist/leaflet.js%22%3E%3C/script%3E%0A%20%20%20%20%3Cscript%20src%3D%22https%3A//code.jquery.com/jquery-1.12.4.min.js%22%3E%3C/script%3E%0A%20%20%20%20%3Cscript%20src%3D%22https%3A//maxcdn.bootstrapcdn.com/bootstrap/3.2.0/js/bootstrap.min.js%22%3E%3C/script%3E%0A%20%20%20%20%3Cscript%20src%3D%22https%3A//cdnjs.cloudflare.com/ajax/libs/Leaflet.awesome-markers/2.0.2/leaflet.awesome-markers.js%22%3E%3C/script%3E%0A%20%20%20%20%3Clink%20rel%3D%22stylesheet%22%20href%3D%22https%3A//cdn.jsdelivr.net/npm/leaflet%401.4.0/dist/leaflet.css%22/%3E%0A%20%20%20%20%3Clink%20rel%3D%22stylesheet%22%20href%3D%22https%3A//maxcdn.bootstrapcdn.com/bootstrap/3.2.0/css/bootstrap.min.css%22/%3E%0A%20%20%20%20%3Clink%20rel%3D%22stylesheet%22%20href%3D%22https%3A//maxcdn.bootstrapcdn.com/bootstrap/3.2.0/css/bootstrap-theme.min.css%22/%3E%0A%20%20%20%20%3Clink%20rel%3D%22stylesheet%22%20href%3D%22https%3A//maxcdn.bootstrapcdn.com/font-awesome/4.6.3/css/font-awesome.min.css%22/%3E%0A%20%20%20%20%3Clink%20rel%3D%22stylesheet%22%20href%3D%22https%3A//cdnjs.cloudflare.com/ajax/libs/Leaflet.awesome-markers/2.0.2/leaflet.awesome-markers.css%22/%3E%0A%20%20%20%20%3Clink%20rel%3D%22stylesheet%22%20href%3D%22https%3A//rawcdn.githack.com/python-visualization/folium/master/folium/templates/leaflet.awesome.rotate.css%22/%3E%0A%20%20%20%20%3Cstyle%3Ehtml%2C%20body%20%7Bwidth%3A%20100%25%3Bheight%3A%20100%25%3Bmargin%3A%200%3Bpadding%3A%200%3B%7D%3C/style%3E%0A%20%20%20%20%3Cstyle%3E%23map%20%7Bposition%3Aabsolute%3Btop%3A0%3Bbottom%3A0%3Bright%3A0%3Bleft%3A0%3B%7D%3C/style%3E%0A%20%20%20%20%0A%20%20%20%20%3Cmeta%20name%3D%22viewport%22%20content%3D%22width%3Ddevice-width%2C%0A%20%20%20%20%20%20%20%20initial-scale%3D1.0%2C%20maximum-scale%3D1.0%2C%20user-scalable%3Dno%22%20/%3E%0A%20%20%20%20%3Cstyle%3E%23map_34861d3f00794ec4a01591de14314a1c%20%7B%0A%20%20%20%20%20%20%20%20position%3A%20relative%3B%0A%20%20%20%20%20%20%20%20width%3A%20100.0%25%3B%0A%20%20%20%20%20%20%20%20height%3A%20100.0%25%3B%0A%20%20%20%20%20%20%20%20left%3A%200.0%25%3B%0A%20%20%20%20%20%20%20%20top%3A%200.0%25%3B%0A%20%20%20%20%20%20%20%20%7D%0A%20%20%20%20%3C/style%3E%0A%3C/head%3E%0A%3Cbody%3E%20%20%20%20%0A%20%20%20%20%0A%20%20%20%20%3Cdiv%20class%3D%22folium-map%22%20id%3D%22map_34861d3f00794ec4a01591de14314a1c%22%20%3E%3C/div%3E%0A%3C/body%3E%0A%3Cscript%3E%20%20%20%20%0A%20%20%20%20%0A%20%20%20%20%0A%20%20%20%20%20%20%20%20var%20bounds%20%3D%20null%3B%0A%20%20%20%20%0A%0A%20%20%20%20var%20map_34861d3f00794ec4a01591de14314a1c%20%3D%20L.map%28%0A%20%20%20%20%20%20%20%20%27map_34861d3f00794ec4a01591de14314a1c%27%2C%20%7B%0A%20%20%20%20%20%20%20%20center%3A%20%5B51.5%2C%200.1%5D%2C%0A%20%20%20%20%20%20%20%20zoom%3A%2010%2C%0A%20%20%20%20%20%20%20%20maxBounds%3A%20bounds%2C%0A%20%20%20%20%20%20%20%20layers%3A%20%5B%5D%2C%0A%20%20%20%20%20%20%20%20worldCopyJump%3A%20false%2C%0A%20%20%20%20%20%20%20%20crs%3A%20L.CRS.EPSG3857%2C%0A%20%20%20%20%20%20%20%20zoomControl%3A%20true%2C%0A%20%20%20%20%20%20%20%20%7D%29%3B%0A%0A%0A%20%20%20%20%0A%20%20%20%20var%20tile_layer_8246bfe2f4a3464299e6ecb59f1cace9%20%3D%20L.tileLayer%28%0A%20%20%20%20%20%20%20%20%27https%3A//%7Bs%7D.tile.openstreetmap.org/%7Bz%7D/%7Bx%7D/%7By%7D.png%27%2C%0A%20%20%20%20%20%20%20%20%7B%0A%20%20%20%20%20%20%20%20%22attribution%22%3A%20null%2C%0A%20%20%20%20%20%20%20%20%22detectRetina%22%3A%20false%2C%0A%20%20%20%20%20%20%20%20%22maxNativeZoom%22%3A%2018%2C%0A%20%20%20%20%20%20%20%20%22maxZoom%22%3A%2018%2C%0A%20%20%20%20%20%20%20%20%22minZoom%22%3A%200%2C%0A%20%20%20%20%20%20%20%20%22noWrap%22%3A%20false%2C%0A%20%20%20%20%20%20%20%20%22opacity%22%3A%201%2C%0A%20%20%20%20%20%20%20%20%22subdomains%22%3A%20%22abc%22%2C%0A%20%20%20%20%20%20%20%20%22tms%22%3A%20false%0A%7D%29.addTo%28map_34861d3f00794ec4a01591de14314a1c%29%3B%0A%20%20%20%20var%20tile_layer_a5ee6b6eebd74351b20f321ec9f25542%20%3D%20L.tileLayer%28%0A%20%20%20%20%20%20%20%20%27https%3A//earthengine.googleapis.com/v1alpha/projects/earthengine-legacy/maps/8b51ff074a159ef386bf5ce489d56081-796a66d2a0a7f2f8c211847d255f0d66/tiles/%7Bz%7D/%7Bx%7D/%7By%7D%27%2C%0A%20%20%20%20%20%20%20%20%7B%0A%20%20%20%20%20%20%20%20%22attribution%22%3A%20%22Map%20Data%20%26copy%3B%20%3Ca%20href%3D%5C%22https%3A//earthengine.google.com/%5C%22%3EGoogle%20Earth%20Engine%3C/a%3E%22%2C%0A%20%20%20%20%20%20%20%20%22detectRetina%22%3A%20false%2C%0A%20%20%20%20%20%20%20%20%22maxNativeZoom%22%3A%2018%2C%0A%20%20%20%20%20%20%20%20%22maxZoom%22%3A%2018%2C%0A%20%20%20%20%20%20%20%20%22minZoom%22%3A%200%2C%0A%20%20%20%20%20%20%20%20%22noWrap%22%3A%20false%2C%0A%20%20%20%20%20%20%20%20%22opacity%22%3A%201%2C%0A%20%20%20%20%20%20%20%20%22subdomains%22%3A%20%22abc%22%2C%0A%20%20%20%20%20%20%20%20%22tms%22%3A%20false%0A%7D%29.addTo%28map_34861d3f00794ec4a01591de14314a1c%29%3B%0A%20%20%20%20var%20tile_layer_4b5661960f4744b4a1f08d1ec7e3ff4e%20%3D%20L.tileLayer%28%0A%20%20%20%20%20%20%20%20%27https%3A//earthengine.googleapis.com/v1alpha/projects/earthengine-legacy/maps/7bace8bbdff18bb7b27af4ab512de73b-f937a86d3f990867e9a9c36d0b765c17/tiles/%7Bz%7D/%7Bx%7D/%7By%7D%27%2C%0A%20%20%20%20%20%20%20%20%7B%0A%20%20%20%20%20%20%20%20%22attribution%22%3A%20%22Map%20Data%20%26copy%3B%20%3Ca%20href%3D%5C%22https%3A//earthengine.google.com/%5C%22%3EGoogle%20Earth%20Engine%3C/a%3E%22%2C%0A%20%20%20%20%20%20%20%20%22detectRetina%22%3A%20false%2C%0A%20%20%20%20%20%20%20%20%22maxNativeZoom%22%3A%2018%2C%0A%20%20%20%20%20%20%20%20%22maxZoom%22%3A%2018%2C%0A%20%20%20%20%20%20%20%20%22minZoom%22%3A%200%2C%0A%20%20%20%20%20%20%20%20%22noWrap%22%3A%20false%2C%0A%20%20%20%20%20%20%20%20%22opacity%22%3A%200.5%2C%0A%20%20%20%20%20%20%20%20%22subdomains%22%3A%20%22abc%22%2C%0A%20%20%20%20%20%20%20%20%22tms%22%3A%20false%0A%7D%29.addTo%28map_34861d3f00794ec4a01591de14314a1c%29%3B%0A%20%20%20%20var%20tile_layer_73469f6a9f0647c79bf32a12f28e6357%20%3D%20L.tileLayer%28%0A%20%20%20%20%20%20%20%20%27https%3A//earthengine.googleapis.com/v1alpha/projects/earthengine-legacy/maps/99340ba611b113d3168e5c4656c5aaf4-863ce99f820638542b0a11bd9e033006/tiles/%7Bz%7D/%7Bx%7D/%7By%7D%27%2C%0A%20%20%20%20%20%20%20%20%7B%0A%20%20%20%20%20%20%20%20%22attribution%22%3A%20%22Map%20Data%20%26copy%3B%20%3Ca%20href%3D%5C%22https%3A//earthengine.google.com/%5C%22%3EGoogle%20Earth%20Engine%3C/a%3E%22%2C%0A%20%20%20%20%20%20%20%20%22detectRetina%22%3A%20false%2C%0A%20%20%20%20%20%20%20%20%22maxNativeZoom%22%3A%2018%2C%0A%20%20%20%20%20%20%20%20%22maxZoom%22%3A%2018%2C%0A%20%20%20%20%20%20%20%20%22minZoom%22%3A%200%2C%0A%20%20%20%20%20%20%20%20%22noWrap%22%3A%20false%2C%0A%20%20%20%20%20%20%20%20%22opacity%22%3A%200.5%2C%0A%20%20%20%20%20%20%20%20%22subdomains%22%3A%20%22abc%22%2C%0A%20%20%20%20%20%20%20%20%22tms%22%3A%20false%0A%7D%29.addTo%28map_34861d3f00794ec4a01591de14314a1c%29%3B%0A%20%20%20%20var%20tile_layer_b412252aba894208b43f16fd7657652e%20%3D%20L.tileLayer%28%0A%20%20%20%20%20%20%20%20%27https%3A//earthengine.googleapis.com/v1alpha/projects/earthengine-legacy/maps/ec9aea77f6dc8e42a5d7374ace719d43-c013bd0e6533621f24dc73ac31a9682e/tiles/%7Bz%7D/%7Bx%7D/%7By%7D%27%2C%0A%20%20%20%20%20%20%20%20%7B%0A%20%20%20%20%20%20%20%20%22attribution%22%3A%20%22Map%20Data%20%26copy%3B%20%3Ca%20href%3D%5C%22https%3A//earthengine.google.com/%5C%22%3EGoogle%20Earth%20Engine%3C/a%3E%22%2C%0A%20%20%20%20%20%20%20%20%22detectRetina%22%3A%20false%2C%0A%20%20%20%20%20%20%20%20%22maxNativeZoom%22%3A%2018%2C%0A%20%20%20%20%20%20%20%20%22maxZoom%22%3A%2018%2C%0A%20%20%20%20%20%20%20%20%22minZoom%22%3A%200%2C%0A%20%20%20%20%20%20%20%20%22noWrap%22%3A%20false%2C%0A%20%20%20%20%20%20%20%20%22opacity%22%3A%200.5%2C%0A%20%20%20%20%20%20%20%20%22subdomains%22%3A%20%22abc%22%2C%0A%20%20%20%20%20%20%20%20%22tms%22%3A%20false%0A%7D%29.addTo%28map_34861d3f00794ec4a01591de14314a1c%29%3B%0A%20%20%20%20var%20tile_layer_5a71ebd1c9fb4c47b2e1b343989163e5%20%3D%20L.tileLayer%28%0A%20%20%20%20%20%20%20%20%27https%3A//earthengine.googleapis.com/v1alpha/projects/earthengine-legacy/maps/5477ec560d7c727acf38e7d6935d3e2a-8ea7c6a976b88aeb5683c597c01fb060/tiles/%7Bz%7D/%7Bx%7D/%7By%7D%27%2C%0A%20%20%20%20%20%20%20%20%7B%0A%20%20%20%20%20%20%20%20%22attribution%22%3A%20%22Map%20Data%20%26copy%3B%20%3Ca%20href%3D%5C%22https%3A//earthengine.google.com/%5C%22%3EGoogle%20Earth%20Engine%3C/a%3E%22%2C%0A%20%20%20%20%20%20%20%20%22detectRetina%22%3A%20false%2C%0A%20%20%20%20%20%20%20%20%22maxNativeZoom%22%3A%2018%2C%0A%20%20%20%20%20%20%20%20%22maxZoom%22%3A%2018%2C%0A%20%20%20%20%20%20%20%20%22minZoom%22%3A%200%2C%0A%20%20%20%20%20%20%20%20%22noWrap%22%3A%20false%2C%0A%20%20%20%20%20%20%20%20%22opacity%22%3A%200.5%2C%0A%20%20%20%20%20%20%20%20%22subdomains%22%3A%20%22abc%22%2C%0A%20%20%20%20%20%20%20%20%22tms%22%3A%20false%0A%7D%29.addTo%28map_34861d3f00794ec4a01591de14314a1c%29%3B%0A%20%20%20%20var%20tile_layer_e9072a600c8a4a41a214c7109eb57c10%20%3D%20L.tileLayer%28%0A%20%20%20%20%20%20%20%20%27https%3A//earthengine.googleapis.com/v1alpha/projects/earthengine-legacy/maps/25d55dc957f140f23238342f0394cd39-3ef48568ffc5974c49fb503a5d20e905/tiles/%7Bz%7D/%7Bx%7D/%7By%7D%27%2C%0A%20%20%20%20%20%20%20%20%7B%0A%20%20%20%20%20%20%20%20%22attribution%22%3A%20%22Map%20Data%20%26copy%3B%20%3Ca%20href%3D%5C%22https%3A//earthengine.google.com/%5C%22%3EGoogle%20Earth%20Engine%3C/a%3E%22%2C%0A%20%20%20%20%20%20%20%20%22detectRetina%22%3A%20false%2C%0A%20%20%20%20%20%20%20%20%22maxNativeZoom%22%3A%2018%2C%0A%20%20%20%20%20%20%20%20%22maxZoom%22%3A%2018%2C%0A%20%20%20%20%20%20%20%20%22minZoom%22%3A%200%2C%0A%20%20%20%20%20%20%20%20%22noWrap%22%3A%20false%2C%0A%20%20%20%20%20%20%20%20%22opacity%22%3A%200.5%2C%0A%20%20%20%20%20%20%20%20%22subdomains%22%3A%20%22abc%22%2C%0A%20%20%20%20%20%20%20%20%22tms%22%3A%20false%0A%7D%29.addTo%28map_34861d3f00794ec4a01591de14314a1c%29%3B%0A%20%20%20%20var%20tile_layer_3901906169ba480c9d6719ecf7296e90%20%3D%20L.tileLayer%28%0A%20%20%20%20%20%20%20%20%27https%3A//earthengine.googleapis.com/v1alpha/projects/earthengine-legacy/maps/b9e9516962665889d88614a794da7132-4264efe9cb6689a60a5b1ea20493bf81/tiles/%7Bz%7D/%7Bx%7D/%7By%7D%27%2C%0A%20%20%20%20%20%20%20%20%7B%0A%20%20%20%20%20%20%20%20%22attribution%22%3A%20%22Map%20Data%20%26copy%3B%20%3Ca%20href%3D%5C%22https%3A//earthengine.google.com/%5C%22%3EGoogle%20Earth%20Engine%3C/a%3E%22%2C%0A%20%20%20%20%20%20%20%20%22detectRetina%22%3A%20false%2C%0A%20%20%20%20%20%20%20%20%22maxNativeZoom%22%3A%2018%2C%0A%20%20%20%20%20%20%20%20%22maxZoom%22%3A%2018%2C%0A%20%20%20%20%20%20%20%20%22minZoom%22%3A%200%2C%0A%20%20%20%20%20%20%20%20%22noWrap%22%3A%20false%2C%0A%20%20%20%20%20%20%20%20%22opacity%22%3A%200.5%2C%0A%20%20%20%20%20%20%20%20%22subdomains%22%3A%20%22abc%22%2C%0A%20%20%20%20%20%20%20%20%22tms%22%3A%20false%0A%7D%29.addTo%28map_34861d3f00794ec4a01591de14314a1c%29%3B%0A%20%20%20%20%0A%20%20%20%20%20%20%20%20%20%20%20%20var%20layer_control_e5e1667143404221b8a1c7a49715d05c%20%3D%20%7B%0A%20%20%20%20%20%20%20%20%20%20%20%20%20%20%20%20base_layers%20%3A%20%7B%20%22openstreetmap%22%20%3A%20tile_layer_8246bfe2f4a3464299e6ecb59f1cace9%2C%20%7D%2C%0A%20%20%20%20%20%20%20%20%20%20%20%20%20%20%20%20overlays%20%3A%20%7B%20%22satellite%20photography%20median%20composite%20%22%20%3A%20tile_layer_a5ee6b6eebd74351b20f321ec9f25542%2C%22Carbon%20Monoxide%22%20%3A%20tile_layer_4b5661960f4744b4a1f08d1ec7e3ff4e%2C%22Formaldehyde%22%20%3A%20tile_layer_73469f6a9f0647c79bf32a12f28e6357%2C%22Nitrogen%20Dioxide%22%20%3A%20tile_layer_b412252aba894208b43f16fd7657652e%2C%22Ozone%22%20%3A%20tile_layer_5a71ebd1c9fb4c47b2e1b343989163e5%2C%22Sulphur%20Dioxide%22%20%3A%20tile_layer_e9072a600c8a4a41a214c7109eb57c10%2C%22Methane%22%20%3A%20tile_layer_3901906169ba480c9d6719ecf7296e90%2C%20%7D%0A%20%20%20%20%20%20%20%20%20%20%20%20%20%20%20%20%7D%3B%0A%20%20%20%20%20%20%20%20%20%20%20%20L.control.layers%28%0A%20%20%20%20%20%20%20%20%20%20%20%20%20%20%20%20layer_control_e5e1667143404221b8a1c7a49715d05c.base_layers%2C%0A%20%20%20%20%20%20%20%20%20%20%20%20%20%20%20%20layer_control_e5e1667143404221b8a1c7a49715d05c.overlays%2C%0A%20%20%20%20%20%20%20%20%20%20%20%20%20%20%20%20%7Bposition%3A%20%27topright%27%2C%0A%20%20%20%20%20%20%20%20%20%20%20%20%20%20%20%20%20collapsed%3A%20true%2C%0A%20%20%20%20%20%20%20%20%20%20%20%20%20%20%20%20%20autoZIndex%3A%20true%0A%20%20%20%20%20%20%20%20%20%20%20%20%20%20%20%20%7D%29.addTo%28map_34861d3f00794ec4a01591de14314a1c%29%3B%0A%20%20%20%20%20%20%20%20%20%20%20%20%0A%20%20%20%20%20%20%20%20%0A%3C/script%3E onload=\"this.contentDocument.open();this.contentDocument.write(    decodeURIComponent(this.getAttribute('data-html')));this.contentDocument.close();\" allowfullscreen webkitallowfullscreen mozallowfullscreen></iframe></div></div>"
            ],
            "text/plain": [
              "<folium.folium.Map at 0x7f0b5ec79a90>"
            ]
          },
          "metadata": {
            "tags": []
          },
          "execution_count": 9
        }
      ]
    },
    {
      "cell_type": "markdown",
      "metadata": {
        "id": "RHIkD4AIJRD9"
      },
      "source": [
        "### Export Data\n",
        "\n",
        "Exports as .csv tables and GeoTIFF images. "
      ]
    },
    {
      "cell_type": "markdown",
      "metadata": {
        "id": "MglKunWI_fTv"
      },
      "source": [
        "#### Define export methods"
      ]
    },
    {
      "cell_type": "code",
      "metadata": {
        "id": "56P_LOcgkimq"
      },
      "source": [
        "# All export methods export to the google drive defined above \n",
        "# TODO add checking for existing files in these methods.\n",
        "\n",
        "def exportTable(table, scale, folder=\"no_export_folder\", desc=\"no_desc\"):\n",
        "  ee.batch.Export.table.toDrive(\n",
        "    collection = table,\n",
        "    description = desc,\n",
        "    folder = folder,\n",
        "    fileFormat = \"CSV\"\n",
        "  ).start()\n",
        "\n",
        "# Export one table of the given image, at the scale and dimensions specified.\n",
        "def exportTableFromImage(image, polygon, scale, folder=\"no_export_folder\", desc=\"no_desc\"):\n",
        "  exportTable(sample(image, polygon, scale), scale, folder, desc)\n",
        "  \n",
        "# samples image into feature_collection. \n",
        "# TODO why is this called sample() ?\n",
        "def sample(img, region, scale):\n",
        "  return img.sampleRegions(\n",
        "      collection = region,\n",
        "      geometries = True,\n",
        "      scale = scale\n",
        "  )\n",
        "\n",
        "# Export one GeoTIFF image of the given image, at the scale and dimension specified. \n",
        "# TODO reevaluate image export options - description needs coordinates\n",
        "# maxPixels is just so it lets me export london at 10m/px. Dividing the dataset into 1km squares is the next step. \n",
        "def exportGeotiff(image, polygon, scale, folder=\"no_export_folder\", desc=\"no_desc\"):\n",
        "  ee.batch.Export.image.toDrive(\n",
        "    crs = 'EPSG:3857',\n",
        "    description = desc,\n",
        "    fileFormat = 'GeoTIFF',\n",
        "    folder = folder,\n",
        "    # formatOptions = image_export_options,\n",
        "    image = image,\n",
        "    maxPixels = 10e9,\n",
        "    region = polygon,\n",
        "    scale = scale\n",
        "  ).start()"
      ],
      "execution_count": 9,
      "outputs": []
    },
    {
      "cell_type": "code",
      "metadata": {
        "id": "Imcye1aSmzok"
      },
      "source": [
        "pprint(ee.batch.Task.list())"
      ],
      "execution_count": null,
      "outputs": []
    },
    {
      "cell_type": "markdown",
      "metadata": {
        "id": "f9l197PkYqGG"
      },
      "source": [
        "#### Exporting CSVs\n",
        "\n",
        "This method of getting the data is very very stupid, but also it does exactly what I need. "
      ]
    },
    {
      "cell_type": "code",
      "metadata": {
        "id": "nyfnXNdtC-Vg"
      },
      "source": [
        "# Only once this is completed can you move forward and get pictures from these spreadsheets.\n",
        "for ghg_img in ghg_imgs:\n",
        "  csv_name = ghg_img.getInfo().get('bands')[0].get('id')\n",
        "  exportTableFromImage(ghg_img,london, 1000, export_dir, csv_name)"
      ],
      "execution_count": null,
      "outputs": []
    },
    {
      "cell_type": "markdown",
      "metadata": {
        "id": "kqzw-XDH5DDO"
      },
      "source": [
        "#### Getting Images From CSV Data"
      ]
    },
    {
      "cell_type": "code",
      "metadata": {
        "id": "s6m01ies5U-G"
      },
      "source": [
        "import csv \n",
        "import json\n",
        "import time\n",
        "\n",
        "#Gets a square kilometer with the given point object as the centroid. \n",
        "def getSqKmFromPoint(point):\n",
        "  return point.buffer(500).bounds()\n",
        "\n",
        "# Read in CSV from drive\n",
        "# This method is bad, and I should feel bad \n",
        "def getImgsFromCsv(csv_path):\n",
        "  with open(csv_path) as csv_file:\n",
        "    csv_reader = csv.reader(csv_file, delimiter=',')\n",
        "    line_count = 0\n",
        "    # This is the number of exports that can occur simultaneously. While this does limit time able to export things, \n",
        "    # they get slower the more you run at the same time anyway. This has a minimal performance hit. \n",
        "    concurrent_exports = 3\n",
        "    exporting = []\n",
        "\n",
        "    for row in csv_reader:\n",
        "      if line_count == 0:\n",
        "        print(f'Column names are {\", \".join(row)}')\n",
        "        line_count += 1\n",
        "        continue\n",
        "\n",
        "      coords = json.loads(row[2]).get(\"coordinates\")\n",
        "      poly = getSqKmFromPoint(ee.Geometry.Point(coords))\n",
        "      name = str(coords[0]) + \"_\" + str(coords[1])\n",
        "      tifname = name + \".tif\"\n",
        "\n",
        "      # skip files that have already been exported. \n",
        "      # TODO fix this mess\n",
        "      if os.path.isfile(drive_path + export_dir + \"/pngs/\" + name + \".png\") or \\\n",
        "          os.path.isfile(drive_path + export_dir + \"/geotiff/\" + tifname) or \\\n",
        "          os.path.isfile(drive_path + geotiff_dir + \"/\" + tifname): \n",
        "        print(\"skipping \" + name)\n",
        "        continue\n",
        "        \n",
        "      exporting.append(tifname)\n",
        "      print(\"exporting \" + tifname)\n",
        "      exportGeotiff(s2_img, poly, 10, geotiff_dir, name)\n",
        "\n",
        "      # slightly less clumsy rate limiter (On^3 though...)\n",
        "      # Block until export buffer is smaller than the maximum allowed concurrent exports. \n",
        "      # when the files stored in the export buffer are found in the filesystem, remove them.\n",
        "      while len(exporting) >= concurrent_exports:\n",
        "        time.sleep(5)\n",
        "        for filename in exporting:\n",
        "          # indentation?!?!\n",
        "          if os.path.isfile(drive_path + geotiff_dir + \"/\" + filename):\n",
        "            exporting.remove(filename)\n",
        "            print(filename + \" exported \")\n",
        "\n",
        "      line_count += 1\n",
        "\n",
        "    print(f'Processed {line_count} lines.')"
      ],
      "execution_count": 41,
      "outputs": []
    },
    {
      "cell_type": "code",
      "metadata": {
        "id": "qOfFnBtr9E3G",
        "colab": {
          "base_uri": "https://localhost:8080/"
        },
        "outputId": "b5199bc6-663e-413d-f597-87a69d482004"
      },
      "source": [
        "getImgsFromCsv(drive_path + export_dir + \"/SO2_column_number_density.csv\")"
      ],
      "execution_count": null,
      "outputs": [
        {
          "output_type": "stream",
          "text": [
            "Column names are system:index, SO2_column_number_density, .geo\n",
            "skipping -0.7950090264457765_51.109648089980176\n",
            "skipping -0.7860258736045813_51.109648089980176\n",
            "skipping -0.7770427207633861_51.109648089980176\n",
            "skipping -0.7680595679221909_51.109648089980176\n",
            "skipping -0.7590764150809957_51.109648089980176\n",
            "skipping -0.7500932622398004_51.109648089980176\n",
            "skipping -0.7411101093986052_51.109648089980176\n",
            "skipping -0.73212695655741_51.109648089980176\n",
            "skipping -0.7231438037162148_51.109648089980176\n",
            "skipping -0.7141606508750197_51.109648089980176\n",
            "skipping -0.7051774980338245_51.109648089980176\n",
            "skipping -0.6961943451926292_51.109648089980176\n",
            "skipping -0.687211192351434_51.109648089980176\n",
            "skipping -0.6782280395102388_51.109648089980176\n",
            "skipping -0.6692448866690436_51.109648089980176\n",
            "skipping -0.6602617338278484_51.109648089980176\n",
            "exporting -0.6512785809866531_51.109648089980176.tif\n",
            "exporting -0.6422954281454579_51.109648089980176.tif\n",
            "exporting -0.6333122753042627_51.109648089980176.tif\n",
            "-0.6512785809866531_51.109648089980176.tif exported \n",
            "exporting -0.6243291224630675_51.109648089980176.tif\n",
            "-0.6422954281454579_51.109648089980176.tif exported \n",
            "exporting -0.6153459696218723_51.109648089980176.tif\n",
            "-0.6333122753042627_51.109648089980176.tif exported \n",
            "exporting -0.606362816780677_51.109648089980176.tif\n",
            "-0.6243291224630675_51.109648089980176.tif exported \n",
            "exporting -0.5973796639394818_51.109648089980176.tif\n"
          ],
          "name": "stdout"
        }
      ]
    },
    {
      "cell_type": "markdown",
      "metadata": {
        "id": "TWeGM3jenhqM"
      },
      "source": [
        "# Data processing\n",
        "\n",
        "### TODO\n",
        "- Reorganise datasets for fast.ai retraining. 2-400 images was sufficient for object recog, maybe double that for top-down sat photos?\n"
      ]
    },
    {
      "cell_type": "code",
      "metadata": {
        "id": "ojueZsqRrH5P"
      },
      "source": [
        "# removes old geoTIFF images or xml conversion artifacts from the given directory. \n",
        "def rmArtifact(artifact_path, rmTif = False, rmXml = False):\n",
        "  # we only want to remove files, not directories! \n",
        "  if not os.path.isfile(artifact_path):\n",
        "    return\n",
        "  if not (rmTif or rmXml): \n",
        "    return\n",
        "\n",
        "  split_path = os.path.splitext(artifact_path)\n",
        "  if (split_path[1].lower() == \".tif\" and rmTif) or \\\n",
        "      (split_path[1].lower() == \".xml\" and rmXml): \n",
        "    print(\"removing \" + artifact_path)\n",
        "    os.remove(artifact_path)\n",
        "\n",
        "def rmConversionArtifacts(path, rmTif = False, rmXml = False):\n",
        "  # No point checking all these files if we're not going to do anything \n",
        "  if not (rmTif or rmXml): \n",
        "    return\n",
        "\n",
        "  parent_path = os.path.join(drive_path, path)\n",
        "  print(parent_path)\n",
        "\n",
        "  for root, dirs, files in os.walk(parent_path, topdown=True):\n",
        "    for name in files:\n",
        "      fullpath = os.path.join(root, name)\n",
        "      rmArtifact(fullpath, rmTif, rmXml)\n",
        "  \n",
        "# converts geotiff to png, using selected bands. There seems to be a limited range of functional bands, including only 3 \n",
        "# being available for a non-transparent image. The bands also display in grayscale when displayed individually. \n",
        "# TODO refactor for readability - there are too many undefined \"x-path\" variables here that don't make a lot of sense \n",
        "def geotiffToPng(tif_path, rm_artifacts = False):\n",
        "  #TODO remap to ARGB to get more defined brightness data\n",
        "  options_list = [\n",
        "    '-ot Byte',\n",
        "    '-of PNG',\n",
        "    '-b 4',\n",
        "    '-b 3',\n",
        "    '-b 2',\n",
        "    '-scale'\n",
        "  ]\n",
        "  options_string = \" \".join(options_list)\n",
        "  \n",
        "  parent_path = os.path.join(drive_path, tif_path)\n",
        "\n",
        "  for root, dirs, files in os.walk(parent_path, topdown=False):\n",
        "    for name in files:\n",
        "      full_path = os.path.join(root, name)\n",
        "      print(full_path)\n",
        "      split_path = os.path.splitext(full_path)\n",
        "\n",
        "      if split_path[1].lower() != \".tif\": continue\n",
        "\n",
        "      path = split_path[0]\n",
        "      print(path)\n",
        "      if os.path.isfile(path + \".png\"):\n",
        "        print(\"A png file already exists for %s\" % fullpath)\n",
        "        continue\n",
        "      \n",
        "      gdal.Translate(\n",
        "        path + '.png',\n",
        "        path + '.tif',\n",
        "        options = options_string\n",
        "      )\n",
        "      if rm_artifacts: rmArtifact(full_path, True, True)\n",
        "\n",
        "# Move files from src to dest if they have the correct extension\n",
        "def moveFilesByExtension(src, dest, extension):\n",
        "  parent_path = os.path.join(drive_path, src)\n",
        "  print(parent_path)\n",
        "\n",
        "  for root, dirs, files in os.walk(parent_path, topdown=True):\n",
        "    for name in files:\n",
        "      full_path = os.path.join(root, name)\n",
        "      split_path = os.path.splitext(full_path)\n",
        "      if split_path[1].lower() == extension:\n",
        "        dest_path = full_path.replace(src, dest)\n",
        "        os.rename(full_path, dest_path)\n",
        "\n",
        "def deDupe(path):\n",
        "  print(\"removing duplicates\")\n",
        "  # get rid of any dupe filenames \n",
        "  # get rid of anything with (1)  (or some other number) in its name \n",
        "  # probably use some regex for this"
      ],
      "execution_count": 29,
      "outputs": []
    },
    {
      "cell_type": "code",
      "metadata": {
        "id": "RhaMrmlzNE6-",
        "colab": {
          "base_uri": "https://localhost:8080/"
        },
        "outputId": "b5679c8e-b494-4925-c0ea-4b5f173be4e3"
      },
      "source": [
        "geotiffToPng(export_dir + \"/geotiff\", rm_artifacts = False)"
      ],
      "execution_count": 30,
      "outputs": [
        {
          "output_type": "stream",
          "text": [
            "/content/drive/MyDrive/img_export/geotiff/-0.7950090264457765_51.109648089980176.tif\n",
            "/content/drive/MyDrive/img_export/geotiff/-0.7950090264457765_51.109648089980176\n",
            "/content/drive/MyDrive/img_export/geotiff/-0.7860258736045813_51.109648089980176.tif\n",
            "/content/drive/MyDrive/img_export/geotiff/-0.7860258736045813_51.109648089980176\n",
            "/content/drive/MyDrive/img_export/geotiff/-0.7770427207633861_51.109648089980176.tif\n",
            "/content/drive/MyDrive/img_export/geotiff/-0.7770427207633861_51.109648089980176\n",
            "/content/drive/MyDrive/img_export/geotiff/-0.7680595679221909_51.109648089980176 (2).tif\n",
            "/content/drive/MyDrive/img_export/geotiff/-0.7680595679221909_51.109648089980176 (2)\n",
            "/content/drive/MyDrive/img_export/geotiff/-0.7590764150809957_51.109648089980176 (1).tif\n",
            "/content/drive/MyDrive/img_export/geotiff/-0.7590764150809957_51.109648089980176 (1)\n",
            "/content/drive/MyDrive/img_export/geotiff/-0.7500932622398004_51.109648089980176 (2).tif\n",
            "/content/drive/MyDrive/img_export/geotiff/-0.7500932622398004_51.109648089980176 (2)\n",
            "/content/drive/MyDrive/img_export/geotiff/-0.7411101093986052_51.109648089980176 (2).tif\n",
            "/content/drive/MyDrive/img_export/geotiff/-0.7411101093986052_51.109648089980176 (2)\n",
            "/content/drive/MyDrive/img_export/geotiff/-0.73212695655741_51.109648089980176 (1).tif\n",
            "/content/drive/MyDrive/img_export/geotiff/-0.73212695655741_51.109648089980176 (1)\n",
            "/content/drive/MyDrive/img_export/geotiff/-0.7231438037162148_51.109648089980176 (1).tif\n",
            "/content/drive/MyDrive/img_export/geotiff/-0.7231438037162148_51.109648089980176 (1)\n",
            "/content/drive/MyDrive/img_export/geotiff/-0.7141606508750197_51.109648089980176.tif\n",
            "/content/drive/MyDrive/img_export/geotiff/-0.7141606508750197_51.109648089980176\n",
            "/content/drive/MyDrive/img_export/geotiff/-0.6961943451926292_51.109648089980176.tif\n",
            "/content/drive/MyDrive/img_export/geotiff/-0.6961943451926292_51.109648089980176\n",
            "/content/drive/MyDrive/img_export/geotiff/-0.7051774980338245_51.109648089980176.tif\n",
            "/content/drive/MyDrive/img_export/geotiff/-0.7051774980338245_51.109648089980176\n",
            "/content/drive/MyDrive/img_export/geotiff/-0.687211192351434_51.109648089980176.tif\n",
            "/content/drive/MyDrive/img_export/geotiff/-0.687211192351434_51.109648089980176\n",
            "/content/drive/MyDrive/img_export/geotiff/-0.7950090264457765_51.109648089980176 (1).tif\n",
            "/content/drive/MyDrive/img_export/geotiff/-0.7950090264457765_51.109648089980176 (1)\n",
            "/content/drive/MyDrive/img_export/geotiff/-0.7770427207633861_51.109648089980176 (1).tif\n",
            "/content/drive/MyDrive/img_export/geotiff/-0.7770427207633861_51.109648089980176 (1)\n",
            "/content/drive/MyDrive/img_export/geotiff/-0.7860258736045813_51.109648089980176 (1).tif\n",
            "/content/drive/MyDrive/img_export/geotiff/-0.7860258736045813_51.109648089980176 (1)\n",
            "/content/drive/MyDrive/img_export/geotiff/-0.7680595679221909_51.109648089980176.tif\n",
            "/content/drive/MyDrive/img_export/geotiff/-0.7680595679221909_51.109648089980176\n",
            "/content/drive/MyDrive/img_export/geotiff/-0.7590764150809957_51.109648089980176 (2).tif\n",
            "/content/drive/MyDrive/img_export/geotiff/-0.7590764150809957_51.109648089980176 (2)\n",
            "/content/drive/MyDrive/img_export/geotiff/-0.7500932622398004_51.109648089980176.tif\n",
            "/content/drive/MyDrive/img_export/geotiff/-0.7500932622398004_51.109648089980176\n",
            "/content/drive/MyDrive/img_export/geotiff/-0.7411101093986052_51.109648089980176 (1).tif\n",
            "/content/drive/MyDrive/img_export/geotiff/-0.7411101093986052_51.109648089980176 (1)\n",
            "/content/drive/MyDrive/img_export/geotiff/-0.73212695655741_51.109648089980176 (2).tif\n",
            "/content/drive/MyDrive/img_export/geotiff/-0.73212695655741_51.109648089980176 (2)\n",
            "/content/drive/MyDrive/img_export/geotiff/-0.7231438037162148_51.109648089980176.tif\n",
            "/content/drive/MyDrive/img_export/geotiff/-0.7231438037162148_51.109648089980176\n",
            "/content/drive/MyDrive/img_export/geotiff/-0.7950090264457765_51.109648089980176 (2).tif\n",
            "/content/drive/MyDrive/img_export/geotiff/-0.7950090264457765_51.109648089980176 (2)\n",
            "/content/drive/MyDrive/img_export/geotiff/-0.7860258736045813_51.109648089980176 (2).tif\n",
            "/content/drive/MyDrive/img_export/geotiff/-0.7860258736045813_51.109648089980176 (2)\n",
            "/content/drive/MyDrive/img_export/geotiff/-0.7770427207633861_51.109648089980176 (2).tif\n",
            "/content/drive/MyDrive/img_export/geotiff/-0.7770427207633861_51.109648089980176 (2)\n",
            "/content/drive/MyDrive/img_export/geotiff/-0.7680595679221909_51.109648089980176 (1).tif\n",
            "/content/drive/MyDrive/img_export/geotiff/-0.7680595679221909_51.109648089980176 (1)\n",
            "/content/drive/MyDrive/img_export/geotiff/-0.7590764150809957_51.109648089980176.tif\n",
            "/content/drive/MyDrive/img_export/geotiff/-0.7590764150809957_51.109648089980176\n",
            "/content/drive/MyDrive/img_export/geotiff/-0.7500932622398004_51.109648089980176 (1).tif\n",
            "/content/drive/MyDrive/img_export/geotiff/-0.7500932622398004_51.109648089980176 (1)\n",
            "/content/drive/MyDrive/img_export/geotiff/-0.7411101093986052_51.109648089980176.tif\n",
            "/content/drive/MyDrive/img_export/geotiff/-0.7411101093986052_51.109648089980176\n",
            "/content/drive/MyDrive/img_export/geotiff/-0.73212695655741_51.109648089980176.tif\n",
            "/content/drive/MyDrive/img_export/geotiff/-0.73212695655741_51.109648089980176\n",
            "/content/drive/MyDrive/img_export/geotiff/-0.7231438037162148_51.109648089980176 (2).tif\n",
            "/content/drive/MyDrive/img_export/geotiff/-0.7231438037162148_51.109648089980176 (2)\n",
            "/content/drive/MyDrive/img_export/geotiff/-0.7141606508750197_51.109648089980176 (1).tif\n",
            "/content/drive/MyDrive/img_export/geotiff/-0.7141606508750197_51.109648089980176 (1)\n",
            "/content/drive/MyDrive/img_export/geotiff/-0.31890192586243016_51.109648089980176.tif\n",
            "/content/drive/MyDrive/img_export/geotiff/-0.31890192586243016_51.109648089980176\n",
            "/content/drive/MyDrive/img_export/geotiff/-0.3278850787036254_51.109648089980176.tif\n",
            "/content/drive/MyDrive/img_export/geotiff/-0.3278850787036254_51.109648089980176\n",
            "/content/drive/MyDrive/img_export/geotiff/-0.3368682315448206_51.109648089980176.tif\n",
            "/content/drive/MyDrive/img_export/geotiff/-0.3368682315448206_51.109648089980176\n"
          ],
          "name": "stdout"
        }
      ]
    },
    {
      "cell_type": "code",
      "metadata": {
        "id": "Eh5sPy3Gn3gN",
        "colab": {
          "base_uri": "https://localhost:8080/"
        },
        "outputId": "c6264a65-6df6-4ac0-f7d4-2deb707e0885"
      },
      "source": [
        "moveFilesByExtension(export_dir + \"/geotiff\", export_dir + \"/png\", \".png\")\n",
        "rmConversionArtifacts(export_dir + \"/geotiff\", rmTif=False, rmXml=True)"
      ],
      "execution_count": null,
      "outputs": [
        {
          "output_type": "stream",
          "text": [
            "/content/drive/MyDrive/img_export/geotiff\n",
            "/content/drive/MyDrive/img_export/geotiff\n",
            "removing /content/drive/MyDrive/img_export/geotiff/-0.7860258736045813_51.109648089980176.png.aux.xml\n",
            "removing /content/drive/MyDrive/img_export/geotiff/-0.7770427207633861_51.109648089980176.png.aux.xml\n",
            "removing /content/drive/MyDrive/img_export/geotiff/-0.7950090264457765_51.109648089980176.png.aux.xml\n",
            "removing /content/drive/MyDrive/img_export/geotiff/-0.7590764150809957_51.109648089980176.png.aux.xml\n",
            "removing /content/drive/MyDrive/img_export/geotiff/-0.7680595679221909_51.109648089980176.png.aux.xml\n",
            "removing /content/drive/MyDrive/img_export/geotiff/-0.7411101093986052_51.109648089980176.png.aux.xml\n",
            "removing /content/drive/MyDrive/img_export/geotiff/-0.7500932622398004_51.109648089980176.png.aux.xml\n",
            "removing /content/drive/MyDrive/img_export/geotiff/-0.73212695655741_51.109648089980176.png.aux.xml\n",
            "removing /content/drive/MyDrive/img_export/geotiff/-0.7231438037162148_51.109648089980176.png.aux.xml\n",
            "removing /content/drive/MyDrive/img_export/geotiff/-0.7770427207633861_51.109648089980176 (1).png.aux.xml\n",
            "removing /content/drive/MyDrive/img_export/geotiff/-0.7860258736045813_51.109648089980176 (1).png.aux.xml\n",
            "removing /content/drive/MyDrive/img_export/geotiff/-0.7950090264457765_51.109648089980176 (1).png.aux.xml\n",
            "removing /content/drive/MyDrive/img_export/geotiff/-0.7680595679221909_51.109648089980176 (1).png.aux.xml\n",
            "removing /content/drive/MyDrive/img_export/geotiff/-0.7590764150809957_51.109648089980176 (1).png.aux.xml\n",
            "removing /content/drive/MyDrive/img_export/geotiff/-0.73212695655741_51.109648089980176 (1).png.aux.xml\n",
            "removing /content/drive/MyDrive/img_export/geotiff/-0.7411101093986052_51.109648089980176 (1).png.aux.xml\n",
            "removing /content/drive/MyDrive/img_export/geotiff/-0.7500932622398004_51.109648089980176 (1).png.aux.xml\n",
            "removing /content/drive/MyDrive/img_export/geotiff/-0.7231438037162148_51.109648089980176 (1).png.aux.xml\n",
            "removing /content/drive/MyDrive/img_export/geotiff/-0.7141606508750197_51.109648089980176.png.aux.xml\n"
          ],
          "name": "stdout"
        }
      ]
    }
  ]
}