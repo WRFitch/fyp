{
  "nbformat": 4,
  "nbformat_minor": 0,
  "metadata": {
    "colab": {
      "name": "fyp_data_import_pipeline.ipynb",
      "provenance": [],
      "collapsed_sections": [
        "DlFd1y1OIXxk",
        "jkq4mhmfIwO_",
        "sTZipoKOJNyg",
        "MglKunWI_fTv",
        "f9l197PkYqGG"
      ],
      "include_colab_link": true
    },
    "kernelspec": {
      "name": "python3",
      "display_name": "Python 3"
    }
  },
  "cells": [
    {
      "cell_type": "markdown",
      "metadata": {
        "id": "view-in-github",
        "colab_type": "text"
      },
      "source": [
        "<a href=\"https://colab.research.google.com/github/WRFitch/fyp/blob/main/src/fyp_data_import_pipeline.ipynb\" target=\"_parent\"><img src=\"https://colab.research.google.com/assets/colab-badge.svg\" alt=\"Open In Colab\"/></a>"
      ]
    },
    {
      "cell_type": "markdown",
      "metadata": {
        "id": "vBYK4VpU-2tn"
      },
      "source": [
        "# Data Import Pipeline\n",
        "\n",
        "This code is still under construction, and is therefore very very bad in places. \n",
        "\n",
        "### TODO\n",
        "- Import CO2 dataset\n",
        "- Extract unnecessary methods into normal python files and import where necessary. \n",
        "- Remove unnecessary variable changes where necessary - this stacks up all the JSON, making everything harder than it needs to be. \n",
        "  - Actually, it might not\n",
        "- Change unnecessary image imports to feature imports \n",
        "- Figure out a way of iterating through existing images and displaying the area currently covered by my dataset on a map. \n",
        "- Define and import other regions of interest - stick to cities and suburbs for now, since that will have the best health data. Converting this to include rural or rocky areas is an increase in feature set. \n",
        "- Figure out how accurate the image exports are\n",
        "  - Are the points definitely centered on the given coordinates? \n",
        "  - is there a way of standardising lighting? \n",
        "- add file indexing into one CSV with all our existing latlong exports, so we're not constantly querying the filesystem. \n",
        "- Begin exporting commonalities across notebooks, and incorporate a single pipeline that can be employed in a demonstration script"
      ]
    },
    {
      "cell_type": "markdown",
      "metadata": {
        "id": "16Ua09qtJqgw"
      },
      "source": [
        "## Setup\n",
        "*   Import necessary libraries\n",
        "*   Set up Earth Engine authentication and mount google drive  \n"
      ]
    },
    {
      "cell_type": "code",
      "metadata": {
        "id": "OT1lreKK1bXw"
      },
      "source": [
        "import ee\n",
        "# TODO test not importing this and still use eec.map \n",
        "import folium\n",
        "import os\n",
        "\n",
        "from google.colab import drive\n",
        "from osgeo import gdal\n",
        "from PIL import Image\n",
        "from pprint import pprint"
      ],
      "execution_count": 1,
      "outputs": []
    },
    {
      "cell_type": "code",
      "metadata": {
        "id": "ACtrAfnVnOjt"
      },
      "source": [
        "ee.Authenticate()\n",
        "ee.Initialize()\n",
        "drive.mount('/content/drive')"
      ],
      "execution_count": null,
      "outputs": []
    },
    {
      "cell_type": "code",
      "metadata": {
        "colab": {
          "base_uri": "https://localhost:8080/"
        },
        "id": "zmRRGZyvamsq",
        "outputId": "b6f6dd9d-9bf7-426f-9fb2-e91ae84d9588"
      },
      "source": [
        "%cd /content\n",
        "%rm -rf fyp"
      ],
      "execution_count": 3,
      "outputs": [
        {
          "output_type": "stream",
          "text": [
            "/content\n"
          ],
          "name": "stdout"
        }
      ]
    },
    {
      "cell_type": "code",
      "metadata": {
        "id": "yD9oir7Sh9pX"
      },
      "source": [
        "# Import FYP repo so we can access fyputil common library \n",
        "%cd /content\n",
        "!git clone https://github.com/WRFitch/fyp.git"
      ],
      "execution_count": null,
      "outputs": []
    },
    {
      "cell_type": "code",
      "metadata": {
        "id": "yuepO1knXIZd"
      },
      "source": [
        "# Import fyputil library\n",
        "%cd fyp/src/fyputil\n",
        "import constants as c\n",
        "import ee_constants as eec\n",
        "import ee_utils as eeutil\n",
        "import fyp_utils as fyputil\n",
        "%cd /content"
      ],
      "execution_count": null,
      "outputs": []
    },
    {
      "cell_type": "markdown",
      "metadata": {
        "id": "jZUKXEfUiEtZ"
      },
      "source": [
        "# Dataset import\n",
        "\n",
        "### Import the following datasets into Google Drive\n",
        "\n",
        "*   [Sentinel-2 Satellite photography](https://developers.google.com/earth-engine/datasets/catalog/COPERNICUS_S2_SR)\n",
        "*   [Sentinel-5 Precursor Data](https://developers.google.com/earth-engine/datasets/catalog/sentinel)\n",
        "  *   [Carbon Monoxide](https://developers.google.com/earth-engine/datasets/catalog/COPERNICUS_S5P_OFFL_L3_CO)\n",
        "  *   [Formaldehyde](https://developers.google.com/earth-engine/datasets/catalog/COPERNICUS_S5P_OFFL_L3_HCHO)\n",
        "  *   [Nitrogen Dioxide](https://developers.google.com/earth-engine/datasets/catalog/COPERNICUS_S5P_OFFL_L3_NO2)\n",
        "  *   [Ozone](https://developers.google.com/earth-engine/datasets/catalog/COPERNICUS_S5P_OFFL_L3_O3)\n",
        "  *   [Sulphur Dioxide](https://developers.google.com/earth-engine/datasets/catalog/COPERNICUS_S5P_OFFL_L3_SO2)\n",
        "  *   [Methane](https://developers.google.com/earth-engine/datasets/catalog/COPERNICUS_S5P_OFFL_L3_CH4)\n",
        "*   [ODIAC Fossil Fuel CO2 Emissions](https://db.cger.nies.go.jp/dataset/ODIAC/DL_odiac2019.html)"
      ]
    },
    {
      "cell_type": "markdown",
      "metadata": {
        "id": "DlFd1y1OIXxk"
      },
      "source": [
        "##### Import necessary variables"
      ]
    },
    {
      "cell_type": "code",
      "metadata": {
        "id": "YuosygcHIfhO"
      },
      "source": [
        "# Define dataset boundaries for britain and london \n",
        "great_britain = eec.great_britain\n",
        "london = eec.london\n",
        "uxbridge = eec.uxbridge\n",
        "millennium_dome = eec.millennium_dome\n",
        "greenwich = eec.greenwich\n",
        "w_hemisphere = eec.west_hemisphere\n",
        "e_hemisphere = eec.east_hemisphere"
      ],
      "execution_count": 6,
      "outputs": []
    },
    {
      "cell_type": "code",
      "metadata": {
        "id": "xQZlTc5Rf-LC"
      },
      "source": [
        "# TODO move this into a CONSTANTS.py file\n",
        "# Earth engine username, used to import classified image into ee assets folder\n",
        "USERNAME = 'wrfitch'\n",
        "OUTPUT_DIR = USERNAME + \"/out/\"\n",
        "\n",
        "# Define collections for each dataset to be used \n",
        "s2 = eec.s2\n",
        "s5_CO = eec.s5_CO\n",
        "s5_HCHO = eec.s5_HCHO\n",
        "s5_NO2 = eec.s5_NO2\n",
        "s5_O3 = eec.s5_O3\n",
        "s5_SO2 = eec.s5_SO2\n",
        "s5_CH4 = eec.s5_CH4\n",
        "#TODO import CO2 dataset\n",
        "\n",
        "CO_band = c.CO_band\n",
        "HCHO_band = c.HCHO_band\n",
        "NO2_band = c.NO2_band\n",
        "O3_band = c.O3_band\n",
        "SO2_band = c.SO2_band\n",
        "CH4_band = c.CH4_band\n",
        "\n",
        "start_date = eec.start_date\n",
        "end_date = eec.end_date\n",
        "vis_palette = eec.vis_palette\n",
        "\n",
        "drive_path = c.drive_path\n",
        "export_dir = c.export_dir\n",
        "geotiff_dir = c.geotiff_dir"
      ],
      "execution_count": 11,
      "outputs": []
    },
    {
      "cell_type": "code",
      "metadata": {
        "id": "liIZ0y0JnSjY"
      },
      "source": [
        "# Import datasets \n",
        "# TODO analyse whether it makes sense to analyse these on a highly localised level\n",
        "# TODO figure out whether this object duplication is an antipattern that will \n",
        "#      eat all my RAM \n",
        "s2_img = eec.s2_img\n",
        "CO_img = eec.CO_img\n",
        "HCHO_img = eec.HCHO_img\n",
        "NO2_img = eec.NO2_img\n",
        "O3_img = eec.O3_img\n",
        "SO2_img = eec.SO2_img\n",
        "CH4_img = eec.CH4_img\n",
        "\n",
        "s2_id = eec.s2_id\n",
        "CO_id = eec.CO_id\n",
        "HCHO_id = eec.HCHO_id\n",
        "NO2_id = eec.NO2_id\n",
        "O3_id = eec.O3_id\n",
        "SO2_id = eec.SO2_id\n",
        "CH4_id = eec.CH4_id\n",
        "\n",
        "# For easier iteration down the line. I know I'm not supposed to, but google \n",
        "# can't tell me what to do, even if it's a good idea!\n",
        "ghg_imgs = [CO_img, HCHO_img, NO2_img, O3_img, SO2_img, CH4_img]\n",
        "ghg_ids = [CO_id, HCHO_id, NO2_id, O3_id, SO2_id, CH4_id]"
      ],
      "execution_count": 13,
      "outputs": []
    },
    {
      "cell_type": "markdown",
      "metadata": {
        "id": "sTZipoKOJNyg"
      },
      "source": [
        "### Visualise Data"
      ]
    },
    {
      "cell_type": "code",
      "metadata": {
        "colab": {
          "base_uri": "https://localhost:8080/",
          "height": 1000
        },
        "id": "7X8Qxxmkg7rN",
        "outputId": "cbc087cc-48d1-4a59-a16e-699597cfe87b"
      },
      "source": [
        "eec.map "
      ],
      "execution_count": 8,
      "outputs": [
        {
          "output_type": "execute_result",
          "data": {
            "text/html": [
              "<div style=\"width:100%;\"><div style=\"position:relative;width:100%;height:0;padding-bottom:60%;\"><span style=\"color:#565656\">Make this Notebook Trusted to load map: File -> Trust Notebook</span><iframe src=\"about:blank\" style=\"position:absolute;width:100%;height:100%;left:0;top:0;border:none !important;\" data-html=%3C%21DOCTYPE%20html%3E%0A%3Chead%3E%20%20%20%20%0A%20%20%20%20%3Cmeta%20http-equiv%3D%22content-type%22%20content%3D%22text/html%3B%20charset%3DUTF-8%22%20/%3E%0A%20%20%20%20%3Cscript%3EL_PREFER_CANVAS%3Dtrue%3B%20L_NO_TOUCH%3Dfalse%3B%20L_DISABLE_3D%3Dfalse%3B%3C/script%3E%0A%20%20%20%20%3Cscript%20src%3D%22https%3A//cdn.jsdelivr.net/npm/leaflet%401.4.0/dist/leaflet.js%22%3E%3C/script%3E%0A%20%20%20%20%3Cscript%20src%3D%22https%3A//code.jquery.com/jquery-1.12.4.min.js%22%3E%3C/script%3E%0A%20%20%20%20%3Cscript%20src%3D%22https%3A//maxcdn.bootstrapcdn.com/bootstrap/3.2.0/js/bootstrap.min.js%22%3E%3C/script%3E%0A%20%20%20%20%3Cscript%20src%3D%22https%3A//cdnjs.cloudflare.com/ajax/libs/Leaflet.awesome-markers/2.0.2/leaflet.awesome-markers.js%22%3E%3C/script%3E%0A%20%20%20%20%3Clink%20rel%3D%22stylesheet%22%20href%3D%22https%3A//cdn.jsdelivr.net/npm/leaflet%401.4.0/dist/leaflet.css%22/%3E%0A%20%20%20%20%3Clink%20rel%3D%22stylesheet%22%20href%3D%22https%3A//maxcdn.bootstrapcdn.com/bootstrap/3.2.0/css/bootstrap.min.css%22/%3E%0A%20%20%20%20%3Clink%20rel%3D%22stylesheet%22%20href%3D%22https%3A//maxcdn.bootstrapcdn.com/bootstrap/3.2.0/css/bootstrap-theme.min.css%22/%3E%0A%20%20%20%20%3Clink%20rel%3D%22stylesheet%22%20href%3D%22https%3A//maxcdn.bootstrapcdn.com/font-awesome/4.6.3/css/font-awesome.min.css%22/%3E%0A%20%20%20%20%3Clink%20rel%3D%22stylesheet%22%20href%3D%22https%3A//cdnjs.cloudflare.com/ajax/libs/Leaflet.awesome-markers/2.0.2/leaflet.awesome-markers.css%22/%3E%0A%20%20%20%20%3Clink%20rel%3D%22stylesheet%22%20href%3D%22https%3A//rawcdn.githack.com/python-visualization/folium/master/folium/templates/leaflet.awesome.rotate.css%22/%3E%0A%20%20%20%20%3Cstyle%3Ehtml%2C%20body%20%7Bwidth%3A%20100%25%3Bheight%3A%20100%25%3Bmargin%3A%200%3Bpadding%3A%200%3B%7D%3C/style%3E%0A%20%20%20%20%3Cstyle%3E%23map%20%7Bposition%3Aabsolute%3Btop%3A0%3Bbottom%3A0%3Bright%3A0%3Bleft%3A0%3B%7D%3C/style%3E%0A%20%20%20%20%0A%20%20%20%20%3Cmeta%20name%3D%22viewport%22%20content%3D%22width%3Ddevice-width%2C%0A%20%20%20%20%20%20%20%20initial-scale%3D1.0%2C%20maximum-scale%3D1.0%2C%20user-scalable%3Dno%22%20/%3E%0A%20%20%20%20%3Cstyle%3E%23map_a6d9674f6be94e7d8a12effa023d45c7%20%7B%0A%20%20%20%20%20%20%20%20position%3A%20relative%3B%0A%20%20%20%20%20%20%20%20width%3A%20100.0%25%3B%0A%20%20%20%20%20%20%20%20height%3A%20100.0%25%3B%0A%20%20%20%20%20%20%20%20left%3A%200.0%25%3B%0A%20%20%20%20%20%20%20%20top%3A%200.0%25%3B%0A%20%20%20%20%20%20%20%20%7D%0A%20%20%20%20%3C/style%3E%0A%3C/head%3E%0A%3Cbody%3E%20%20%20%20%0A%20%20%20%20%0A%20%20%20%20%3Cdiv%20class%3D%22folium-map%22%20id%3D%22map_a6d9674f6be94e7d8a12effa023d45c7%22%20%3E%3C/div%3E%0A%3C/body%3E%0A%3Cscript%3E%20%20%20%20%0A%20%20%20%20%0A%20%20%20%20%0A%20%20%20%20%20%20%20%20var%20bounds%20%3D%20null%3B%0A%20%20%20%20%0A%0A%20%20%20%20var%20map_a6d9674f6be94e7d8a12effa023d45c7%20%3D%20L.map%28%0A%20%20%20%20%20%20%20%20%27map_a6d9674f6be94e7d8a12effa023d45c7%27%2C%20%7B%0A%20%20%20%20%20%20%20%20center%3A%20%5B51.5%2C%200.1%5D%2C%0A%20%20%20%20%20%20%20%20zoom%3A%2010%2C%0A%20%20%20%20%20%20%20%20maxBounds%3A%20bounds%2C%0A%20%20%20%20%20%20%20%20layers%3A%20%5B%5D%2C%0A%20%20%20%20%20%20%20%20worldCopyJump%3A%20false%2C%0A%20%20%20%20%20%20%20%20crs%3A%20L.CRS.EPSG3857%2C%0A%20%20%20%20%20%20%20%20zoomControl%3A%20true%2C%0A%20%20%20%20%20%20%20%20%7D%29%3B%0A%0A%0A%20%20%20%20%0A%20%20%20%20var%20tile_layer_ae45f20e575b492eb37312f2ee4476e5%20%3D%20L.tileLayer%28%0A%20%20%20%20%20%20%20%20%27https%3A//%7Bs%7D.tile.openstreetmap.org/%7Bz%7D/%7Bx%7D/%7By%7D.png%27%2C%0A%20%20%20%20%20%20%20%20%7B%0A%20%20%20%20%20%20%20%20%22attribution%22%3A%20null%2C%0A%20%20%20%20%20%20%20%20%22detectRetina%22%3A%20false%2C%0A%20%20%20%20%20%20%20%20%22maxNativeZoom%22%3A%2018%2C%0A%20%20%20%20%20%20%20%20%22maxZoom%22%3A%2018%2C%0A%20%20%20%20%20%20%20%20%22minZoom%22%3A%200%2C%0A%20%20%20%20%20%20%20%20%22noWrap%22%3A%20false%2C%0A%20%20%20%20%20%20%20%20%22opacity%22%3A%201%2C%0A%20%20%20%20%20%20%20%20%22subdomains%22%3A%20%22abc%22%2C%0A%20%20%20%20%20%20%20%20%22tms%22%3A%20false%0A%7D%29.addTo%28map_a6d9674f6be94e7d8a12effa023d45c7%29%3B%0A%20%20%20%20var%20tile_layer_8c25c9eb577a4761bca985af5a2351ec%20%3D%20L.tileLayer%28%0A%20%20%20%20%20%20%20%20%27https%3A//earthengine.googleapis.com/v1alpha/projects/earthengine-legacy/maps/151eef8cf55b2a2f76e23bb848c92e56-99f17d2daaff4007097d99271dc0c08c/tiles/%7Bz%7D/%7Bx%7D/%7By%7D%27%2C%0A%20%20%20%20%20%20%20%20%7B%0A%20%20%20%20%20%20%20%20%22attribution%22%3A%20%22Map%20Data%20%26copy%3B%20%3Ca%20href%3D%5C%22https%3A//earthengine.google.com/%5C%22%3EGoogle%20Earth%20Engine%3C/a%3E%22%2C%0A%20%20%20%20%20%20%20%20%22detectRetina%22%3A%20false%2C%0A%20%20%20%20%20%20%20%20%22maxNativeZoom%22%3A%2018%2C%0A%20%20%20%20%20%20%20%20%22maxZoom%22%3A%2018%2C%0A%20%20%20%20%20%20%20%20%22minZoom%22%3A%200%2C%0A%20%20%20%20%20%20%20%20%22noWrap%22%3A%20false%2C%0A%20%20%20%20%20%20%20%20%22opacity%22%3A%201%2C%0A%20%20%20%20%20%20%20%20%22subdomains%22%3A%20%22abc%22%2C%0A%20%20%20%20%20%20%20%20%22tms%22%3A%20false%0A%7D%29.addTo%28map_a6d9674f6be94e7d8a12effa023d45c7%29%3B%0A%20%20%20%20var%20tile_layer_3ea57cc4422947e2a02fa4b3421f923f%20%3D%20L.tileLayer%28%0A%20%20%20%20%20%20%20%20%27https%3A//earthengine.googleapis.com/v1alpha/projects/earthengine-legacy/maps/f3df066beed48d5bba7e8f4eb3016389-f2019a94a0124c9d88749188e6624cc3/tiles/%7Bz%7D/%7Bx%7D/%7By%7D%27%2C%0A%20%20%20%20%20%20%20%20%7B%0A%20%20%20%20%20%20%20%20%22attribution%22%3A%20%22Map%20Data%20%26copy%3B%20%3Ca%20href%3D%5C%22https%3A//earthengine.google.com/%5C%22%3EGoogle%20Earth%20Engine%3C/a%3E%22%2C%0A%20%20%20%20%20%20%20%20%22detectRetina%22%3A%20false%2C%0A%20%20%20%20%20%20%20%20%22maxNativeZoom%22%3A%2018%2C%0A%20%20%20%20%20%20%20%20%22maxZoom%22%3A%2018%2C%0A%20%20%20%20%20%20%20%20%22minZoom%22%3A%200%2C%0A%20%20%20%20%20%20%20%20%22noWrap%22%3A%20false%2C%0A%20%20%20%20%20%20%20%20%22opacity%22%3A%200.5%2C%0A%20%20%20%20%20%20%20%20%22subdomains%22%3A%20%22abc%22%2C%0A%20%20%20%20%20%20%20%20%22tms%22%3A%20false%0A%7D%29.addTo%28map_a6d9674f6be94e7d8a12effa023d45c7%29%3B%0A%20%20%20%20var%20tile_layer_5975553ad7fd4b349a942e96342e6592%20%3D%20L.tileLayer%28%0A%20%20%20%20%20%20%20%20%27https%3A//earthengine.googleapis.com/v1alpha/projects/earthengine-legacy/maps/7dc592d03717865a025653c87535c36c-5085a1eb6ff14f7be835e040cc11d180/tiles/%7Bz%7D/%7Bx%7D/%7By%7D%27%2C%0A%20%20%20%20%20%20%20%20%7B%0A%20%20%20%20%20%20%20%20%22attribution%22%3A%20%22Map%20Data%20%26copy%3B%20%3Ca%20href%3D%5C%22https%3A//earthengine.google.com/%5C%22%3EGoogle%20Earth%20Engine%3C/a%3E%22%2C%0A%20%20%20%20%20%20%20%20%22detectRetina%22%3A%20false%2C%0A%20%20%20%20%20%20%20%20%22maxNativeZoom%22%3A%2018%2C%0A%20%20%20%20%20%20%20%20%22maxZoom%22%3A%2018%2C%0A%20%20%20%20%20%20%20%20%22minZoom%22%3A%200%2C%0A%20%20%20%20%20%20%20%20%22noWrap%22%3A%20false%2C%0A%20%20%20%20%20%20%20%20%22opacity%22%3A%200.5%2C%0A%20%20%20%20%20%20%20%20%22subdomains%22%3A%20%22abc%22%2C%0A%20%20%20%20%20%20%20%20%22tms%22%3A%20false%0A%7D%29.addTo%28map_a6d9674f6be94e7d8a12effa023d45c7%29%3B%0A%20%20%20%20var%20tile_layer_8e52e52a03c042798f72349939689d4d%20%3D%20L.tileLayer%28%0A%20%20%20%20%20%20%20%20%27https%3A//earthengine.googleapis.com/v1alpha/projects/earthengine-legacy/maps/834c1deeddbe8ff28db296941f5c397b-f76837099bb00c86f0151e3c9e3432e9/tiles/%7Bz%7D/%7Bx%7D/%7By%7D%27%2C%0A%20%20%20%20%20%20%20%20%7B%0A%20%20%20%20%20%20%20%20%22attribution%22%3A%20%22Map%20Data%20%26copy%3B%20%3Ca%20href%3D%5C%22https%3A//earthengine.google.com/%5C%22%3EGoogle%20Earth%20Engine%3C/a%3E%22%2C%0A%20%20%20%20%20%20%20%20%22detectRetina%22%3A%20false%2C%0A%20%20%20%20%20%20%20%20%22maxNativeZoom%22%3A%2018%2C%0A%20%20%20%20%20%20%20%20%22maxZoom%22%3A%2018%2C%0A%20%20%20%20%20%20%20%20%22minZoom%22%3A%200%2C%0A%20%20%20%20%20%20%20%20%22noWrap%22%3A%20false%2C%0A%20%20%20%20%20%20%20%20%22opacity%22%3A%200.5%2C%0A%20%20%20%20%20%20%20%20%22subdomains%22%3A%20%22abc%22%2C%0A%20%20%20%20%20%20%20%20%22tms%22%3A%20false%0A%7D%29.addTo%28map_a6d9674f6be94e7d8a12effa023d45c7%29%3B%0A%20%20%20%20var%20tile_layer_dcfb76a3cd004efe88ad3a55c4806947%20%3D%20L.tileLayer%28%0A%20%20%20%20%20%20%20%20%27https%3A//earthengine.googleapis.com/v1alpha/projects/earthengine-legacy/maps/de435e39f4f336d51e55e05c9b3f8591-0f176a745ffa967aa1c9eb4df42b680f/tiles/%7Bz%7D/%7Bx%7D/%7By%7D%27%2C%0A%20%20%20%20%20%20%20%20%7B%0A%20%20%20%20%20%20%20%20%22attribution%22%3A%20%22Map%20Data%20%26copy%3B%20%3Ca%20href%3D%5C%22https%3A//earthengine.google.com/%5C%22%3EGoogle%20Earth%20Engine%3C/a%3E%22%2C%0A%20%20%20%20%20%20%20%20%22detectRetina%22%3A%20false%2C%0A%20%20%20%20%20%20%20%20%22maxNativeZoom%22%3A%2018%2C%0A%20%20%20%20%20%20%20%20%22maxZoom%22%3A%2018%2C%0A%20%20%20%20%20%20%20%20%22minZoom%22%3A%200%2C%0A%20%20%20%20%20%20%20%20%22noWrap%22%3A%20false%2C%0A%20%20%20%20%20%20%20%20%22opacity%22%3A%200.5%2C%0A%20%20%20%20%20%20%20%20%22subdomains%22%3A%20%22abc%22%2C%0A%20%20%20%20%20%20%20%20%22tms%22%3A%20false%0A%7D%29.addTo%28map_a6d9674f6be94e7d8a12effa023d45c7%29%3B%0A%20%20%20%20var%20tile_layer_d7d10c999ed2478f9dc9537120ee8532%20%3D%20L.tileLayer%28%0A%20%20%20%20%20%20%20%20%27https%3A//earthengine.googleapis.com/v1alpha/projects/earthengine-legacy/maps/057a29d37687bae999809c69a71e0197-726be0a6e09ece1e63ebdf2ad9832a43/tiles/%7Bz%7D/%7Bx%7D/%7By%7D%27%2C%0A%20%20%20%20%20%20%20%20%7B%0A%20%20%20%20%20%20%20%20%22attribution%22%3A%20%22Map%20Data%20%26copy%3B%20%3Ca%20href%3D%5C%22https%3A//earthengine.google.com/%5C%22%3EGoogle%20Earth%20Engine%3C/a%3E%22%2C%0A%20%20%20%20%20%20%20%20%22detectRetina%22%3A%20false%2C%0A%20%20%20%20%20%20%20%20%22maxNativeZoom%22%3A%2018%2C%0A%20%20%20%20%20%20%20%20%22maxZoom%22%3A%2018%2C%0A%20%20%20%20%20%20%20%20%22minZoom%22%3A%200%2C%0A%20%20%20%20%20%20%20%20%22noWrap%22%3A%20false%2C%0A%20%20%20%20%20%20%20%20%22opacity%22%3A%200.5%2C%0A%20%20%20%20%20%20%20%20%22subdomains%22%3A%20%22abc%22%2C%0A%20%20%20%20%20%20%20%20%22tms%22%3A%20false%0A%7D%29.addTo%28map_a6d9674f6be94e7d8a12effa023d45c7%29%3B%0A%20%20%20%20var%20tile_layer_386afa99aac44a62a1d0d4938a647b4e%20%3D%20L.tileLayer%28%0A%20%20%20%20%20%20%20%20%27https%3A//earthengine.googleapis.com/v1alpha/projects/earthengine-legacy/maps/9009a02854d212a254c0290fb5c70a69-34dd8ee0edf6aa6ca1b489074d4190bd/tiles/%7Bz%7D/%7Bx%7D/%7By%7D%27%2C%0A%20%20%20%20%20%20%20%20%7B%0A%20%20%20%20%20%20%20%20%22attribution%22%3A%20%22Map%20Data%20%26copy%3B%20%3Ca%20href%3D%5C%22https%3A//earthengine.google.com/%5C%22%3EGoogle%20Earth%20Engine%3C/a%3E%22%2C%0A%20%20%20%20%20%20%20%20%22detectRetina%22%3A%20false%2C%0A%20%20%20%20%20%20%20%20%22maxNativeZoom%22%3A%2018%2C%0A%20%20%20%20%20%20%20%20%22maxZoom%22%3A%2018%2C%0A%20%20%20%20%20%20%20%20%22minZoom%22%3A%200%2C%0A%20%20%20%20%20%20%20%20%22noWrap%22%3A%20false%2C%0A%20%20%20%20%20%20%20%20%22opacity%22%3A%200.5%2C%0A%20%20%20%20%20%20%20%20%22subdomains%22%3A%20%22abc%22%2C%0A%20%20%20%20%20%20%20%20%22tms%22%3A%20false%0A%7D%29.addTo%28map_a6d9674f6be94e7d8a12effa023d45c7%29%3B%0A%20%20%20%20%0A%20%20%20%20%20%20%20%20%20%20%20%20var%20layer_control_51b978053b56411a8bdcb4a18560b446%20%3D%20%7B%0A%20%20%20%20%20%20%20%20%20%20%20%20%20%20%20%20base_layers%20%3A%20%7B%20%22openstreetmap%22%20%3A%20tile_layer_ae45f20e575b492eb37312f2ee4476e5%2C%20%7D%2C%0A%20%20%20%20%20%20%20%20%20%20%20%20%20%20%20%20overlays%20%3A%20%7B%20%22satellite%20photography%20median%20composite%20%22%20%3A%20tile_layer_8c25c9eb577a4761bca985af5a2351ec%2C%22Carbon%20Monoxide%22%20%3A%20tile_layer_3ea57cc4422947e2a02fa4b3421f923f%2C%22Formaldehyde%22%20%3A%20tile_layer_5975553ad7fd4b349a942e96342e6592%2C%22Nitrogen%20Dioxide%22%20%3A%20tile_layer_8e52e52a03c042798f72349939689d4d%2C%22Ozone%22%20%3A%20tile_layer_dcfb76a3cd004efe88ad3a55c4806947%2C%22Sulphur%20Dioxide%22%20%3A%20tile_layer_d7d10c999ed2478f9dc9537120ee8532%2C%22Methane%22%20%3A%20tile_layer_386afa99aac44a62a1d0d4938a647b4e%2C%20%7D%0A%20%20%20%20%20%20%20%20%20%20%20%20%20%20%20%20%7D%3B%0A%20%20%20%20%20%20%20%20%20%20%20%20L.control.layers%28%0A%20%20%20%20%20%20%20%20%20%20%20%20%20%20%20%20layer_control_51b978053b56411a8bdcb4a18560b446.base_layers%2C%0A%20%20%20%20%20%20%20%20%20%20%20%20%20%20%20%20layer_control_51b978053b56411a8bdcb4a18560b446.overlays%2C%0A%20%20%20%20%20%20%20%20%20%20%20%20%20%20%20%20%7Bposition%3A%20%27topright%27%2C%0A%20%20%20%20%20%20%20%20%20%20%20%20%20%20%20%20%20collapsed%3A%20true%2C%0A%20%20%20%20%20%20%20%20%20%20%20%20%20%20%20%20%20autoZIndex%3A%20true%0A%20%20%20%20%20%20%20%20%20%20%20%20%20%20%20%20%7D%29.addTo%28map_a6d9674f6be94e7d8a12effa023d45c7%29%3B%0A%20%20%20%20%20%20%20%20%20%20%20%20%0A%20%20%20%20%20%20%20%20%0A%3C/script%3E onload=\"this.contentDocument.open();this.contentDocument.write(    decodeURIComponent(this.getAttribute('data-html')));this.contentDocument.close();\" allowfullscreen webkitallowfullscreen mozallowfullscreen></iframe></div></div>"
            ],
            "text/plain": [
              "<folium.folium.Map at 0x7f27284721d0>"
            ]
          },
          "metadata": {
            "tags": []
          },
          "execution_count": 8
        }
      ]
    },
    {
      "cell_type": "markdown",
      "metadata": {
        "id": "RHIkD4AIJRD9"
      },
      "source": [
        "### Export Data\n",
        "\n",
        "Exports as .csv tables and GeoTIFF images. "
      ]
    },
    {
      "cell_type": "markdown",
      "metadata": {
        "id": "MglKunWI_fTv"
      },
      "source": [
        "#### Define export methods"
      ]
    },
    {
      "cell_type": "code",
      "metadata": {
        "id": "56P_LOcgkimq"
      },
      "source": [
        "# All export methods export to the google drive defined above \n",
        "# TODO add checking for existing files in these methods.\n",
        "\n",
        "def exportTable(table, scale, folder=\"no_export_folder\", desc=\"no_desc\"):\n",
        "  ee.batch.Export.table.toDrive(\n",
        "    collection = table,\n",
        "    description = desc,\n",
        "    folder = folder,\n",
        "    fileFormat = \"CSV\"\n",
        "  ).start()\n",
        "\n",
        "# Export one table of the given image, at the scale and dimensions specified.\n",
        "def exportTableFromImage(image, polygon, scale, folder=\"no_export_folder\", desc=\"no_desc\"):\n",
        "  exportTable(sample(image, polygon, scale), scale, folder, desc)\n",
        "  \n",
        "# samples image into feature_collection. \n",
        "# TODO why is this called sample() ?\n",
        "def sample(img, region, scale):\n",
        "  return img.sampleRegions(\n",
        "      collection = region,\n",
        "      geometries = True,\n",
        "      scale = scale\n",
        "  )\n",
        "\n",
        "# Export one GeoTIFF image of the given image, at the scale and dimension specified. \n",
        "# TODO reevaluate image export options - description needs coordinates\n",
        "# maxPixels is just so it lets me export london at 10m/px. Dividing the dataset into 1km squares is the next step. \n",
        "def exportGeotiff(image, polygon, scale, folder=\"no_export_folder\", desc=\"no_desc\"):\n",
        "  ee.batch.Export.image.toDrive(\n",
        "    crs = 'EPSG:3857',\n",
        "    description = desc,\n",
        "    fileFormat = 'GeoTIFF',\n",
        "    folder = folder,\n",
        "    # formatOptions = image_export_options,\n",
        "    image = image,\n",
        "    maxPixels = 10e9,\n",
        "    region = polygon,\n",
        "    scale = scale\n",
        "  ).start()"
      ],
      "execution_count": null,
      "outputs": []
    },
    {
      "cell_type": "code",
      "metadata": {
        "id": "Imcye1aSmzok"
      },
      "source": [
        "#pprint(ee.batch.Task.list())"
      ],
      "execution_count": null,
      "outputs": []
    },
    {
      "cell_type": "markdown",
      "metadata": {
        "id": "f9l197PkYqGG"
      },
      "source": [
        "#### Exporting CSVs\n",
        "\n",
        "This method of getting the data is very very stupid, but also it does exactly what I need. "
      ]
    },
    {
      "cell_type": "code",
      "metadata": {
        "id": "nyfnXNdtC-Vg"
      },
      "source": [
        "# Only once this is completed can you move forward and get pictures from these spreadsheets.\n",
        "for ghg_img in ghg_imgs:\n",
        "  csv_name = ghg_img.getInfo().get('bands')[0].get('id')\n",
        "  #exportTableFromImage(ghg_img,london, 1000, export_dir, csv_name)"
      ],
      "execution_count": null,
      "outputs": []
    },
    {
      "cell_type": "markdown",
      "metadata": {
        "id": "kqzw-XDH5DDO"
      },
      "source": [
        "#### Getting Images From CSV Data"
      ]
    },
    {
      "cell_type": "code",
      "metadata": {
        "id": "LuxNYYoumLDO"
      },
      "source": [
        "eeutil.getImgsFromCsv(f\"{c.data_dir}/{c.SO2_band}.csv\", s2_img)"
      ],
      "execution_count": null,
      "outputs": []
    },
    {
      "cell_type": "markdown",
      "metadata": {
        "id": "TWeGM3jenhqM"
      },
      "source": [
        "# Data processing"
      ]
    },
    {
      "cell_type": "code",
      "metadata": {
        "id": "ojueZsqRrH5P"
      },
      "source": [
        "# removes old geoTIFF images or xml conversion artifacts from the given directory. \n",
        "def rmArtifact(artifact_path, rmTif = False, rmXml = False):\n",
        "  if not os.path.isfile(artifact_path): return\n",
        "  if not (rmTif or rmXml): return\n",
        "  \n",
        "  extension = os.path.splitext(artifact_path)[1].lower()\n",
        "  if (extension == \".tif\" and rmTif) or \\\n",
        "      (extension == \".xml\" and rmXml): \n",
        "    print(f\"removing {artifact_path}\")\n",
        "    os.remove(artifact_path)\n",
        "\n",
        "def rmConversionArtifacts(path, rmTif = False, rmXml = False):\n",
        "  # No point checking all these files if we're not going to do anything \n",
        "  if not (rmTif or rmXml): return\n",
        "\n",
        "  parent_path = os.path.join(drive_path, path)\n",
        "  print(parent_path)\n",
        "\n",
        "  for root, dirs, files in os.walk(parent_path, topdown=True):\n",
        "    for name in files:\n",
        "      fullpath = os.path.join(root, name)\n",
        "      rmArtifact(fullpath, rmTif, rmXml)\n",
        "\n",
        "def geotiffToPng(tif_path, rm_artifacts = False):\n",
        "  # Define rgb bands and file extension\n",
        "  options_list = [\n",
        "    '-ot Byte',\n",
        "    '-of PNG',\n",
        "    '-b 4',\n",
        "    '-b 3',\n",
        "    '-b 2',\n",
        "    '-scale'\n",
        "  ]\n",
        "  options_string = \" \".join(options_list)\n",
        "  parent_path = os.path.join(drive_path, tif_path)\n",
        "\n",
        "  # Recursively walk through all files (this has to be simpler)\n",
        "  for root, dirs, files in os.walk(parent_path, topdown=False):\n",
        "    for name in files:\n",
        "      full_path = os.path.join(root, name)\n",
        "      print(full_path)\n",
        "      split_path = os.path.splitext(full_path)\n",
        "\n",
        "      if split_path[1].lower() != \".tif\": continue\n",
        "\n",
        "      path = split_path[0]\n",
        "      filename = path.split(\"/\")[-1]\n",
        "      if os.path.isfile(path + \".png\") or os.path.isfile(f\"{drive_path}{export_dir}/png/{filename}.png\"):\n",
        "        print(f\"A png file already exists for {full_path}\")\n",
        "        continue\n",
        "      \n",
        "      gdal.Translate(\n",
        "        path + '.png',\n",
        "        path + '.tif',\n",
        "        options = options_string\n",
        "      )\n",
        "      print(f\"Converted {filename} from GeoTIFF to PNG\")\n",
        "      if rm_artifacts: rmArtifact(full_path, True, True)\n",
        "\n",
        "# Move files from src to dest if they have the correct extension\n",
        "def moveFilesByExtension(src, dest, extension):\n",
        "  parent_path = os.path.join(drive_path, src)\n",
        "  print(parent_path)\n",
        "\n",
        "  for root, dirs, files in os.walk(parent_path, topdown=True):\n",
        "    for name in files:\n",
        "      full_path = os.path.join(root, name)\n",
        "      split_path = os.path.splitext(full_path)\n",
        "      if split_path[1].lower() == extension:\n",
        "        dest_path = full_path.replace(src, dest)\n",
        "        os.rename(full_path, dest_path)\n",
        "\n",
        "# TODO currently unused, since the rest of the code checks for duplicates before initiating an export. \n",
        "def deDupe(path):\n",
        "  print(\"removing duplicates\")\n",
        "  parent_path = os.path.join(drive_path, path)\n",
        "  print(parent_path)\n",
        "\n",
        "  for root, dirs, files in os.walk(parent_path, topdown=True):\n",
        "    for name in files:\n",
        "      # TODO update to check if the filename fits the intended format for coordinate images. \n",
        "      try:\n",
        "        float(name.split(\"_\")[-1][:-4])\n",
        "      except Exception:\n",
        "        print(f\"removing {name}\")\n",
        "        #os.remove(os.path.join(root, name))\n",
        "\n",
        "# TODO add file indexing into one CSV with all our latlong exports."
      ],
      "execution_count": null,
      "outputs": []
    },
    {
      "cell_type": "code",
      "metadata": {
        "id": "RhaMrmlzNE6-"
      },
      "source": [
        "# add de-duplication back in once it actually does something. I've managed to avoid dupes so far anyway, so it's \n",
        "# unnecessary until it becomes an actual problem. YAGNI! \n",
        "# TODO parameterise filepaths in constants.py\n",
        "#deDupe(f\"{drive_path}{geotiff_dir}\")\n",
        "geotiffToPng(geotiff_dir, rm_artifacts=False)\n",
        "moveFilesByExtension(geotiff_dir, f\"{export_dir}/geotiff\", \".tif\")\n",
        "moveFilesByExtension(geotiff_dir, f\"{export_dir}/png\", \".png\")\n",
        "rmConversionArtifacts(geotiff_dir, rmTif=False, rmXml=True)\n",
        "\n",
        "#deDupe(f\"{drive_path}{export_dir}/png\")\n",
        "#deDupe(f\"{drive_path}{export_dir}/geotiff\")"
      ],
      "execution_count": null,
      "outputs": []
    },
    {
      "cell_type": "code",
      "metadata": {
        "id": "Pkr6RzUt_atC"
      },
      "source": [
        "# Cleaning up if things go a bit wrong\n",
        "moveFilesByExtension(f\"{export_dir}/geotiff\", f\"{export_dir}/png\", \".png\")\n",
        "rmConversionArtifacts(f\"{export_dir}/geotiff\", rmTif=False, rmXml=True)\n",
        "moveFilesByExtension(geotiff_dir, f\"{export_dir}/geotiff\", \".tif\")"
      ],
      "execution_count": null,
      "outputs": []
    },
    {
      "cell_type": "code",
      "metadata": {
        "id": "bKNGcpcJkhrv"
      },
      "source": [
        "# Extracts lat and long volumes from .geo param in csv. \n",
        "def parseCsvCoords(csv_path):\n",
        "  print(csv_path)\n",
        "  test_suffix = \"_parsing_coordinates.csv\"\n",
        "  \n",
        "  with open(csv_path, 'r') as read_obj, \\\n",
        "      open(csv_path + test_suffix, 'w', newline='') as write_obj:\n",
        "    csv_reader = csv.reader(read_obj, delimiter=\",\")\n",
        "    csv_writer = csv.writer(write_obj, delimiter=\",\")\n",
        "\n",
        "    firstRow = True\n",
        "    for row in csv_reader:\n",
        "      if firstRow: \n",
        "        # break early if this method has already been applied to the given csv. \n",
        "        if \"longitude\" in row: \n",
        "          print(f\"{csv_path} has already been processed - exiting...\")\n",
        "          return \n",
        "        row.append(\"longitude\")\n",
        "        row.append(\"latitude\")\n",
        "        firstRow = False\n",
        "      else:\n",
        "        # Could string parsing be made more efficient? \n",
        "        # This method only needs to run once per csv so optimisation isn't that important. \n",
        "        coords = json.loads(row[2]).get(\"coordinates\")\n",
        "        row.append(coords[0])\n",
        "        row.append(coords[1])\n",
        "\n",
        "      csv_writer.writerow(row)\n",
        "  \n",
        "  os.remove(csv_path)\n",
        "  os.rename(csv_path + test_suffix, csv_path)"
      ],
      "execution_count": null,
      "outputs": []
    },
    {
      "cell_type": "code",
      "metadata": {
        "id": "VGUu7dyWn9jh"
      },
      "source": [
        "# TODO add these all into one csv file as part of import pipeline. \n",
        "parseCsvCoords(f\"{drive_path}{export_dir}/{CO_band}.csv\")\n",
        "parseCsvCoords(f\"{drive_path}{export_dir}/{HCHO_band}.csv\")\n",
        "parseCsvCoords(f\"{drive_path}{export_dir}/{NO2_band}.csv\")\n",
        "parseCsvCoords(f\"{drive_path}{export_dir}/{O3_band}.csv\")\n",
        "parseCsvCoords(f\"{drive_path}{export_dir}/{SO2_band}.csv\")\n",
        "parseCsvCoords(f\"{drive_path}{export_dir}/{CH4_band}.csv\")"
      ],
      "execution_count": null,
      "outputs": []
    }
  ]
}