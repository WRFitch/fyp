{
  "nbformat": 4,
  "nbformat_minor": 0,
  "metadata": {
    "colab": {
      "name": "fyp_data_import_pipeline.ipynb",
      "provenance": [],
      "collapsed_sections": [
        "jkq4mhmfIwO_",
        "sTZipoKOJNyg"
      ],
      "toc_visible": true,
      "include_colab_link": true
    },
    "kernelspec": {
      "name": "python3",
      "display_name": "Python 3"
    }
  },
  "cells": [
    {
      "cell_type": "markdown",
      "metadata": {
        "id": "view-in-github",
        "colab_type": "text"
      },
      "source": [
        "<a href=\"https://colab.research.google.com/github/WRFitch/fyp/blob/main/src/fyp_data_import_pipeline.ipynb\" target=\"_parent\"><img src=\"https://colab.research.google.com/assets/colab-badge.svg\" alt=\"Open In Colab\"/></a>"
      ]
    },
    {
      "cell_type": "markdown",
      "metadata": {
        "id": "vBYK4VpU-2tn"
      },
      "source": [
        "# Data Import Pipeline\n",
        "It's a pipeline that imports the data I need. \n",
        "\n",
        "### TODO\n",
        "- fix image export distortion \n",
        "- Import CO2 dataset\n",
        "- Extract unnecessary methods into normal python files and import where necessary. "
      ]
    },
    {
      "cell_type": "markdown",
      "metadata": {
        "id": "16Ua09qtJqgw"
      },
      "source": [
        "## Setup\n",
        "*   Import necessary libraries\n",
        "*   Set up Earth Engine authentication and mount google drive  \n"
      ]
    },
    {
      "cell_type": "code",
      "metadata": {
        "id": "OT1lreKK1bXw"
      },
      "source": [
        "import ee\n",
        "import folium\n",
        "import os\n",
        "\n",
        "from google.colab import drive\n",
        "from osgeo import gdal\n",
        "from PIL import Image\n",
        "from pprint import pprint"
      ],
      "execution_count": 1,
      "outputs": []
    },
    {
      "cell_type": "code",
      "metadata": {
        "id": "ACtrAfnVnOjt"
      },
      "source": [
        "ee.Authenticate()\n",
        "ee.Initialize()"
      ],
      "execution_count": null,
      "outputs": []
    },
    {
      "cell_type": "code",
      "metadata": {
        "id": "mLUtYn4SndcT"
      },
      "source": [
        "drive.mount('/content/drive')\n",
        "\n",
        "print(folium.__version__)"
      ],
      "execution_count": null,
      "outputs": []
    },
    {
      "cell_type": "markdown",
      "metadata": {
        "id": "jZUKXEfUiEtZ"
      },
      "source": [
        "# Dataset import\n",
        "\n",
        "### Import the following datasets into Google Drive\n",
        "\n",
        "*   [Sentinel-2 Satellite photography](https://developers.google.com/earth-engine/datasets/catalog/COPERNICUS_S2_SR)\n",
        "*   [Sentinel-5 Precursor Data](https://developers.google.com/earth-engine/datasets/catalog/sentinel)\n",
        "  *   [Carbon Monoxide](https://developers.google.com/earth-engine/datasets/catalog/COPERNICUS_S5P_OFFL_L3_CO)\n",
        "  *   [Formaldehyde](https://developers.google.com/earth-engine/datasets/catalog/COPERNICUS_S5P_OFFL_L3_HCHO)\n",
        "  *   [Nitrogen Dioxide](https://developers.google.com/earth-engine/datasets/catalog/COPERNICUS_S5P_OFFL_L3_NO2)\n",
        "  *   [Ozone](https://developers.google.com/earth-engine/datasets/catalog/COPERNICUS_S5P_OFFL_L3_O3)\n",
        "  *   [Sulphur Dioxide](https://developers.google.com/earth-engine/datasets/catalog/COPERNICUS_S5P_OFFL_L3_SO2)\n",
        "  *   [Methane](https://developers.google.com/earth-engine/datasets/catalog/COPERNICUS_S5P_OFFL_L3_CH4)\n",
        "*   [ODIAC Fossil Fuel CO2 Emissions](https://db.cger.nies.go.jp/dataset/ODIAC/DL_odiac2019.html)"
      ]
    },
    {
      "cell_type": "markdown",
      "metadata": {
        "id": "DlFd1y1OIXxk"
      },
      "source": [
        "##### Define Earth Engine Boundaries "
      ]
    },
    {
      "cell_type": "code",
      "metadata": {
        "id": "YuosygcHIfhO"
      },
      "source": [
        "# Define dataset boundaries for britain and london \n",
        "great_britain = ee.Geometry.Polygon(\n",
        "        [[[-1.836112801004015, 59.808076330562756],\n",
        "          [-8.779472176004015, 58.82140293049428],\n",
        "          [-7.988456551004015, 55.71069203454839],\n",
        "          [-11.196464363504015, 54.42753859549109],\n",
        "          [-11.328300301004015, 50.967746003015044],\n",
        "          [-9.526542488504015, 50.77361752815123],\n",
        "          [-6.274589363504015, 51.81776248652293],\n",
        "          [-5.395683113504015, 51.21615275310099],\n",
        "          [-6.582206551004015, 49.56332371186494],\n",
        "          [-3.110526863504015, 49.904165426606255],\n",
        "          [1.240059073995985, 50.80139967619036],\n",
        "          [2.426582511495985, 52.33095407387208],\n",
        "          [1.767402823995985, 53.4183511305661],\n",
        "          [0.5369340739959849, 53.44453305344514],\n",
        "          [-1.616386238504015, 56.32474216074427],\n",
        "          [-0.7814253010040151, 57.805828290000164]]],\n",
        "          proj = 'EPSG:3857')\n",
        "\n",
        "london = ee.Geometry.Polygon(\n",
        "        [[[-0.8034984064310513, 51.86893967293553],\n",
        "          [-0.8034984064310513, 51.10101596040769],\n",
        "          [0.4077442693501787, 51.10101596040769],\n",
        "          [0.4077442693501787, 51.86893967293553]]],\n",
        "          proj = 'EPSG:3857')\n",
        "\n",
        "uxbridge = ee.Geometry.Rectangle(\n",
        "        [[-0.5585304622116949, 51.577993458567235],\n",
        "         [-0.3951088313523199, 51.51009512268249]],\n",
        "          proj = 'EPSG:3857')\n",
        "\n",
        "# Used to check scaling is a-ok\n",
        "millennium_dome = ee.Geometry.Polygon(\n",
        "        [[[0, 51.51],\n",
        "          [0, 51.49],\n",
        "          [0.02, 51.49],\n",
        "          [0.02, 51.51]]],\n",
        "          proj = 'EPSG:3857')\n",
        "\n",
        "greenwich = ee.Geometry.Polygon(\n",
        "        [[[-0.0, 51.55],\n",
        "          [-0.0, 51.45],\n",
        "          [0.1, 51.45],\n",
        "          [0.1, 51.55]]],\n",
        "          proj = 'EPSG:3857')\n",
        "\n",
        "west_hemisphere = ee.Geometry.Polygon(\n",
        "        [[[-177.32831443211026, 84.89714695160266],\n",
        "          [-177.32831443211026, -84.77052832075908],\n",
        "          [0, -84.77052832075908],\n",
        "          [0, 84.89714695160266]]],\n",
        "          proj = 'EPSG:3857')\n",
        "\n",
        "east_hemisphere = ee.Geometry.Polygon(\n",
        "        [[[0, 84.89714695160266],\n",
        "          [0, -84.77052832075908],\n",
        "          [173.5310605678897, -84.77052832075908],\n",
        "          [173.5310605678897, 84.89714695160266]]],\n",
        "          proj = 'EPSG:3857')"
      ],
      "execution_count": 16,
      "outputs": []
    },
    {
      "cell_type": "markdown",
      "metadata": {
        "id": "jkq4mhmfIwO_"
      },
      "source": [
        "##### Define other implementation variables"
      ]
    },
    {
      "cell_type": "code",
      "metadata": {
        "id": "xQZlTc5Rf-LC"
      },
      "source": [
        "# Earth engine username, used to import classified image into ee assets folder\n",
        "USERNAME = 'wrfitch'\n",
        "OUTPUT_DIR = USERNAME + \"/out/\"\n",
        "\n",
        "# Define image collections for each dataset to be used \n",
        "s2 = ee.ImageCollection(\"COPERNICUS/S2_SR\")\n",
        "s5_CO = ee.ImageCollection(\"COPERNICUS/S5P/OFFL/L3_CO\")\n",
        "s5_HCHO = ee.ImageCollection(\"COPERNICUS/S5P/OFFL/L3_HCHO\")\n",
        "s5_NO2 = ee.ImageCollection(\"COPERNICUS/S5P/OFFL/L3_NO2\")\n",
        "s5_O3 = ee.ImageCollection(\"COPERNICUS/S5P/OFFL/L3_O3\")\n",
        "s5_SO2 = ee.ImageCollection(\"COPERNICUS/S5P/OFFL/L3_SO2\")\n",
        "s5_CH4 = ee.ImageCollection(\"COPERNICUS/S5P/OFFL/L3_CH4\")\n",
        "#TODO import CO2 dataset\n",
        "\n",
        "CO_band = 'CO_column_number_density'\n",
        "HCHO_band = 'tropospheric_HCHO_column_number_density'\n",
        "NO2_band = 'tropospheric_NO2_column_number_density'\n",
        "O3_band = 'O3_column_number_density'\n",
        "SO2_band = 'SO2_column_number_density'\n",
        "CH4_band = 'CH4_column_volume_mixing_ratio_dry_air'\n",
        "\n",
        "#define crs object so we can use the same coordinate reference system on everything. \n",
        "#crs = ee.Projection.\n",
        "\n",
        "# Could the start and end dates be shifted or focused on one area, so emissions can be monitored across the seasons? \n",
        "# would that even be useful? \n",
        "start_date = '2020-01-01'\n",
        "end_date = '2020-12-31'\n",
        "vis_palette = ['black', 'blue', 'purple', 'cyan', 'green', 'yellow', 'red']\n",
        "\n",
        "drive_path = \"/content/drive/MyDrive/\""
      ],
      "execution_count": 6,
      "outputs": []
    },
    {
      "cell_type": "markdown",
      "metadata": {
        "id": "sTZipoKOJNyg"
      },
      "source": [
        "### Visualise Data"
      ]
    },
    {
      "cell_type": "code",
      "metadata": {
        "id": "liIZ0y0JnSjY"
      },
      "source": [
        "# Import datasets \n",
        "# TODO analyse whether these min/max values are valid, recalibrate for highest variance where necessary. Separate values\n",
        "#      may be necessary for different samples - for example, the perfect calibration for the UK won't work on the world. \n",
        "# TODO analyse whether it makes sense to analyse these on a highly localised level\n",
        "\n",
        "# pre-filter to remove clouds - we can add them back in as data points from sentinel 5 if necessary\n",
        "def maskS2clouds(image) :\n",
        "  qa = image.select('QA60');\n",
        "\n",
        "  # Bits 10 and 11 are clouds and cirrus, respectively.\n",
        "  cloud_bitmask = 1 << 10\n",
        "  cirrus_bitmask = 1 << 11\n",
        "\n",
        "  # Both flags should be set to zero, indicating clear conditions.\n",
        "  mask = qa.bitwiseAnd(cloud_bitmask).eq(0).And( \\\n",
        "         qa.bitwiseAnd(cirrus_bitmask).eq(0))\n",
        "\n",
        "  return image.updateMask(mask).divide(10000)\n",
        "\n",
        "# High-resolution satellite photograph \n",
        "s2_img = s2.filterDate(start_date, end_date) \\\n",
        "           .filter(ee.Filter.lt('CLOUDY_PIXEL_PERCENTAGE', 20)) \\\n",
        "           .filterBounds(great_britain) \\\n",
        "           .map(maskS2clouds).median()\n",
        "s2_id = s2_img.getMapId({'bands': ['B4', 'B3', 'B2'], \\\n",
        "                        'min': 0, \\\n",
        "                        'max': 0.3})\n",
        "\n",
        "mildome = s2.filterDate(start_date, end_date) \\\n",
        "           .filter(ee.Filter.lt('CLOUDY_PIXEL_PERCENTAGE', 20)) \\\n",
        "           .filterBounds(millennium_dome) \\\n",
        "           .map(maskS2clouds).median()\n",
        "\n",
        "# Carbon monoxide\n",
        "# Minmax scale is a bit off - recalibrate for Britain \n",
        "CO_img = s5_CO.filterDate(start_date, end_date) \\\n",
        "              .filterBounds(great_britain) \\\n",
        "              .select(CO_band).mean()\n",
        "CO_id = CO_img.getMapId( \\\n",
        "    {'palette': vis_palette, \\\n",
        "    'min': 0, \\\n",
        "    'max': 0.05})\n",
        "\n",
        "# Formaldehyde\n",
        "# Minmax scale is a bit off - recalibrate for Britain\n",
        "HCHO_img = s5_HCHO.filterDate(start_date, end_date) \\\n",
        "                  .filterBounds(great_britain) \\\n",
        "                  .select(HCHO_band).mean()\n",
        "HCHO_id = HCHO_img.getMapId( \\\n",
        "    {'palette': vis_palette, \\\n",
        "    'min': 0.0, \\\n",
        "    'max': 0.0003})\n",
        "\n",
        "# Nitrogen Dioxide\n",
        "NO2_img = s5_NO2.filterDate(start_date, end_date) \\\n",
        "                .filterBounds(great_britain) \\\n",
        "                .select(NO2_band).mean()\n",
        "NO2_id = NO2_img.getMapId( \\\n",
        "    {'palette': vis_palette, \\\n",
        "    'min': 0.0, \\\n",
        "    'max': 0.0002})\n",
        "\n",
        "# Ozone\n",
        "O3_img = s5_O3.filterDate(start_date, end_date) \\\n",
        "              .filterBounds(great_britain) \\\n",
        "              .select(O3_band).mean()\n",
        "O3_id = O3_img.getMapId( \\\n",
        "    {'palette': vis_palette, \\\n",
        "    'min': 0.12, \\\n",
        "    'max': 0.15})\n",
        "\n",
        "# Sulphur Dioxide\n",
        "SO2_img = s5_SO2.filterDate(start_date, end_date) \\\n",
        "                .filterBounds(great_britain) \\\n",
        "                .select(SO2_band).mean()\n",
        "SO2_id = SO2_img.getMapId( \\\n",
        "    {'palette': vis_palette, \\\n",
        "    'min': 0.0, \\\n",
        "    'max': 0.0005})\n",
        "\n",
        "# Methane\n",
        "CH4_img = s5_CH4.filterDate(start_date, end_date) \\\n",
        "                .filterBounds(great_britain) \\\n",
        "                .select(CH4_band).mean()\n",
        "CH4_id = CH4_img.getMapId( \\\n",
        "    {'palette': vis_palette, \\\n",
        "    'min': 1750, \\\n",
        "    'max': 1900})"
      ],
      "execution_count": 8,
      "outputs": []
    },
    {
      "cell_type": "code",
      "metadata": {
        "id": "lUZZBD9fhUUw"
      },
      "source": [
        "# For easier iteration down the line. I know I'm not supposed to, but google can't tell me what to do, even if it's a good idea!\n",
        "ghg_imgs = [CO_img, HCHO_img, NO2_img, O3_img, SO2_img, CH4_img]\n",
        "ghg_ids = [CO_id, HCHO_id, NO2_id, O3_id, SO2_id, CH4_id]"
      ],
      "execution_count": 9,
      "outputs": []
    },
    {
      "cell_type": "code",
      "metadata": {
        "id": "QCsfkjOE8y_H",
        "colab": {
          "base_uri": "https://localhost:8080/",
          "height": 915
        },
        "outputId": "cedceacc-5972-4ed6-de6f-0088722d4959"
      },
      "source": [
        "# Visualise data on a Folium map \n",
        "# Attribution has to stay earthengine.google.com, since that's where these maps came from. \n",
        "map = folium.Map(\n",
        "    location = [51.5, 0.1], \n",
        "    prefer_canvas = True)\n",
        "\n",
        "layerOpacity = 0.5\n",
        "\n",
        "folium.TileLayer(\n",
        "    tiles = s2_id['tile_fetcher'].url_format,\n",
        "    attr = 'Map Data &copy; <a href=\"https://earthengine.google.com/\">Google Earth Engine</a>',\n",
        "    overlay = True,\n",
        "    name = 'satellite photography median composite '\n",
        "  ).add_to(map)\n",
        "\n",
        "folium.TileLayer(\n",
        "    tiles = CO_id['tile_fetcher'].url_format,\n",
        "    attr = 'Map Data &copy; <a href=\"https://earthengine.google.com/\">Google Earth Engine</a>',\n",
        "    overlay = True,\n",
        "    name = 'Carbon Monoxide',\n",
        "    opacity = layerOpacity\n",
        "  ).add_to(map)\n",
        "\n",
        "folium.TileLayer(\n",
        "    tiles = HCHO_id['tile_fetcher'].url_format,\n",
        "    attr = 'Map Data &copy; <a href=\"https://earthengine.google.com/\">Google Earth Engine</a>',\n",
        "    overlay = True,\n",
        "    name = 'Formaldehyde',\n",
        "    opacity = layerOpacity\n",
        "  ).add_to(map)\n",
        "\n",
        "folium.TileLayer(\n",
        "    tiles = NO2_id['tile_fetcher'].url_format,\n",
        "    attr = 'Map Data &copy; <a href=\"https://earthengine.google.com/\">Google Earth Engine</a>',\n",
        "    overlay = True,\n",
        "    name = 'Nitrogen Dioxide',\n",
        "    opacity = layerOpacity\n",
        "  ).add_to(map)\n",
        "\n",
        "folium.TileLayer(\n",
        "    tiles = O3_id['tile_fetcher'].url_format,\n",
        "    attr = 'Map Data &copy; <a href=\"https://earthengine.google.com/\">Google Earth Engine</a>',\n",
        "    overlay = True,\n",
        "    name = 'Ozone',\n",
        "    opacity = layerOpacity\n",
        "  ).add_to(map)\n",
        "\n",
        "folium.TileLayer(\n",
        "    tiles = SO2_id['tile_fetcher'].url_format,\n",
        "    attr = 'Map Data &copy; <a href=\"https://earthengine.google.com/\">Google Earth Engine</a>',\n",
        "    overlay = True,\n",
        "    name = 'Sulphur Dioxide',\n",
        "    opacity = layerOpacity\n",
        "  ).add_to(map)\n",
        "\n",
        "folium.TileLayer(\n",
        "    tiles = CH4_id['tile_fetcher'].url_format,\n",
        "    attr = 'Map Data &copy; <a href=\"https://earthengine.google.com/\">Google Earth Engine</a>',\n",
        "    overlay = True,\n",
        "    name = 'Methane',\n",
        "    opacity = layerOpacity\n",
        "  ).add_to(map)\n",
        "  \n",
        "map.add_child(folium.LayerControl())\n",
        "map"
      ],
      "execution_count": 10,
      "outputs": [
        {
          "output_type": "execute_result",
          "data": {
            "text/html": [
              "<div style=\"width:100%;\"><div style=\"position:relative;width:100%;height:0;padding-bottom:60%;\"><span style=\"color:#565656\">Make this Notebook Trusted to load map: File -> Trust Notebook</span><iframe src=\"about:blank\" style=\"position:absolute;width:100%;height:100%;left:0;top:0;border:none !important;\" data-html=%3C%21DOCTYPE%20html%3E%0A%3Chead%3E%20%20%20%20%0A%20%20%20%20%3Cmeta%20http-equiv%3D%22content-type%22%20content%3D%22text/html%3B%20charset%3DUTF-8%22%20/%3E%0A%20%20%20%20%3Cscript%3EL_PREFER_CANVAS%3Dtrue%3B%20L_NO_TOUCH%3Dfalse%3B%20L_DISABLE_3D%3Dfalse%3B%3C/script%3E%0A%20%20%20%20%3Cscript%20src%3D%22https%3A//cdn.jsdelivr.net/npm/leaflet%401.4.0/dist/leaflet.js%22%3E%3C/script%3E%0A%20%20%20%20%3Cscript%20src%3D%22https%3A//code.jquery.com/jquery-1.12.4.min.js%22%3E%3C/script%3E%0A%20%20%20%20%3Cscript%20src%3D%22https%3A//maxcdn.bootstrapcdn.com/bootstrap/3.2.0/js/bootstrap.min.js%22%3E%3C/script%3E%0A%20%20%20%20%3Cscript%20src%3D%22https%3A//cdnjs.cloudflare.com/ajax/libs/Leaflet.awesome-markers/2.0.2/leaflet.awesome-markers.js%22%3E%3C/script%3E%0A%20%20%20%20%3Clink%20rel%3D%22stylesheet%22%20href%3D%22https%3A//cdn.jsdelivr.net/npm/leaflet%401.4.0/dist/leaflet.css%22/%3E%0A%20%20%20%20%3Clink%20rel%3D%22stylesheet%22%20href%3D%22https%3A//maxcdn.bootstrapcdn.com/bootstrap/3.2.0/css/bootstrap.min.css%22/%3E%0A%20%20%20%20%3Clink%20rel%3D%22stylesheet%22%20href%3D%22https%3A//maxcdn.bootstrapcdn.com/bootstrap/3.2.0/css/bootstrap-theme.min.css%22/%3E%0A%20%20%20%20%3Clink%20rel%3D%22stylesheet%22%20href%3D%22https%3A//maxcdn.bootstrapcdn.com/font-awesome/4.6.3/css/font-awesome.min.css%22/%3E%0A%20%20%20%20%3Clink%20rel%3D%22stylesheet%22%20href%3D%22https%3A//cdnjs.cloudflare.com/ajax/libs/Leaflet.awesome-markers/2.0.2/leaflet.awesome-markers.css%22/%3E%0A%20%20%20%20%3Clink%20rel%3D%22stylesheet%22%20href%3D%22https%3A//rawcdn.githack.com/python-visualization/folium/master/folium/templates/leaflet.awesome.rotate.css%22/%3E%0A%20%20%20%20%3Cstyle%3Ehtml%2C%20body%20%7Bwidth%3A%20100%25%3Bheight%3A%20100%25%3Bmargin%3A%200%3Bpadding%3A%200%3B%7D%3C/style%3E%0A%20%20%20%20%3Cstyle%3E%23map%20%7Bposition%3Aabsolute%3Btop%3A0%3Bbottom%3A0%3Bright%3A0%3Bleft%3A0%3B%7D%3C/style%3E%0A%20%20%20%20%0A%20%20%20%20%3Cmeta%20name%3D%22viewport%22%20content%3D%22width%3Ddevice-width%2C%0A%20%20%20%20%20%20%20%20initial-scale%3D1.0%2C%20maximum-scale%3D1.0%2C%20user-scalable%3Dno%22%20/%3E%0A%20%20%20%20%3Cstyle%3E%23map_7156e300280845ef9f212e8e61e0e706%20%7B%0A%20%20%20%20%20%20%20%20position%3A%20relative%3B%0A%20%20%20%20%20%20%20%20width%3A%20100.0%25%3B%0A%20%20%20%20%20%20%20%20height%3A%20100.0%25%3B%0A%20%20%20%20%20%20%20%20left%3A%200.0%25%3B%0A%20%20%20%20%20%20%20%20top%3A%200.0%25%3B%0A%20%20%20%20%20%20%20%20%7D%0A%20%20%20%20%3C/style%3E%0A%3C/head%3E%0A%3Cbody%3E%20%20%20%20%0A%20%20%20%20%0A%20%20%20%20%3Cdiv%20class%3D%22folium-map%22%20id%3D%22map_7156e300280845ef9f212e8e61e0e706%22%20%3E%3C/div%3E%0A%3C/body%3E%0A%3Cscript%3E%20%20%20%20%0A%20%20%20%20%0A%20%20%20%20%0A%20%20%20%20%20%20%20%20var%20bounds%20%3D%20null%3B%0A%20%20%20%20%0A%0A%20%20%20%20var%20map_7156e300280845ef9f212e8e61e0e706%20%3D%20L.map%28%0A%20%20%20%20%20%20%20%20%27map_7156e300280845ef9f212e8e61e0e706%27%2C%20%7B%0A%20%20%20%20%20%20%20%20center%3A%20%5B51.5%2C%200.1%5D%2C%0A%20%20%20%20%20%20%20%20zoom%3A%2010%2C%0A%20%20%20%20%20%20%20%20maxBounds%3A%20bounds%2C%0A%20%20%20%20%20%20%20%20layers%3A%20%5B%5D%2C%0A%20%20%20%20%20%20%20%20worldCopyJump%3A%20false%2C%0A%20%20%20%20%20%20%20%20crs%3A%20L.CRS.EPSG3857%2C%0A%20%20%20%20%20%20%20%20zoomControl%3A%20true%2C%0A%20%20%20%20%20%20%20%20%7D%29%3B%0A%0A%0A%20%20%20%20%0A%20%20%20%20var%20tile_layer_2316e86b1e064fedb133491ac69e7bd2%20%3D%20L.tileLayer%28%0A%20%20%20%20%20%20%20%20%27https%3A//%7Bs%7D.tile.openstreetmap.org/%7Bz%7D/%7Bx%7D/%7By%7D.png%27%2C%0A%20%20%20%20%20%20%20%20%7B%0A%20%20%20%20%20%20%20%20%22attribution%22%3A%20null%2C%0A%20%20%20%20%20%20%20%20%22detectRetina%22%3A%20false%2C%0A%20%20%20%20%20%20%20%20%22maxNativeZoom%22%3A%2018%2C%0A%20%20%20%20%20%20%20%20%22maxZoom%22%3A%2018%2C%0A%20%20%20%20%20%20%20%20%22minZoom%22%3A%200%2C%0A%20%20%20%20%20%20%20%20%22noWrap%22%3A%20false%2C%0A%20%20%20%20%20%20%20%20%22opacity%22%3A%201%2C%0A%20%20%20%20%20%20%20%20%22subdomains%22%3A%20%22abc%22%2C%0A%20%20%20%20%20%20%20%20%22tms%22%3A%20false%0A%7D%29.addTo%28map_7156e300280845ef9f212e8e61e0e706%29%3B%0A%20%20%20%20var%20tile_layer_1c12625600c34bd2bda05c482cd5ba9c%20%3D%20L.tileLayer%28%0A%20%20%20%20%20%20%20%20%27https%3A//earthengine.googleapis.com/v1alpha/projects/earthengine-legacy/maps/72ddca1b5e6c72731b6d3797b582cb38-c0e5e96691c997355551e15fd30964c5/tiles/%7Bz%7D/%7Bx%7D/%7By%7D%27%2C%0A%20%20%20%20%20%20%20%20%7B%0A%20%20%20%20%20%20%20%20%22attribution%22%3A%20%22Map%20Data%20%26copy%3B%20%3Ca%20href%3D%5C%22https%3A//earthengine.google.com/%5C%22%3EGoogle%20Earth%20Engine%3C/a%3E%22%2C%0A%20%20%20%20%20%20%20%20%22detectRetina%22%3A%20false%2C%0A%20%20%20%20%20%20%20%20%22maxNativeZoom%22%3A%2018%2C%0A%20%20%20%20%20%20%20%20%22maxZoom%22%3A%2018%2C%0A%20%20%20%20%20%20%20%20%22minZoom%22%3A%200%2C%0A%20%20%20%20%20%20%20%20%22noWrap%22%3A%20false%2C%0A%20%20%20%20%20%20%20%20%22opacity%22%3A%201%2C%0A%20%20%20%20%20%20%20%20%22subdomains%22%3A%20%22abc%22%2C%0A%20%20%20%20%20%20%20%20%22tms%22%3A%20false%0A%7D%29.addTo%28map_7156e300280845ef9f212e8e61e0e706%29%3B%0A%20%20%20%20var%20tile_layer_60d5855b8f484b9cae6e9a1d12a243c7%20%3D%20L.tileLayer%28%0A%20%20%20%20%20%20%20%20%27https%3A//earthengine.googleapis.com/v1alpha/projects/earthengine-legacy/maps/b91b230b48d29a6e0e05bc1b6b858faf-529229c6dfe003d465c3cf60b93684fa/tiles/%7Bz%7D/%7Bx%7D/%7By%7D%27%2C%0A%20%20%20%20%20%20%20%20%7B%0A%20%20%20%20%20%20%20%20%22attribution%22%3A%20%22Map%20Data%20%26copy%3B%20%3Ca%20href%3D%5C%22https%3A//earthengine.google.com/%5C%22%3EGoogle%20Earth%20Engine%3C/a%3E%22%2C%0A%20%20%20%20%20%20%20%20%22detectRetina%22%3A%20false%2C%0A%20%20%20%20%20%20%20%20%22maxNativeZoom%22%3A%2018%2C%0A%20%20%20%20%20%20%20%20%22maxZoom%22%3A%2018%2C%0A%20%20%20%20%20%20%20%20%22minZoom%22%3A%200%2C%0A%20%20%20%20%20%20%20%20%22noWrap%22%3A%20false%2C%0A%20%20%20%20%20%20%20%20%22opacity%22%3A%200.5%2C%0A%20%20%20%20%20%20%20%20%22subdomains%22%3A%20%22abc%22%2C%0A%20%20%20%20%20%20%20%20%22tms%22%3A%20false%0A%7D%29.addTo%28map_7156e300280845ef9f212e8e61e0e706%29%3B%0A%20%20%20%20var%20tile_layer_6e750ebe75f143e9ac6ba8626466b731%20%3D%20L.tileLayer%28%0A%20%20%20%20%20%20%20%20%27https%3A//earthengine.googleapis.com/v1alpha/projects/earthengine-legacy/maps/d5042ca31e3bfc3efce5491cfd32cb92-5182384c9b64b35568c97e511e1ee39b/tiles/%7Bz%7D/%7Bx%7D/%7By%7D%27%2C%0A%20%20%20%20%20%20%20%20%7B%0A%20%20%20%20%20%20%20%20%22attribution%22%3A%20%22Map%20Data%20%26copy%3B%20%3Ca%20href%3D%5C%22https%3A//earthengine.google.com/%5C%22%3EGoogle%20Earth%20Engine%3C/a%3E%22%2C%0A%20%20%20%20%20%20%20%20%22detectRetina%22%3A%20false%2C%0A%20%20%20%20%20%20%20%20%22maxNativeZoom%22%3A%2018%2C%0A%20%20%20%20%20%20%20%20%22maxZoom%22%3A%2018%2C%0A%20%20%20%20%20%20%20%20%22minZoom%22%3A%200%2C%0A%20%20%20%20%20%20%20%20%22noWrap%22%3A%20false%2C%0A%20%20%20%20%20%20%20%20%22opacity%22%3A%200.5%2C%0A%20%20%20%20%20%20%20%20%22subdomains%22%3A%20%22abc%22%2C%0A%20%20%20%20%20%20%20%20%22tms%22%3A%20false%0A%7D%29.addTo%28map_7156e300280845ef9f212e8e61e0e706%29%3B%0A%20%20%20%20var%20tile_layer_e593c0ce179b4fc19ef95259880713eb%20%3D%20L.tileLayer%28%0A%20%20%20%20%20%20%20%20%27https%3A//earthengine.googleapis.com/v1alpha/projects/earthengine-legacy/maps/4b69419b4c16166dc970a0b25bf82686-1972605eb74dc91b7498a5998eb1e23f/tiles/%7Bz%7D/%7Bx%7D/%7By%7D%27%2C%0A%20%20%20%20%20%20%20%20%7B%0A%20%20%20%20%20%20%20%20%22attribution%22%3A%20%22Map%20Data%20%26copy%3B%20%3Ca%20href%3D%5C%22https%3A//earthengine.google.com/%5C%22%3EGoogle%20Earth%20Engine%3C/a%3E%22%2C%0A%20%20%20%20%20%20%20%20%22detectRetina%22%3A%20false%2C%0A%20%20%20%20%20%20%20%20%22maxNativeZoom%22%3A%2018%2C%0A%20%20%20%20%20%20%20%20%22maxZoom%22%3A%2018%2C%0A%20%20%20%20%20%20%20%20%22minZoom%22%3A%200%2C%0A%20%20%20%20%20%20%20%20%22noWrap%22%3A%20false%2C%0A%20%20%20%20%20%20%20%20%22opacity%22%3A%200.5%2C%0A%20%20%20%20%20%20%20%20%22subdomains%22%3A%20%22abc%22%2C%0A%20%20%20%20%20%20%20%20%22tms%22%3A%20false%0A%7D%29.addTo%28map_7156e300280845ef9f212e8e61e0e706%29%3B%0A%20%20%20%20var%20tile_layer_d8d2634783264dce8a2c59bc3dbafe02%20%3D%20L.tileLayer%28%0A%20%20%20%20%20%20%20%20%27https%3A//earthengine.googleapis.com/v1alpha/projects/earthengine-legacy/maps/c551731addaac4d38da8d78f596e4a93-beb685251afb3b6455356d786baf43db/tiles/%7Bz%7D/%7Bx%7D/%7By%7D%27%2C%0A%20%20%20%20%20%20%20%20%7B%0A%20%20%20%20%20%20%20%20%22attribution%22%3A%20%22Map%20Data%20%26copy%3B%20%3Ca%20href%3D%5C%22https%3A//earthengine.google.com/%5C%22%3EGoogle%20Earth%20Engine%3C/a%3E%22%2C%0A%20%20%20%20%20%20%20%20%22detectRetina%22%3A%20false%2C%0A%20%20%20%20%20%20%20%20%22maxNativeZoom%22%3A%2018%2C%0A%20%20%20%20%20%20%20%20%22maxZoom%22%3A%2018%2C%0A%20%20%20%20%20%20%20%20%22minZoom%22%3A%200%2C%0A%20%20%20%20%20%20%20%20%22noWrap%22%3A%20false%2C%0A%20%20%20%20%20%20%20%20%22opacity%22%3A%200.5%2C%0A%20%20%20%20%20%20%20%20%22subdomains%22%3A%20%22abc%22%2C%0A%20%20%20%20%20%20%20%20%22tms%22%3A%20false%0A%7D%29.addTo%28map_7156e300280845ef9f212e8e61e0e706%29%3B%0A%20%20%20%20var%20tile_layer_9022e51523084b4f84e5b43367ad70db%20%3D%20L.tileLayer%28%0A%20%20%20%20%20%20%20%20%27https%3A//earthengine.googleapis.com/v1alpha/projects/earthengine-legacy/maps/6bc0dd30d4e524829765f81ec8f7e76e-6f1fb4f61263a60f67cc9f90dae7b677/tiles/%7Bz%7D/%7Bx%7D/%7By%7D%27%2C%0A%20%20%20%20%20%20%20%20%7B%0A%20%20%20%20%20%20%20%20%22attribution%22%3A%20%22Map%20Data%20%26copy%3B%20%3Ca%20href%3D%5C%22https%3A//earthengine.google.com/%5C%22%3EGoogle%20Earth%20Engine%3C/a%3E%22%2C%0A%20%20%20%20%20%20%20%20%22detectRetina%22%3A%20false%2C%0A%20%20%20%20%20%20%20%20%22maxNativeZoom%22%3A%2018%2C%0A%20%20%20%20%20%20%20%20%22maxZoom%22%3A%2018%2C%0A%20%20%20%20%20%20%20%20%22minZoom%22%3A%200%2C%0A%20%20%20%20%20%20%20%20%22noWrap%22%3A%20false%2C%0A%20%20%20%20%20%20%20%20%22opacity%22%3A%200.5%2C%0A%20%20%20%20%20%20%20%20%22subdomains%22%3A%20%22abc%22%2C%0A%20%20%20%20%20%20%20%20%22tms%22%3A%20false%0A%7D%29.addTo%28map_7156e300280845ef9f212e8e61e0e706%29%3B%0A%20%20%20%20var%20tile_layer_46f25494dea34b15ab5cee3433c5965e%20%3D%20L.tileLayer%28%0A%20%20%20%20%20%20%20%20%27https%3A//earthengine.googleapis.com/v1alpha/projects/earthengine-legacy/maps/c42443cfd53a5e9f5fc25d87ffca98c6-6d69b00a14081b42c20547a6bbb04e1d/tiles/%7Bz%7D/%7Bx%7D/%7By%7D%27%2C%0A%20%20%20%20%20%20%20%20%7B%0A%20%20%20%20%20%20%20%20%22attribution%22%3A%20%22Map%20Data%20%26copy%3B%20%3Ca%20href%3D%5C%22https%3A//earthengine.google.com/%5C%22%3EGoogle%20Earth%20Engine%3C/a%3E%22%2C%0A%20%20%20%20%20%20%20%20%22detectRetina%22%3A%20false%2C%0A%20%20%20%20%20%20%20%20%22maxNativeZoom%22%3A%2018%2C%0A%20%20%20%20%20%20%20%20%22maxZoom%22%3A%2018%2C%0A%20%20%20%20%20%20%20%20%22minZoom%22%3A%200%2C%0A%20%20%20%20%20%20%20%20%22noWrap%22%3A%20false%2C%0A%20%20%20%20%20%20%20%20%22opacity%22%3A%200.5%2C%0A%20%20%20%20%20%20%20%20%22subdomains%22%3A%20%22abc%22%2C%0A%20%20%20%20%20%20%20%20%22tms%22%3A%20false%0A%7D%29.addTo%28map_7156e300280845ef9f212e8e61e0e706%29%3B%0A%20%20%20%20%0A%20%20%20%20%20%20%20%20%20%20%20%20var%20layer_control_d64ecf8a99254c52be78aec73bd55f3d%20%3D%20%7B%0A%20%20%20%20%20%20%20%20%20%20%20%20%20%20%20%20base_layers%20%3A%20%7B%20%22openstreetmap%22%20%3A%20tile_layer_2316e86b1e064fedb133491ac69e7bd2%2C%20%7D%2C%0A%20%20%20%20%20%20%20%20%20%20%20%20%20%20%20%20overlays%20%3A%20%7B%20%22satellite%20photography%20median%20composite%20%22%20%3A%20tile_layer_1c12625600c34bd2bda05c482cd5ba9c%2C%22Carbon%20Monoxide%22%20%3A%20tile_layer_60d5855b8f484b9cae6e9a1d12a243c7%2C%22Formaldehyde%22%20%3A%20tile_layer_6e750ebe75f143e9ac6ba8626466b731%2C%22Nitrogen%20Dioxide%22%20%3A%20tile_layer_e593c0ce179b4fc19ef95259880713eb%2C%22Ozone%22%20%3A%20tile_layer_d8d2634783264dce8a2c59bc3dbafe02%2C%22Sulphur%20Dioxide%22%20%3A%20tile_layer_9022e51523084b4f84e5b43367ad70db%2C%22Methane%22%20%3A%20tile_layer_46f25494dea34b15ab5cee3433c5965e%2C%20%7D%0A%20%20%20%20%20%20%20%20%20%20%20%20%20%20%20%20%7D%3B%0A%20%20%20%20%20%20%20%20%20%20%20%20L.control.layers%28%0A%20%20%20%20%20%20%20%20%20%20%20%20%20%20%20%20layer_control_d64ecf8a99254c52be78aec73bd55f3d.base_layers%2C%0A%20%20%20%20%20%20%20%20%20%20%20%20%20%20%20%20layer_control_d64ecf8a99254c52be78aec73bd55f3d.overlays%2C%0A%20%20%20%20%20%20%20%20%20%20%20%20%20%20%20%20%7Bposition%3A%20%27topright%27%2C%0A%20%20%20%20%20%20%20%20%20%20%20%20%20%20%20%20%20collapsed%3A%20true%2C%0A%20%20%20%20%20%20%20%20%20%20%20%20%20%20%20%20%20autoZIndex%3A%20true%0A%20%20%20%20%20%20%20%20%20%20%20%20%20%20%20%20%7D%29.addTo%28map_7156e300280845ef9f212e8e61e0e706%29%3B%0A%20%20%20%20%20%20%20%20%20%20%20%20%0A%20%20%20%20%20%20%20%20%0A%3C/script%3E onload=\"this.contentDocument.open();this.contentDocument.write(    decodeURIComponent(this.getAttribute('data-html')));this.contentDocument.close();\" allowfullscreen webkitallowfullscreen mozallowfullscreen></iframe></div></div>"
            ],
            "text/plain": [
              "<folium.folium.Map at 0x7f1906f85d30>"
            ]
          },
          "metadata": {
            "tags": []
          },
          "execution_count": 10
        }
      ]
    },
    {
      "cell_type": "markdown",
      "metadata": {
        "id": "RHIkD4AIJRD9"
      },
      "source": [
        "### Export Data\n",
        "\n",
        "Exports as unmarked .csv tables and GeoTIFF images. \n",
        "\n",
        "##### TODO\n",
        "- Figure out how to get and access location data from fastai. Would writing it out into the filename work? \n",
        "  - If I need to experiment with this KML format that's fine. \n",
        "- Update filepath definitions once training schema is defined \n",
        "- Ensure the hi-res image segmentation is behaving correctly - no overlaps! "
      ]
    },
    {
      "cell_type": "code",
      "metadata": {
        "id": "56P_LOcgkimq"
      },
      "source": [
        "# All export methods export to the google drive defined above \n",
        "# TODO A lot of these methods reuse scaling. Investigate whether this is necessary and remove where possible. \n",
        "# TODO rewrite export filename prefixes so they aren't garbage\n",
        "def exportTable(table, scale):\n",
        "  ee.batch.Export.table.toDrive(\n",
        "    collection = table,\n",
        "    description = str(scale) + 'm_res_csv_export',\n",
        "    folder = str(scale) + \"m\",\n",
        "    fileFormat = \"CSV\"\n",
        "  ).start()\n",
        "\n",
        "# Export one table of the given image, at the scale and dimensions specified.\n",
        "def exportTableFromImage(image, polygon, scale):\n",
        "  exportTable(sample(image, polygon, scale), scale)\n",
        "\n",
        "# Export one GeoTIFF image of the given image, at the scale and dimension specified. \n",
        "# TODO reevaluate image export options - description needs coordinates\n",
        "# maxPixels is just so it lets me export london at 10m/px. Dividing the dataset into 1km squares is the next step. \n",
        "def exportGeotiff(image, polygon, scale):\n",
        "  ee.batch.Export.image.toDrive(\n",
        "    crs = 'EPSG:3857',\n",
        "    description = str(scale) + 'm_scale_img',\n",
        "    fileFormat = 'GeoTIFF',\n",
        "    folder = str(scale) + \"m\",\n",
        "    # formatOptions = image_export_options,\n",
        "    image = image,\n",
        "    maxPixels = 10e9,\n",
        "    region = polygon,\n",
        "    scale = scale\n",
        "  ).start()\n",
        "  \n",
        "# Does this really need to exist?\n",
        "def sample(img, region, scale):\n",
        "  return img.sampleRegions(\n",
        "      collection = region,\n",
        "      geometries = True,\n",
        "      scale = scale\n",
        "  )\n",
        "\n",
        "#Export the given image as a list of geotiffs in the given polygon, broken into 100px^2 1km images. \n",
        "#Currently image exports are being stretched in very awkward ways despite fileDimension issues. Examine why this is. \n",
        "def exportSqKmGeotiffList(image, polygon, scale):\n",
        "  #Get image corner coordinates so the image can be iterated through. \n",
        "\n",
        "  ee.batch.Export.image.toDrive(\n",
        "      crs = 'EPSG:3857',\n",
        "      description = str(scale) + \"m_scale_img_list\",\n",
        "      fileFormat = \"GeoTIFF\",\n",
        "      folder = str(scale) + \"m/sqkm_png_exports\",\n",
        "      image = image,\n",
        "      maxPixels = 10e9,\n",
        "      region = polygon,\n",
        "      scale = scale,\n",
        "      fileDimensions = [25600, 25600]\n",
        "  ).start()"
      ],
      "execution_count": 14,
      "outputs": []
    },
    {
      "cell_type": "code",
      "metadata": {
        "id": "YGh4FSYhlJyD"
      },
      "source": [
        "# take a sample of the image at the points given\n",
        "# TOOD Save a small partition in google drive, then work on getting the next via a thread. \n",
        "#      This should also start the training process, then delete the small partition in the drive. \n",
        "sizes = {1000}#, 500, 100, 50, 10}\n",
        "\n",
        "for scale in sizes:\n",
        "  print(\"this should only be run once, when setting up\")\n",
        "  \"\"\"\n",
        "  exportTableFromImage(CO_img, london, scale)\n",
        "  exportTableFromImage(HCHO_img, london, scale)\n",
        "  exportTableFromImage(NO2_img, london, scale)\n",
        "  exportTableFromImage(O3_img, london, scale)\n",
        "  exportTableFromImage(SO2_img, london, scale)\n",
        "  exportTableFromImage(CH4_img, london, scale)\n",
        "  \"\"\""
      ],
      "execution_count": null,
      "outputs": []
    },
    {
      "cell_type": "code",
      "metadata": {
        "id": "Imcye1aSmzok"
      },
      "source": [
        "pprint(ee.batch.Task.list())"
      ],
      "execution_count": null,
      "outputs": []
    },
    {
      "cell_type": "code",
      "metadata": {
        "id": "cbN6AfFGpTjg"
      },
      "source": [
        "sizes = {10}#, 100, 50, 10} 1000, 500, \n",
        "\n",
        "for scale in sizes:\n",
        "  # this should only be run once, when setting up\n",
        "  exportGeotiff(s2_img, greenwich, scale)"
      ],
      "execution_count": 17,
      "outputs": []
    },
    {
      "cell_type": "code",
      "metadata": {
        "id": "uyVdAmac7tYR"
      },
      "source": [
        "#exportGeotiff(s2_img, uxbridge, 10)\n",
        "exportSqKmGeotiffList(s2_img, uxbridge, 10)"
      ],
      "execution_count": null,
      "outputs": []
    },
    {
      "cell_type": "markdown",
      "metadata": {
        "id": "f9l197PkYqGG"
      },
      "source": [
        "##### Coordinate to KM calculator "
      ]
    },
    {
      "cell_type": "code",
      "metadata": {
        "id": "5YLQA5dTYpF5"
      },
      "source": [
        ""
      ],
      "execution_count": null,
      "outputs": []
    },
    {
      "cell_type": "markdown",
      "metadata": {
        "id": "TWeGM3jenhqM"
      },
      "source": [
        "# Data processing\n",
        "\n",
        "### TODO\n",
        "- ~~Convert GeoTIFF to PNG~~\n",
        "- Reorganise datasets for fast.ai retraining. 2-400 images was sufficient for object recog, maybe double that for top-down sat photos?\n"
      ]
    },
    {
      "cell_type": "code",
      "metadata": {
        "id": "ojueZsqRrH5P"
      },
      "source": [
        "# converts geotiff to png, using selected bands. There seems to be a limited range of functional bands, including only 3 \n",
        "# being available for a non-transparent image. The bands also display in grayscale when displayed individually. \n",
        "\n",
        "def geotiffToPng(tif_path):\n",
        "  #TODO remap to ARGB to get more defined brightness data\n",
        "  options_list = [\n",
        "    '-ot Byte',\n",
        "    '-of PNG',\n",
        "    '-b 4',\n",
        "    '-b 3',\n",
        "    '-b 2',\n",
        "    '-scale'\n",
        "  ]\n",
        "  options_string = \" \".join(options_list)\n",
        "\n",
        "  yourpath = os.path.join(drive_path, tif_path)\n",
        "  print(yourpath)\n",
        "  \n",
        "  for root, dirs, files in os.walk(yourpath, topdown=False):\n",
        "    for name in files:\n",
        "      fullpath = os.path.join(root, name)\n",
        "      print(fullpath)\n",
        "      splitpath = os.path.splitext(fullpath)\n",
        "      if splitpath[1].lower() == \".tif\":\n",
        "        path = splitpath[0]\n",
        "        print(path)\n",
        "        if os.path.isfile(path + \".png\"):\n",
        "          print(\"A png file already exists for %s\" % name)\n",
        "          continue\n",
        "        \n",
        "        gdal.Translate(\n",
        "          path + '.png',\n",
        "          path + '.tif',\n",
        "          options=options_string\n",
        "        )"
      ],
      "execution_count": 13,
      "outputs": []
    },
    {
      "cell_type": "code",
      "metadata": {
        "colab": {
          "base_uri": "https://localhost:8080/"
        },
        "id": "Eh5sPy3Gn3gN",
        "outputId": "16f1a735-96ef-4221-a297-b1adc57bf254"
      },
      "source": [
        "#geotiffToPng(\"10m/sqkm_png_exports\")\n",
        "geotiffToPng(\"10m test\")"
      ],
      "execution_count": 15,
      "outputs": [
        {
          "output_type": "stream",
          "text": [
            "/content/drive/MyDrive/10m test\n",
            "/content/drive/MyDrive/10m test/10m_scale_img_list - Testing equator1.tif\n",
            "/content/drive/MyDrive/10m test/10m_scale_img_list - Testing equator1\n",
            "A png file already exists for 10m_scale_img_list - Testing equator1.tif\n",
            "/content/drive/MyDrive/10m test/10m_scale_img_list - Testing equator2.tif\n",
            "/content/drive/MyDrive/10m test/10m_scale_img_list - Testing equator2\n",
            "A png file already exists for 10m_scale_img_list - Testing equator2.tif\n",
            "/content/drive/MyDrive/10m test/10m_scale_img_list - Testing o2.tif\n",
            "/content/drive/MyDrive/10m test/10m_scale_img_list - Testing o2\n",
            "A png file already exists for 10m_scale_img_list - Testing o2.tif\n",
            "/content/drive/MyDrive/10m test/10m_scale_img_list - Testing equator3.tif\n",
            "/content/drive/MyDrive/10m test/10m_scale_img_list - Testing equator3\n",
            "A png file already exists for 10m_scale_img_list - Testing equator3.tif\n",
            "/content/drive/MyDrive/10m test/10m_scale_img_list - Testing equator4.tif\n",
            "/content/drive/MyDrive/10m test/10m_scale_img_list - Testing equator4\n",
            "A png file already exists for 10m_scale_img_list - Testing equator4.tif\n",
            "/content/drive/MyDrive/10m test/10m_scale_img_list - Testing tiny ver1.tif\n",
            "/content/drive/MyDrive/10m test/10m_scale_img_list - Testing tiny ver1\n",
            "A png file already exists for 10m_scale_img_list - Testing tiny ver1.tif\n",
            "/content/drive/MyDrive/10m test/10m_scale_img_list - Testing tiny ver2.tif\n",
            "/content/drive/MyDrive/10m test/10m_scale_img_list - Testing tiny ver2\n",
            "A png file already exists for 10m_scale_img_list - Testing tiny ver2.tif\n",
            "/content/drive/MyDrive/10m test/10m_scale_img_list - Testing bordeaux.tif\n",
            "/content/drive/MyDrive/10m test/10m_scale_img_list - Testing bordeaux\n",
            "A png file already exists for 10m_scale_img_list - Testing bordeaux.tif\n",
            "/content/drive/MyDrive/10m test/10m_scale_img_list - Testing that dome again.tif\n",
            "/content/drive/MyDrive/10m test/10m_scale_img_list - Testing that dome again\n",
            "A png file already exists for 10m_scale_img_list - Testing that dome again.tif\n",
            "/content/drive/MyDrive/10m test/10m_scale_img_list - Testing tiny ver2.png\n",
            "/content/drive/MyDrive/10m test/10m_scale_img_list - Testing tiny ver2.png.aux.xml\n",
            "/content/drive/MyDrive/10m test/10m_scale_img_list - Testing tiny ver1.png\n",
            "/content/drive/MyDrive/10m test/10m_scale_img_list - Testing tiny ver1.png.aux.xml\n",
            "/content/drive/MyDrive/10m test/10m_scale_img_list - Testing equator4.png\n",
            "/content/drive/MyDrive/10m test/10m_scale_img_list - Testing equator4.png.aux.xml\n",
            "/content/drive/MyDrive/10m test/10m_scale_img_list - Testing equator3.png\n",
            "/content/drive/MyDrive/10m test/10m_scale_img_list - Testing equator3.png.aux.xml\n",
            "/content/drive/MyDrive/10m test/10m_scale_img_list - Testing equator2.png\n",
            "/content/drive/MyDrive/10m test/10m_scale_img_list - Testing equator2.png.aux.xml\n",
            "/content/drive/MyDrive/10m test/10m_scale_img_list - Testing equator1.png\n",
            "/content/drive/MyDrive/10m test/10m_scale_img_list - Testing equator1.png.aux.xml\n",
            "/content/drive/MyDrive/10m test/10m_scale_img_list - Testing o2.png\n",
            "/content/drive/MyDrive/10m test/10m_scale_img_list - Testing o2.png.aux.xml\n",
            "/content/drive/MyDrive/10m test/10m_scale_img_list - Testing bordeaux.png\n",
            "/content/drive/MyDrive/10m test/10m_scale_img_list - Testing bordeaux.png.aux.xml\n",
            "/content/drive/MyDrive/10m test/10m_scale_img_list - Testing that dome again.png\n",
            "/content/drive/MyDrive/10m test/10m_scale_img_list - Testing that dome again.png.aux.xml\n",
            "/content/drive/MyDrive/10m test/10m_scale_img_list - Testing eiffel.tif\n",
            "/content/drive/MyDrive/10m test/10m_scale_img_list - Testing eiffel\n",
            "A png file already exists for 10m_scale_img_list - Testing eiffel.tif\n",
            "/content/drive/MyDrive/10m test/10m_scale_img_list - Testing eiffel.png\n",
            "/content/drive/MyDrive/10m test/10m_scale_img_list - Testing eiffel.png.aux.xml\n",
            "/content/drive/MyDrive/10m test/10m_scale_img_list - Testing nairobi-0000000000-0000000000.tif\n",
            "/content/drive/MyDrive/10m test/10m_scale_img_list - Testing nairobi-0000000000-0000000000\n",
            "A png file already exists for 10m_scale_img_list - Testing nairobi-0000000000-0000000000.tif\n",
            "/content/drive/MyDrive/10m test/10m_scale_img_list - Testing nairobi-0000000000-0000006912.tif\n",
            "/content/drive/MyDrive/10m test/10m_scale_img_list - Testing nairobi-0000000000-0000006912\n",
            "A png file already exists for 10m_scale_img_list - Testing nairobi-0000000000-0000006912.tif\n",
            "/content/drive/MyDrive/10m test/10m_scale_img_list - Testing greenwich.tif\n",
            "/content/drive/MyDrive/10m test/10m_scale_img_list - Testing greenwich\n",
            "A png file already exists for 10m_scale_img_list - Testing greenwich.tif\n",
            "/content/drive/MyDrive/10m test/10m_scale_img_list - Testing nairobi-0000000000-0000000000.png\n",
            "/content/drive/MyDrive/10m test/10m_scale_img_list - Testing nairobi-0000000000-0000000000.png.aux.xml\n",
            "/content/drive/MyDrive/10m test/10m_scale_img_list - Testing nairobi-0000000000-0000006912.png\n",
            "/content/drive/MyDrive/10m test/10m_scale_img_list - Testing nairobi-0000000000-0000006912.png.aux.xml\n",
            "/content/drive/MyDrive/10m test/10m_scale_img_list - Testing greenwich.png\n",
            "/content/drive/MyDrive/10m test/10m_scale_img_list - Testing greenwich.png.aux.xml\n",
            "/content/drive/MyDrive/10m test/10m_scale_img_list - Testing nairobi again.tif\n",
            "/content/drive/MyDrive/10m test/10m_scale_img_list - Testing nairobi again\n",
            "A png file already exists for 10m_scale_img_list - Testing nairobi again.tif\n",
            "/content/drive/MyDrive/10m test/10m_scale_img_list - Testing nairobi again.png\n",
            "/content/drive/MyDrive/10m test/10m_scale_img_list - Testing nairobi again.png.aux.xml\n",
            "/content/drive/MyDrive/10m test/10m_scale_img_list - Testing the whole darn earth.tif\n",
            "/content/drive/MyDrive/10m test/10m_scale_img_list - Testing the whole darn earth\n",
            "A png file already exists for 10m_scale_img_list - Testing the whole darn earth.tif\n",
            "/content/drive/MyDrive/10m test/10m_scale_img_list - Testing the whole darn earth.png\n",
            "/content/drive/MyDrive/10m test/10m_scale_img_list - Testing the whole darn earth.png.aux.xml\n",
            "/content/drive/MyDrive/10m test/10m_scale_img_list - Testing greenwich again.tif\n",
            "/content/drive/MyDrive/10m test/10m_scale_img_list - Testing greenwich again\n",
            "A png file already exists for 10m_scale_img_list - Testing greenwich again.tif\n",
            "/content/drive/MyDrive/10m test/10m_scale_img_list - Testing greenwich again.png\n",
            "/content/drive/MyDrive/10m test/10m_scale_img_list - Testing greenwich again.png.aux.xml\n",
            "/content/drive/MyDrive/10m test/10m_scale_img_list - Testing fixed greenwich coordinates.tif\n",
            "/content/drive/MyDrive/10m test/10m_scale_img_list - Testing fixed greenwich coordinates\n",
            "A png file already exists for 10m_scale_img_list - Testing fixed greenwich coordinates.tif\n",
            "/content/drive/MyDrive/10m test/10m_scale_img_list - Testing earth again.tif\n",
            "/content/drive/MyDrive/10m test/10m_scale_img_list - Testing earth again\n",
            "A png file already exists for 10m_scale_img_list - Testing earth again.tif\n",
            "/content/drive/MyDrive/10m test/10m_scale_img_list - Testing fixed greenwich coordinates.png\n",
            "/content/drive/MyDrive/10m test/10m_scale_img_list - Testing fixed greenwich coordinates.png.aux.xml\n",
            "/content/drive/MyDrive/10m test/10m_scale_img_list - Testing earth again.png\n",
            "/content/drive/MyDrive/10m test/10m_scale_img_list - Testing earth again.png.aux.xml\n",
            "/content/drive/MyDrive/10m test/10m_scale_img_list - Testing fixed w_hemisphere coordinates.tif\n",
            "/content/drive/MyDrive/10m test/10m_scale_img_list - Testing fixed w_hemisphere coordinates\n",
            "A png file already exists for 10m_scale_img_list - Testing fixed w_hemisphere coordinates.tif\n",
            "/content/drive/MyDrive/10m test/10m_scale_img_list - Testing fixed w_hemisphere coordinates.png\n",
            "/content/drive/MyDrive/10m test/10m_scale_img_list - Testing fixed w_hemisphere coordinates.png.aux.xml\n",
            "/content/drive/MyDrive/10m test/10m_scale_img_list - Testing decent crs on greenwich.tif\n",
            "/content/drive/MyDrive/10m test/10m_scale_img_list - Testing decent crs on greenwich\n",
            "A png file already exists for 10m_scale_img_list - Testing decent crs on greenwich.tif\n",
            "/content/drive/MyDrive/10m test/10m_scale_img_list - Testing decent crs on greenwich.png\n",
            "/content/drive/MyDrive/10m test/10m_scale_img_list - Testing decent crs on greenwich.png.aux.xml\n",
            "/content/drive/MyDrive/10m test/10m_scale_img_list - Testing fixed e_hemisphere coordinates.tif\n",
            "/content/drive/MyDrive/10m test/10m_scale_img_list - Testing fixed e_hemisphere coordinates\n"
          ],
          "name": "stdout"
        }
      ]
    }
  ]
}