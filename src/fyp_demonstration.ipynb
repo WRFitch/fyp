{
  "nbformat": 4,
  "nbformat_minor": 0,
  "metadata": {
    "colab": {
      "name": "fyp_demonstration.ipynb",
      "provenance": [],
      "collapsed_sections": [],
      "include_colab_link": true
    },
    "kernelspec": {
      "name": "python3",
      "display_name": "Python 3",
      "language": "python"
    },
    "accelerator": "GPU"
  },
  "cells": [
    {
      "cell_type": "markdown",
      "metadata": {
        "id": "view-in-github",
        "colab_type": "text"
      },
      "source": [
        "<a href=\"https://colab.research.google.com/github/WRFitch/fyp/blob/main/src/fyp_demonstration.ipynb\" target=\"_parent\"><img src=\"https://colab.research.google.com/assets/colab-badge.svg\" alt=\"Open In Colab\"/></a>"
      ]
    },
    {
      "cell_type": "markdown",
      "metadata": {
        "id": "Ahsw5_OPQumn"
      },
      "source": [
        "# FYP Demonstration\n",
        "### Will Fitch 1633241 \n",
        "### Brunel University Department of Computer Science"
      ]
    },
    {
      "cell_type": "markdown",
      "metadata": {
        "id": "bmJhl_OmQuWk"
      },
      "source": [
        "This notebook is a demonstration of my final year project, in which I have used neural networks and transfer learning to infer highly detailed greenhouse gas information from satellite data. "
      ]
    },
    {
      "cell_type": "markdown",
      "metadata": {
        "id": "LZK3biQMnr0h"
      },
      "source": [
        "## Setup "
      ]
    },
    {
      "cell_type": "markdown",
      "metadata": {
        "id": "3uhTOvcXSsK4"
      },
      "source": [
        "### Imports"
      ]
    },
    {
      "cell_type": "code",
      "metadata": {
        "id": "vPC4ECUh_uX6"
      },
      "source": [
        "import ee\n",
        "import folium\n",
        "import os\n",
        "\n",
        "from fastai.vision.all import *\n",
        "from google.colab import drive\n",
        "from IPython.display import Image\n",
        "from osgeo import gdal\n",
        "from PIL import Image"
      ],
      "execution_count": null,
      "outputs": []
    },
    {
      "cell_type": "markdown",
      "metadata": {
        "id": "5QpAQGFE5kUt"
      },
      "source": [
        "#### Parts that require human input "
      ]
    },
    {
      "cell_type": "code",
      "metadata": {
        "id": "vgKVSpGS2uvk"
      },
      "source": [
        "# Sometimes fastai doesn't want to play with colab, so we remove it and replace \n",
        "# it with a compliant version just to be sure. \n",
        "!pip uninstall -y fastai\n",
        "!pip install -U --no-cache-dir fastai"
      ],
      "execution_count": null,
      "outputs": []
    },
    {
      "cell_type": "code",
      "metadata": {
        "id": "bQ0zR1TcCUoc"
      },
      "source": [
        "ee.Authenticate()\n",
        "ee.Initialize()\n",
        "drive.mount('/content/drive')"
      ],
      "execution_count": null,
      "outputs": []
    },
    {
      "cell_type": "code",
      "metadata": {
        "id": "At6uYq_-Rc8W"
      },
      "source": [
        "# Import fyputil library\n",
        "# EE stuff needs initialising first\n",
        "%cd /content\n",
        "!git clone https://github.com/WRFitch/fyp.git\n",
        "%cd fyp/src/fyputil\n",
        "import constants as c\n",
        "import ee_constants as eec\n",
        "import ee_utils as eeutil\n",
        "import fyp_utils as fyputil\n",
        "%cd /content"
      ],
      "execution_count": null,
      "outputs": []
    },
    {
      "cell_type": "markdown",
      "metadata": {
        "id": "ocIzW9a95oJd"
      },
      "source": [
        "#### Parts that don't require human input "
      ]
    },
    {
      "cell_type": "code",
      "metadata": {
        "id": "iBZQUFuy6AuH"
      },
      "source": [
        "drive_path = \"/content/drive/MyDrive/\"\n",
        "demo_dir = \"demo_export\"\n",
        "demo_path = f\"{drive_path}{demo_dir}\"\n",
        "model_dir = f\"{drive_path}/models\""
      ],
      "execution_count": null,
      "outputs": []
    },
    {
      "cell_type": "code",
      "metadata": {
        "id": "xpcrPzqvDECm"
      },
      "source": [
        "model_name = \"resnet152_MRGHG_Demo1\"\n",
        "\n",
        "# Add a dummy label script to fool fastai into letting us import the model. \n",
        "# We're not going to train the model further, so this is fine. \n",
        "def getGhgsAsArr(img_path):\n",
        "  return np.array()\n",
        "\n",
        "model = load_learner(f\"{model_dir}/{model_name}.pkl\")"
      ],
      "execution_count": null,
      "outputs": []
    },
    {
      "cell_type": "code",
      "metadata": {
        "id": "0W-TcVdPnr0i",
        "colab": {
          "base_uri": "https://localhost:8080/"
        },
        "outputId": "26cfb252-34c4-41d6-e335-e20e763c0b3d"
      },
      "source": [
        "def geotiffToPng(tif_path, rm_artifacts = False):\n",
        "  # Define rgb bands and image encoding (?)\n",
        "  options_list = [\n",
        "    '-ot Byte',\n",
        "    '-of PNG',\n",
        "    '-b 4',\n",
        "    '-b 3',\n",
        "    '-b 2',\n",
        "    '-scale'\n",
        "  ]\n",
        "  options_string = \" \".join(options_list)\n",
        "  path = os.path.splitext(tif_path)[0]\n",
        "\n",
        "  if os.path.isfile(f\"{path}.png\"):\n",
        "    print(f\"A png file already exists for {tif_path}\")\n",
        "    return\n",
        "      \n",
        "  gdal.Translate(\n",
        "    path + '.png',\n",
        "    path + '.tif',\n",
        "    options = options_string\n",
        "  )\n",
        "  os.remove(f\"{path}.png.aux.xml\")\n",
        "  print(f\"Converted file from GeoTIFF to PNG\")\n",
        "\n",
        "# Parses postcode into coordinates (obviously only works in the UK)\n",
        "def getCoordinatesFromPostcode(postcode):\n",
        "  print(postcode)\n",
        "  return (0,0)\n",
        "\n",
        "def getGhgsFromCoords(coords):\n",
        "  img_path = importImg(coords)\n",
        "  print(img_path)\n",
        "  ghgs = getGhgsFromImg(img_path)\n",
        "  displayGhgs(ghgs)\n",
        "  displayHealthDefects(ghgs)\n",
        "  displayEnvEffects(ghgs)\n",
        "\n",
        "# use image pipeline to download an image based on a point object defined by the \n",
        "# given coordinates\n",
        "def importImg(coords):\n",
        "  # get a square from the given image. \n",
        "  # TODO why is this buffer 500? the ideal pixel size should be 224, so 2240m. \n",
        "  polygon = ee.Geometry.Point(coords).buffer(500).bounds()\n",
        "\n",
        "  name = f\"{coords[0]}_{coords[1]}\"\n",
        "  tifname = f\"{name}.tif\"\n",
        "\n",
        "  # check if image is cached before importing from GEE\n",
        "  cachePath = f\"{demo_path}/{name}.png\"\n",
        "  if os.path.isfile(cachePath): \n",
        "    print(\"image for these coordinates has already been imported!\")\n",
        "    return cachePath\n",
        "\n",
        "  print(f\"importing {tifname}\")\n",
        "  exportGeotiff(s2_img, polygon, 10, demo_dir, name)\n",
        "  tifpath = f\"{demo_path}/{tifname}\"\n",
        "  while not os.path.isfile(tifpath):\n",
        "    time.sleep(5)\n",
        "  print(f\"imported  {tifname}\")\n",
        "  \n",
        "  # Convert GeoTIFF to PNG.\n",
        "  geotiffToPng(tifpath, rm_artifacts = True)\n",
        "  print(f\"{tifpath} converted to PNG\")\n",
        "\n",
        "  importPath = f\"{demo_path}/{name}.png\"\n",
        "  if os.path.isfile(importPath): return importPath\n",
        "\n",
        "  print(\"image import failed\")\n",
        "\n",
        "# Export one GeoTIFF image of the given image, at the scale and dimensions specified. \n",
        "def exportGeotiff(image, polygon, scale, folder=\"no_export_folder\", desc=\"no_desc\"):\n",
        "  ee.batch.Export.image.toDrive(\n",
        "    crs = 'EPSG:3857',\n",
        "    description = desc,\n",
        "    fileFormat = 'GeoTIFF',\n",
        "    folder = folder,\n",
        "    image = image,\n",
        "    maxPixels = 10e9,\n",
        "    region = polygon,\n",
        "    scale = scale\n",
        "  ).start()\n",
        "\n",
        "def getGhgsFromImg(img_path):\n",
        "  print(\"getting GHG concentrations from given image\")\n",
        "  display(Image.open(img_path))\n",
        "  predictions = model.predict(img_path)[0]\n",
        "  print(predictions)\n",
        "  return predictions \n",
        "\n",
        "def displayGhgs(ghgs):\n",
        "  print(ghgs)\n",
        "  # Add ghgs to table\n",
        "  # compare against average\n",
        "  # display ghgs as a series of plots. \n",
        "  # for each ghg concentration, display health defects and mitigation strategies \n",
        "  # on table\n",
        "  # print table\n",
        "\n",
        "def displayHealthDefects(ghgs):\n",
        "  print(ghgs)\n",
        "  # for each ghg, compare against concentration. Depending on how high they are,\n",
        "  # display the potential health effects and their likelihoods. \n",
        "  # return dict of ghg to string tuples of horrible effects and their likelihoods. \n",
        "\n",
        "def displayEnvEffects(ghgs):\n",
        "  print(ghgs)\n",
        "  # for each ghg, compare against concentration. Depending on how high they are, \n",
        "  # display the potential environmental effects and their likelihoods. \n",
        "  # return dict of ghg to string tuples of horrible effects and their likelihoods. \n",
        "\n",
        "# Run all the above code to ensure it works fine and is initialised ok. A lot of \n",
        "# python efficiency requires precaching this stuff into memory, so on the day \n",
        "# run this beforehand\n",
        "def demoTest():\n",
        "  getCoordinatesFromPostcode(\"UB8 3PH\")  \n",
        "\n",
        "demoTest()"
      ],
      "execution_count": null,
      "outputs": [
        {
          "output_type": "stream",
          "text": [
            "UB8 3PH\n"
          ],
          "name": "stdout"
        }
      ]
    },
    {
      "cell_type": "markdown",
      "metadata": {
        "id": "PtlMLhOCnr0m"
      },
      "source": [
        "## Demonstration"
      ]
    },
    {
      "cell_type": "markdown",
      "metadata": {
        "id": "DnOo9a5mFgB2"
      },
      "source": [
        "### Map Visualisation "
      ]
    },
    {
      "cell_type": "markdown",
      "metadata": {
        "id": "u9MACRsXCvsh"
      },
      "source": [
        "#### Setup"
      ]
    },
    {
      "cell_type": "code",
      "metadata": {
        "id": "0UN6ypZY4Wj5"
      },
      "source": [
        "great_britain = ee.Geometry.Polygon(\n",
        "        [[[-1.836112801004015, 59.808076330562756],\n",
        "          [-8.779472176004015, 58.82140293049428],\n",
        "          [-7.988456551004015, 55.71069203454839],\n",
        "          [-11.196464363504015, 54.42753859549109],\n",
        "          [-11.328300301004015, 50.967746003015044],\n",
        "          [-9.526542488504015, 50.77361752815123],\n",
        "          [-6.274589363504015, 51.81776248652293],\n",
        "          [-5.395683113504015, 51.21615275310099],\n",
        "          [-6.582206551004015, 49.56332371186494],\n",
        "          [-3.110526863504015, 49.904165426606255],\n",
        "          [1.240059073995985, 50.80139967619036],\n",
        "          [2.426582511495985, 52.33095407387208],\n",
        "          [1.767402823995985, 53.4183511305661],\n",
        "          [0.5369340739959849, 53.44453305344514],\n",
        "          [-1.616386238504015, 56.32474216074427],\n",
        "          [-0.7814253010040151, 57.805828290000164]]])\n",
        "\n",
        "CO_band = 'CO_column_number_density'\n",
        "HCHO_band = 'tropospheric_HCHO_column_number_density'\n",
        "NO2_band = 'tropospheric_NO2_column_number_density'\n",
        "O3_band = 'O3_column_number_density'\n",
        "SO2_band = 'SO2_column_number_density'\n",
        "CH4_band = 'CH4_column_volume_mixing_ratio_dry_air'\n",
        "ghg_bands = [CO_band, HCHO_band, NO2_band, O3_band, SO2_band, CH4_band]\n",
        "\n",
        "s2 = ee.ImageCollection(\"COPERNICUS/S2_SR\")\n",
        "s5_CO = ee.ImageCollection(\"COPERNICUS/S5P/OFFL/L3_CO\")\n",
        "s5_HCHO = ee.ImageCollection(\"COPERNICUS/S5P/OFFL/L3_HCHO\")\n",
        "s5_NO2 = ee.ImageCollection(\"COPERNICUS/S5P/OFFL/L3_NO2\")\n",
        "s5_O3 = ee.ImageCollection(\"COPERNICUS/S5P/OFFL/L3_O3\")\n",
        "s5_SO2 = ee.ImageCollection(\"COPERNICUS/S5P/OFFL/L3_SO2\")\n",
        "s5_CH4 = ee.ImageCollection(\"COPERNICUS/S5P/OFFL/L3_CH4\")\n",
        "\n",
        "start_date = '2020-01-01'\n",
        "end_date = '2020-12-31'\n",
        "vis_palette = ['black', 'blue', 'purple', 'cyan', 'green', 'yellow', 'red']"
      ],
      "execution_count": null,
      "outputs": []
    },
    {
      "cell_type": "code",
      "metadata": {
        "id": "8Oww6nSx35pU"
      },
      "source": [
        "# pre-filter to remove clouds. We can add them back in from sentinel 5 if necessary\n",
        "def maskS2clouds(image) :\n",
        "  qa = image.select('QA60');\n",
        "\n",
        "  # Bits 10 and 11 are clouds and cirrus, respectively.\n",
        "  cloud_bitmask = 1 << 10\n",
        "  cirrus_bitmask = 1 << 11\n",
        "\n",
        "  # Both flags should be set to zero, indicating clear conditions.\n",
        "  mask = qa.bitwiseAnd(cloud_bitmask).eq(0).And( \\\n",
        "         qa.bitwiseAnd(cirrus_bitmask).eq(0))\n",
        "\n",
        "  return image.updateMask(mask).divide(10000)\n",
        "\n",
        "# High-resolution satellite photograph \n",
        "s2_img = s2.filterDate(start_date, end_date) \\\n",
        "           .filter(ee.Filter.lt('CLOUDY_PIXEL_PERCENTAGE', 20)) \\\n",
        "           .filterBounds(great_britain) \\\n",
        "           .map(maskS2clouds).median()\n",
        "s2_id = s2_img.getMapId({'bands': ['B4', 'B3', 'B2'], \\\n",
        "                        'min': 0, \\\n",
        "                        'max': 0.3})\n",
        "\n",
        "# Carbon monoxide\n",
        "# Minmax scale is a bit off - recalibrate for Britain \n",
        "CO_img = s5_CO.filterDate(start_date, end_date) \\\n",
        "              .filterBounds(great_britain) \\\n",
        "              .select(CO_band).mean()\n",
        "CO_id = CO_img.getMapId( \\\n",
        "    {'palette': vis_palette, \\\n",
        "    'min': 0, \\\n",
        "    'max': 0.05})\n",
        "\n",
        "# Formaldehyde\n",
        "# Minmax scale is a bit off - recalibrate for Britain\n",
        "HCHO_img = s5_HCHO.filterDate(start_date, end_date) \\\n",
        "                  .filterBounds(great_britain) \\\n",
        "                  .select(HCHO_band).mean()\n",
        "HCHO_id = HCHO_img.getMapId( \\\n",
        "    {'palette': vis_palette, \\\n",
        "    'min': 0.0, \\\n",
        "    'max': 0.0003})\n",
        "\n",
        "# Nitrogen Dioxide\n",
        "NO2_img = s5_NO2.filterDate(start_date, end_date) \\\n",
        "                .filterBounds(great_britain) \\\n",
        "                .select(NO2_band).mean()\n",
        "NO2_id = NO2_img.getMapId( \\\n",
        "    {'palette': vis_palette, \\\n",
        "    'min': 0.0, \\\n",
        "    'max': 0.0002})\n",
        "\n",
        "# Ozone\n",
        "O3_img = s5_O3.filterDate(start_date, end_date) \\\n",
        "              .filterBounds(great_britain) \\\n",
        "              .select(O3_band).mean()\n",
        "O3_id = O3_img.getMapId( \\\n",
        "    {'palette': vis_palette, \\\n",
        "    'min': 0.12, \\\n",
        "    'max': 0.15})\n",
        "\n",
        "# Sulphur Dioxide\n",
        "SO2_img = s5_SO2.filterDate(start_date, end_date) \\\n",
        "                .filterBounds(great_britain) \\\n",
        "                .select(SO2_band).mean()\n",
        "SO2_id = SO2_img.getMapId( \\\n",
        "    {'palette': vis_palette, \\\n",
        "    'min': 0.0, \\\n",
        "    'max': 0.0005})\n",
        "\n",
        "# Methane\n",
        "CH4_img = s5_CH4.filterDate(start_date, end_date) \\\n",
        "                .filterBounds(great_britain) \\\n",
        "                .select(CH4_band).mean()\n",
        "CH4_id = CH4_img.getMapId( \\\n",
        "    {'palette': vis_palette, \\\n",
        "    'min': 1750, \\\n",
        "    'max': 1900})\n",
        "\n",
        "ghg_imgs = [CO_img, HCHO_img, NO2_img, O3_img, SO2_img, CH4_img]\n",
        "ghg_ids = [CO_id, HCHO_id, NO2_id, O3_id, SO2_id, CH4_id]"
      ],
      "execution_count": null,
      "outputs": []
    },
    {
      "cell_type": "code",
      "metadata": {
        "id": "NiItKTh2AUC0",
        "colab": {
          "base_uri": "https://localhost:8080/"
        },
        "outputId": "64d61bc9-52bd-41b6-c679-006b7df85d59"
      },
      "source": [
        "# Visualise data on a Folium map \n",
        "# Attribute maps to earthengine.google.com \n",
        "map = folium.Map(\n",
        "    location = [51.5, 0.1], \n",
        "    prefer_canvas = True)\n",
        "\n",
        "layerOpacity = 0.5\n",
        "\n",
        "folium.TileLayer(\n",
        "    tiles = s2_id['tile_fetcher'].url_format,\n",
        "    attr = 'Map Data &copy; <a href=\"https://earthengine.google.com/\">Google Earth Engine</a>',\n",
        "    overlay = True,\n",
        "    name = 'satellite photography median composite '\n",
        "  ).add_to(map)\n",
        "\n",
        "folium.TileLayer(\n",
        "    tiles = CO_id['tile_fetcher'].url_format,\n",
        "    attr = 'Map Data &copy; <a href=\"https://earthengine.google.com/\">Google Earth Engine</a>',\n",
        "    overlay = True,\n",
        "    name = 'Carbon Monoxide',\n",
        "    opacity = layerOpacity\n",
        "  ).add_to(map)\n",
        "\n",
        "folium.TileLayer(\n",
        "    tiles = HCHO_id['tile_fetcher'].url_format,\n",
        "    attr = 'Map Data &copy; <a href=\"https://earthengine.google.com/\">Google Earth Engine</a>',\n",
        "    overlay = True,\n",
        "    name = 'Formaldehyde',\n",
        "    opacity = layerOpacity\n",
        "  ).add_to(map)\n",
        "\n",
        "folium.TileLayer(\n",
        "    tiles = NO2_id['tile_fetcher'].url_format,\n",
        "    attr = 'Map Data &copy; <a href=\"https://earthengine.google.com/\">Google Earth Engine</a>',\n",
        "    overlay = True,\n",
        "    name = 'Nitrogen Dioxide',\n",
        "    opacity = layerOpacity\n",
        "  ).add_to(map)\n",
        "\n",
        "folium.TileLayer(\n",
        "    tiles = O3_id['tile_fetcher'].url_format,\n",
        "    attr = 'Map Data &copy; <a href=\"https://earthengine.google.com/\">Google Earth Engine</a>',\n",
        "    overlay = True,\n",
        "    name = 'Ozone',\n",
        "    opacity = layerOpacity\n",
        "  ).add_to(map)\n",
        "\n",
        "folium.TileLayer(\n",
        "    tiles = SO2_id['tile_fetcher'].url_format,\n",
        "    attr = 'Map Data &copy; <a href=\"https://earthengine.google.com/\">Google Earth Engine</a>',\n",
        "    overlay = True,\n",
        "    name = 'Sulphur Dioxide',\n",
        "    opacity = layerOpacity\n",
        "  ).add_to(map)\n",
        "\n",
        "folium.TileLayer(\n",
        "    tiles = CH4_id['tile_fetcher'].url_format,\n",
        "    attr = 'Map Data &copy; <a href=\"https://earthengine.google.com/\">Google Earth Engine</a>',\n",
        "    overlay = True,\n",
        "    name = 'Methane',\n",
        "    opacity = layerOpacity\n",
        "  ).add_to(map)\n",
        "  \n",
        "map.add_child(folium.LayerControl())"
      ],
      "execution_count": null,
      "outputs": [
        {
          "output_type": "execute_result",
          "data": {
            "text/html": [
              "<div style=\"width:100%;\"><div style=\"position:relative;width:100%;height:0;padding-bottom:60%;\"><span style=\"color:#565656\">Make this Notebook Trusted to load map: File -> Trust Notebook</span><iframe src=\"about:blank\" style=\"position:absolute;width:100%;height:100%;left:0;top:0;border:none !important;\" data-html=%3C%21DOCTYPE%20html%3E%0A%3Chead%3E%20%20%20%20%0A%20%20%20%20%3Cmeta%20http-equiv%3D%22content-type%22%20content%3D%22text/html%3B%20charset%3DUTF-8%22%20/%3E%0A%20%20%20%20%3Cscript%3EL_PREFER_CANVAS%3Dtrue%3B%20L_NO_TOUCH%3Dfalse%3B%20L_DISABLE_3D%3Dfalse%3B%3C/script%3E%0A%20%20%20%20%3Cscript%20src%3D%22https%3A//cdn.jsdelivr.net/npm/leaflet%401.4.0/dist/leaflet.js%22%3E%3C/script%3E%0A%20%20%20%20%3Cscript%20src%3D%22https%3A//code.jquery.com/jquery-1.12.4.min.js%22%3E%3C/script%3E%0A%20%20%20%20%3Cscript%20src%3D%22https%3A//maxcdn.bootstrapcdn.com/bootstrap/3.2.0/js/bootstrap.min.js%22%3E%3C/script%3E%0A%20%20%20%20%3Cscript%20src%3D%22https%3A//cdnjs.cloudflare.com/ajax/libs/Leaflet.awesome-markers/2.0.2/leaflet.awesome-markers.js%22%3E%3C/script%3E%0A%20%20%20%20%3Clink%20rel%3D%22stylesheet%22%20href%3D%22https%3A//cdn.jsdelivr.net/npm/leaflet%401.4.0/dist/leaflet.css%22/%3E%0A%20%20%20%20%3Clink%20rel%3D%22stylesheet%22%20href%3D%22https%3A//maxcdn.bootstrapcdn.com/bootstrap/3.2.0/css/bootstrap.min.css%22/%3E%0A%20%20%20%20%3Clink%20rel%3D%22stylesheet%22%20href%3D%22https%3A//maxcdn.bootstrapcdn.com/bootstrap/3.2.0/css/bootstrap-theme.min.css%22/%3E%0A%20%20%20%20%3Clink%20rel%3D%22stylesheet%22%20href%3D%22https%3A//maxcdn.bootstrapcdn.com/font-awesome/4.6.3/css/font-awesome.min.css%22/%3E%0A%20%20%20%20%3Clink%20rel%3D%22stylesheet%22%20href%3D%22https%3A//cdnjs.cloudflare.com/ajax/libs/Leaflet.awesome-markers/2.0.2/leaflet.awesome-markers.css%22/%3E%0A%20%20%20%20%3Clink%20rel%3D%22stylesheet%22%20href%3D%22https%3A//rawcdn.githack.com/python-visualization/folium/master/folium/templates/leaflet.awesome.rotate.css%22/%3E%0A%20%20%20%20%3Cstyle%3Ehtml%2C%20body%20%7Bwidth%3A%20100%25%3Bheight%3A%20100%25%3Bmargin%3A%200%3Bpadding%3A%200%3B%7D%3C/style%3E%0A%20%20%20%20%3Cstyle%3E%23map%20%7Bposition%3Aabsolute%3Btop%3A0%3Bbottom%3A0%3Bright%3A0%3Bleft%3A0%3B%7D%3C/style%3E%0A%20%20%20%20%0A%20%20%20%20%3Cmeta%20name%3D%22viewport%22%20content%3D%22width%3Ddevice-width%2C%0A%20%20%20%20%20%20%20%20initial-scale%3D1.0%2C%20maximum-scale%3D1.0%2C%20user-scalable%3Dno%22%20/%3E%0A%20%20%20%20%3Cstyle%3E%23map_2e5e2e203df1483cb533779d8738f99f%20%7B%0A%20%20%20%20%20%20%20%20position%3A%20relative%3B%0A%20%20%20%20%20%20%20%20width%3A%20100.0%25%3B%0A%20%20%20%20%20%20%20%20height%3A%20100.0%25%3B%0A%20%20%20%20%20%20%20%20left%3A%200.0%25%3B%0A%20%20%20%20%20%20%20%20top%3A%200.0%25%3B%0A%20%20%20%20%20%20%20%20%7D%0A%20%20%20%20%3C/style%3E%0A%3C/head%3E%0A%3Cbody%3E%20%20%20%20%0A%20%20%20%20%0A%20%20%20%20%3Cdiv%20class%3D%22folium-map%22%20id%3D%22map_2e5e2e203df1483cb533779d8738f99f%22%20%3E%3C/div%3E%0A%3C/body%3E%0A%3Cscript%3E%20%20%20%20%0A%20%20%20%20%0A%20%20%20%20%0A%20%20%20%20%20%20%20%20var%20bounds%20%3D%20null%3B%0A%20%20%20%20%0A%0A%20%20%20%20var%20map_2e5e2e203df1483cb533779d8738f99f%20%3D%20L.map%28%0A%20%20%20%20%20%20%20%20%27map_2e5e2e203df1483cb533779d8738f99f%27%2C%20%7B%0A%20%20%20%20%20%20%20%20center%3A%20%5B51.5%2C%200.1%5D%2C%0A%20%20%20%20%20%20%20%20zoom%3A%2010%2C%0A%20%20%20%20%20%20%20%20maxBounds%3A%20bounds%2C%0A%20%20%20%20%20%20%20%20layers%3A%20%5B%5D%2C%0A%20%20%20%20%20%20%20%20worldCopyJump%3A%20false%2C%0A%20%20%20%20%20%20%20%20crs%3A%20L.CRS.EPSG3857%2C%0A%20%20%20%20%20%20%20%20zoomControl%3A%20true%2C%0A%20%20%20%20%20%20%20%20%7D%29%3B%0A%0A%0A%20%20%20%20%0A%20%20%20%20var%20tile_layer_ca175c4b9ea34d478e0c5abfa5cef0c7%20%3D%20L.tileLayer%28%0A%20%20%20%20%20%20%20%20%27https%3A//%7Bs%7D.tile.openstreetmap.org/%7Bz%7D/%7Bx%7D/%7By%7D.png%27%2C%0A%20%20%20%20%20%20%20%20%7B%0A%20%20%20%20%20%20%20%20%22attribution%22%3A%20null%2C%0A%20%20%20%20%20%20%20%20%22detectRetina%22%3A%20false%2C%0A%20%20%20%20%20%20%20%20%22maxNativeZoom%22%3A%2018%2C%0A%20%20%20%20%20%20%20%20%22maxZoom%22%3A%2018%2C%0A%20%20%20%20%20%20%20%20%22minZoom%22%3A%200%2C%0A%20%20%20%20%20%20%20%20%22noWrap%22%3A%20false%2C%0A%20%20%20%20%20%20%20%20%22opacity%22%3A%201%2C%0A%20%20%20%20%20%20%20%20%22subdomains%22%3A%20%22abc%22%2C%0A%20%20%20%20%20%20%20%20%22tms%22%3A%20false%0A%7D%29.addTo%28map_2e5e2e203df1483cb533779d8738f99f%29%3B%0A%20%20%20%20var%20tile_layer_b679fa8ed3b04b1fa40106dafb9b91ed%20%3D%20L.tileLayer%28%0A%20%20%20%20%20%20%20%20%27https%3A//earthengine.googleapis.com/v1alpha/projects/earthengine-legacy/maps/151eef8cf55b2a2f76e23bb848c92e56-2e7a78def7560327f9d0dbcea409c9b8/tiles/%7Bz%7D/%7Bx%7D/%7By%7D%27%2C%0A%20%20%20%20%20%20%20%20%7B%0A%20%20%20%20%20%20%20%20%22attribution%22%3A%20%22Map%20Data%20%26copy%3B%20%3Ca%20href%3D%5C%22https%3A//earthengine.google.com/%5C%22%3EGoogle%20Earth%20Engine%3C/a%3E%22%2C%0A%20%20%20%20%20%20%20%20%22detectRetina%22%3A%20false%2C%0A%20%20%20%20%20%20%20%20%22maxNativeZoom%22%3A%2018%2C%0A%20%20%20%20%20%20%20%20%22maxZoom%22%3A%2018%2C%0A%20%20%20%20%20%20%20%20%22minZoom%22%3A%200%2C%0A%20%20%20%20%20%20%20%20%22noWrap%22%3A%20false%2C%0A%20%20%20%20%20%20%20%20%22opacity%22%3A%201%2C%0A%20%20%20%20%20%20%20%20%22subdomains%22%3A%20%22abc%22%2C%0A%20%20%20%20%20%20%20%20%22tms%22%3A%20false%0A%7D%29.addTo%28map_2e5e2e203df1483cb533779d8738f99f%29%3B%0A%20%20%20%20var%20tile_layer_06cb4db6229d40a491cc3699a2aac216%20%3D%20L.tileLayer%28%0A%20%20%20%20%20%20%20%20%27https%3A//earthengine.googleapis.com/v1alpha/projects/earthengine-legacy/maps/f3df066beed48d5bba7e8f4eb3016389-9522ab01470cf35724281061a166bac8/tiles/%7Bz%7D/%7Bx%7D/%7By%7D%27%2C%0A%20%20%20%20%20%20%20%20%7B%0A%20%20%20%20%20%20%20%20%22attribution%22%3A%20%22Map%20Data%20%26copy%3B%20%3Ca%20href%3D%5C%22https%3A//earthengine.google.com/%5C%22%3EGoogle%20Earth%20Engine%3C/a%3E%22%2C%0A%20%20%20%20%20%20%20%20%22detectRetina%22%3A%20false%2C%0A%20%20%20%20%20%20%20%20%22maxNativeZoom%22%3A%2018%2C%0A%20%20%20%20%20%20%20%20%22maxZoom%22%3A%2018%2C%0A%20%20%20%20%20%20%20%20%22minZoom%22%3A%200%2C%0A%20%20%20%20%20%20%20%20%22noWrap%22%3A%20false%2C%0A%20%20%20%20%20%20%20%20%22opacity%22%3A%200.5%2C%0A%20%20%20%20%20%20%20%20%22subdomains%22%3A%20%22abc%22%2C%0A%20%20%20%20%20%20%20%20%22tms%22%3A%20false%0A%7D%29.addTo%28map_2e5e2e203df1483cb533779d8738f99f%29%3B%0A%20%20%20%20var%20tile_layer_7d8a60347aee4e2e87a8b0d2fa7b1c7e%20%3D%20L.tileLayer%28%0A%20%20%20%20%20%20%20%20%27https%3A//earthengine.googleapis.com/v1alpha/projects/earthengine-legacy/maps/7dc592d03717865a025653c87535c36c-e28542e5e63d3d55c1699d4d74ee4e08/tiles/%7Bz%7D/%7Bx%7D/%7By%7D%27%2C%0A%20%20%20%20%20%20%20%20%7B%0A%20%20%20%20%20%20%20%20%22attribution%22%3A%20%22Map%20Data%20%26copy%3B%20%3Ca%20href%3D%5C%22https%3A//earthengine.google.com/%5C%22%3EGoogle%20Earth%20Engine%3C/a%3E%22%2C%0A%20%20%20%20%20%20%20%20%22detectRetina%22%3A%20false%2C%0A%20%20%20%20%20%20%20%20%22maxNativeZoom%22%3A%2018%2C%0A%20%20%20%20%20%20%20%20%22maxZoom%22%3A%2018%2C%0A%20%20%20%20%20%20%20%20%22minZoom%22%3A%200%2C%0A%20%20%20%20%20%20%20%20%22noWrap%22%3A%20false%2C%0A%20%20%20%20%20%20%20%20%22opacity%22%3A%200.5%2C%0A%20%20%20%20%20%20%20%20%22subdomains%22%3A%20%22abc%22%2C%0A%20%20%20%20%20%20%20%20%22tms%22%3A%20false%0A%7D%29.addTo%28map_2e5e2e203df1483cb533779d8738f99f%29%3B%0A%20%20%20%20var%20tile_layer_04d7043c7fdb49c692ece45c1d45219d%20%3D%20L.tileLayer%28%0A%20%20%20%20%20%20%20%20%27https%3A//earthengine.googleapis.com/v1alpha/projects/earthengine-legacy/maps/834c1deeddbe8ff28db296941f5c397b-a296e1935fa365ea4c2fb4d4cb010580/tiles/%7Bz%7D/%7Bx%7D/%7By%7D%27%2C%0A%20%20%20%20%20%20%20%20%7B%0A%20%20%20%20%20%20%20%20%22attribution%22%3A%20%22Map%20Data%20%26copy%3B%20%3Ca%20href%3D%5C%22https%3A//earthengine.google.com/%5C%22%3EGoogle%20Earth%20Engine%3C/a%3E%22%2C%0A%20%20%20%20%20%20%20%20%22detectRetina%22%3A%20false%2C%0A%20%20%20%20%20%20%20%20%22maxNativeZoom%22%3A%2018%2C%0A%20%20%20%20%20%20%20%20%22maxZoom%22%3A%2018%2C%0A%20%20%20%20%20%20%20%20%22minZoom%22%3A%200%2C%0A%20%20%20%20%20%20%20%20%22noWrap%22%3A%20false%2C%0A%20%20%20%20%20%20%20%20%22opacity%22%3A%200.5%2C%0A%20%20%20%20%20%20%20%20%22subdomains%22%3A%20%22abc%22%2C%0A%20%20%20%20%20%20%20%20%22tms%22%3A%20false%0A%7D%29.addTo%28map_2e5e2e203df1483cb533779d8738f99f%29%3B%0A%20%20%20%20var%20tile_layer_def824bf7ef74622af4bacc20963ad3e%20%3D%20L.tileLayer%28%0A%20%20%20%20%20%20%20%20%27https%3A//earthengine.googleapis.com/v1alpha/projects/earthengine-legacy/maps/de435e39f4f336d51e55e05c9b3f8591-75c2a413015d479017289cea053903ba/tiles/%7Bz%7D/%7Bx%7D/%7By%7D%27%2C%0A%20%20%20%20%20%20%20%20%7B%0A%20%20%20%20%20%20%20%20%22attribution%22%3A%20%22Map%20Data%20%26copy%3B%20%3Ca%20href%3D%5C%22https%3A//earthengine.google.com/%5C%22%3EGoogle%20Earth%20Engine%3C/a%3E%22%2C%0A%20%20%20%20%20%20%20%20%22detectRetina%22%3A%20false%2C%0A%20%20%20%20%20%20%20%20%22maxNativeZoom%22%3A%2018%2C%0A%20%20%20%20%20%20%20%20%22maxZoom%22%3A%2018%2C%0A%20%20%20%20%20%20%20%20%22minZoom%22%3A%200%2C%0A%20%20%20%20%20%20%20%20%22noWrap%22%3A%20false%2C%0A%20%20%20%20%20%20%20%20%22opacity%22%3A%200.5%2C%0A%20%20%20%20%20%20%20%20%22subdomains%22%3A%20%22abc%22%2C%0A%20%20%20%20%20%20%20%20%22tms%22%3A%20false%0A%7D%29.addTo%28map_2e5e2e203df1483cb533779d8738f99f%29%3B%0A%20%20%20%20var%20tile_layer_d21bd6cc8db340dca22ec8e7ecd3a096%20%3D%20L.tileLayer%28%0A%20%20%20%20%20%20%20%20%27https%3A//earthengine.googleapis.com/v1alpha/projects/earthengine-legacy/maps/057a29d37687bae999809c69a71e0197-772f1d18c621fd88ee6921f7108afdb5/tiles/%7Bz%7D/%7Bx%7D/%7By%7D%27%2C%0A%20%20%20%20%20%20%20%20%7B%0A%20%20%20%20%20%20%20%20%22attribution%22%3A%20%22Map%20Data%20%26copy%3B%20%3Ca%20href%3D%5C%22https%3A//earthengine.google.com/%5C%22%3EGoogle%20Earth%20Engine%3C/a%3E%22%2C%0A%20%20%20%20%20%20%20%20%22detectRetina%22%3A%20false%2C%0A%20%20%20%20%20%20%20%20%22maxNativeZoom%22%3A%2018%2C%0A%20%20%20%20%20%20%20%20%22maxZoom%22%3A%2018%2C%0A%20%20%20%20%20%20%20%20%22minZoom%22%3A%200%2C%0A%20%20%20%20%20%20%20%20%22noWrap%22%3A%20false%2C%0A%20%20%20%20%20%20%20%20%22opacity%22%3A%200.5%2C%0A%20%20%20%20%20%20%20%20%22subdomains%22%3A%20%22abc%22%2C%0A%20%20%20%20%20%20%20%20%22tms%22%3A%20false%0A%7D%29.addTo%28map_2e5e2e203df1483cb533779d8738f99f%29%3B%0A%20%20%20%20var%20tile_layer_6b455370bf034dee944007a0142e89d9%20%3D%20L.tileLayer%28%0A%20%20%20%20%20%20%20%20%27https%3A//earthengine.googleapis.com/v1alpha/projects/earthengine-legacy/maps/9009a02854d212a254c0290fb5c70a69-67adf98c15a81db129fd62451dee97f5/tiles/%7Bz%7D/%7Bx%7D/%7By%7D%27%2C%0A%20%20%20%20%20%20%20%20%7B%0A%20%20%20%20%20%20%20%20%22attribution%22%3A%20%22Map%20Data%20%26copy%3B%20%3Ca%20href%3D%5C%22https%3A//earthengine.google.com/%5C%22%3EGoogle%20Earth%20Engine%3C/a%3E%22%2C%0A%20%20%20%20%20%20%20%20%22detectRetina%22%3A%20false%2C%0A%20%20%20%20%20%20%20%20%22maxNativeZoom%22%3A%2018%2C%0A%20%20%20%20%20%20%20%20%22maxZoom%22%3A%2018%2C%0A%20%20%20%20%20%20%20%20%22minZoom%22%3A%200%2C%0A%20%20%20%20%20%20%20%20%22noWrap%22%3A%20false%2C%0A%20%20%20%20%20%20%20%20%22opacity%22%3A%200.5%2C%0A%20%20%20%20%20%20%20%20%22subdomains%22%3A%20%22abc%22%2C%0A%20%20%20%20%20%20%20%20%22tms%22%3A%20false%0A%7D%29.addTo%28map_2e5e2e203df1483cb533779d8738f99f%29%3B%0A%20%20%20%20%0A%20%20%20%20%20%20%20%20%20%20%20%20var%20layer_control_500075ff416340e0a33b7c6bfed3f749%20%3D%20%7B%0A%20%20%20%20%20%20%20%20%20%20%20%20%20%20%20%20base_layers%20%3A%20%7B%20%22openstreetmap%22%20%3A%20tile_layer_ca175c4b9ea34d478e0c5abfa5cef0c7%2C%20%7D%2C%0A%20%20%20%20%20%20%20%20%20%20%20%20%20%20%20%20overlays%20%3A%20%7B%20%22satellite%20photography%20median%20composite%20%22%20%3A%20tile_layer_b679fa8ed3b04b1fa40106dafb9b91ed%2C%22Carbon%20Monoxide%22%20%3A%20tile_layer_06cb4db6229d40a491cc3699a2aac216%2C%22Formaldehyde%22%20%3A%20tile_layer_7d8a60347aee4e2e87a8b0d2fa7b1c7e%2C%22Nitrogen%20Dioxide%22%20%3A%20tile_layer_04d7043c7fdb49c692ece45c1d45219d%2C%22Ozone%22%20%3A%20tile_layer_def824bf7ef74622af4bacc20963ad3e%2C%22Sulphur%20Dioxide%22%20%3A%20tile_layer_d21bd6cc8db340dca22ec8e7ecd3a096%2C%22Methane%22%20%3A%20tile_layer_6b455370bf034dee944007a0142e89d9%2C%20%7D%0A%20%20%20%20%20%20%20%20%20%20%20%20%20%20%20%20%7D%3B%0A%20%20%20%20%20%20%20%20%20%20%20%20L.control.layers%28%0A%20%20%20%20%20%20%20%20%20%20%20%20%20%20%20%20layer_control_500075ff416340e0a33b7c6bfed3f749.base_layers%2C%0A%20%20%20%20%20%20%20%20%20%20%20%20%20%20%20%20layer_control_500075ff416340e0a33b7c6bfed3f749.overlays%2C%0A%20%20%20%20%20%20%20%20%20%20%20%20%20%20%20%20%7Bposition%3A%20%27topright%27%2C%0A%20%20%20%20%20%20%20%20%20%20%20%20%20%20%20%20%20collapsed%3A%20true%2C%0A%20%20%20%20%20%20%20%20%20%20%20%20%20%20%20%20%20autoZIndex%3A%20true%0A%20%20%20%20%20%20%20%20%20%20%20%20%20%20%20%20%7D%29.addTo%28map_2e5e2e203df1483cb533779d8738f99f%29%3B%0A%20%20%20%20%20%20%20%20%20%20%20%20%0A%20%20%20%20%20%20%20%20%0A%3C/script%3E onload=\"this.contentDocument.open();this.contentDocument.write(    decodeURIComponent(this.getAttribute('data-html')));this.contentDocument.close();\" allowfullscreen webkitallowfullscreen mozallowfullscreen></iframe></div></div>"
            ],
            "text/plain": [
              "<folium.folium.Map at 0x7f209fc41b70>"
            ]
          },
          "metadata": {
            "tags": []
          },
          "execution_count": 52
        }
      ]
    },
    {
      "cell_type": "markdown",
      "metadata": {
        "id": "NPKovmrQC0gk"
      },
      "source": [
        "### Visualisation "
      ]
    },
    {
      "cell_type": "code",
      "metadata": {
        "colab": {
          "base_uri": "https://localhost:8080/",
          "height": 678
        },
        "id": "lhcI0M4yC8Ie",
        "outputId": "143b45a3-e324-49bd-8b99-e323f2aad85d"
      },
      "source": [
        "map"
      ],
      "execution_count": null,
      "outputs": [
        {
          "output_type": "execute_result",
          "data": {
            "text/html": [
              "<div style=\"width:100%;\"><div style=\"position:relative;width:100%;height:0;padding-bottom:60%;\"><span style=\"color:#565656\">Make this Notebook Trusted to load map: File -> Trust Notebook</span><iframe src=\"about:blank\" style=\"position:absolute;width:100%;height:100%;left:0;top:0;border:none !important;\" data-html=%3C%21DOCTYPE%20html%3E%0A%3Chead%3E%20%20%20%20%0A%20%20%20%20%3Cmeta%20http-equiv%3D%22content-type%22%20content%3D%22text/html%3B%20charset%3DUTF-8%22%20/%3E%0A%20%20%20%20%3Cscript%3EL_PREFER_CANVAS%3Dtrue%3B%20L_NO_TOUCH%3Dfalse%3B%20L_DISABLE_3D%3Dfalse%3B%3C/script%3E%0A%20%20%20%20%3Cscript%20src%3D%22https%3A//cdn.jsdelivr.net/npm/leaflet%401.4.0/dist/leaflet.js%22%3E%3C/script%3E%0A%20%20%20%20%3Cscript%20src%3D%22https%3A//code.jquery.com/jquery-1.12.4.min.js%22%3E%3C/script%3E%0A%20%20%20%20%3Cscript%20src%3D%22https%3A//maxcdn.bootstrapcdn.com/bootstrap/3.2.0/js/bootstrap.min.js%22%3E%3C/script%3E%0A%20%20%20%20%3Cscript%20src%3D%22https%3A//cdnjs.cloudflare.com/ajax/libs/Leaflet.awesome-markers/2.0.2/leaflet.awesome-markers.js%22%3E%3C/script%3E%0A%20%20%20%20%3Clink%20rel%3D%22stylesheet%22%20href%3D%22https%3A//cdn.jsdelivr.net/npm/leaflet%401.4.0/dist/leaflet.css%22/%3E%0A%20%20%20%20%3Clink%20rel%3D%22stylesheet%22%20href%3D%22https%3A//maxcdn.bootstrapcdn.com/bootstrap/3.2.0/css/bootstrap.min.css%22/%3E%0A%20%20%20%20%3Clink%20rel%3D%22stylesheet%22%20href%3D%22https%3A//maxcdn.bootstrapcdn.com/bootstrap/3.2.0/css/bootstrap-theme.min.css%22/%3E%0A%20%20%20%20%3Clink%20rel%3D%22stylesheet%22%20href%3D%22https%3A//maxcdn.bootstrapcdn.com/font-awesome/4.6.3/css/font-awesome.min.css%22/%3E%0A%20%20%20%20%3Clink%20rel%3D%22stylesheet%22%20href%3D%22https%3A//cdnjs.cloudflare.com/ajax/libs/Leaflet.awesome-markers/2.0.2/leaflet.awesome-markers.css%22/%3E%0A%20%20%20%20%3Clink%20rel%3D%22stylesheet%22%20href%3D%22https%3A//rawcdn.githack.com/python-visualization/folium/master/folium/templates/leaflet.awesome.rotate.css%22/%3E%0A%20%20%20%20%3Cstyle%3Ehtml%2C%20body%20%7Bwidth%3A%20100%25%3Bheight%3A%20100%25%3Bmargin%3A%200%3Bpadding%3A%200%3B%7D%3C/style%3E%0A%20%20%20%20%3Cstyle%3E%23map%20%7Bposition%3Aabsolute%3Btop%3A0%3Bbottom%3A0%3Bright%3A0%3Bleft%3A0%3B%7D%3C/style%3E%0A%20%20%20%20%0A%20%20%20%20%3Cmeta%20name%3D%22viewport%22%20content%3D%22width%3Ddevice-width%2C%0A%20%20%20%20%20%20%20%20initial-scale%3D1.0%2C%20maximum-scale%3D1.0%2C%20user-scalable%3Dno%22%20/%3E%0A%20%20%20%20%3Cstyle%3E%23map_30ee10f0b61a49d693a1fe25175fc108%20%7B%0A%20%20%20%20%20%20%20%20position%3A%20relative%3B%0A%20%20%20%20%20%20%20%20width%3A%20100.0%25%3B%0A%20%20%20%20%20%20%20%20height%3A%20100.0%25%3B%0A%20%20%20%20%20%20%20%20left%3A%200.0%25%3B%0A%20%20%20%20%20%20%20%20top%3A%200.0%25%3B%0A%20%20%20%20%20%20%20%20%7D%0A%20%20%20%20%3C/style%3E%0A%3C/head%3E%0A%3Cbody%3E%20%20%20%20%0A%20%20%20%20%0A%20%20%20%20%3Cdiv%20class%3D%22folium-map%22%20id%3D%22map_30ee10f0b61a49d693a1fe25175fc108%22%20%3E%3C/div%3E%0A%3C/body%3E%0A%3Cscript%3E%20%20%20%20%0A%20%20%20%20%0A%20%20%20%20%0A%20%20%20%20%20%20%20%20var%20bounds%20%3D%20null%3B%0A%20%20%20%20%0A%0A%20%20%20%20var%20map_30ee10f0b61a49d693a1fe25175fc108%20%3D%20L.map%28%0A%20%20%20%20%20%20%20%20%27map_30ee10f0b61a49d693a1fe25175fc108%27%2C%20%7B%0A%20%20%20%20%20%20%20%20center%3A%20%5B51.5%2C%200.1%5D%2C%0A%20%20%20%20%20%20%20%20zoom%3A%2010%2C%0A%20%20%20%20%20%20%20%20maxBounds%3A%20bounds%2C%0A%20%20%20%20%20%20%20%20layers%3A%20%5B%5D%2C%0A%20%20%20%20%20%20%20%20worldCopyJump%3A%20false%2C%0A%20%20%20%20%20%20%20%20crs%3A%20L.CRS.EPSG3857%2C%0A%20%20%20%20%20%20%20%20zoomControl%3A%20true%2C%0A%20%20%20%20%20%20%20%20%7D%29%3B%0A%0A%0A%20%20%20%20%0A%20%20%20%20var%20tile_layer_c52199de56d344a18e7acae05ac9af23%20%3D%20L.tileLayer%28%0A%20%20%20%20%20%20%20%20%27https%3A//%7Bs%7D.tile.openstreetmap.org/%7Bz%7D/%7Bx%7D/%7By%7D.png%27%2C%0A%20%20%20%20%20%20%20%20%7B%0A%20%20%20%20%20%20%20%20%22attribution%22%3A%20null%2C%0A%20%20%20%20%20%20%20%20%22detectRetina%22%3A%20false%2C%0A%20%20%20%20%20%20%20%20%22maxNativeZoom%22%3A%2018%2C%0A%20%20%20%20%20%20%20%20%22maxZoom%22%3A%2018%2C%0A%20%20%20%20%20%20%20%20%22minZoom%22%3A%200%2C%0A%20%20%20%20%20%20%20%20%22noWrap%22%3A%20false%2C%0A%20%20%20%20%20%20%20%20%22opacity%22%3A%201%2C%0A%20%20%20%20%20%20%20%20%22subdomains%22%3A%20%22abc%22%2C%0A%20%20%20%20%20%20%20%20%22tms%22%3A%20false%0A%7D%29.addTo%28map_30ee10f0b61a49d693a1fe25175fc108%29%3B%0A%20%20%20%20var%20tile_layer_0496e5902bdb4b35998466d923f3985f%20%3D%20L.tileLayer%28%0A%20%20%20%20%20%20%20%20%27https%3A//earthengine.googleapis.com/v1alpha/projects/earthengine-legacy/maps/151eef8cf55b2a2f76e23bb848c92e56-dec17f0ae38efd646fa506f934ba9042/tiles/%7Bz%7D/%7Bx%7D/%7By%7D%27%2C%0A%20%20%20%20%20%20%20%20%7B%0A%20%20%20%20%20%20%20%20%22attribution%22%3A%20%22Map%20Data%20%26copy%3B%20%3Ca%20href%3D%5C%22https%3A//earthengine.google.com/%5C%22%3EGoogle%20Earth%20Engine%3C/a%3E%22%2C%0A%20%20%20%20%20%20%20%20%22detectRetina%22%3A%20false%2C%0A%20%20%20%20%20%20%20%20%22maxNativeZoom%22%3A%2018%2C%0A%20%20%20%20%20%20%20%20%22maxZoom%22%3A%2018%2C%0A%20%20%20%20%20%20%20%20%22minZoom%22%3A%200%2C%0A%20%20%20%20%20%20%20%20%22noWrap%22%3A%20false%2C%0A%20%20%20%20%20%20%20%20%22opacity%22%3A%201%2C%0A%20%20%20%20%20%20%20%20%22subdomains%22%3A%20%22abc%22%2C%0A%20%20%20%20%20%20%20%20%22tms%22%3A%20false%0A%7D%29.addTo%28map_30ee10f0b61a49d693a1fe25175fc108%29%3B%0A%20%20%20%20var%20tile_layer_f33de50cc07e4a7a8bdbf35a19f54ea0%20%3D%20L.tileLayer%28%0A%20%20%20%20%20%20%20%20%27https%3A//earthengine.googleapis.com/v1alpha/projects/earthengine-legacy/maps/f3df066beed48d5bba7e8f4eb3016389-23d13f026928d950874587d0cb47c065/tiles/%7Bz%7D/%7Bx%7D/%7By%7D%27%2C%0A%20%20%20%20%20%20%20%20%7B%0A%20%20%20%20%20%20%20%20%22attribution%22%3A%20%22Map%20Data%20%26copy%3B%20%3Ca%20href%3D%5C%22https%3A//earthengine.google.com/%5C%22%3EGoogle%20Earth%20Engine%3C/a%3E%22%2C%0A%20%20%20%20%20%20%20%20%22detectRetina%22%3A%20false%2C%0A%20%20%20%20%20%20%20%20%22maxNativeZoom%22%3A%2018%2C%0A%20%20%20%20%20%20%20%20%22maxZoom%22%3A%2018%2C%0A%20%20%20%20%20%20%20%20%22minZoom%22%3A%200%2C%0A%20%20%20%20%20%20%20%20%22noWrap%22%3A%20false%2C%0A%20%20%20%20%20%20%20%20%22opacity%22%3A%200.5%2C%0A%20%20%20%20%20%20%20%20%22subdomains%22%3A%20%22abc%22%2C%0A%20%20%20%20%20%20%20%20%22tms%22%3A%20false%0A%7D%29.addTo%28map_30ee10f0b61a49d693a1fe25175fc108%29%3B%0A%20%20%20%20var%20tile_layer_d3768a352fd44d59ba72ed517986a66f%20%3D%20L.tileLayer%28%0A%20%20%20%20%20%20%20%20%27https%3A//earthengine.googleapis.com/v1alpha/projects/earthengine-legacy/maps/7dc592d03717865a025653c87535c36c-e34272d2f6cabc7faab6e743937a10f1/tiles/%7Bz%7D/%7Bx%7D/%7By%7D%27%2C%0A%20%20%20%20%20%20%20%20%7B%0A%20%20%20%20%20%20%20%20%22attribution%22%3A%20%22Map%20Data%20%26copy%3B%20%3Ca%20href%3D%5C%22https%3A//earthengine.google.com/%5C%22%3EGoogle%20Earth%20Engine%3C/a%3E%22%2C%0A%20%20%20%20%20%20%20%20%22detectRetina%22%3A%20false%2C%0A%20%20%20%20%20%20%20%20%22maxNativeZoom%22%3A%2018%2C%0A%20%20%20%20%20%20%20%20%22maxZoom%22%3A%2018%2C%0A%20%20%20%20%20%20%20%20%22minZoom%22%3A%200%2C%0A%20%20%20%20%20%20%20%20%22noWrap%22%3A%20false%2C%0A%20%20%20%20%20%20%20%20%22opacity%22%3A%200.5%2C%0A%20%20%20%20%20%20%20%20%22subdomains%22%3A%20%22abc%22%2C%0A%20%20%20%20%20%20%20%20%22tms%22%3A%20false%0A%7D%29.addTo%28map_30ee10f0b61a49d693a1fe25175fc108%29%3B%0A%20%20%20%20var%20tile_layer_37cc33df93884c0199db4f5c11d43cb6%20%3D%20L.tileLayer%28%0A%20%20%20%20%20%20%20%20%27https%3A//earthengine.googleapis.com/v1alpha/projects/earthengine-legacy/maps/834c1deeddbe8ff28db296941f5c397b-0ccc119a4e900022ce8c9d14c8e6a737/tiles/%7Bz%7D/%7Bx%7D/%7By%7D%27%2C%0A%20%20%20%20%20%20%20%20%7B%0A%20%20%20%20%20%20%20%20%22attribution%22%3A%20%22Map%20Data%20%26copy%3B%20%3Ca%20href%3D%5C%22https%3A//earthengine.google.com/%5C%22%3EGoogle%20Earth%20Engine%3C/a%3E%22%2C%0A%20%20%20%20%20%20%20%20%22detectRetina%22%3A%20false%2C%0A%20%20%20%20%20%20%20%20%22maxNativeZoom%22%3A%2018%2C%0A%20%20%20%20%20%20%20%20%22maxZoom%22%3A%2018%2C%0A%20%20%20%20%20%20%20%20%22minZoom%22%3A%200%2C%0A%20%20%20%20%20%20%20%20%22noWrap%22%3A%20false%2C%0A%20%20%20%20%20%20%20%20%22opacity%22%3A%200.5%2C%0A%20%20%20%20%20%20%20%20%22subdomains%22%3A%20%22abc%22%2C%0A%20%20%20%20%20%20%20%20%22tms%22%3A%20false%0A%7D%29.addTo%28map_30ee10f0b61a49d693a1fe25175fc108%29%3B%0A%20%20%20%20var%20tile_layer_6a7f1179a602480e86c38cf360e33817%20%3D%20L.tileLayer%28%0A%20%20%20%20%20%20%20%20%27https%3A//earthengine.googleapis.com/v1alpha/projects/earthengine-legacy/maps/de435e39f4f336d51e55e05c9b3f8591-b97419ac279392aa7c3589e7441c3615/tiles/%7Bz%7D/%7Bx%7D/%7By%7D%27%2C%0A%20%20%20%20%20%20%20%20%7B%0A%20%20%20%20%20%20%20%20%22attribution%22%3A%20%22Map%20Data%20%26copy%3B%20%3Ca%20href%3D%5C%22https%3A//earthengine.google.com/%5C%22%3EGoogle%20Earth%20Engine%3C/a%3E%22%2C%0A%20%20%20%20%20%20%20%20%22detectRetina%22%3A%20false%2C%0A%20%20%20%20%20%20%20%20%22maxNativeZoom%22%3A%2018%2C%0A%20%20%20%20%20%20%20%20%22maxZoom%22%3A%2018%2C%0A%20%20%20%20%20%20%20%20%22minZoom%22%3A%200%2C%0A%20%20%20%20%20%20%20%20%22noWrap%22%3A%20false%2C%0A%20%20%20%20%20%20%20%20%22opacity%22%3A%200.5%2C%0A%20%20%20%20%20%20%20%20%22subdomains%22%3A%20%22abc%22%2C%0A%20%20%20%20%20%20%20%20%22tms%22%3A%20false%0A%7D%29.addTo%28map_30ee10f0b61a49d693a1fe25175fc108%29%3B%0A%20%20%20%20var%20tile_layer_af591973985f48ab9d6f3011858001a3%20%3D%20L.tileLayer%28%0A%20%20%20%20%20%20%20%20%27https%3A//earthengine.googleapis.com/v1alpha/projects/earthengine-legacy/maps/057a29d37687bae999809c69a71e0197-68ea6ccc41c14263c34e9cd5c1be2650/tiles/%7Bz%7D/%7Bx%7D/%7By%7D%27%2C%0A%20%20%20%20%20%20%20%20%7B%0A%20%20%20%20%20%20%20%20%22attribution%22%3A%20%22Map%20Data%20%26copy%3B%20%3Ca%20href%3D%5C%22https%3A//earthengine.google.com/%5C%22%3EGoogle%20Earth%20Engine%3C/a%3E%22%2C%0A%20%20%20%20%20%20%20%20%22detectRetina%22%3A%20false%2C%0A%20%20%20%20%20%20%20%20%22maxNativeZoom%22%3A%2018%2C%0A%20%20%20%20%20%20%20%20%22maxZoom%22%3A%2018%2C%0A%20%20%20%20%20%20%20%20%22minZoom%22%3A%200%2C%0A%20%20%20%20%20%20%20%20%22noWrap%22%3A%20false%2C%0A%20%20%20%20%20%20%20%20%22opacity%22%3A%200.5%2C%0A%20%20%20%20%20%20%20%20%22subdomains%22%3A%20%22abc%22%2C%0A%20%20%20%20%20%20%20%20%22tms%22%3A%20false%0A%7D%29.addTo%28map_30ee10f0b61a49d693a1fe25175fc108%29%3B%0A%20%20%20%20var%20tile_layer_7ea5e1e9f6a740e0bc01162e7bb43153%20%3D%20L.tileLayer%28%0A%20%20%20%20%20%20%20%20%27https%3A//earthengine.googleapis.com/v1alpha/projects/earthengine-legacy/maps/9009a02854d212a254c0290fb5c70a69-bc37777f354e721236ab4f95ec485a4f/tiles/%7Bz%7D/%7Bx%7D/%7By%7D%27%2C%0A%20%20%20%20%20%20%20%20%7B%0A%20%20%20%20%20%20%20%20%22attribution%22%3A%20%22Map%20Data%20%26copy%3B%20%3Ca%20href%3D%5C%22https%3A//earthengine.google.com/%5C%22%3EGoogle%20Earth%20Engine%3C/a%3E%22%2C%0A%20%20%20%20%20%20%20%20%22detectRetina%22%3A%20false%2C%0A%20%20%20%20%20%20%20%20%22maxNativeZoom%22%3A%2018%2C%0A%20%20%20%20%20%20%20%20%22maxZoom%22%3A%2018%2C%0A%20%20%20%20%20%20%20%20%22minZoom%22%3A%200%2C%0A%20%20%20%20%20%20%20%20%22noWrap%22%3A%20false%2C%0A%20%20%20%20%20%20%20%20%22opacity%22%3A%200.5%2C%0A%20%20%20%20%20%20%20%20%22subdomains%22%3A%20%22abc%22%2C%0A%20%20%20%20%20%20%20%20%22tms%22%3A%20false%0A%7D%29.addTo%28map_30ee10f0b61a49d693a1fe25175fc108%29%3B%0A%20%20%20%20%0A%20%20%20%20%20%20%20%20%20%20%20%20var%20layer_control_908e40f4b6524b9d8d2d020f70b8705d%20%3D%20%7B%0A%20%20%20%20%20%20%20%20%20%20%20%20%20%20%20%20base_layers%20%3A%20%7B%20%22openstreetmap%22%20%3A%20tile_layer_c52199de56d344a18e7acae05ac9af23%2C%20%7D%2C%0A%20%20%20%20%20%20%20%20%20%20%20%20%20%20%20%20overlays%20%3A%20%7B%20%22satellite%20photography%20median%20composite%20%22%20%3A%20tile_layer_0496e5902bdb4b35998466d923f3985f%2C%22Carbon%20Monoxide%22%20%3A%20tile_layer_f33de50cc07e4a7a8bdbf35a19f54ea0%2C%22Formaldehyde%22%20%3A%20tile_layer_d3768a352fd44d59ba72ed517986a66f%2C%22Nitrogen%20Dioxide%22%20%3A%20tile_layer_37cc33df93884c0199db4f5c11d43cb6%2C%22Ozone%22%20%3A%20tile_layer_6a7f1179a602480e86c38cf360e33817%2C%22Sulphur%20Dioxide%22%20%3A%20tile_layer_af591973985f48ab9d6f3011858001a3%2C%22Methane%22%20%3A%20tile_layer_7ea5e1e9f6a740e0bc01162e7bb43153%2C%20%7D%0A%20%20%20%20%20%20%20%20%20%20%20%20%20%20%20%20%7D%3B%0A%20%20%20%20%20%20%20%20%20%20%20%20L.control.layers%28%0A%20%20%20%20%20%20%20%20%20%20%20%20%20%20%20%20layer_control_908e40f4b6524b9d8d2d020f70b8705d.base_layers%2C%0A%20%20%20%20%20%20%20%20%20%20%20%20%20%20%20%20layer_control_908e40f4b6524b9d8d2d020f70b8705d.overlays%2C%0A%20%20%20%20%20%20%20%20%20%20%20%20%20%20%20%20%7Bposition%3A%20%27topright%27%2C%0A%20%20%20%20%20%20%20%20%20%20%20%20%20%20%20%20%20collapsed%3A%20true%2C%0A%20%20%20%20%20%20%20%20%20%20%20%20%20%20%20%20%20autoZIndex%3A%20true%0A%20%20%20%20%20%20%20%20%20%20%20%20%20%20%20%20%7D%29.addTo%28map_30ee10f0b61a49d693a1fe25175fc108%29%3B%0A%20%20%20%20%20%20%20%20%20%20%20%20%0A%20%20%20%20%20%20%20%20%0A%3C/script%3E onload=\"this.contentDocument.open();this.contentDocument.write(    decodeURIComponent(this.getAttribute('data-html')));this.contentDocument.close();\" allowfullscreen webkitallowfullscreen mozallowfullscreen></iframe></div></div>"
            ],
            "text/plain": [
              "<folium.folium.Map at 0x7f209fc5d390>"
            ]
          },
          "metadata": {
            "tags": []
          },
          "execution_count": 44
        }
      ]
    },
    {
      "cell_type": "markdown",
      "metadata": {
        "id": "N0TyFGQzFkwb"
      },
      "source": [
        "### Model Interpolation"
      ]
    },
    {
      "cell_type": "code",
      "metadata": {
        "id": "Ug7-OEUCQvVk",
        "colab": {
          "base_uri": "https://localhost:8080/",
          "height": 318
        },
        "outputId": "31991305-d200-4def-855e-d734bb1e958d"
      },
      "source": [
        "#@title Insert Postcode\n",
        "\n",
        "# list of coords \n",
        "brunel = (-0.47278354461716354, 51.53325658151181)\n",
        "# big_ben\n",
        "# dickens\n",
        "# somewhere grassy\n",
        "\n",
        "# Testing on some weird places - desert, ocean, tundra\n",
        "\n",
        "getGhgsFromCoords(brunel)"
      ],
      "execution_count": null,
      "outputs": [
        {
          "output_type": "stream",
          "text": [
            "image for these coordinates has already been imported!\n",
            "/content/drive/MyDrive/demo_export/-0.47278354461716354_51.53325658151181.png\n",
            "/content/drive/MyDrive/demo_export/-0.47278354461716354_51.53325658151181.png\n",
            "getting GHG concentrations from given image\n"
          ],
          "name": "stdout"
        },
        {
          "output_type": "display_data",
          "data": {
            "image/png": "[encoded data removed]",
            "text/plain": [
              "<PIL.PngImagePlugin.PngImageFile image mode=RGB size=161x162 at 0x7F209FBCEF28>"
            ]
          },
          "metadata": {
            "tags": []
          }
        },
        {
          "output_type": "display_data",
          "data": {
            "text/html": [
              ""
            ],
            "text/plain": [
              "<IPython.core.display.HTML object>"
            ]
          },
          "metadata": {
            "tags": []
          }
        },
        {
          "output_type": "stream",
          "text": [
            "(3.3318734169006348, 6.314513206481934, 6.085233211517334, 1.3520294427871704, 2.8814358711242676, 1.714736819267273)\n",
            "(3.3318734169006348, 6.314513206481934, 6.085233211517334, 1.3520294427871704, 2.8814358711242676, 1.714736819267273)\n",
            "(3.3318734169006348, 6.314513206481934, 6.085233211517334, 1.3520294427871704, 2.8814358711242676, 1.714736819267273)\n",
            "(3.3318734169006348, 6.314513206481934, 6.085233211517334, 1.3520294427871704, 2.8814358711242676, 1.714736819267273)\n"
          ],
          "name": "stdout"
        }
      ]
    }
  ]
}