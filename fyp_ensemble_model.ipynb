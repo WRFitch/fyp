{
  "nbformat": 4,
  "nbformat_minor": 0,
  "metadata": {
    "colab": {
      "name": "fyp_ensemble_model.ipynb",
      "provenance": [],
      "authorship_tag": "ABX9TyN6zKlz48HODvbVKrW+X/8M",
      "include_colab_link": true
    },
    "kernelspec": {
      "name": "python3",
      "display_name": "Python 3"
    }
  },
  "cells": [
    {
      "cell_type": "markdown",
      "metadata": {
        "id": "view-in-github",
        "colab_type": "text"
      },
      "source": [
        "<a href=\"https://colab.research.google.com/github/WRFitch/fyp/blob/main/fyp_ensemble_model.ipynb\" target=\"_parent\"><img src=\"https://colab.research.google.com/assets/colab-badge.svg\" alt=\"Open In Colab\"/></a>"
      ]
    },
    {
      "cell_type": "markdown",
      "metadata": {
        "id": "472zQtQpuSHl"
      },
      "source": [
        "# Combining multiple models to interpolate greenhouse gases "
      ]
    },
    {
      "cell_type": "markdown",
      "metadata": {
        "id": "2_as5AyfHy10"
      },
      "source": [
        "## Setup"
      ]
    },
    {
      "cell_type": "markdown",
      "metadata": {
        "id": "3YZX6YJSH2PO"
      },
      "source": [
        "### Import and install necessary supplementals "
      ]
    },
    {
      "cell_type": "code",
      "metadata": {
        "id": "xMfnZB8JujZT"
      },
      "source": [
        "!pip uninstall -y fastai\n",
        "!pip install -U --no-cache-dir fastai"
      ],
      "execution_count": null,
      "outputs": []
    },
    {
      "cell_type": "code",
      "metadata": {
        "colab": {
          "base_uri": "https://localhost:8080/"
        },
        "id": "lHhCrH95uNzA",
        "outputId": "50da8c55-0ad3-4ab2-8cbb-b69e0167c9d0"
      },
      "source": [
        "import os \n",
        "import numpy as np \n",
        "import pandas as pd \n",
        "\n",
        "from fastai.tabular.all import * \n",
        "from fastai.vision.all import * \n",
        "from google.colab import drive\n",
        "\n",
        "drive.mount('/content/drive')"
      ],
      "execution_count": 2,
      "outputs": [
        {
          "output_type": "stream",
          "text": [
            "Mounted at /content/drive\n"
          ],
          "name": "stdout"
        }
      ]
    },
    {
      "cell_type": "code",
      "metadata": {
        "id": "9HrO55Dku_WY"
      },
      "source": [
        "%cd /content\n",
        "!git clone https://github.com/WRFitch/fyp.git"
      ],
      "execution_count": null,
      "outputs": []
    },
    {
      "cell_type": "code",
      "metadata": {
        "id": "g9yjv6wkvqNu"
      },
      "source": [
        "# Import fyputil library\n",
        "%cd /content/fyp/src/fyputil\n",
        "import constants as c\n",
        "import fyp_utils as fyputil\n",
        "%cd /content"
      ],
      "execution_count": null,
      "outputs": []
    },
    {
      "cell_type": "code",
      "metadata": {
        "id": "Sjdd9KuzvxhJ"
      },
      "source": [
        "big_png_dir = f\"{c.data_dir}/png_224\""
      ],
      "execution_count": 5,
      "outputs": []
    },
    {
      "cell_type": "markdown",
      "metadata": {
        "id": "c24YjL2aIJG3"
      },
      "source": [
        "### Get data & Model"
      ]
    },
    {
      "cell_type": "code",
      "metadata": {
        "id": "qrVq-mDwIqKY"
      },
      "source": [
        "ghg_df = pd.read_csv(c.ghg_csv)\n",
        "ghg_df = fyputil.normGhgDf(ghg_df)"
      ],
      "execution_count": 6,
      "outputs": []
    },
    {
      "cell_type": "code",
      "metadata": {
        "id": "uBwNYc97Uj0K"
      },
      "source": [
        "def getGhgsAsArr(img_path):\n",
        "  return fyputil.getGhgsAsArr(img_path, ghg_df)"
      ],
      "execution_count": null,
      "outputs": []
    },
    {
      "cell_type": "code",
      "metadata": {
        "id": "Zwmbh1LA0xJC"
      },
      "source": [
        "cnn_model = load_learner(f\"{c.model_dir}/mrghg_200221_bigimg.pkl\")"
      ],
      "execution_count": 42,
      "outputs": []
    },
    {
      "cell_type": "code",
      "metadata": {
        "id": "Q5zHz9VvVaeF"
      },
      "source": [
        "predicted_df = ghg_df\n",
        "# Iterate through predicted_df and make a prediction using cnn_model \n",
        "# Write prediction to predicted_df along with the eight nearest coordinates and their measurements "
      ],
      "execution_count": 43,
      "outputs": []
    },
    {
      "cell_type": "markdown",
      "metadata": {
        "id": "Dt9rcpVkU7vD"
      },
      "source": [
        "## Generate Tabular Model Ensemble\n",
        "Train tabular model on ghg_df, predicting central reading based on eight nearest readings and cnn model output. "
      ]
    },
    {
      "cell_type": "code",
      "metadata": {
        "id": "D1vgTu02Uqop"
      },
      "source": [
        ""
      ],
      "execution_count": null,
      "outputs": []
    }
  ]
}